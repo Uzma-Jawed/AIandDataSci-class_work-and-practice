{
  "nbformat": 4,
  "nbformat_minor": 0,
  "metadata": {
    "colab": {
      "provenance": []
    },
    "kernelspec": {
      "name": "python3",
      "display_name": "Python 3"
    },
    "language_info": {
      "name": "python"
    }
  },
  "cells": [
    {
      "cell_type": "code",
      "execution_count": null,
      "metadata": {
        "colab": {
          "base_uri": "https://localhost:8080/"
        },
        "id": "OaCCSYw1zcLG",
        "outputId": "3b00aac9-e8e1-4087-dc99-c0505e558bf6"
      },
      "outputs": [
        {
          "output_type": "stream",
          "name": "stdout",
          "text": [
            "enter a number: 101\n",
            "prime number\n"
          ]
        }
      ],
      "source": [
        "n = int(input(\"enter a number: \"))\n",
        "i = 2\n",
        "flag = 0\n",
        "while(i<=n/2):\n",
        "  if n % i == 0:\n",
        "     flag = 1\n",
        "     break\n",
        "  i += 1\n",
        "if flag == 1:\n",
        "  print(\"not a prime number\")\n",
        "else:\n",
        "  print(\"prime number\")"
      ]
    }
  ]
}