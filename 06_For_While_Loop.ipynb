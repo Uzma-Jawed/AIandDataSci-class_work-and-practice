{
  "nbformat": 4,
  "nbformat_minor": 0,
  "metadata": {
    "colab": {
      "provenance": []
    },
    "kernelspec": {
      "name": "python3",
      "display_name": "Python 3"
    },
    "language_info": {
      "name": "python"
    }
  },
  "cells": [
    {
      "cell_type": "markdown",
      "source": [
        " @Uzma Jawed"
      ],
      "metadata": {
        "id": "VD3TxGIcHO67"
      }
    },
    {
      "cell_type": "markdown",
      "source": [
        "## Loops in Python\n",
        "Loops are used to perform repetitive tasks efficiently. Python provides two types of loops:\n",
        "\n",
        "* For Loop: Iterates over a sequence.\n",
        "* While Loop: Executes a block of code as long as a condition is true."
      ],
      "metadata": {
        "id": "AqzZKNt7HY5h"
      }
    },
    {
      "cell_type": "markdown",
      "source": [
        "### (1). For loop"
      ],
      "metadata": {
        "id": "mJxV0C6CInbs"
      }
    },
    {
      "cell_type": "code",
      "source": [
        "for items in \"sequence\""
      ],
      "metadata": {
        "id": "OjxgnJFhI9ie"
      },
      "execution_count": null,
      "outputs": []
    },
    {
      "cell_type": "code",
      "source": [
        "# Example 1: Iterating over a list of numbers\n",
        "numbers = [1, 2, 3, 4, 5] # A simple list of numbers\n",
        "for num in numbers:       # Loop through each number in the list\n",
        "    print(num)            # Print the current number"
      ],
      "metadata": {
        "colab": {
          "base_uri": "https://localhost:8080/"
        },
        "id": "bmWKRhFxIyLp",
        "outputId": "d4bfc084-50d6-4a56-b57c-09466023f1ad"
      },
      "execution_count": null,
      "outputs": [
        {
          "output_type": "stream",
          "name": "stdout",
          "text": [
            "1\n",
            "2\n",
            "3\n",
            "4\n",
            "5\n"
          ]
        }
      ]
    },
    {
      "cell_type": "markdown",
      "source": [
        "### Using enumerate() in For Loops\n",
        "Sometimes, you need both the item and its index. Python's built-in enumerate() function makes this easy."
      ],
      "metadata": {
        "id": "CgpML4isJakG"
      }
    },
    {
      "cell_type": "code",
      "source": [
        "# Example 2: Using enumerate to get both index and value from a list\n",
        "fruits = ['apple', 'banana', 'cherry'] # List of fruit names\n",
        "for index, fruit in enumerate(fruits): #enumerate returns index and item\n",
        "    print(f\"Index {index}: {fruit}\")   # f-string used for clear output formatting"
      ],
      "metadata": {
        "colab": {
          "base_uri": "https://localhost:8080/"
        },
        "id": "PpN4LfEjJonc",
        "outputId": "a4484c0b-c60d-4c16-9a6f-a310d334188a"
      },
      "execution_count": null,
      "outputs": [
        {
          "output_type": "stream",
          "name": "stdout",
          "text": [
            "Index 0: apple\n",
            "Index 1: banana\n",
            "Index 2: cherry\n"
          ]
        }
      ]
    },
    {
      "cell_type": "markdown",
      "source": [
        "### Manual Indexing\n",
        "Without enumerate, you can manually track the index."
      ],
      "metadata": {
        "id": "Bao-KsS5KW8Q"
      }
    },
    {
      "cell_type": "code",
      "source": [
        "# Example: 3\n",
        "fruits = [\"apple\", \"banana\", \"cherry\"]\n",
        "index = 0\n",
        "for fruit in fruits:\n",
        "  print(f\"Index {index}: {fruit}\")\n",
        "  index +=1"
      ],
      "metadata": {
        "colab": {
          "base_uri": "https://localhost:8080/"
        },
        "id": "xxWSTZz-KnFU",
        "outputId": "bc40747b-14ba-4f34-d187-05339d669487"
      },
      "execution_count": null,
      "outputs": [
        {
          "output_type": "stream",
          "name": "stdout",
          "text": [
            "Index 0: apple\n",
            "Index 1: banana\n",
            "Index 2: cherry\n"
          ]
        }
      ]
    },
    {
      "cell_type": "markdown",
      "source": [
        "### Iterating Over Dictionaries\n",
        "Dictionaries store data in key-value pairs. You can iterate over keys, values, or both."
      ],
      "metadata": {
        "id": "-fNbhaJaL8my"
      }
    },
    {
      "cell_type": "code",
      "source": [
        "# Example 4: Iterating over a dictionary\n",
        "person = {\n",
        "    'name': \"Sara\",    # Key: 'name', Value: 'Alice'\n",
        "    'age': 9,          # Key: 'age', Value: '30\n",
        "    'city': 'New York' # Key: 'city', Value: 'New York'\n",
        "}\n",
        "\n",
        "# Iterating over keys (default behaviour)\n",
        "print(\"Iterating over keys:\")\n",
        "for key in person:\n",
        "    print(f\"{key}: {person[key]}\")   # Access the value using the key"
      ],
      "metadata": {
        "colab": {
          "base_uri": "https://localhost:8080/"
        },
        "id": "cdDyp-v-MPv6",
        "outputId": "e896e074-fb5f-4b6c-88ec-2245f0fb7f96"
      },
      "execution_count": null,
      "outputs": [
        {
          "output_type": "stream",
          "name": "stdout",
          "text": [
            "Iterating over keys:\n",
            "name: Sara\n",
            "age: 9\n",
            "city: New York\n"
          ]
        }
      ]
    },
    {
      "cell_type": "markdown",
      "source": [
        "### Iterating Over Key-Value Pairs"
      ],
      "metadata": {
        "id": "gvmIWI9GM_7B"
      }
    },
    {
      "cell_type": "code",
      "source": [
        "for key, value in person.items():\n",
        "  print(f\"{key}: {value}\")"
      ],
      "metadata": {
        "colab": {
          "base_uri": "https://localhost:8080/"
        },
        "id": "Fg08sKcxNFJh",
        "outputId": "82dd9e73-abc5-4f11-dd06-411a077c4f81"
      },
      "execution_count": null,
      "outputs": [
        {
          "output_type": "stream",
          "name": "stdout",
          "text": [
            "name: Sara\n",
            "age: 9\n",
            "city: New York\n"
          ]
        }
      ]
    },
    {
      "cell_type": "markdown",
      "source": [
        "### 2. While Loops\n",
        "Basic Syntax:\n",
        "\n"
      ],
      "metadata": {
        "id": "TvTXtWoaNyp4"
      }
    },
    {
      "cell_type": "code",
      "source": [
        "while \"Condition\":\n",
        "     # execute code block"
      ],
      "metadata": {
        "id": "RiSCMprvN9c3"
      },
      "execution_count": null,
      "outputs": []
    },
    {
      "cell_type": "code",
      "source": [
        "# Example 5: A basic while loop that counts from 0 to 4\n",
        "count = 0                           # Initialize the counter variable\n",
        "while count < 5:                    # Loop will run as count is less than 5\n",
        "    print(\"count is:\", count)\n",
        "    count += 1                      # Increment the counter to avoid an infinite loop"
      ],
      "metadata": {
        "colab": {
          "base_uri": "https://localhost:8080/"
        },
        "id": "ZloQQR_-OHEW",
        "outputId": "820b8b38-9bc6-4420-f4a4-969bbe5eeb03"
      },
      "execution_count": null,
      "outputs": [
        {
          "output_type": "stream",
          "name": "stdout",
          "text": [
            "count is: 0\n",
            "count is: 1\n",
            "count is: 2\n",
            "count is: 3\n",
            "count is: 4\n"
          ]
        }
      ]
    },
    {
      "cell_type": "markdown",
      "source": [
        "### Control Statements in Loops\n",
        "Control statements are used to manage the flow of loops.\n",
        "\n",
        "\n",
        "*   Continue\n",
        "*   Break\n",
        "*   Else\n",
        "\n",
        "\n",
        "### (i)_ Continue Statement\n",
        "\n",
        "* Purpose: Skips the current iteration and moves to the next one.\n",
        "* Use Case: Ideal for bypassing specific conditions without stopping the loop."
      ],
      "metadata": {
        "id": "DcC0UXk6Ok41"
      }
    },
    {
      "cell_type": "code",
      "source": [
        "# Example 6:\n",
        "for i in range(10):\n",
        "  if i == 3:\n",
        "    print(\"Skipping 3\")\n",
        "    continue\n",
        "  print(i)"
      ],
      "metadata": {
        "colab": {
          "base_uri": "https://localhost:8080/"
        },
        "id": "I-fOfmFBPuI4",
        "outputId": "a2940eac-22d8-467f-d6e9-a5442e3d73de"
      },
      "execution_count": null,
      "outputs": [
        {
          "output_type": "stream",
          "name": "stdout",
          "text": [
            "0\n",
            "1\n",
            "2\n",
            "Skipping 3\n",
            "4\n",
            "5\n",
            "6\n",
            "7\n",
            "8\n",
            "9\n"
          ]
        }
      ]
    },
    {
      "cell_type": "markdown",
      "source": [
        "### (ii)_ Break Statement\n",
        "\n",
        "Purpose: Stops the loop entirely when a condition is met."
      ],
      "metadata": {
        "id": "g3XMIET1QYHT"
      }
    },
    {
      "cell_type": "code",
      "source": [
        "# Example 7:\n",
        "for i in range(10):\n",
        "  if i == 8:\n",
        "    print(\"Breaking at 8\")\n",
        "    break\n",
        "  print(i)"
      ],
      "metadata": {
        "colab": {
          "base_uri": "https://localhost:8080/"
        },
        "id": "zoQI4TW5Qofj",
        "outputId": "f53cc012-2951-4410-9f99-a2094f4f8bd3"
      },
      "execution_count": null,
      "outputs": [
        {
          "output_type": "stream",
          "name": "stdout",
          "text": [
            "0\n",
            "1\n",
            "2\n",
            "3\n",
            "4\n",
            "5\n",
            "6\n",
            "7\n",
            "Breaking at 8\n"
          ]
        }
      ]
    },
    {
      "cell_type": "markdown",
      "source": [
        "### (iii)_ Else Statement\n",
        "\n",
        "Purpose: Executes when the loop ends naturally (i.e., without a break statement)."
      ],
      "metadata": {
        "id": "xtyFi_jHRKt9"
      }
    },
    {
      "cell_type": "code",
      "source": [
        "# Example 8:\n",
        "for i in range(5):\n",
        "  print(i)\n",
        "else:\n",
        "  print(\"Loop ended naturally\")"
      ],
      "metadata": {
        "colab": {
          "base_uri": "https://localhost:8080/"
        },
        "id": "-udWpDdjRTQo",
        "outputId": "9975ab97-977a-4238-9307-711ba340c789"
      },
      "execution_count": null,
      "outputs": [
        {
          "output_type": "stream",
          "name": "stdout",
          "text": [
            "0\n",
            "1\n",
            "2\n",
            "3\n",
            "4\n",
            "Loop ended naturally\n"
          ]
        }
      ]
    },
    {
      "cell_type": "markdown",
      "source": [
        "### Practical Example: Combining Loops and Control Statements"
      ],
      "metadata": {
        "id": "NMawD5s6R7Ug"
      }
    },
    {
      "cell_type": "code",
      "source": [
        "# Example 9: Using break, continue, and else in a loop\n",
        "for i in range(10):                # Loop over numbers from 0 to 9\n",
        "    if i == 3:\n",
        "        print(\"skipping 3\")\n",
        "        continue                   # Skip the rest of the code in the loop when i is 3\n",
        "    if i == 8:\n",
        "        print(\"Breaking at 8\")\n",
        "        break                      # Exit the loop entirely when i is 8\n",
        "    print(\"Current number:\", i)\n",
        "else:\n",
        "# This block executes only if the loop wasn't terminated by break\n",
        "    print(\"Loop completed without break.\")"
      ],
      "metadata": {
        "colab": {
          "base_uri": "https://localhost:8080/"
        },
        "id": "ezd6qXRsSK7o",
        "outputId": "dd6d8f48-63e6-4081-e8dd-ffa5069867a0"
      },
      "execution_count": null,
      "outputs": [
        {
          "output_type": "stream",
          "name": "stdout",
          "text": [
            "Current number: 0\n",
            "Current number: 1\n",
            "Current number: 2\n",
            "skipping 3\n",
            "Current number: 4\n",
            "Current number: 5\n",
            "Current number: 6\n",
            "Current number: 7\n",
            "Breaking at 8\n"
          ]
        }
      ]
    },
    {
      "cell_type": "markdown",
      "source": [
        "### Best Practices for Using Loops\n",
        "\n",
        "* Avoid Infinite Loops: Ensure the loop condition will eventually become false.\n",
        "* Use enumerate for Indexing: Simplifies accessing both index and item.\n",
        "* Leverage Control Statements: Use continue, break, and else to manage loop flow effectively.\n",
        "* Practice with Different Scenarios: Experiment with loops in various conditions to build strong logic-building skills.\n"
      ],
      "metadata": {
        "id": "oELSNVG1Sd4t"
      }
    },
    {
      "cell_type": "markdown",
      "source": [
        "### Key Takeaways:\n",
        "\n",
        "* Use continue to skip specific iterations.\n",
        "* Use break to exit a loop early.\n",
        "* Use else to execute code after a loop ends naturally.\n",
        "Leverage enumerate for easy access to indices and items in lists.\n",
        "Practice loops with different scenarios to strengthen your programming skills."
      ],
      "metadata": {
        "id": "LYuQBZQYS4E4"
      }
    }
  ]
}
