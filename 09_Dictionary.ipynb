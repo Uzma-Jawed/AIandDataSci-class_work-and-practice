{
  "nbformat": 4,
  "nbformat_minor": 0,
  "metadata": {
    "colab": {
      "provenance": []
    },
    "kernelspec": {
      "name": "python3",
      "display_name": "Python 3"
    },
    "language_info": {
      "name": "python"
    }
  },
  "cells": [
    {
      "cell_type": "markdown",
      "source": [
        "@Uzma Jawed"
      ],
      "metadata": {
        "id": "8ucJxq1I2MHw"
      }
    },
    {
      "cell_type": "markdown",
      "source": [
        "## Python Data Structures\n",
        "### **Dictonary**"
      ],
      "metadata": {
        "id": "w3cb5xVc2SBA"
      }
    },
    {
      "cell_type": "markdown",
      "source": [
        "1. A dictionary is created using curly brackets {} with key-value pairs, or using dict() constructor.\n",
        "2. It is unordered(though Python 3.7+ maintains insertion order as an implementation detail).\n",
        "3. Keys must be unique and hashable (e.g., strings, numbers, tuples), while values can be of any type.\n",
        "4. Dictionaries are mutable: you can add, remove, or modify key-value pairs"
      ],
      "metadata": {
        "id": "Q_iOc37w3dBf"
      }
    },
    {
      "cell_type": "code",
      "source": [
        "# Creating dictionaries\n",
        "empty_dict = {}\n",
        "person_dict = {\"name\": \"Aina\", \"age\": 40}\n",
        "another_dict = dict(city=\"London\", country=\"UK\")\n",
        "\n",
        "print(\"Empty dict:\", empty_dict)\n",
        "print(\"Person dict:\", person_dict)\n",
        "print(\"Another dict:\", another_dict)\n",
        "\n",
        "# Accessing values by key\n",
        "print(\"Name:\", person_dict[\"name\"])\n",
        "print(\"Age:\", person_dict.get(\"age\")) # .get() is safer, returns None if key isn't found"
      ],
      "metadata": {
        "colab": {
          "base_uri": "https://localhost:8080/"
        },
        "id": "xRjM05sx4szm",
        "outputId": "e2170c04-0ac0-45b9-b2c6-abeb6c52c8b4"
      },
      "execution_count": null,
      "outputs": [
        {
          "output_type": "stream",
          "name": "stdout",
          "text": [
            "Empty dict: {}\n",
            "Person dict: {'name': 'Aina', 'age': 40}\n",
            "Another dict: {'city': 'London', 'country': 'UK'}\n",
            "Nmae: Aina\n",
            "Age: 40\n"
          ]
        }
      ]
    },
    {
      "cell_type": "markdown",
      "source": [
        "**Adding, Updating and Removing keys**"
      ],
      "metadata": {
        "id": "OIf4byXz6bcU"
      }
    },
    {
      "cell_type": "code",
      "source": [
        "# Adding or updating a key-value pair\n",
        "person_dict[\"city\"] = \"New York\" # Adds 'city' if it doesn't exist, else updates it\n",
        "\n",
        "# Removing a key-value pair\n",
        "removed_value = person_dict.pop(\"age\") # Removes 'age' and returns its value\n",
        "print(\"Removed age:\", removed_value)\n",
        "\n",
        "# Checking if a key exists\n",
        "if \"name\" in person_dict:\n",
        "    print(\"Name key is present.\")\n",
        "    print(person_dict)"
      ],
      "metadata": {
        "colab": {
          "base_uri": "https://localhost:8080/"
        },
        "id": "yZCp3xAb6kdh",
        "outputId": "c6cee8cb-2052-49a4-c8b8-494d0d6daedc"
      },
      "execution_count": null,
      "outputs": [
        {
          "output_type": "stream",
          "name": "stdout",
          "text": [
            "Removed age: 40\n",
            "Name key is present.\n",
            "{'name': 'Aina', 'city': 'New York'}\n"
          ]
        }
      ]
    },
    {
      "cell_type": "code",
      "source": [
        "print(\"Keys:\", person_dict.keys())\n",
        "print(\"values:\", person_dict.values())\n",
        "print(\"items:\", person_dict.items())"
      ],
      "metadata": {
        "colab": {
          "base_uri": "https://localhost:8080/"
        },
        "id": "ix6gkirZ7DYJ",
        "outputId": "174651c1-a1f3-4e71-be4c-1725ea487dde"
      },
      "execution_count": null,
      "outputs": [
        {
          "output_type": "stream",
          "name": "stdout",
          "text": [
            "Keys: dict_keys(['name', 'city'])\n",
            "values: dict_values(['Aina', 'New York'])\n",
            "items: dict_items([('name', 'Aina'), ('city', 'New York')])\n"
          ]
        }
      ]
    },
    {
      "cell_type": "markdown",
      "source": [
        "### Dictionary Methods\n",
        "___\n",
        "**update()**\n",
        "___\n",
        "\n",
        "The update() method updates the value of the key provided to it if the item already exists in the dictionary, else it create a new value-pair."
      ],
      "metadata": {
        "id": "p4KLT_So-FaF"
      }
    },
    {
      "cell_type": "code",
      "source": [
        "info = {\"name\" : \"Aiza\", \"age\" : \"20\", \"eligible\" : True}\n",
        "print(info)\n",
        "info.update({\"age\" : \"21\"})\n",
        "info.update({\"DOB\" : 2000})\n",
        "print(info)"
      ],
      "metadata": {
        "colab": {
          "base_uri": "https://localhost:8080/"
        },
        "id": "nw-6JDtZBWLu",
        "outputId": "2fce0b34-17f0-46df-b9c6-0f2f9861f1f8"
      },
      "execution_count": null,
      "outputs": [
        {
          "output_type": "stream",
          "name": "stdout",
          "text": [
            "{'name': 'Aiza', 'age': '20', 'eligible': True}\n",
            "{'name': 'Aiza', 'age': '21', 'eligible': True, 'DOB': 2000}\n"
          ]
        }
      ]
    },
    {
      "cell_type": "markdown",
      "source": [
        "### Removing items from dictionary\n",
        "There are few methods that we can remove items from dictionary.\n",
        "___\n",
        "**clear()**\n",
        "___\n",
        "The clear() method removes all the items from the list."
      ],
      "metadata": {
        "id": "xgkmYuTCBwge"
      }
    },
    {
      "cell_type": "code",
      "source": [
        "info = {\"name\" : \"Aiza\", \"age\" : \"20\", \"eligible\" : True}\n",
        "info.clear()\n",
        "print(info)"
      ],
      "metadata": {
        "colab": {
          "base_uri": "https://localhost:8080/"
        },
        "id": "UuwW1jWYCgwH",
        "outputId": "5c490335-8170-4309-df15-b566459dc338"
      },
      "execution_count": null,
      "outputs": [
        {
          "output_type": "stream",
          "name": "stdout",
          "text": [
            "{}\n"
          ]
        }
      ]
    },
    {
      "cell_type": "markdown",
      "source": [
        "___\n",
        "**pop()**\n",
        "___\n",
        "The pop() method removes the key-value pair whose key is passed as a parameter."
      ],
      "metadata": {
        "id": "bntXyRnzCvlt"
      }
    },
    {
      "cell_type": "code",
      "source": [
        "info = {\"name\" : \"Aiza\", \"age\" : \"20\", \"eligible\" : True}\n",
        "info.pop(\"eligible\")\n",
        "print(info)"
      ],
      "metadata": {
        "colab": {
          "base_uri": "https://localhost:8080/"
        },
        "id": "M8vCC2UPDGGE",
        "outputId": "d40127cd-c7d9-4742-90fa-2b9b35e46aaf"
      },
      "execution_count": null,
      "outputs": [
        {
          "output_type": "stream",
          "name": "stdout",
          "text": [
            "{'name': 'Aiza', 'age': '20'}\n"
          ]
        }
      ]
    },
    {
      "cell_type": "markdown",
      "source": [
        "___\n",
        "**del**\n",
        "___\n",
        "we can also use the del keyword to remove a dictionary item."
      ],
      "metadata": {
        "id": "O6lRXOelDUsJ"
      }
    },
    {
      "cell_type": "code",
      "source": [
        "info = {\"name\" : \"Aiza\", \"age\" : \"20\", \"eligible\" : True, \"DOB\" : \"2000\"}\n",
        "del info[\"age\"]\n",
        "print(info)"
      ],
      "metadata": {
        "colab": {
          "base_uri": "https://localhost:8080/"
        },
        "id": "Scg2u751Dkha",
        "outputId": "fb209e5b-809e-4a35-db3d-6fc4aea6dcff"
      },
      "execution_count": null,
      "outputs": [
        {
          "output_type": "stream",
          "name": "stdout",
          "text": [
            "{'name': 'Aiza', 'eligible': True, 'DOB': '2000'}\n"
          ]
        }
      ]
    },
    {
      "cell_type": "markdown",
      "source": [
        "If the key is not provided then the del keyword will delete the dictionary entirely."
      ],
      "metadata": {
        "id": "8jsORx2UD6CS"
      }
    },
    {
      "cell_type": "code",
      "source": [
        "info = {\"name\": \"Aiza\", \"age\": \"20\", \"eligible\": True, \"DOB\": \"2000\"}\n",
        "print(\"Before deletion:\", info)\n",
        "\n",
        "del info  # Deletes the entire dictionary"
      ],
      "metadata": {
        "colab": {
          "base_uri": "https://localhost:8080/"
        },
        "id": "GiqK7O0oFdRj",
        "outputId": "f2c17d05-c108-44c3-8633-eb6ef80f5714"
      },
      "execution_count": null,
      "outputs": [
        {
          "output_type": "stream",
          "name": "stdout",
          "text": [
            "Before deletion: {'name': 'Aiza', 'age': '20', 'eligible': True, 'DOB': '2000'}\n"
          ]
        }
      ]
    },
    {
      "cell_type": "code",
      "source": [
        "#  Attempting to access 'info' now raises an error\n",
        "print(\"After deletion: \", info)"
      ],
      "metadata": {
        "colab": {
          "base_uri": "https://localhost:8080/",
          "height": 324
        },
        "id": "mUIKEUXIFoOs",
        "outputId": "1a6e002b-e1d0-435d-b76a-09ec0e80bcd8"
      },
      "execution_count": null,
      "outputs": [
        {
          "output_type": "error",
          "ename": "NameError",
          "evalue": "name 'info' is not defined",
          "traceback": [
            "\u001b[0;31m---------------------------------------------------------------------------\u001b[0m",
            "\u001b[0;31mNameError\u001b[0m                                 Traceback (most recent call last)",
            "\u001b[0;32m<ipython-input-20-bc27221f9319>\u001b[0m in \u001b[0;36m<cell line: 0>\u001b[0;34m()\u001b[0m\n\u001b[1;32m      1\u001b[0m \u001b[0;31m#  Attempting to access 'info' now raises an error\u001b[0m\u001b[0;34m\u001b[0m\u001b[0;34m\u001b[0m\u001b[0m\n\u001b[0;32m----> 2\u001b[0;31m \u001b[0mprint\u001b[0m\u001b[0;34m(\u001b[0m\u001b[0;34m\"After deletion: \"\u001b[0m\u001b[0;34m,\u001b[0m \u001b[0minfo\u001b[0m\u001b[0;34m)\u001b[0m\u001b[0;34m\u001b[0m\u001b[0;34m\u001b[0m\u001b[0m\n\u001b[0m",
            "\u001b[0;31mNameError\u001b[0m: name 'info' is not defined"
          ]
        }
      ]
    },
    {
      "cell_type": "markdown",
      "source": [
        "**The dict() constructor builds dictionaries directly from sequences of key-value pairs:**"
      ],
      "metadata": {
        "id": "Q8TtXNVpGmm2"
      }
    },
    {
      "cell_type": "code",
      "source": [
        "dict([('Aiza', 12), ('Aina', 15), ('Asra', 19)])"
      ],
      "metadata": {
        "colab": {
          "base_uri": "https://localhost:8080/"
        },
        "id": "TgUH4m4RGvi1",
        "outputId": "9a93d53f-75cd-4f81-fa51-a32db33b3084"
      },
      "execution_count": null,
      "outputs": [
        {
          "output_type": "execute_result",
          "data": {
            "text/plain": [
              "{'Aiza': 12, 'Aina': 15, 'Asra': 19}"
            ]
          },
          "metadata": {},
          "execution_count": 17
        }
      ]
    },
    {
      "cell_type": "markdown",
      "source": [
        "**dict comprehensions can be used to create dictionaries from arbitrary key and value expressions:**"
      ],
      "metadata": {
        "id": "r-r8dzO7HOx0"
      }
    },
    {
      "cell_type": "code",
      "source": [
        "{i: i**2 for i in (3, 4, 5)}"
      ],
      "metadata": {
        "colab": {
          "base_uri": "https://localhost:8080/"
        },
        "id": "Ti-lgvXbHfoC",
        "outputId": "62b155d4-1e7e-44b2-9ea8-0f79551ecd3b"
      },
      "execution_count": null,
      "outputs": [
        {
          "output_type": "execute_result",
          "data": {
            "text/plain": [
              "{3: 9, 4: 16, 5: 25}"
            ]
          },
          "metadata": {},
          "execution_count": 18
        }
      ]
    },
    {
      "cell_type": "markdown",
      "source": [
        "### **Loop Techniques**"
      ],
      "metadata": {
        "id": "rEsDxQpdH7dd"
      }
    },
    {
      "cell_type": "markdown",
      "source": [
        "When looping through dictionaries, the key and corresponding value can be retrieved at the same time using the items() method."
      ],
      "metadata": {
        "id": "gCZrelUMLtTo"
      }
    },
    {
      "cell_type": "code",
      "source": [
        "doctors = {\"Sara\": \"the innocent\", \"Zara\": \"the smart\"}\n",
        "for s, z in doctors.items():\n",
        "    print(s, z)"
      ],
      "metadata": {
        "colab": {
          "base_uri": "https://localhost:8080/"
        },
        "id": "xMAFa36nIFF6",
        "outputId": "94c5a11d-ae99-4f7a-f8f9-fd26c18a8cfb"
      },
      "execution_count": null,
      "outputs": [
        {
          "output_type": "stream",
          "name": "stdout",
          "text": [
            "Sara the innocent\n",
            "Zara the smart\n"
          ]
        }
      ]
    }
  ]
}
