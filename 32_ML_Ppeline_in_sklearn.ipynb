{
  "nbformat": 4,
  "nbformat_minor": 0,
  "metadata": {
    "colab": {
      "provenance": [],
      "authorship_tag": "ABX9TyOanbmXNZyj6jEXgo9PPjXU",
      "include_colab_link": true
    },
    "kernelspec": {
      "name": "python3",
      "display_name": "Python 3"
    },
    "language_info": {
      "name": "python"
    }
  },
  "cells": [
    {
      "cell_type": "markdown",
      "metadata": {
        "id": "view-in-github",
        "colab_type": "text"
      },
      "source": [
        "<a href=\"https://colab.research.google.com/github/Uzma-Jawed/AIandDataSci-class_work-and-practice/blob/main/32_ML_Ppeline_in_sklearn.ipynb\" target=\"_parent\"><img src=\"https://colab.research.google.com/assets/colab-badge.svg\" alt=\"Open In Colab\"/></a>"
      ]
    },
    {
      "cell_type": "markdown",
      "source": [
        "## 📌 Building a Machine Learning Pipeline in scikit-learn\n",
        "\n",
        "A pipeline allows us to chain together multiple steps in one workflow — preprocessing, feature transformations, and model training.\n",
        "This ensures the same preprocessing is applied both during training and prediction."
      ],
      "metadata": {
        "id": "JDMWPc0MNcXD"
      }
    },
    {
      "cell_type": "markdown",
      "source": [
        "### **1. Import Libraries**"
      ],
      "metadata": {
        "id": "IAY47JAvN7bO"
      }
    },
    {
      "cell_type": "code",
      "execution_count": 32,
      "metadata": {
        "id": "qXLDXfQaLRfU"
      },
      "outputs": [],
      "source": [
        "import numpy as np\n",
        "import pandas as pd\n",
        "\n",
        "from sklearn.compose import ColumnTransformer\n",
        "from sklearn.preprocessing import OneHotEncoder, StandardScaler\n",
        "from sklearn.linear_model import LinearRegression\n",
        "from sklearn.pipeline import Pipeline\n",
        "from sklearn.model_selection import train_test_split\n",
        "import joblib"
      ]
    },
    {
      "cell_type": "markdown",
      "source": [
        "### **Explanation:**\n",
        "\n",
        "* `pandas / numpy` → for data handling.\n",
        "\n",
        "* `ColumnTransformer` → apply different preprocessing to numeric vs categorical columns.\n",
        "\n",
        "* `StandardScaler` → scale numeric values to the same range.\n",
        "\n",
        "* `OneHotEncoder` → turn categorical values (like city names) into numbers.\n",
        "\n",
        "* `LinearRegression` → machine learning model.\n",
        "\n",
        "* `Pipeline` → chain preprocessing + model.\n",
        "\n",
        "* `train_test_split` → split data into training & testing sets.\n",
        "\n",
        "* `joblib` → save & load the trained pipeline."
      ],
      "metadata": {
        "id": "4-2PJlLjR5pa"
      }
    },
    {
      "cell_type": "markdown",
      "source": [
        "### **2. Create a Toy Dataset**"
      ],
      "metadata": {
        "id": "3xuH92edNWcH"
      }
    },
    {
      "cell_type": "code",
      "source": [
        "# --- toy real-estate dataset ---\n",
        "df = pd.DataFrame({\n",
        "    \"rooms\": [2, 3, 4, 3, 5, 2, 4, 3],\n",
        "    \"area_sqft\": [900, 1200, 1600, 1100, 2100, 800, 1500, 1300],\n",
        "    \"city\": [\"A\", \"B\", \"A\", \"C\", \"B\", \"C\", \"A\", \"B\"],\n",
        "    \"price\": [120, 170, 230, 160, 320, 110, 240, 190]\n",
        "})"
      ],
      "metadata": {
        "id": "3pk8gR6xLj2q"
      },
      "execution_count": 33,
      "outputs": []
    },
    {
      "cell_type": "markdown",
      "source": [
        "* **Features (inputs):** `rooms, area_sqft, city`\n",
        "\n",
        "* **Target (output):** `price`"
      ],
      "metadata": {
        "id": "AgOyY_o_SGrS"
      }
    },
    {
      "cell_type": "markdown",
      "source": [
        "### **3. Split Data into Features & Target**"
      ],
      "metadata": {
        "id": "P7Wy-Np9Onmt"
      }
    },
    {
      "cell_type": "code",
      "source": [
        "X = df.drop(columns=\"price\")   # Features\n",
        "y = df[\"price\"]                # Target"
      ],
      "metadata": {
        "id": "HgveFMSjLrVp"
      },
      "execution_count": 34,
      "outputs": []
    },
    {
      "cell_type": "markdown",
      "source": [
        "* `X` = input columns used to predict\n",
        "\n",
        "* `y` = output column to predict"
      ],
      "metadata": {
        "id": "vW49aN9qSY0y"
      }
    },
    {
      "cell_type": "markdown",
      "source": [
        "### **4. Define Preprocessing**"
      ],
      "metadata": {
        "id": "wmGX8niSPhew"
      }
    },
    {
      "cell_type": "code",
      "source": [
        "numeric_features = [\"rooms\", \"area_sqft\"]\n",
        "categorical_features = [\"city\"]\n",
        "\n",
        "# Pipeline for numeric columns → scaling\n",
        "numeric_tf = Pipeline(steps=[\n",
        "    (\"scaler\", StandardScaler())\n",
        "])\n",
        "\n",
        "# Pipeline for categorical columns → One-Hot-Encoding\n",
        "categorical_tf = Pipeline(steps=[\n",
        "    (\"ohe\", OneHotEncoder(handle_unknown=\"ignore\"))\n",
        "])"
      ],
      "metadata": {
        "id": "0EJcDMvESmFr"
      },
      "execution_count": 35,
      "outputs": []
    },
    {
      "cell_type": "markdown",
      "source": [
        "### 🔹 Why this step?\n",
        "\n",
        "* Numeric values like `area_sqft` can be very large compared to `rooms`. Scaling puts them on the same scale.\n",
        "\n",
        "* Categorical values like `city = A, B, C` cannot be used directly → OneHotEncoder converts them to numeric format."
      ],
      "metadata": {
        "id": "qZ8y3D0fSp4d"
      }
    },
    {
      "cell_type": "markdown",
      "source": [
        "### **5. Combine Preprocessing with ColumnTransformer**"
      ],
      "metadata": {
        "id": "CidW88uESuyY"
      }
    },
    {
      "cell_type": "code",
      "source": [
        "preprocess = ColumnTransformer(\n",
        "    transformers=[\n",
        "        (\"num\", numeric_tf, numeric_features),\n",
        "        (\"cat\", categorical_tf, categorical_features),\n",
        "    ]\n",
        ")"
      ],
      "metadata": {
        "id": "NpOd3iU9S44A"
      },
      "execution_count": 36,
      "outputs": []
    },
    {
      "cell_type": "markdown",
      "source": [
        "### This tells sklearn:\n",
        "\n",
        "* Apply **numeric pipeline** on numeric columns.\n",
        "\n",
        "* Apply **categorical pipeline** on categorical columns."
      ],
      "metadata": {
        "id": "oyPJ3edWS9ud"
      }
    },
    {
      "cell_type": "markdown",
      "source": [
        "### **6. Train-Test Split**"
      ],
      "metadata": {
        "id": "TeLfjFUNTCwK"
      }
    },
    {
      "cell_type": "code",
      "source": [
        "X_train, X_test, y_train, y_test = train_test_split(\n",
        "    X, y, test_size=0.25, random_state=42\n",
        ")"
      ],
      "metadata": {
        "id": "ndKRXNPRTGkn"
      },
      "execution_count": 37,
      "outputs": []
    },
    {
      "cell_type": "markdown",
      "source": [
        "* **Train set** → used to fit the model.\n",
        "\n",
        "* **Test set** → used to evaluate performance.\n",
        "\n",
        "* `test_size=0.25` → 25% of data used for testing.\n",
        "\n",
        "* `random_state=42` → reproducibility."
      ],
      "metadata": {
        "id": "1bfTH9RyTOwz"
      }
    },
    {
      "cell_type": "markdown",
      "source": [
        "### **7. Build the Full Pipeline**"
      ],
      "metadata": {
        "id": "gm_kbtQwTSXx"
      }
    },
    {
      "cell_type": "code",
      "source": [
        "model = Pipeline(steps=[\n",
        "    (\"preprocess\", preprocess),        # Step 1: Preprocessing\n",
        "    (\"regressor\", LinearRegression())  # Step 2: Linear Regression model\n",
        "])"
      ],
      "metadata": {
        "id": "F4Y1yiglTWeU"
      },
      "execution_count": 38,
      "outputs": []
    },
    {
      "cell_type": "markdown",
      "source": [
        "* The pipeline first applies **preprocessing**.\n",
        "\n",
        "* Then feeds transformed data into LinearRegression.\n",
        "\n",
        "\n"
      ],
      "metadata": {
        "id": "qg_SA6PcTixF"
      }
    },
    {
      "cell_type": "markdown",
      "source": [
        "### **8. Train the Model**"
      ],
      "metadata": {
        "id": "zAeXYWytToaD"
      }
    },
    {
      "cell_type": "code",
      "source": [
        "model.fit(X_train, y_train)"
      ],
      "metadata": {
        "id": "GLU3zDp3TsMP",
        "colab": {
          "base_uri": "https://localhost:8080/",
          "height": 246
        },
        "outputId": "650b45f2-2271-435b-f058-90a3cdd69f96"
      },
      "execution_count": 39,
      "outputs": [
        {
          "output_type": "execute_result",
          "data": {
            "text/plain": [
              "Pipeline(steps=[('preprocess',\n",
              "                 ColumnTransformer(transformers=[('num',\n",
              "                                                  Pipeline(steps=[('scaler',\n",
              "                                                                   StandardScaler())]),\n",
              "                                                  ['rooms', 'area_sqft']),\n",
              "                                                 ('cat',\n",
              "                                                  Pipeline(steps=[('ohe',\n",
              "                                                                   OneHotEncoder(handle_unknown='ignore'))]),\n",
              "                                                  ['city'])])),\n",
              "                ('regressor', LinearRegression())])"
            ],
            "text/html": [
              "<style>#sk-container-id-2 {\n",
              "  /* Definition of color scheme common for light and dark mode */\n",
              "  --sklearn-color-text: #000;\n",
              "  --sklearn-color-text-muted: #666;\n",
              "  --sklearn-color-line: gray;\n",
              "  /* Definition of color scheme for unfitted estimators */\n",
              "  --sklearn-color-unfitted-level-0: #fff5e6;\n",
              "  --sklearn-color-unfitted-level-1: #f6e4d2;\n",
              "  --sklearn-color-unfitted-level-2: #ffe0b3;\n",
              "  --sklearn-color-unfitted-level-3: chocolate;\n",
              "  /* Definition of color scheme for fitted estimators */\n",
              "  --sklearn-color-fitted-level-0: #f0f8ff;\n",
              "  --sklearn-color-fitted-level-1: #d4ebff;\n",
              "  --sklearn-color-fitted-level-2: #b3dbfd;\n",
              "  --sklearn-color-fitted-level-3: cornflowerblue;\n",
              "\n",
              "  /* Specific color for light theme */\n",
              "  --sklearn-color-text-on-default-background: var(--sg-text-color, var(--theme-code-foreground, var(--jp-content-font-color1, black)));\n",
              "  --sklearn-color-background: var(--sg-background-color, var(--theme-background, var(--jp-layout-color0, white)));\n",
              "  --sklearn-color-border-box: var(--sg-text-color, var(--theme-code-foreground, var(--jp-content-font-color1, black)));\n",
              "  --sklearn-color-icon: #696969;\n",
              "\n",
              "  @media (prefers-color-scheme: dark) {\n",
              "    /* Redefinition of color scheme for dark theme */\n",
              "    --sklearn-color-text-on-default-background: var(--sg-text-color, var(--theme-code-foreground, var(--jp-content-font-color1, white)));\n",
              "    --sklearn-color-background: var(--sg-background-color, var(--theme-background, var(--jp-layout-color0, #111)));\n",
              "    --sklearn-color-border-box: var(--sg-text-color, var(--theme-code-foreground, var(--jp-content-font-color1, white)));\n",
              "    --sklearn-color-icon: #878787;\n",
              "  }\n",
              "}\n",
              "\n",
              "#sk-container-id-2 {\n",
              "  color: var(--sklearn-color-text);\n",
              "}\n",
              "\n",
              "#sk-container-id-2 pre {\n",
              "  padding: 0;\n",
              "}\n",
              "\n",
              "#sk-container-id-2 input.sk-hidden--visually {\n",
              "  border: 0;\n",
              "  clip: rect(1px 1px 1px 1px);\n",
              "  clip: rect(1px, 1px, 1px, 1px);\n",
              "  height: 1px;\n",
              "  margin: -1px;\n",
              "  overflow: hidden;\n",
              "  padding: 0;\n",
              "  position: absolute;\n",
              "  width: 1px;\n",
              "}\n",
              "\n",
              "#sk-container-id-2 div.sk-dashed-wrapped {\n",
              "  border: 1px dashed var(--sklearn-color-line);\n",
              "  margin: 0 0.4em 0.5em 0.4em;\n",
              "  box-sizing: border-box;\n",
              "  padding-bottom: 0.4em;\n",
              "  background-color: var(--sklearn-color-background);\n",
              "}\n",
              "\n",
              "#sk-container-id-2 div.sk-container {\n",
              "  /* jupyter's `normalize.less` sets `[hidden] { display: none; }`\n",
              "     but bootstrap.min.css set `[hidden] { display: none !important; }`\n",
              "     so we also need the `!important` here to be able to override the\n",
              "     default hidden behavior on the sphinx rendered scikit-learn.org.\n",
              "     See: https://github.com/scikit-learn/scikit-learn/issues/21755 */\n",
              "  display: inline-block !important;\n",
              "  position: relative;\n",
              "}\n",
              "\n",
              "#sk-container-id-2 div.sk-text-repr-fallback {\n",
              "  display: none;\n",
              "}\n",
              "\n",
              "div.sk-parallel-item,\n",
              "div.sk-serial,\n",
              "div.sk-item {\n",
              "  /* draw centered vertical line to link estimators */\n",
              "  background-image: linear-gradient(var(--sklearn-color-text-on-default-background), var(--sklearn-color-text-on-default-background));\n",
              "  background-size: 2px 100%;\n",
              "  background-repeat: no-repeat;\n",
              "  background-position: center center;\n",
              "}\n",
              "\n",
              "/* Parallel-specific style estimator block */\n",
              "\n",
              "#sk-container-id-2 div.sk-parallel-item::after {\n",
              "  content: \"\";\n",
              "  width: 100%;\n",
              "  border-bottom: 2px solid var(--sklearn-color-text-on-default-background);\n",
              "  flex-grow: 1;\n",
              "}\n",
              "\n",
              "#sk-container-id-2 div.sk-parallel {\n",
              "  display: flex;\n",
              "  align-items: stretch;\n",
              "  justify-content: center;\n",
              "  background-color: var(--sklearn-color-background);\n",
              "  position: relative;\n",
              "}\n",
              "\n",
              "#sk-container-id-2 div.sk-parallel-item {\n",
              "  display: flex;\n",
              "  flex-direction: column;\n",
              "}\n",
              "\n",
              "#sk-container-id-2 div.sk-parallel-item:first-child::after {\n",
              "  align-self: flex-end;\n",
              "  width: 50%;\n",
              "}\n",
              "\n",
              "#sk-container-id-2 div.sk-parallel-item:last-child::after {\n",
              "  align-self: flex-start;\n",
              "  width: 50%;\n",
              "}\n",
              "\n",
              "#sk-container-id-2 div.sk-parallel-item:only-child::after {\n",
              "  width: 0;\n",
              "}\n",
              "\n",
              "/* Serial-specific style estimator block */\n",
              "\n",
              "#sk-container-id-2 div.sk-serial {\n",
              "  display: flex;\n",
              "  flex-direction: column;\n",
              "  align-items: center;\n",
              "  background-color: var(--sklearn-color-background);\n",
              "  padding-right: 1em;\n",
              "  padding-left: 1em;\n",
              "}\n",
              "\n",
              "\n",
              "/* Toggleable style: style used for estimator/Pipeline/ColumnTransformer box that is\n",
              "clickable and can be expanded/collapsed.\n",
              "- Pipeline and ColumnTransformer use this feature and define the default style\n",
              "- Estimators will overwrite some part of the style using the `sk-estimator` class\n",
              "*/\n",
              "\n",
              "/* Pipeline and ColumnTransformer style (default) */\n",
              "\n",
              "#sk-container-id-2 div.sk-toggleable {\n",
              "  /* Default theme specific background. It is overwritten whether we have a\n",
              "  specific estimator or a Pipeline/ColumnTransformer */\n",
              "  background-color: var(--sklearn-color-background);\n",
              "}\n",
              "\n",
              "/* Toggleable label */\n",
              "#sk-container-id-2 label.sk-toggleable__label {\n",
              "  cursor: pointer;\n",
              "  display: flex;\n",
              "  width: 100%;\n",
              "  margin-bottom: 0;\n",
              "  padding: 0.5em;\n",
              "  box-sizing: border-box;\n",
              "  text-align: center;\n",
              "  align-items: start;\n",
              "  justify-content: space-between;\n",
              "  gap: 0.5em;\n",
              "}\n",
              "\n",
              "#sk-container-id-2 label.sk-toggleable__label .caption {\n",
              "  font-size: 0.6rem;\n",
              "  font-weight: lighter;\n",
              "  color: var(--sklearn-color-text-muted);\n",
              "}\n",
              "\n",
              "#sk-container-id-2 label.sk-toggleable__label-arrow:before {\n",
              "  /* Arrow on the left of the label */\n",
              "  content: \"▸\";\n",
              "  float: left;\n",
              "  margin-right: 0.25em;\n",
              "  color: var(--sklearn-color-icon);\n",
              "}\n",
              "\n",
              "#sk-container-id-2 label.sk-toggleable__label-arrow:hover:before {\n",
              "  color: var(--sklearn-color-text);\n",
              "}\n",
              "\n",
              "/* Toggleable content - dropdown */\n",
              "\n",
              "#sk-container-id-2 div.sk-toggleable__content {\n",
              "  max-height: 0;\n",
              "  max-width: 0;\n",
              "  overflow: hidden;\n",
              "  text-align: left;\n",
              "  /* unfitted */\n",
              "  background-color: var(--sklearn-color-unfitted-level-0);\n",
              "}\n",
              "\n",
              "#sk-container-id-2 div.sk-toggleable__content.fitted {\n",
              "  /* fitted */\n",
              "  background-color: var(--sklearn-color-fitted-level-0);\n",
              "}\n",
              "\n",
              "#sk-container-id-2 div.sk-toggleable__content pre {\n",
              "  margin: 0.2em;\n",
              "  border-radius: 0.25em;\n",
              "  color: var(--sklearn-color-text);\n",
              "  /* unfitted */\n",
              "  background-color: var(--sklearn-color-unfitted-level-0);\n",
              "}\n",
              "\n",
              "#sk-container-id-2 div.sk-toggleable__content.fitted pre {\n",
              "  /* unfitted */\n",
              "  background-color: var(--sklearn-color-fitted-level-0);\n",
              "}\n",
              "\n",
              "#sk-container-id-2 input.sk-toggleable__control:checked~div.sk-toggleable__content {\n",
              "  /* Expand drop-down */\n",
              "  max-height: 200px;\n",
              "  max-width: 100%;\n",
              "  overflow: auto;\n",
              "}\n",
              "\n",
              "#sk-container-id-2 input.sk-toggleable__control:checked~label.sk-toggleable__label-arrow:before {\n",
              "  content: \"▾\";\n",
              "}\n",
              "\n",
              "/* Pipeline/ColumnTransformer-specific style */\n",
              "\n",
              "#sk-container-id-2 div.sk-label input.sk-toggleable__control:checked~label.sk-toggleable__label {\n",
              "  color: var(--sklearn-color-text);\n",
              "  background-color: var(--sklearn-color-unfitted-level-2);\n",
              "}\n",
              "\n",
              "#sk-container-id-2 div.sk-label.fitted input.sk-toggleable__control:checked~label.sk-toggleable__label {\n",
              "  background-color: var(--sklearn-color-fitted-level-2);\n",
              "}\n",
              "\n",
              "/* Estimator-specific style */\n",
              "\n",
              "/* Colorize estimator box */\n",
              "#sk-container-id-2 div.sk-estimator input.sk-toggleable__control:checked~label.sk-toggleable__label {\n",
              "  /* unfitted */\n",
              "  background-color: var(--sklearn-color-unfitted-level-2);\n",
              "}\n",
              "\n",
              "#sk-container-id-2 div.sk-estimator.fitted input.sk-toggleable__control:checked~label.sk-toggleable__label {\n",
              "  /* fitted */\n",
              "  background-color: var(--sklearn-color-fitted-level-2);\n",
              "}\n",
              "\n",
              "#sk-container-id-2 div.sk-label label.sk-toggleable__label,\n",
              "#sk-container-id-2 div.sk-label label {\n",
              "  /* The background is the default theme color */\n",
              "  color: var(--sklearn-color-text-on-default-background);\n",
              "}\n",
              "\n",
              "/* On hover, darken the color of the background */\n",
              "#sk-container-id-2 div.sk-label:hover label.sk-toggleable__label {\n",
              "  color: var(--sklearn-color-text);\n",
              "  background-color: var(--sklearn-color-unfitted-level-2);\n",
              "}\n",
              "\n",
              "/* Label box, darken color on hover, fitted */\n",
              "#sk-container-id-2 div.sk-label.fitted:hover label.sk-toggleable__label.fitted {\n",
              "  color: var(--sklearn-color-text);\n",
              "  background-color: var(--sklearn-color-fitted-level-2);\n",
              "}\n",
              "\n",
              "/* Estimator label */\n",
              "\n",
              "#sk-container-id-2 div.sk-label label {\n",
              "  font-family: monospace;\n",
              "  font-weight: bold;\n",
              "  display: inline-block;\n",
              "  line-height: 1.2em;\n",
              "}\n",
              "\n",
              "#sk-container-id-2 div.sk-label-container {\n",
              "  text-align: center;\n",
              "}\n",
              "\n",
              "/* Estimator-specific */\n",
              "#sk-container-id-2 div.sk-estimator {\n",
              "  font-family: monospace;\n",
              "  border: 1px dotted var(--sklearn-color-border-box);\n",
              "  border-radius: 0.25em;\n",
              "  box-sizing: border-box;\n",
              "  margin-bottom: 0.5em;\n",
              "  /* unfitted */\n",
              "  background-color: var(--sklearn-color-unfitted-level-0);\n",
              "}\n",
              "\n",
              "#sk-container-id-2 div.sk-estimator.fitted {\n",
              "  /* fitted */\n",
              "  background-color: var(--sklearn-color-fitted-level-0);\n",
              "}\n",
              "\n",
              "/* on hover */\n",
              "#sk-container-id-2 div.sk-estimator:hover {\n",
              "  /* unfitted */\n",
              "  background-color: var(--sklearn-color-unfitted-level-2);\n",
              "}\n",
              "\n",
              "#sk-container-id-2 div.sk-estimator.fitted:hover {\n",
              "  /* fitted */\n",
              "  background-color: var(--sklearn-color-fitted-level-2);\n",
              "}\n",
              "\n",
              "/* Specification for estimator info (e.g. \"i\" and \"?\") */\n",
              "\n",
              "/* Common style for \"i\" and \"?\" */\n",
              "\n",
              ".sk-estimator-doc-link,\n",
              "a:link.sk-estimator-doc-link,\n",
              "a:visited.sk-estimator-doc-link {\n",
              "  float: right;\n",
              "  font-size: smaller;\n",
              "  line-height: 1em;\n",
              "  font-family: monospace;\n",
              "  background-color: var(--sklearn-color-background);\n",
              "  border-radius: 1em;\n",
              "  height: 1em;\n",
              "  width: 1em;\n",
              "  text-decoration: none !important;\n",
              "  margin-left: 0.5em;\n",
              "  text-align: center;\n",
              "  /* unfitted */\n",
              "  border: var(--sklearn-color-unfitted-level-1) 1pt solid;\n",
              "  color: var(--sklearn-color-unfitted-level-1);\n",
              "}\n",
              "\n",
              ".sk-estimator-doc-link.fitted,\n",
              "a:link.sk-estimator-doc-link.fitted,\n",
              "a:visited.sk-estimator-doc-link.fitted {\n",
              "  /* fitted */\n",
              "  border: var(--sklearn-color-fitted-level-1) 1pt solid;\n",
              "  color: var(--sklearn-color-fitted-level-1);\n",
              "}\n",
              "\n",
              "/* On hover */\n",
              "div.sk-estimator:hover .sk-estimator-doc-link:hover,\n",
              ".sk-estimator-doc-link:hover,\n",
              "div.sk-label-container:hover .sk-estimator-doc-link:hover,\n",
              ".sk-estimator-doc-link:hover {\n",
              "  /* unfitted */\n",
              "  background-color: var(--sklearn-color-unfitted-level-3);\n",
              "  color: var(--sklearn-color-background);\n",
              "  text-decoration: none;\n",
              "}\n",
              "\n",
              "div.sk-estimator.fitted:hover .sk-estimator-doc-link.fitted:hover,\n",
              ".sk-estimator-doc-link.fitted:hover,\n",
              "div.sk-label-container:hover .sk-estimator-doc-link.fitted:hover,\n",
              ".sk-estimator-doc-link.fitted:hover {\n",
              "  /* fitted */\n",
              "  background-color: var(--sklearn-color-fitted-level-3);\n",
              "  color: var(--sklearn-color-background);\n",
              "  text-decoration: none;\n",
              "}\n",
              "\n",
              "/* Span, style for the box shown on hovering the info icon */\n",
              ".sk-estimator-doc-link span {\n",
              "  display: none;\n",
              "  z-index: 9999;\n",
              "  position: relative;\n",
              "  font-weight: normal;\n",
              "  right: .2ex;\n",
              "  padding: .5ex;\n",
              "  margin: .5ex;\n",
              "  width: min-content;\n",
              "  min-width: 20ex;\n",
              "  max-width: 50ex;\n",
              "  color: var(--sklearn-color-text);\n",
              "  box-shadow: 2pt 2pt 4pt #999;\n",
              "  /* unfitted */\n",
              "  background: var(--sklearn-color-unfitted-level-0);\n",
              "  border: .5pt solid var(--sklearn-color-unfitted-level-3);\n",
              "}\n",
              "\n",
              ".sk-estimator-doc-link.fitted span {\n",
              "  /* fitted */\n",
              "  background: var(--sklearn-color-fitted-level-0);\n",
              "  border: var(--sklearn-color-fitted-level-3);\n",
              "}\n",
              "\n",
              ".sk-estimator-doc-link:hover span {\n",
              "  display: block;\n",
              "}\n",
              "\n",
              "/* \"?\"-specific style due to the `<a>` HTML tag */\n",
              "\n",
              "#sk-container-id-2 a.estimator_doc_link {\n",
              "  float: right;\n",
              "  font-size: 1rem;\n",
              "  line-height: 1em;\n",
              "  font-family: monospace;\n",
              "  background-color: var(--sklearn-color-background);\n",
              "  border-radius: 1rem;\n",
              "  height: 1rem;\n",
              "  width: 1rem;\n",
              "  text-decoration: none;\n",
              "  /* unfitted */\n",
              "  color: var(--sklearn-color-unfitted-level-1);\n",
              "  border: var(--sklearn-color-unfitted-level-1) 1pt solid;\n",
              "}\n",
              "\n",
              "#sk-container-id-2 a.estimator_doc_link.fitted {\n",
              "  /* fitted */\n",
              "  border: var(--sklearn-color-fitted-level-1) 1pt solid;\n",
              "  color: var(--sklearn-color-fitted-level-1);\n",
              "}\n",
              "\n",
              "/* On hover */\n",
              "#sk-container-id-2 a.estimator_doc_link:hover {\n",
              "  /* unfitted */\n",
              "  background-color: var(--sklearn-color-unfitted-level-3);\n",
              "  color: var(--sklearn-color-background);\n",
              "  text-decoration: none;\n",
              "}\n",
              "\n",
              "#sk-container-id-2 a.estimator_doc_link.fitted:hover {\n",
              "  /* fitted */\n",
              "  background-color: var(--sklearn-color-fitted-level-3);\n",
              "}\n",
              "</style><div id=\"sk-container-id-2\" class=\"sk-top-container\"><div class=\"sk-text-repr-fallback\"><pre>Pipeline(steps=[(&#x27;preprocess&#x27;,\n",
              "                 ColumnTransformer(transformers=[(&#x27;num&#x27;,\n",
              "                                                  Pipeline(steps=[(&#x27;scaler&#x27;,\n",
              "                                                                   StandardScaler())]),\n",
              "                                                  [&#x27;rooms&#x27;, &#x27;area_sqft&#x27;]),\n",
              "                                                 (&#x27;cat&#x27;,\n",
              "                                                  Pipeline(steps=[(&#x27;ohe&#x27;,\n",
              "                                                                   OneHotEncoder(handle_unknown=&#x27;ignore&#x27;))]),\n",
              "                                                  [&#x27;city&#x27;])])),\n",
              "                (&#x27;regressor&#x27;, LinearRegression())])</pre><b>In a Jupyter environment, please rerun this cell to show the HTML representation or trust the notebook. <br />On GitHub, the HTML representation is unable to render, please try loading this page with nbviewer.org.</b></div><div class=\"sk-container\" hidden><div class=\"sk-item sk-dashed-wrapped\"><div class=\"sk-label-container\"><div class=\"sk-label fitted sk-toggleable\"><input class=\"sk-toggleable__control sk-hidden--visually\" id=\"sk-estimator-id-8\" type=\"checkbox\" ><label for=\"sk-estimator-id-8\" class=\"sk-toggleable__label fitted sk-toggleable__label-arrow\"><div><div>Pipeline</div></div><div><a class=\"sk-estimator-doc-link fitted\" rel=\"noreferrer\" target=\"_blank\" href=\"https://scikit-learn.org/1.6/modules/generated/sklearn.pipeline.Pipeline.html\">?<span>Documentation for Pipeline</span></a><span class=\"sk-estimator-doc-link fitted\">i<span>Fitted</span></span></div></label><div class=\"sk-toggleable__content fitted\"><pre>Pipeline(steps=[(&#x27;preprocess&#x27;,\n",
              "                 ColumnTransformer(transformers=[(&#x27;num&#x27;,\n",
              "                                                  Pipeline(steps=[(&#x27;scaler&#x27;,\n",
              "                                                                   StandardScaler())]),\n",
              "                                                  [&#x27;rooms&#x27;, &#x27;area_sqft&#x27;]),\n",
              "                                                 (&#x27;cat&#x27;,\n",
              "                                                  Pipeline(steps=[(&#x27;ohe&#x27;,\n",
              "                                                                   OneHotEncoder(handle_unknown=&#x27;ignore&#x27;))]),\n",
              "                                                  [&#x27;city&#x27;])])),\n",
              "                (&#x27;regressor&#x27;, LinearRegression())])</pre></div> </div></div><div class=\"sk-serial\"><div class=\"sk-item sk-dashed-wrapped\"><div class=\"sk-label-container\"><div class=\"sk-label fitted sk-toggleable\"><input class=\"sk-toggleable__control sk-hidden--visually\" id=\"sk-estimator-id-9\" type=\"checkbox\" ><label for=\"sk-estimator-id-9\" class=\"sk-toggleable__label fitted sk-toggleable__label-arrow\"><div><div>preprocess: ColumnTransformer</div></div><div><a class=\"sk-estimator-doc-link fitted\" rel=\"noreferrer\" target=\"_blank\" href=\"https://scikit-learn.org/1.6/modules/generated/sklearn.compose.ColumnTransformer.html\">?<span>Documentation for preprocess: ColumnTransformer</span></a></div></label><div class=\"sk-toggleable__content fitted\"><pre>ColumnTransformer(transformers=[(&#x27;num&#x27;,\n",
              "                                 Pipeline(steps=[(&#x27;scaler&#x27;, StandardScaler())]),\n",
              "                                 [&#x27;rooms&#x27;, &#x27;area_sqft&#x27;]),\n",
              "                                (&#x27;cat&#x27;,\n",
              "                                 Pipeline(steps=[(&#x27;ohe&#x27;,\n",
              "                                                  OneHotEncoder(handle_unknown=&#x27;ignore&#x27;))]),\n",
              "                                 [&#x27;city&#x27;])])</pre></div> </div></div><div class=\"sk-parallel\"><div class=\"sk-parallel-item\"><div class=\"sk-item\"><div class=\"sk-label-container\"><div class=\"sk-label fitted sk-toggleable\"><input class=\"sk-toggleable__control sk-hidden--visually\" id=\"sk-estimator-id-10\" type=\"checkbox\" ><label for=\"sk-estimator-id-10\" class=\"sk-toggleable__label fitted sk-toggleable__label-arrow\"><div><div>num</div></div></label><div class=\"sk-toggleable__content fitted\"><pre>[&#x27;rooms&#x27;, &#x27;area_sqft&#x27;]</pre></div> </div></div><div class=\"sk-serial\"><div class=\"sk-item\"><div class=\"sk-serial\"><div class=\"sk-item\"><div class=\"sk-estimator fitted sk-toggleable\"><input class=\"sk-toggleable__control sk-hidden--visually\" id=\"sk-estimator-id-11\" type=\"checkbox\" ><label for=\"sk-estimator-id-11\" class=\"sk-toggleable__label fitted sk-toggleable__label-arrow\"><div><div>StandardScaler</div></div><div><a class=\"sk-estimator-doc-link fitted\" rel=\"noreferrer\" target=\"_blank\" href=\"https://scikit-learn.org/1.6/modules/generated/sklearn.preprocessing.StandardScaler.html\">?<span>Documentation for StandardScaler</span></a></div></label><div class=\"sk-toggleable__content fitted\"><pre>StandardScaler()</pre></div> </div></div></div></div></div></div></div><div class=\"sk-parallel-item\"><div class=\"sk-item\"><div class=\"sk-label-container\"><div class=\"sk-label fitted sk-toggleable\"><input class=\"sk-toggleable__control sk-hidden--visually\" id=\"sk-estimator-id-12\" type=\"checkbox\" ><label for=\"sk-estimator-id-12\" class=\"sk-toggleable__label fitted sk-toggleable__label-arrow\"><div><div>cat</div></div></label><div class=\"sk-toggleable__content fitted\"><pre>[&#x27;city&#x27;]</pre></div> </div></div><div class=\"sk-serial\"><div class=\"sk-item\"><div class=\"sk-serial\"><div class=\"sk-item\"><div class=\"sk-estimator fitted sk-toggleable\"><input class=\"sk-toggleable__control sk-hidden--visually\" id=\"sk-estimator-id-13\" type=\"checkbox\" ><label for=\"sk-estimator-id-13\" class=\"sk-toggleable__label fitted sk-toggleable__label-arrow\"><div><div>OneHotEncoder</div></div><div><a class=\"sk-estimator-doc-link fitted\" rel=\"noreferrer\" target=\"_blank\" href=\"https://scikit-learn.org/1.6/modules/generated/sklearn.preprocessing.OneHotEncoder.html\">?<span>Documentation for OneHotEncoder</span></a></div></label><div class=\"sk-toggleable__content fitted\"><pre>OneHotEncoder(handle_unknown=&#x27;ignore&#x27;)</pre></div> </div></div></div></div></div></div></div></div></div><div class=\"sk-item\"><div class=\"sk-estimator fitted sk-toggleable\"><input class=\"sk-toggleable__control sk-hidden--visually\" id=\"sk-estimator-id-14\" type=\"checkbox\" ><label for=\"sk-estimator-id-14\" class=\"sk-toggleable__label fitted sk-toggleable__label-arrow\"><div><div>LinearRegression</div></div><div><a class=\"sk-estimator-doc-link fitted\" rel=\"noreferrer\" target=\"_blank\" href=\"https://scikit-learn.org/1.6/modules/generated/sklearn.linear_model.LinearRegression.html\">?<span>Documentation for LinearRegression</span></a></div></label><div class=\"sk-toggleable__content fitted\"><pre>LinearRegression()</pre></div> </div></div></div></div></div></div>"
            ]
          },
          "metadata": {},
          "execution_count": 39
        }
      ]
    },
    {
      "cell_type": "markdown",
      "source": [
        "* The pipeline runs preprocessing → trains regression on transformed features."
      ],
      "metadata": {
        "id": "Y4-Cka_C9XeN"
      }
    },
    {
      "cell_type": "markdown",
      "source": [
        "### **9. Make Predictions & Evaluate**"
      ],
      "metadata": {
        "id": "SIinmboe9cdr"
      }
    },
    {
      "cell_type": "code",
      "source": [
        "# Predictions on test data\n",
        "preds = model.predict(X_test)\n",
        "print(\"Predictions:\", np.round(preds, 2))\n",
        "print(\"Actual:\", y_test.values)\n",
        "\n",
        "# Quick evaluation using R^2 score\n",
        "print(\"R^2 Score:\", model.score(X_test, y_test))"
      ],
      "metadata": {
        "id": "On1ZIrLH9hXo",
        "colab": {
          "base_uri": "https://localhost:8080/"
        },
        "outputId": "f8fee391-930b-4854-8ea0-3de406157ee8"
      },
      "execution_count": 40,
      "outputs": [
        {
          "output_type": "stream",
          "name": "stdout",
          "text": [
            "Predictions: [192.5 100. ]\n",
            "Actual: [170 110]\n",
            "R^2 Score: 0.663194444444445\n"
          ]
        }
      ]
    },
    {
      "cell_type": "markdown",
      "source": [
        "\n",
        "\n",
        "*  **Predictions** = pipeline automatically preprocesses `X_test` before predicting.\n",
        "\n",
        "* **R² score** = measures how well the model explains variance in the target (closer to 1 is better).\n",
        "\n",
        "\n"
      ],
      "metadata": {
        "id": "w1s0VDb19mCS"
      }
    },
    {
      "cell_type": "markdown",
      "source": [
        "### **10. Save & Load Model**"
      ],
      "metadata": {
        "id": "pUlZEGEX9zFS"
      }
    },
    {
      "cell_type": "code",
      "source": [
        "# Save trained pipeline\n",
        "joblib.dump(model, \"linear_regression_pipeline.pkl\")\n",
        "\n",
        "# Load it later\n",
        "# loaded_model = joblib.load(\"linear_regression_pipeline.pkl\")\n",
        "# preds = loaded_model.predict(X_test)"
      ],
      "metadata": {
        "id": "px2WhTCX942c",
        "colab": {
          "base_uri": "https://localhost:8080/"
        },
        "outputId": "50a7a59b-ce5d-4ba5-cf7f-b33962f5c9de"
      },
      "execution_count": 41,
      "outputs": [
        {
          "output_type": "execute_result",
          "data": {
            "text/plain": [
              "['linear_regression_pipeline.pkl']"
            ]
          },
          "metadata": {},
          "execution_count": 41
        }
      ]
    },
    {
      "cell_type": "markdown",
      "source": [
        "### **Why save?**\n",
        "\n",
        "* You don’t need to re-train again.\n",
        "\n",
        "* Can directly load and use for predictions."
      ],
      "metadata": {
        "id": "Z9nC_n1l99Gg"
      }
    },
    {
      "cell_type": "markdown",
      "source": [
        "If you want to use **Random Forest** instead of Linear Regression, you just replace this step:\n",
        "\n",
        "```\n",
        "model = Pipeline(steps=[\n",
        "    (\"preprocess\", preprocess),\n",
        "    (\"regressor\", LinearRegression())\n",
        "])\n",
        "```\n",
        "To This:\n",
        "\n",
        "\n",
        "```\n",
        "from sklearn.ensemble import RandomForestRegressor\n",
        "\n",
        "rf_model = Pipeline(steps=[\n",
        "    (\"preprocess\", preprocess),                # preprocessing stays same\n",
        "    (\"regressor\", RandomForestRegressor(\n",
        "        n_estimators=100, random_state=42))    # Random Forest\n",
        "])\n",
        "```\n",
        "### 🔹 Training and Prediction (same as before)\n",
        "\n",
        "\n",
        "\n",
        "```\n",
        "rf_model.fit(X_train, y_train)\n",
        "rf_preds = rf_model.predict(X_test)\n",
        "\n",
        "print(\"Predictions:\", rf_preds)\n",
        "print(\"R^2:\", rf_model.score(X_test, y_test))\n",
        "\n",
        "```\n",
        "### 🔹 Error Metrics\n",
        "\n",
        "\n",
        "```\n",
        "mae = mean_absolute_error(y_test, rf_preds)\n",
        "rmse = np.sqrt(mean_squared_error(y_test, rf_preds))\n",
        "\n",
        "print(\"MAE:\", round(mae, 2))\n",
        "print(\"RMSE:\", round(rmse, 2))\n",
        "\n",
        "```\n",
        "✅ That’s it! The **preprocessing part does not change**, only the final model changes.\n",
        "This makes pipelines super flexible:\n",
        "\n",
        "You can switch to `Ridge`, `Lasso`, `ElasticNet`, `DecisionTree`, `RandomForest`, etc. just by replacing one line."
      ],
      "metadata": {
        "id": "YPAfiiKzB8yL"
      }
    },
    {
      "cell_type": "markdown",
      "source": [
        "### **11. Visualize Predictions vs Actual**"
      ],
      "metadata": {
        "id": "ekLmzgRa-GM9"
      }
    },
    {
      "cell_type": "code",
      "source": [
        "import matplotlib.pyplot as plt\n",
        "\n",
        "# Scatter plot: Actual vs Predicted\n",
        "plt.figure(figsize=(6, 6))\n",
        "plt.scatter(y_test, preds, color=\"blue\", edgecolor=\"k\", s=100, alpha=0.7)\n",
        "\n",
        "# Line of perfect predictions\n",
        "plt.plot([y_test.min(), y_test.max()],\n",
        "         [y_test.min(), y_test.max()],\n",
        "         color=\"red\", linestyle=\"--\", linewidth=2)\n",
        "\n",
        "plt.xlabel(\"Actual Price\", fontsize=12)\n",
        "plt.ylabel(\"Predicted Price\", fontsize=12)\n",
        "plt.title(\"📊 Actual vs Predicted House Prices\", fontsize=14)\n",
        "plt.grid(True, linestyle=\"--\", alpha=0.6)\n",
        "plt.show()"
      ],
      "metadata": {
        "id": "BAMzjEGF-JiM",
        "colab": {
          "base_uri": "https://localhost:8080/",
          "height": 619
        },
        "outputId": "a4a1e78d-ae9a-4be3-ed98-10aa3fe781ad"
      },
      "execution_count": 42,
      "outputs": [
        {
          "output_type": "stream",
          "name": "stderr",
          "text": [
            "/usr/local/lib/python3.12/dist-packages/IPython/core/pylabtools.py:151: UserWarning: Glyph 128202 (\\N{BAR CHART}) missing from font(s) Liberation Sans.\n",
            "  fig.canvas.print_figure(bytes_io, **kw)\n"
          ]
        },
        {
          "output_type": "display_data",
          "data": {
            "text/plain": [
              "<Figure size 600x600 with 1 Axes>"
            ],
            "image/png": "[encoded data removed]"
          },
          "metadata": {}
        }
      ]
    },
    {
      "cell_type": "markdown",
      "source": [
        "### **🔎 What this shows:**\n",
        "\n",
        "* **Blue dots** → predictions vs actual values.\n",
        "\n",
        "* **Red dashed line** → perfect predictions (if model was 100% accurate, all dots would lie on this line).\n",
        "\n",
        "* The closer the points are to the line → the better the model."
      ],
      "metadata": {
        "id": "dSRFNSJN-i-O"
      }
    },
    {
      "cell_type": "markdown",
      "source": [
        "### **Extra: Model Error (RMSE & MAE)**"
      ],
      "metadata": {
        "id": "N1l5UkupADZJ"
      }
    },
    {
      "cell_type": "code",
      "source": [
        "from sklearn.metrics import mean_squared_error, mean_absolute_error\n",
        "import numpy as np\n",
        "\n",
        "# Mean Absolute Error\n",
        "mae = mean_absolute_error(y_test, preds)\n",
        "\n",
        "# Root Mean Squared Error\n",
        "rmse = np.sqrt(mean_squared_error(y_test, preds))\n",
        "\n",
        "print(\"Mean Absolute Error (MAE):\", round(mae, 2))\n",
        "print(\"Root Mean Squared Error (RMSE):\", round(rmse, 2))"
      ],
      "metadata": {
        "id": "42uPhBsIAH2W",
        "colab": {
          "base_uri": "https://localhost:8080/"
        },
        "outputId": "be2d153d-7d11-40b8-fa26-389524842aac"
      },
      "execution_count": 43,
      "outputs": [
        {
          "output_type": "stream",
          "name": "stdout",
          "text": [
            "Mean Absolute Error (MAE): 16.25\n",
            "Root Mean Squared Error (RMSE): 17.41\n"
          ]
        }
      ]
    },
    {
      "cell_type": "markdown",
      "source": [
        "* **MAE** = average absolute difference between actual & predicted values.\n",
        "\n",
        "* **RMSE** = like MAE but penalizes large errors more."
      ],
      "metadata": {
        "id": "iuYka3wAALhf"
      }
    },
    {
      "cell_type": "markdown",
      "source": [
        "### **🔹 Part 1: 📊 Linear Regression (completed)**\n",
        "\n",
        "* Data preprocessing ✅\n",
        "\n",
        "* Train/test split ✅\n",
        "\n",
        "* Linear Regression model ✅\n",
        "\n",
        "* Evaluation (R², MAE, RMSE) ✅\n",
        "\n",
        "* Visualization ✅\n",
        "\n",
        "* Save/load model ✅"
      ],
      "metadata": {
        "id": "0GW2SBegEhDk"
      }
    },
    {
      "cell_type": "markdown",
      "source": [
        "### **🔹 Part 2: 🌲 Random Forest Regression (practice)**\n",
        "\n",
        "Now, try a more powerful model, **Random Forest**\n"
      ],
      "metadata": {
        "id": "TwcDuzCeEv4g"
      }
    },
    {
      "cell_type": "code",
      "source": [
        "from sklearn.ensemble import RandomForestRegressor\n",
        "\n",
        "# Random Forest pipeline\n",
        "rf_model = Pipeline(steps=[\n",
        "    (\"preprocess\", preprocess),                  # same preprocessing\n",
        "    (\"regressor\", RandomForestRegressor(\n",
        "        n_estimators=100, random_state=42))      # RF with 100 trees\n",
        "])\n",
        "\n",
        "# Train the RF model\n",
        "rf_model.fit(X_train, y_train)\n",
        "\n",
        "# Predictions\n",
        "rf_preds = rf_model.predict(X_test)\n",
        "print(\"Predictions:\", np.round(rf_preds, 2))\n",
        "print(\"R^2:\", rf_model.score(X_test, y_test))"
      ],
      "metadata": {
        "id": "q3UqLOfTFBXV",
        "colab": {
          "base_uri": "https://localhost:8080/"
        },
        "outputId": "4ed43a62-08e6-454c-d90e-bca8938dc934"
      },
      "execution_count": 44,
      "outputs": [
        {
          "output_type": "stream",
          "name": "stdout",
          "text": [
            "Predictions: [173.7 145.8]\n",
            "R^2: 0.2803722222222219\n"
          ]
        }
      ]
    },
    {
      "cell_type": "markdown",
      "source": [
        "### **🔹 Evaluate Random Forest**"
      ],
      "metadata": {
        "id": "a54Ch8gkFHrL"
      }
    },
    {
      "cell_type": "code",
      "source": [
        "# Error metrics\n",
        "rf_mae = mean_absolute_error(y_test, rf_preds)\n",
        "rf_rmse = np.sqrt(mean_squared_error(y_test, rf_preds))\n",
        "\n",
        "print(\"Random Forest MAE:\", round(rf_mae, 2))\n",
        "print(\"Random Forest RMSE:\", round(rf_rmse, 2))"
      ],
      "metadata": {
        "id": "CgLej_JDFNVJ",
        "colab": {
          "base_uri": "https://localhost:8080/"
        },
        "outputId": "0f533733-a08c-40d7-9f73-2c42bad4b1aa"
      },
      "execution_count": 45,
      "outputs": [
        {
          "output_type": "stream",
          "name": "stdout",
          "text": [
            "Random Forest MAE: 19.75\n",
            "Random Forest RMSE: 25.45\n"
          ]
        }
      ]
    },
    {
      "cell_type": "markdown",
      "source": [
        "### **🔹 Visualize Random Forest Predictions**"
      ],
      "metadata": {
        "id": "veG7O7K2FROF"
      }
    },
    {
      "cell_type": "code",
      "source": [
        "plt.figure(figsize=(6,6))\n",
        "plt.scatter(y_test, rf_preds, color=\"green\", edgecolor=\"k\", s=100, alpha=0.7)\n",
        "plt.plot([y_test.min(), y_test.max()],\n",
        "         [y_test.min(), y_test.max()],\n",
        "         color=\"red\", linestyle=\"--\", linewidth=2)\n",
        "\n",
        "plt.xlabel(\"Actual Price\", fontsize=12)\n",
        "plt.ylabel(\"Predicted Price (Random Forest)\", fontsize=12)\n",
        "plt.title(\"🌲 Actual vs Predicted (Random Forest)\", fontsize=14)\n",
        "plt.grid(True, linestyle=\"--\", alpha=0.6)\n",
        "plt.show()"
      ],
      "metadata": {
        "id": "3dL5JfIIFTy0",
        "colab": {
          "base_uri": "https://localhost:8080/",
          "height": 619
        },
        "outputId": "751fa099-fe9b-4767-992e-622cbfa5f1cb"
      },
      "execution_count": 46,
      "outputs": [
        {
          "output_type": "stream",
          "name": "stderr",
          "text": [
            "/usr/local/lib/python3.12/dist-packages/IPython/core/pylabtools.py:151: UserWarning: Glyph 127794 (\\N{EVERGREEN TREE}) missing from font(s) Liberation Sans.\n",
            "  fig.canvas.print_figure(bytes_io, **kw)\n"
          ]
        },
        {
          "output_type": "display_data",
          "data": {
            "text/plain": [
              "<Figure size 600x600 with 1 Axes>"
            ],
            "image/png": "[encoded data removed]"
          },
          "metadata": {}
        }
      ]
    },
    {
      "cell_type": "markdown",
      "source": [
        "### **Compare**\n",
        "\n",
        "* Linear Regression (simple baseline model)\n",
        "\n",
        "* Random Forest (advanced, non-linear model)"
      ],
      "metadata": {
        "id": "YZqHNBEfFblP"
      }
    },
    {
      "cell_type": "code",
      "source": [
        "print(\"Linear Regression R²:\", model.score(X_test, y_test))\n",
        "print(\"Random Forest R²:\", rf_model.score(X_test, y_test))"
      ],
      "metadata": {
        "id": "VULOsl4-Foj4",
        "colab": {
          "base_uri": "https://localhost:8080/"
        },
        "outputId": "6b2a8c29-8ae2-4efc-e1a0-eb1c6314d0b6"
      },
      "execution_count": 47,
      "outputs": [
        {
          "output_type": "stream",
          "name": "stdout",
          "text": [
            "Linear Regression R²: 0.663194444444445\n",
            "Random Forest R²: 0.2803722222222219\n"
          ]
        }
      ]
    },
    {
      "cell_type": "markdown",
      "source": [
        "### **Comparison Table**"
      ],
      "metadata": {
        "id": "Mw5qTm8XJ3Fe"
      }
    },
    {
      "cell_type": "code",
      "source": [
        "import pandas as pd\n",
        "\n",
        "results = pd.DataFrame({\n",
        "    \"Model\": [\"Linear Regression\", \"Random Forest\"],\n",
        "    \"R² Score\": [\n",
        "        model.score(X_test, y_test),\n",
        "        rf_model.score(X_test, y_test)\n",
        "    ],\n",
        "    \"MAE\": [mae, rf_mae],\n",
        "    \"RMSE\": [rmse, rf_rmse]\n",
        "})\n",
        "\n",
        "print(results)"
      ],
      "metadata": {
        "colab": {
          "base_uri": "https://localhost:8080/"
        },
        "id": "qoU_oLRGJ8g_",
        "outputId": "3b258eed-c6e7-4329-ad8d-16d760bc0df0"
      },
      "execution_count": 48,
      "outputs": [
        {
          "output_type": "stream",
          "name": "stdout",
          "text": [
            "               Model  R² Score    MAE       RMSE\n",
            "0  Linear Regression  0.663194  16.25  17.410485\n",
            "1      Random Forest  0.280372  19.75  25.449263\n"
          ]
        }
      ]
    },
    {
      "cell_type": "markdown",
      "source": [
        "## 📌 Why Random Forest is Useful After Linear Regression\n",
        "\n",
        "### 🔹 Linear Regression Recap\n",
        "\n",
        "* Linear Regression is the **simplest regression model**.\n",
        "* It assumes a **straight-line (linear) relationship** between features (like rooms, area, city) and the target (price).\n",
        "* In our toy dataset, it worked fairly well → **R² ≈ 0.66**.\n",
        "* Advantage: very **interpretable** (we can see coefficients).\n",
        "\n",
        "---\n",
        "\n",
        "### 🔹 Introducing Random Forest\n",
        "\n",
        "* Random Forest is an **ensemble model** made up of many decision trees 🌲.\n",
        "* Each tree learns a different pattern in the data, and the forest averages their results.\n",
        "* Advantage: captures **non-linear relationships** and **feature interactions** that Linear Regression can’t.\n",
        "* Example: If price depends on rooms *and* city in a complicated way, Random Forest can detect it.\n",
        "\n",
        "---\n",
        "\n",
        "### 🔹 Why Did Random Forest Perform Worse Here?\n",
        "\n",
        "* Our dataset is **very small (only 8 rows, 2 for testing)**.\n",
        "* Random Forest usually shines with **larger datasets** and **complex patterns**.\n",
        "* With such little data, Linear Regression’s simplicity actually fits better.\n",
        "* Random Forest may have **overfit** on the small training data, which reduces test performance.\n",
        "\n",
        "---\n",
        "\n",
        "### 🔹 When to Prefer Random Forest\n",
        "\n",
        "* When the dataset is **larger (hundreds/thousands of rows)**.\n",
        "* When relationships are **non-linear** (e.g., price doesn’t increase evenly with area).\n",
        "* When you care more about **accuracy** than interpretability.\n",
        "\n",
        "---\n",
        "\n",
        "### ✅ Key Takeaway\n",
        "\n",
        "* Always start with a **simple baseline (Linear Regression)**.\n",
        "* Then try more powerful models like **Random Forest, Gradient Boosting, etc.**\n",
        "* Compare results → whichever gives better test performance is your choice.\n",
        "* Pipelines make it easy to **swap models** and experiment without redoing preprocessing.\n",
        "\n",
        "---"
      ],
      "metadata": {
        "id": "A5eQSQxkGqKL"
      }
    }
  ]
}