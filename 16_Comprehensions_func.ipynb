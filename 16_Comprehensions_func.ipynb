{
  "nbformat": 4,
  "nbformat_minor": 0,
  "metadata": {
    "colab": {
      "provenance": []
    },
    "kernelspec": {
      "name": "python3",
      "display_name": "Python 3"
    },
    "language_info": {
      "name": "python"
    }
  },
  "cells": [
    {
      "cell_type": "code",
      "execution_count": null,
      "metadata": {
        "id": "ejdW99Y1Lm79"
      },
      "outputs": [],
      "source": [
        "# comprehension\n",
        "# 3 to 4 line code in single line"
      ]
    },
    {
      "cell_type": "code",
      "source": [
        "square_list = [i **2 for i in range(10)]\n",
        "print(square_list)\n",
        "# list comprehension\n",
        "# loop in end and loop in start"
      ],
      "metadata": {
        "colab": {
          "base_uri": "https://localhost:8080/"
        },
        "id": "B-VaZMnlLw3O",
        "outputId": "3b3bb166-d6bc-4efb-b632-3df2ffff4acc"
      },
      "execution_count": null,
      "outputs": [
        {
          "output_type": "stream",
          "name": "stdout",
          "text": [
            "[0, 1, 4, 9, 16, 25, 36, 49, 64, 81]\n"
          ]
        }
      ]
    },
    {
      "cell_type": "code",
      "source": [
        "num = 5\n",
        "even = True if num % 2 == 0 else False\n",
        "print(even)"
      ],
      "metadata": {
        "colab": {
          "base_uri": "https://localhost:8080/"
        },
        "id": "4SBRJRElMcjC",
        "outputId": "a9e64c5e-d391-4afe-f017-a6a625fa8f52"
      },
      "execution_count": null,
      "outputs": [
        {
          "output_type": "stream",
          "name": "stdout",
          "text": [
            "False\n"
          ]
        }
      ]
    },
    {
      "cell_type": "code",
      "source": [
        "dic = {i: i**2 for i in range(10)}\n",
        "print(dic)"
      ],
      "metadata": {
        "colab": {
          "base_uri": "https://localhost:8080/"
        },
        "id": "NRzwP8kGM-Z4",
        "outputId": "42c45b84-52e0-42dd-bb04-9266b347264d"
      },
      "execution_count": null,
      "outputs": [
        {
          "output_type": "stream",
          "name": "stdout",
          "text": [
            "{0: 0, 1: 1, 2: 4, 3: 9, 4: 16, 5: 25, 6: 36, 7: 49, 8: 64, 9: 81}\n"
          ]
        }
      ]
    },
    {
      "cell_type": "code",
      "source": [
        "# function\n",
        "# 1-user defined function\n",
        "# 2-built-in function\n",
        "# identification of functions is round bracket (paranthesis)\n",
        "# define functions def\n",
        "# body define\n",
        "# 1-return\n",
        "# 2-not return\n",
        "# calling function is important\n",
        "# return can be any type\n",
        "# take input (argument)\n",
        "# return is exit of function"
      ],
      "metadata": {
        "id": "RBcWEjSGNQvX"
      },
      "execution_count": null,
      "outputs": []
    },
    {
      "cell_type": "code",
      "source": [
        "def sq_function():\n",
        "    sq = []\n",
        "    for j in range(10):\n",
        "        sq.append(j **2)\n",
        "    return sq\n",
        "lists = sq_function()\n",
        "print(lists)"
      ],
      "metadata": {
        "colab": {
          "base_uri": "https://localhost:8080/"
        },
        "id": "12Ea19-aOGya",
        "outputId": "70b3e0e6-7be7-45fa-b065-32e1e8b31f09"
      },
      "execution_count": null,
      "outputs": [
        {
          "output_type": "stream",
          "name": "stdout",
          "text": [
            "[0, 1, 4, 9, 16, 25, 36, 49, 64, 81]\n"
          ]
        }
      ]
    },
    {
      "cell_type": "code",
      "source": [
        "def sq_function():\n",
        "  print(\"function is calling\")\n",
        "(sq_function())"
      ],
      "metadata": {
        "colab": {
          "base_uri": "https://localhost:8080/"
        },
        "id": "XLy5OfseP4RL",
        "outputId": "6db14550-63b7-4009-e440-8e5f6d7a7c84"
      },
      "execution_count": null,
      "outputs": [
        {
          "output_type": "stream",
          "name": "stdout",
          "text": [
            "function is calling\n"
          ]
        }
      ]
    },
    {
      "cell_type": "code",
      "source": [
        "def sq_function_name(names):\n",
        "  print(\"hello\", names)\n",
        "sq_function_name(\"Uzma\")\n",
        "names = input(\"enter your name\")\n",
        "sq_function_name(names)\n",
        "# benifit of function"
      ],
      "metadata": {
        "colab": {
          "base_uri": "https://localhost:8080/"
        },
        "id": "VeQDL4eBQzX1",
        "outputId": "1c573ecd-a303-42a2-d306-f3a8161985de"
      },
      "execution_count": null,
      "outputs": [
        {
          "output_type": "stream",
          "name": "stdout",
          "text": [
            "hello Uzma\n",
            "enter your nameUz\n",
            "hello Uz\n"
          ]
        }
      ]
    },
    {
      "cell_type": "code",
      "source": [
        "# argument is of two types\n",
        "# positional\n",
        "# keyword"
      ],
      "metadata": {
        "id": "SHzAjKgUSDcE"
      },
      "execution_count": null,
      "outputs": []
    },
    {
      "cell_type": "code",
      "source": [
        "def sq_function_name(names = \"Uzma\"):\n",
        "    print(\"hello\", names)\n",
        "sq_function_name(\"aqsa\")\n",
        "sq_function_name()"
      ],
      "metadata": {
        "colab": {
          "base_uri": "https://localhost:8080/"
        },
        "id": "qE77nYUZSkaa",
        "outputId": "767c6a37-3652-42d6-8584-88f31a87a255"
      },
      "execution_count": null,
      "outputs": [
        {
          "output_type": "stream",
          "name": "stdout",
          "text": [
            "hello aqsa\n",
            "hello Uzma\n"
          ]
        }
      ]
    },
    {
      "cell_type": "code",
      "source": [
        "def add(num1, num2):\n",
        "  print(\"hello\", 100+256)\n",
        "  return\n",
        "add(100,256)"
      ],
      "metadata": {
        "colab": {
          "base_uri": "https://localhost:8080/"
        },
        "id": "RYoQoMhnTLy2",
        "outputId": "ee0e1843-aaaf-43e4-9647-50d6cf64847e"
      },
      "execution_count": null,
      "outputs": [
        {
          "output_type": "stream",
          "name": "stdout",
          "text": [
            "hello 356\n"
          ]
        }
      ]
    },
    {
      "cell_type": "code",
      "source": [
        "def add(num1 = 1, num2 = 2):\n",
        "  return num1+num2\n",
        "add()"
      ],
      "metadata": {
        "colab": {
          "base_uri": "https://localhost:8080/"
        },
        "id": "_08DQZENTgK3",
        "outputId": "1c2ad35e-4284-47ea-e11c-5f6459992840"
      },
      "execution_count": null,
      "outputs": [
        {
          "output_type": "execute_result",
          "data": {
            "text/plain": [
              "3"
            ]
          },
          "metadata": {},
          "execution_count": 14
        }
      ]
    },
    {
      "cell_type": "code",
      "source": [
        "def even(a):\n",
        "  if a % 2 == 0:\n",
        "      print(\"True\")\n",
        "  else:\n",
        "      print(\"False\")\n",
        "even(4)"
      ],
      "metadata": {
        "colab": {
          "base_uri": "https://localhost:8080/"
        },
        "id": "bm91j4MuTxpu",
        "outputId": "555c6f73-be6f-453e-879b-839a8138a584"
      },
      "execution_count": null,
      "outputs": [
        {
          "output_type": "stream",
          "name": "stdout",
          "text": [
            "True\n"
          ]
        }
      ]
    },
    {
      "cell_type": "code",
      "source": [
        "# files on github through git\n",
        "# specific file with message\n",
        "# git init / stage status\n",
        "# name, username\n",
        "# add\n",
        "# commit with message\n",
        "# make folder in vs code\n",
        "# open terminal\n",
        "# with git init\n",
        "# git config user.name\"Uzma\"\n",
        "# git config user.email\n",
        "# git status\n",
        "# git file name\n",
        "# git status\n",
        "# git commit -m message"
      ],
      "metadata": {
        "id": "ZdgVelCjUM9g"
      },
      "execution_count": null,
      "outputs": []
    }
  ]
}
