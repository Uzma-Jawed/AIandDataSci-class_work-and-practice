{
  "nbformat": 4,
  "nbformat_minor": 0,
  "metadata": {
    "colab": {
      "provenance": []
    },
    "kernelspec": {
      "name": "python3",
      "display_name": "Python 3"
    },
    "language_info": {
      "name": "python"
    }
  },
  "cells": [
    {
      "cell_type": "markdown",
      "source": [
        "@Uzma_Jawed"
      ],
      "metadata": {
        "id": "DY5EfBnef_zc"
      }
    },
    {
      "cell_type": "markdown",
      "source": [
        "# **Arithmetic Operators**"
      ],
      "metadata": {
        "id": "izXE6o4-gCUe"
      }
    },
    {
      "cell_type": "markdown",
      "source": [
        "___\n",
        "### Exercise:\n",
        "___\n",
        "Create a `calculator` performing addition, subtraction, multiplication, and division operations on two numbers. Your program should format the output in a readable manner."
      ],
      "metadata": {
        "id": "FVEiTFSHa32t"
      }
    },
    {
      "cell_type": "code",
      "source": [
        "# Simple calculator using two numbers\n",
        "\n",
        "# Define two numbers\n",
        "a = 10\n",
        "b = 5\n",
        "\n",
        "# Perform operations\n",
        "addition = a + b\n",
        "subtraction = a - b\n",
        "multiplication = a * b\n",
        "division = a / b  # Make sure b is not zero\n",
        "\n",
        "# Display results\n",
        "print(\"Addition:\", addition)\n",
        "print(\"Subtraction:\", subtraction)\n",
        "print(\"Multiplication:\", multiplication)\n",
        "print(\"Division:\", division)"
      ],
      "metadata": {
        "colab": {
          "base_uri": "https://localhost:8080/"
        },
        "id": "KFLO3hBgaobf",
        "outputId": "a4bcad3f-1d48-4b65-9418-c186453a2f5a"
      },
      "execution_count": null,
      "outputs": [
        {
          "output_type": "stream",
          "name": "stdout",
          "text": [
            "Addition: 15\n",
            "Subtraction: 5\n",
            "Multiplication: 50\n",
            "Division: 2.0\n"
          ]
        }
      ]
    },
    {
      "cell_type": "markdown",
      "source": [
        "___\n",
        "Here’s the same beginner-friendly `calculator`, but now it takes input from the user:\n",
        "___"
      ],
      "metadata": {
        "id": "Xdl9eET3cKGG"
      }
    },
    {
      "cell_type": "code",
      "source": [
        "# Simple calculator using user input\n",
        "\n",
        "# Take input from the user\n",
        "a = int(input(\"Enter first number: \"))\n",
        "b = int(input(\"Enter second number: \"))\n",
        "\n",
        "# Perform operations\n",
        "print(\"Addition:\", a + b)\n",
        "print(\"Subtraction:\", a - b)\n",
        "print(\"Multiplication:\", a * b)\n",
        "print(\"Division:\", a / b)"
      ],
      "metadata": {
        "colab": {
          "base_uri": "https://localhost:8080/"
        },
        "id": "diBrfDvlbjA8",
        "outputId": "d9d32455-44e6-4653-bf3f-65f75865efd9"
      },
      "execution_count": null,
      "outputs": [
        {
          "output_type": "stream",
          "name": "stdout",
          "text": [
            "Enter first number: 100\n",
            "Enter second number: 5\n",
            "Addition: 105\n",
            "Subtraction: 95\n",
            "Multiplication: 500\n",
            "Division: 20.0\n"
          ]
        }
      ]
    },
    {
      "cell_type": "markdown",
      "source": [
        "___\n",
        "Here's the updated version with `floor division` (//), `modulus` (%), and `exponentiation` ()**:\n",
        "___"
      ],
      "metadata": {
        "id": "jv_uC9Uncia9"
      }
    },
    {
      "cell_type": "code",
      "source": [
        "# Simple calculator using user input\n",
        "\n",
        "# Take input from the user\n",
        "a = float(input(\"Enter first number: \"))\n",
        "b = float(input(\"Enter second number: \"))\n",
        "\n",
        "# Perform operations\n",
        "print(\"Addition:\", a + b)\n",
        "print(\"Subtraction:\", a - b)\n",
        "print(\"Multiplication:\", a * b)\n",
        "print(\"Division:\", a / b)\n",
        "print(\"Floor Division:\", a // b)\n",
        "print(\"Modulus:\", a % b)\n",
        "print(\"Exponentiation (a^b):\", a ** b)"
      ],
      "metadata": {
        "colab": {
          "base_uri": "https://localhost:8080/"
        },
        "id": "W3aLUlmhczma",
        "outputId": "952d4a55-e28f-415f-dc44-0f2e0cf58d4b"
      },
      "execution_count": null,
      "outputs": [
        {
          "output_type": "stream",
          "name": "stdout",
          "text": [
            "Enter first number: 780\n",
            "Enter second number: 56\n",
            "Addition: 836.0\n",
            "Subtraction: 724.0\n",
            "Multiplication: 43680.0\n",
            "Division: 13.928571428571429\n",
            "Floor Division: 13.0\n",
            "Modulus: 52.0\n",
            "Exponentiation (a^b): 9.063537806851301e+161\n"
          ]
        }
      ]
    },
    {
      "cell_type": "markdown",
      "source": [
        "___\n",
        "### Mini math quiz\n",
        "___\n",
        "Write a Python program that:\n",
        "\n",
        "Takes two numbers from the user.\n",
        "\n",
        "Prints only the following:\n",
        "\n",
        "1.The remainder when the first number is divided by the second.\n",
        "\n",
        "2.The result of raising the first number to the power of the second.\n",
        "\n",
        "3.The result of floor division."
      ],
      "metadata": {
        "id": "Csst6uAf1dOi"
      }
    },
    {
      "cell_type": "code",
      "source": [
        "a = int(input(\"Enter a number: \"))\n",
        "b = int(input(\"Enter another number: \"))\n",
        "\n",
        "print(\"The remainder when\", a, \"is divided by\", b, \"is\", a % b)\n",
        "print(\"The result of\", a, \"raised to the power\", b, \"is\", a ** b)\n",
        "print(\"The result of floor division of\", a, \"by\", b, \"is\", a // b)"
      ],
      "metadata": {
        "colab": {
          "base_uri": "https://localhost:8080/"
        },
        "id": "e6he_5uUfYoT",
        "outputId": "0ee40f80-d881-4b6e-873f-6bb2f4ac83bf"
      },
      "execution_count": null,
      "outputs": [
        {
          "output_type": "stream",
          "name": "stdout",
          "text": [
            "Enter a number: 10\n",
            "Enter another number: 2\n",
            "The remainder when 10 is divided by 2 is 0\n",
            "The result of 10 raised to the power 2 is 100\n",
            "The result of floor division of 10 by 2 is 5\n"
          ]
        }
      ]
    }
  ]
}
