{
  "nbformat": 4,
  "nbformat_minor": 0,
  "metadata": {
    "colab": {
      "provenance": [],
      "authorship_tag": "ABX9TyN2IhfGD36csF/ZamOzuHZu",
      "include_colab_link": true
    },
    "kernelspec": {
      "name": "python3",
      "display_name": "Python 3"
    },
    "language_info": {
      "name": "python"
    }
  },
  "cells": [
    {
      "cell_type": "markdown",
      "metadata": {
        "id": "view-in-github",
        "colab_type": "text"
      },
      "source": [
        "<a href=\"https://colab.research.google.com/github/Uzma-Jawed/AIandDataSci-class_work-and-practice/blob/main/29_LinearRegressionBasics_OLSvsGD.ipynb\" target=\"_parent\"><img src=\"https://colab.research.google.com/assets/colab-badge.svg\" alt=\"Open In Colab\"/></a>"
      ]
    },
    {
      "cell_type": "markdown",
      "source": [
        "📘 Uzma Jawed\n",
        "\n",
        "📅 Class Work - August 23"
      ],
      "metadata": {
        "id": "ZJlDW6DoU-_D"
      }
    },
    {
      "cell_type": "markdown",
      "source": [
        "\n",
        "\n",
        "---\n",
        "\n",
        "\n",
        "🟢 1. Supervised vs. Unsupervised Learning\n",
        "\n",
        "👉 First question: Does the dataset have a target column (output variable)?\n",
        "\n",
        "Supervised Learning → ✅ Target column exists (we know the answers).\n",
        "\n",
        "Example: Predicting marks of students (target = marks).\n",
        "\n",
        "Unsupervised Learning → ❌ No target column (we don’t know the answers).\n",
        "\n",
        "Example: Grouping customers based on behavior (clustering).\n",
        "\n",
        "\n",
        "---\n",
        "\n",
        "🟢 2. Types of Supervised Learning\n",
        "\n",
        "Regression → Target column is numeric/continuous.\n",
        "\n",
        "Example: Predicting house price, marks, salary.\n",
        "\n",
        "Classification → Target column is categorical/discrete.\n",
        "\n",
        "Example: Predicting Pass/Fail, Spam/Not Spam, Disease/No Disease.\n",
        "\n",
        "Time Series → Target column depends on time order.\n",
        "\n",
        "Example: Stock price prediction, weather forecasting.\n",
        "\n",
        "\n",
        "---\n",
        "\n",
        "🟢 3. ML Workflow (Pipeline):\n",
        "\n",
        "Decide: Supervised or Unsupervised\n",
        "\n",
        "EDA (Exploratory Data Analysis) → Check structure, graphs, missing values, patterns.\n",
        "\n",
        "DC (Data Cleaning) → Fix missing values, remove duplicates, handle outliers.\n",
        "\n",
        "DP (Data Preprocessing) → Encode categories, scale numbers, normalize.\n",
        "\n",
        "Feature Engineering (FE) → Create new useful columns/features if needed.\n",
        "\n",
        "Train-Test Split → Divide data into training (model learns) and testing (model checks).\n",
        "\n",
        "Column Transformer → Apply transformations (scaling, encoding, etc.).\n",
        "\n",
        "Model Training (fit) → Example: model.fit(X_train, y_train)\n",
        "\n",
        "Model Prediction (predict) → Example: model.predict(X_test)\n",
        "\n",
        "Model Evaluation → Check accuracy, MSE, R², etc.\n",
        "\n",
        "\n",
        "---\n",
        "🟢 4. Regression Basics\n",
        "\n",
        "Equation: y=mx+b\n",
        "\n",
        "y = Target (e.g., Marks)\n",
        "\n",
        "x = Feature (e.g., Knowledge/Practice)\n",
        "\n",
        "m = Slope (weight → shows effect of x on y)\n",
        "\n",
        "b = Bias (intercept → starting point)\n",
        "\n",
        "👉 In ML:\n",
        "Model tries to find best m and b so predicted y is close to actual y.\n",
        "\n",
        "\n",
        "---\n",
        "\n",
        "\n",
        "🟢 5. OLS (Ordinary Least Squares)\n",
        "\n",
        "OLS = Method to find best line by minimizing error.\n",
        "\n",
        "Error = (Actual – Predicted)\n",
        "\n",
        "Mean Square Error (MSE):\n",
        "\n",
        "𝑀𝑆𝐸 = 1/𝑛 ∑(𝑦𝑎𝑐𝑡𝑢𝑎𝑙−𝑦𝑝𝑟𝑒𝑑)2\n",
        "\n",
        "\n",
        "If errors are high → adjust weights (m, b).\n",
        "\n",
        "\n",
        "Formula for slope:\n",
        "\n",
        "\n",
        "𝑚 = ∑(𝑥𝑖−𝑥ˉ)(𝑦𝑖−𝑦ˉ)∑(𝑥𝑖−𝑥ˉ)2/∑(xi\t​−xˉ)(yi−yˉ)\n",
        "\n",
        "\t​\n",
        "Goal → Find line with minimum error.\n",
        "\n",
        "\n",
        "---\n",
        "\n",
        "🟢 6. Gradient Descent (GD)\n",
        "\n",
        "Instead of directly calculating slope, GD iteratively adjusts weights until error is minimized.\n",
        "\n",
        "Start with random m, b.\n",
        "\n",
        "Calculate error.\n",
        "\n",
        "Update m, b little by little using derivatives (differential equations).\n",
        "\n",
        "Stop when error is very small.\n",
        "\n",
        "👉 Types:\n",
        "\n",
        "Batch GD → Uses whole dataset at once.\n",
        "\n",
        "Mini-Batch GD → Uses small chunks of dataset.\n",
        "\n",
        "Stochastic GD (SGD) → Updates using one data point at a time.\n",
        "\n",
        "\n",
        "---\n",
        "✨ In short:\n",
        "\n",
        "OLS = Exact formula for best line.\n",
        "\n",
        "Gradient Descent = Trial-and-error method to reach best line.\n",
        "\n",
        "---\n"
      ],
      "metadata": {
        "id": "4cb7rfNHVFMs"
      }
    },
    {
      "cell_type": "markdown",
      "source": [
        "🌷 Let’s make a tiny regression example in Python (Marks vs Knowledge).\n",
        "\n",
        "We’ll use:\n",
        "\n",
        "OLS (scikit-learn LinearRegression)\n",
        "\n",
        "Gradient Descent (SGDRegressor)\n",
        "\n",
        "Here’s the step-by-step code:"
      ],
      "metadata": {
        "id": "sdhhdxRrV6FD"
      }
    },
    {
      "cell_type": "code",
      "source": [
        "# 📌 Step 1: Import libraries\n",
        "import numpy as np\n",
        "import matplotlib.pyplot as plt\n",
        "from sklearn.linear_model import LinearRegression, SGDRegressor\n",
        "from sklearn.metrics import mean_squared_error"
      ],
      "metadata": {
        "id": "C2Txv7xCZ_Xt"
      },
      "execution_count": null,
      "outputs": []
    },
    {
      "cell_type": "code",
      "source": [
        "# 📌 Step 2: Sample data (Knowledge vs Marks)\n",
        "X = np.array([1, 2, 3, 4, 5, 6]).reshape(-1, 1)   # Knowledge hours\n",
        "y = np.array([30, 40, 50, 65, 75, 90])            # Marks"
      ],
      "metadata": {
        "id": "eGH5ldFLb89e"
      },
      "execution_count": null,
      "outputs": []
    },
    {
      "cell_type": "code",
      "source": [
        "# 📌 Step 3: OLS Regression\n",
        "ols_model = LinearRegression()\n",
        "ols_model.fit(X, y)\n",
        "y_pred_ols = ols_model.predict(X)\n",
        "\n",
        "print(\"OLS Equation: y =\", round(ols_model.coef_[0], 2), \"x +\", round(ols_model.intercept_, 2))"
      ],
      "metadata": {
        "colab": {
          "base_uri": "https://localhost:8080/"
        },
        "id": "R7VmkGQgcGzc",
        "outputId": "e9d1474e-0edf-4bf3-fb63-7ac6f32af972"
      },
      "execution_count": null,
      "outputs": [
        {
          "output_type": "stream",
          "name": "stdout",
          "text": [
            "OLS Equation: y = 12.0 x + 16.33\n"
          ]
        }
      ]
    },
    {
      "cell_type": "code",
      "source": [
        "# 📌 Step 4: Gradient Descent Regression\n",
        "gd_model = SGDRegressor(max_iter=1000, learning_rate=\"constant\", eta0=0.01)\n",
        "gd_model.fit(X, y)\n",
        "y_pred_gd = gd_model.predict(X)\n",
        "\n",
        "print(\"GD Equation: y =\", round(gd_model.coef_[0], 2), \"x +\", round(gd_model.intercept_[0], 2))"
      ],
      "metadata": {
        "colab": {
          "base_uri": "https://localhost:8080/"
        },
        "id": "6GoAeGQHcObz",
        "outputId": "2d8afc66-4284-4e00-c879-f2c5ad4da50c"
      },
      "execution_count": null,
      "outputs": [
        {
          "output_type": "stream",
          "name": "stdout",
          "text": [
            "GD Equation: y = 12.3 x + 15.07\n"
          ]
        }
      ]
    },
    {
      "cell_type": "code",
      "source": [
        "# 📌 Step 5: Compare errors\n",
        "print(\"OLS MSE:\", mean_squared_error(y, y_pred_ols))\n",
        "print(\"GD MSE:\", mean_squared_error(y, y_pred_gd))"
      ],
      "metadata": {
        "colab": {
          "base_uri": "https://localhost:8080/"
        },
        "id": "r9T9f28VcW0L",
        "outputId": "6f74cc9f-88b9-455a-d2cc-19912c333798"
      },
      "execution_count": null,
      "outputs": [
        {
          "output_type": "stream",
          "name": "stdout",
          "text": [
            "OLS MSE: 2.22222222222222\n",
            "GD MSE: 2.530814490059846\n"
          ]
        }
      ]
    },
    {
      "cell_type": "code",
      "source": [
        "# 📌 Step 6: Plot results\n",
        "plt.scatter(X, y, color=\"blue\", label=\"Actual Data\")\n",
        "plt.plot(X, y_pred_ols, color=\"green\", label=\"OLS Best Fit Line\")\n",
        "plt.plot(X, y_pred_gd, color=\"red\", linestyle=\"--\", label=\"GD Line\")\n",
        "plt.xlabel(\"Knowledge Hours\")\n",
        "plt.ylabel(\"Marks\")\n",
        "plt.legend()\n",
        "plt.show()"
      ],
      "metadata": {
        "colab": {
          "base_uri": "https://localhost:8080/",
          "height": 449
        },
        "id": "8r7Vkmtwcafk",
        "outputId": "86fde126-c07d-426e-8d7d-9a517548ac45"
      },
      "execution_count": null,
      "outputs": [
        {
          "output_type": "display_data",
          "data": {
            "text/plain": [
              "<Figure size 640x480 with 1 Axes>"
            ],
            "image/png": "[encoded data removed]"
          },
          "metadata": {}
        }
      ]
    },
    {
      "cell_type": "markdown",
      "source": [
        "\n",
        "\n",
        "---\n",
        "\n",
        "📝 Practice Task: House Price Prediction (Simple Regression)\n",
        "\n",
        "Dataset (tiny, you can write it directly in code)\n",
        "\n",
        "\n",
        "---\n",
        "\n",
        "\n"
      ],
      "metadata": {
        "id": "YATqFFK_c1Ri"
      }
    },
    {
      "cell_type": "markdown",
      "source": [
        "| Size (sq ft) | Price (in 1000\\$) |\n",
        "| ------------ | ----------------- |\n",
        "| 500          | 150               |\n",
        "| 800          | 200               |\n",
        "| 1000         | 250               |\n",
        "| 1200         | 280               |\n",
        "| 1500         | 350               |\n"
      ],
      "metadata": {
        "id": "sLPymLxzc6fQ"
      }
    },
    {
      "cell_type": "markdown",
      "source": [
        "\n",
        "\n",
        "---\n",
        "\n",
        "\n",
        "1. Create arrays for X = size and y = price.\n",
        "\n",
        "2. Split into training & testing (e.g., 80/20).\n",
        "\n",
        "3. Train Linear Regression (OLS) model.\n",
        "\n",
        "4. Train SGD Regressor (Gradient Descent) model.\n",
        "\n",
        "5. Predict price for a new house of size 1000 sq ft.\n",
        "\n",
        "6. Compare errors (MSE) of both models.\n",
        "\n",
        "7. Plot actual data + both regression lines.\n",
        "\n",
        "\n",
        "\n"
      ],
      "metadata": {
        "id": "E98KoNbac-2k"
      }
    },
    {
      "cell_type": "markdown",
      "source": [
        "\n",
        "\n",
        "---\n",
        "\n",
        "💡 Hints:\n",
        "\n",
        "* Use train_test_split from sklearn.model_selection.\n",
        "\n",
        "* Use LinearRegression and SGDRegressor.\n",
        "\n",
        "* Plot scatter for actual data, green line for OLS, red dashed line for GD.\n",
        "\n",
        "\n",
        "---\n",
        "\n"
      ],
      "metadata": {
        "id": "0JEvK3OHdivo"
      }
    },
    {
      "cell_type": "code",
      "source": [
        "# 📌 Step 1: Import libraries\n",
        "import numpy as np\n",
        "import matplotlib.pyplot as plt\n",
        "from sklearn.linear_model import LinearRegression, SGDRegressor\n",
        "from sklearn.model_selection import train_test_split\n",
        "from sklearn.metrics import mean_squared_error"
      ],
      "metadata": {
        "id": "bgdarMWSeNA7"
      },
      "execution_count": null,
      "outputs": []
    },
    {
      "cell_type": "code",
      "source": [
        "# 📌 Step 2: Dataset (House Size vs Price)\n",
        "X = np.array([500, 800, 1000, 1200, 1500]).reshape(-1, 1)   # House size\n",
        "y = np.array([150, 200, 250, 280, 350])                     # Price"
      ],
      "metadata": {
        "id": "SQz23vI8fT7v"
      },
      "execution_count": null,
      "outputs": []
    },
    {
      "cell_type": "code",
      "source": [
        "# 📌 Step 3: Train-Test Split\n",
        "X_train, X_test, y_train, y_test = train_test_split(X, y, test_size=0.2, random_state=42)"
      ],
      "metadata": {
        "id": "75wChXixfY5U"
      },
      "execution_count": null,
      "outputs": []
    },
    {
      "cell_type": "code",
      "source": [
        "# 📌 Step 4: OLS Regression\n",
        "ols_model = LinearRegression()\n",
        "ols_model.fit(X_train, y_train)     # 👉 fit OLS model on training data\n",
        "y_pred_ols = ols_model.predict(X_test)     # 👉 predict on X_test"
      ],
      "metadata": {
        "id": "4DMxZtLkfm8x"
      },
      "execution_count": null,
      "outputs": []
    },
    {
      "cell_type": "code",
      "source": [
        "# 📌 Step 5: Gradient Descent Regression\n",
        "gd_model = SGDRegressor(max_iter=1000, learning_rate=\"constant\", eta0=0.01)\n",
        "gd_model.fit(X_train, y_train)     # 👉 fit GD model on training data\n",
        "y_pred_gd = gd_model.predict(X_test)    # 👉 predict on X_test"
      ],
      "metadata": {
        "id": "IuL1hnaZf1qn"
      },
      "execution_count": null,
      "outputs": []
    },
    {
      "cell_type": "code",
      "source": [
        "# 📌 Step 6: Compare errors\n",
        "print(\"OLS MSE:\", mean_squared_error(y_test, y_pred_ols))\n",
        "print(\"GD MSE:\", mean_squared_error(y_test, y_pred_gd))"
      ],
      "metadata": {
        "id": "PXi2GnCyf5TL",
        "colab": {
          "base_uri": "https://localhost:8080/"
        },
        "outputId": "72bf8e7b-5802-4883-fd4e-9202ab9f19a0"
      },
      "execution_count": null,
      "outputs": [
        {
          "output_type": "stream",
          "name": "stdout",
          "text": [
            "OLS MSE: 67.36383054467805\n",
            "GD MSE: 3.0663242901859215e+30\n"
          ]
        }
      ]
    },
    {
      "cell_type": "code",
      "source": [
        "# 📌 Step 7: Predict price for new house (1000 sq ft)\n",
        "new_house = np.array([[1000]])\n",
        "print(\"OLS Prediction:\", ols_model.predict(new_house))\n",
        "print(\"GD Prediction:\", gd_model.predict(new_house))"
      ],
      "metadata": {
        "id": "76I17Uw6f8hl",
        "colab": {
          "base_uri": "https://localhost:8080/"
        },
        "outputId": "7e068cdc-9d07-43e4-f9c0-c6ee6806e402"
      },
      "execution_count": null,
      "outputs": [
        {
          "output_type": "stream",
          "name": "stdout",
          "text": [
            "OLS Prediction: [247.64150943]\n",
            "GD Prediction: [2.18886786e+15]\n"
          ]
        }
      ]
    },
    {
      "cell_type": "code",
      "source": [
        "# 📌 Step 8: Plot\n",
        "plt.scatter(X, y, color=\"blue\", label=\"Actual Data\")\n",
        "plt.plot(X, ols_model.predict(X), color=\"green\", label=\"OLS Line\")\n",
        "plt.plot(X, gd_model.predict(X), color=\"red\", linestyle=\"--\", label=\"GD Line\")\n",
        "plt.xlabel(\"House Size (sq ft)\")\n",
        "plt.ylabel(\"Price (in $1000)\")\n",
        "plt.legend()\n",
        "plt.show()"
      ],
      "metadata": {
        "id": "xzRMk29Of_MP",
        "colab": {
          "base_uri": "https://localhost:8080/",
          "height": 465
        },
        "outputId": "55be5667-ed3e-448e-afbd-1b1a23e6e677"
      },
      "execution_count": null,
      "outputs": [
        {
          "output_type": "display_data",
          "data": {
            "text/plain": [
              "<Figure size 640x480 with 1 Axes>"
            ],
            "image/png": "[encoded data removed]"
          },
          "metadata": {}
        }
      ]
    }
  ]
}