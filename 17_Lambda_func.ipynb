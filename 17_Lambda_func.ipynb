{
  "nbformat": 4,
  "nbformat_minor": 0,
  "metadata": {
    "colab": {
      "provenance": []
    },
    "kernelspec": {
      "name": "python3",
      "display_name": "Python 3"
    },
    "language_info": {
      "name": "python"
    }
  },
  "cells": [
    {
      "cell_type": "markdown",
      "source": [
        "@Uzma_Jawed"
      ],
      "metadata": {
        "id": "5nhRf5yvAA53"
      }
    },
    {
      "cell_type": "markdown",
      "source": [
        "⚡ Lambda Function is a short, anonymous. single line function.\n",
        "\n",
        "Comparison with def:\n",
        "\n",
        "`def`: Multi-line, reusable, named functions.\n",
        "\n",
        "`lambda`: Short, throwaway functions."
      ],
      "metadata": {
        "id": "YLuEOWOzfLkN"
      }
    },
    {
      "cell_type": "code",
      "source": [
        "# syntax\n",
        "lambda arguments: expression"
      ],
      "metadata": {
        "id": "vWd0j-YWfQ9V"
      },
      "execution_count": null,
      "outputs": []
    },
    {
      "cell_type": "code",
      "execution_count": null,
      "metadata": {
        "colab": {
          "base_uri": "https://localhost:8080/"
        },
        "id": "z0ZLsPfp8Sbs",
        "outputId": "7ffab70c-2e09-4482-c2c2-6bd04576303d"
      },
      "outputs": [
        {
          "output_type": "stream",
          "name": "stdout",
          "text": [
            "9\n"
          ]
        }
      ],
      "source": [
        "sqrt = lambda x: x**2\n",
        "print(sqrt(3))"
      ]
    },
    {
      "cell_type": "code",
      "source": [
        "def square(x):\n",
        "    return x**2\n",
        "\n",
        "print(square(3)) # right"
      ],
      "metadata": {
        "colab": {
          "base_uri": "https://localhost:8080/"
        },
        "id": "ON0A4Wyleg-F",
        "outputId": "32930ef4-b673-4997-b64b-ddc23868edae"
      },
      "execution_count": null,
      "outputs": [
        {
          "output_type": "stream",
          "name": "stdout",
          "text": [
            "9\n"
          ]
        }
      ]
    },
    {
      "cell_type": "markdown",
      "source": [
        "Lambda vs Def"
      ],
      "metadata": {
        "id": "7INGq39rWuUx"
      }
    },
    {
      "cell_type": "code",
      "source": [
        "# Lambda function\n",
        "add_lambda = lambda a, b: a + b\n",
        "\n",
        "# Traditional function\n",
        "def add(a, b):\n",
        "    return a + b\n",
        "\n",
        "# Calling both functions with sample arguments\n",
        "print(\"Lambda result:\", add_lambda(3, 5))\n",
        "print(\"Def result:\", add(3, 5))"
      ],
      "metadata": {
        "colab": {
          "base_uri": "https://localhost:8080/"
        },
        "id": "B6muaQDiXQr-",
        "outputId": "d8fdb1e8-605d-471f-e7ef-79ca36811057"
      },
      "execution_count": null,
      "outputs": [
        {
          "output_type": "stream",
          "name": "stdout",
          "text": [
            "Lambda result: 8\n",
            "Def result: 8\n"
          ]
        }
      ]
    },
    {
      "cell_type": "code",
      "source": [
        "# Add two numbers\n",
        "add = lambda x, y: x + y\n",
        "print(add(3, 5))"
      ],
      "metadata": {
        "colab": {
          "base_uri": "https://localhost:8080/"
        },
        "id": "9Le-YB3odIOd",
        "outputId": "cbd90dd1-d802-48f9-b5a8-29e8d2e29e06"
      },
      "execution_count": null,
      "outputs": [
        {
          "output_type": "stream",
          "name": "stdout",
          "text": [
            "8\n"
          ]
        }
      ]
    },
    {
      "cell_type": "code",
      "source": [
        "# Square of a number\n",
        "square = lambda x: x ** 2\n",
        "print(square(4))"
      ],
      "metadata": {
        "colab": {
          "base_uri": "https://localhost:8080/"
        },
        "id": "6NpRreNmdraV",
        "outputId": "ce606705-b91f-4343-bac7-37fd3f9f6d1e"
      },
      "execution_count": null,
      "outputs": [
        {
          "output_type": "stream",
          "name": "stdout",
          "text": [
            "16\n"
          ]
        }
      ]
    },
    {
      "cell_type": "markdown",
      "source": [
        "Lambda functions with higher-order functions (map, filter, reduce) in Python:\n",
        "\n",
        "Used for: Quick, one-time operations without defining a full function."
      ],
      "metadata": {
        "id": "QF0q1kuyAbIF"
      }
    },
    {
      "cell_type": "code",
      "source": [
        "# Used with map()\n",
        "nums = [1, 2, 3, 4]\n",
        "squares = list(map(lambda x: x**2, nums))\n",
        "print(squares)"
      ],
      "metadata": {
        "colab": {
          "base_uri": "https://localhost:8080/"
        },
        "id": "WOdou7yBdvkl",
        "outputId": "58eec5f2-fda9-4f0b-c777-03b760f30b2f"
      },
      "execution_count": null,
      "outputs": [
        {
          "output_type": "stream",
          "name": "stdout",
          "text": [
            "[1, 4, 9, 16]\n"
          ]
        }
      ]
    },
    {
      "cell_type": "code",
      "source": [
        "# Used with filter()\n",
        "nums = [1, 2, 3, 4, 5, 6]\n",
        "evens = list(filter(lambda x: x % 2 == 0, nums))\n",
        "print(evens)"
      ],
      "metadata": {
        "colab": {
          "base_uri": "https://localhost:8080/"
        },
        "id": "24uejCpnd291",
        "outputId": "ff5e29d4-7535-4d03-f1f8-5189861ba698"
      },
      "execution_count": null,
      "outputs": [
        {
          "output_type": "stream",
          "name": "stdout",
          "text": [
            "[2, 4, 6]\n"
          ]
        }
      ]
    },
    {
      "cell_type": "code",
      "source": [
        "# Sorting with Custom Keys\n",
        "students = [(\"Uzma\", 88), (\"Zaid\", 72), (\"Sara\", 95)]\n",
        "# Sort by grade (second element)\n",
        "print(sorted(students, key=lambda x: x[1]))"
      ],
      "metadata": {
        "colab": {
          "base_uri": "https://localhost:8080/"
        },
        "id": "ygAlzSKMaYI6",
        "outputId": "74dce16a-99fa-42bf-8107-99bd57b0b29a"
      },
      "execution_count": null,
      "outputs": [
        {
          "output_type": "stream",
          "name": "stdout",
          "text": [
            "[('Zaid', 72), ('Uzma', 88), ('Sara', 95)]\n"
          ]
        }
      ]
    },
    {
      "cell_type": "code",
      "source": [
        "# Immediate Function Execution\n",
        "\n",
        "# Self-executing lambda for quick calculations\n",
        "result = (lambda x, y: x**2 + y**2)(3, 4)\n",
        "print(result)"
      ],
      "metadata": {
        "colab": {
          "base_uri": "https://localhost:8080/"
        },
        "id": "xLcsAz5la41H",
        "outputId": "be56d256-87e6-42e7-abb1-246d3db63aa8"
      },
      "execution_count": null,
      "outputs": [
        {
          "output_type": "stream",
          "name": "stdout",
          "text": [
            "25\n"
          ]
        }
      ]
    },
    {
      "cell_type": "code",
      "source": [
        "# Dictionary Sorting\n",
        "scores = {'Math': 85, 'Physics': 90, 'Chemistry': 78}\n",
        "# Sort by subject name\n",
        "print(sorted(scores.items(), key=lambda item: item[0]))"
      ],
      "metadata": {
        "colab": {
          "base_uri": "https://localhost:8080/"
        },
        "id": "wa_JF4NHbmaA",
        "outputId": "97295344-38ae-454f-e96b-d0f5fcb2ccba"
      },
      "execution_count": null,
      "outputs": [
        {
          "output_type": "stream",
          "name": "stdout",
          "text": [
            "[('Chemistry', 78), ('Math', 85), ('Physics', 90)]\n"
          ]
        }
      ]
    },
    {
      "cell_type": "code",
      "source": [
        "# Lambda Pro Tip\n",
        "\n",
        "# Multi-argument lambda with map()\n",
        "names = [\"Uzma\", \"Sidra\", \"Faiza\"]\n",
        "initials = list(map(lambda name, idx: f\"{name[0]}.{idx}\", names, range(1,4)))\n",
        "print(initials)"
      ],
      "metadata": {
        "colab": {
          "base_uri": "https://localhost:8080/"
        },
        "id": "6U17pQw5b2f0",
        "outputId": "d3055343-9bac-4c38-834c-6df9aa4d7144"
      },
      "execution_count": null,
      "outputs": [
        {
          "output_type": "stream",
          "name": "stdout",
          "text": [
            "['U.1', 'S.2', 'F.3']\n"
          ]
        }
      ]
    },
    {
      "cell_type": "markdown",
      "source": [
        "Reduce(function, iterable)\n",
        "Applies a function cumulatively to pairs of items (e.g., sum all elements).\n",
        "\n",
        "Requires from functools import reduce."
      ],
      "metadata": {
        "id": "gxVZ963dCIPP"
      }
    },
    {
      "cell_type": "code",
      "source": [
        "from functools import reduce\n",
        "numbers = [1, 2, 3, 4]\n",
        "sum_all = reduce(lambda x, y: x + y, numbers)\n",
        "print(sum_all)"
      ],
      "metadata": {
        "colab": {
          "base_uri": "https://localhost:8080/"
        },
        "id": "y5FzxRNgCQoC",
        "outputId": "de8be87f-03d7-4f90-d8b2-fb6a0ac24607"
      },
      "execution_count": 2,
      "outputs": [
        {
          "output_type": "stream",
          "name": "stdout",
          "text": [
            "10\n"
          ]
        }
      ]
    },
    {
      "cell_type": "markdown",
      "source": [
        "Use lambda with zip to process paired elements from multiple iterables concisely."
      ],
      "metadata": {
        "id": "a7i6mdJrBw_q"
      }
    },
    {
      "cell_type": "code",
      "source": [
        "# Multiply corresponding elements from two lists\n",
        "result = list(map(lambda x: x[0] * x[1], zip([1, 2, 3], [4, 5, 6])))\n",
        "print(result)"
      ],
      "metadata": {
        "colab": {
          "base_uri": "https://localhost:8080/"
        },
        "id": "ULJSN1aoB0tY",
        "outputId": "9fe85cda-2ac6-41bd-be23-a53ff117e298"
      },
      "execution_count": 1,
      "outputs": [
        {
          "output_type": "stream",
          "name": "stdout",
          "text": [
            "[4, 10, 18]\n"
          ]
        }
      ]
    },
    {
      "cell_type": "markdown",
      "source": [
        "___\n",
        "Use lambda for:\n",
        "___\n",
        "i). Simple one-line operations\n",
        "\n",
        "ii). Cases where you need a quick function as an argument.\n",
        "___\n",
        "Use def for:\n",
        "___\n",
        "i). Any function that needs multiple lines\n",
        "\n",
        "ii). Functions you'll call multiple times\n",
        "\n",
        "iii). Cases where you want a proper docstring and name"
      ],
      "metadata": {
        "id": "4C_dbzcMXl29"
      }
    },
    {
      "cell_type": "markdown",
      "source": [
        "___\n",
        "Lambda vs def challenge\n",
        "___"
      ],
      "metadata": {
        "id": "okY8QIGqciUN"
      }
    },
    {
      "cell_type": "markdown",
      "source": [
        "### Challenge 1: Multiply a number by 10\n",
        "\n",
        "Write a function that takes a number and returns it multiplied by 10.\n",
        "\n",
        "Try it in:\n",
        "\n",
        "* `def` style\n",
        "* `lambda` style"
      ],
      "metadata": {
        "id": "OO69AWoMctn5"
      }
    },
    {
      "cell_type": "code",
      "source": [
        "# def style\n",
        "def multiply(x):\n",
        "    return x * 10\n",
        "print(multiply(7))\n",
        "print(multiply(2.5))"
      ],
      "metadata": {
        "colab": {
          "base_uri": "https://localhost:8080/"
        },
        "id": "RvhTJBk4dUTN",
        "outputId": "a04ccae2-e822-4a59-dc2f-4a4ecbac9ee0"
      },
      "execution_count": null,
      "outputs": [
        {
          "output_type": "stream",
          "name": "stdout",
          "text": [
            "70\n",
            "25.0\n"
          ]
        }
      ]
    },
    {
      "cell_type": "code",
      "source": [
        "# lammbda style\n",
        "multiply = lambda x: x * 10\n",
        "print(multiply(7))\n",
        "print(multiply(2.5))"
      ],
      "metadata": {
        "colab": {
          "base_uri": "https://localhost:8080/"
        },
        "id": "r1hkopC3eNFT",
        "outputId": "75954669-6132-45cf-bb6d-da090762998e"
      },
      "execution_count": null,
      "outputs": [
        {
          "output_type": "stream",
          "name": "stdout",
          "text": [
            "70\n",
            "25.0\n"
          ]
        }
      ]
    },
    {
      "cell_type": "markdown",
      "source": [
        "___\n",
        "### Challenge 2\n",
        "___\n",
        "Write a function that takes a number and returns:\n",
        "\n",
        "'Even' if the number is even\n",
        "\n",
        "'Odd' if the number is odd\n",
        "\n",
        "Do it in:\n",
        "\n",
        "def style\n",
        "\n",
        "lambda style (hint: use a ternary operator a if condition else b)"
      ],
      "metadata": {
        "id": "z492hWYQe7hF"
      }
    },
    {
      "cell_type": "code",
      "source": [
        "# def style\n",
        "def check_even_odd(num):\n",
        "    \"\"\"Returns 'Even' or 'Odd' based on input number.\"\"\"\n",
        "    if num % 2 == 0:\n",
        "        return \"Even\"\n",
        "    else:\n",
        "        return \"Odd\"\n",
        "print(check_even_odd(4))\n",
        "print(check_even_odd(7))"
      ],
      "metadata": {
        "colab": {
          "base_uri": "https://localhost:8080/"
        },
        "id": "Q_q2AWp8fTR0",
        "outputId": "58806587-8451-49f9-cba7-130a89c6e4db"
      },
      "execution_count": null,
      "outputs": [
        {
          "output_type": "stream",
          "name": "stdout",
          "text": [
            "Even\n",
            "Odd\n"
          ]
        }
      ]
    },
    {
      "cell_type": "code",
      "source": [
        "# lambda style\n",
        "check_even_odd = lambda num: \"Even\" if num % 2 == 0 else \"Odd\"\n",
        "print(check_even_odd(4))\n",
        "print(check_even_odd(7))"
      ],
      "metadata": {
        "colab": {
          "base_uri": "https://localhost:8080/"
        },
        "id": "eIvMatsmfvnH",
        "outputId": "565aa072-5931-48d6-ca9f-57d08d1e3eff"
      },
      "execution_count": null,
      "outputs": [
        {
          "output_type": "stream",
          "name": "stdout",
          "text": [
            "Even\n",
            "Odd\n"
          ]
        }
      ]
    },
    {
      "cell_type": "markdown",
      "source": [
        "### Exerxise/task:\n",
        "Write a function that takes two numbers and returns the greater of the two.\n",
        "\n",
        "Again:\n",
        "\n",
        "def style\n",
        "\n",
        "lambda style (yes, with a ternary again )"
      ],
      "metadata": {
        "id": "61PQXKEfgURw"
      }
    },
    {
      "cell_type": "markdown",
      "source": [
        "___\n",
        "###Topics covered in class(24-5-25)\n",
        "---\n",
        "how to use git commands\n",
        "___\n",
        "git init\n",
        "\n",
        "git config user name\n",
        "\n",
        "git config user emaiL\n",
        "\n",
        "git add\n",
        "\n",
        "git status\n",
        "\n",
        "git remote add origin\n",
        "\n",
        "git commit-m\n",
        "\n",
        "git push\n",
        "___\n",
        "git clone\n",
        "\n",
        "git fetch\n",
        "\n",
        "git conflict\n",
        "\n",
        "git pull origin url\n",
        "\n",
        "git checkout -b(branch name)\n",
        "\n",
        "git branch\n",
        "\n",
        "git switch(branch name)\n",
        "\n",
        "git merge(branch name)\n",
        "___\n",
        "commit back/ revert\n",
        "___\n",
        "Q. WHAT IMPORT RANDOM DO IN PYTHON?\n",
        "\n",
        "Q. Can i import files from random?\n",
        "\n",
        "Q. What libraries do in python?\n",
        "\n",
        "Q. What is meant by latex?\n",
        "\n",
        "Q. Why we use Git Fetch?\n",
        "\n",
        "Q. What means of git stash?\n",
        "\n",
        "Q. diff. b/w git fetch & git pull?\n",
        "\n",
        "Q. Revert in Git.\n",
        "___\n",
        "File Handling in Python\n",
        "\n",
        "python lambda function\n",
        "\n",
        "comparison of def and lambda function.\n",
        "___"
      ],
      "metadata": {
        "id": "EHkehIvB8vB1"
      }
    }
  ]
}
