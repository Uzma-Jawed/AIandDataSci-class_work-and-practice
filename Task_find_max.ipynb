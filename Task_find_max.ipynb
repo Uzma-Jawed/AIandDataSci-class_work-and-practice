{
  "nbformat": 4,
  "nbformat_minor": 0,
  "metadata": {
    "colab": {
      "provenance": []
    },
    "kernelspec": {
      "name": "python3",
      "display_name": "Python 3"
    },
    "language_info": {
      "name": "python"
    }
  },
  "cells": [
    {
      "cell_type": "code",
      "execution_count": null,
      "metadata": {
        "id": "ijLarVx3aQgf",
        "colab": {
          "base_uri": "https://localhost:8080/"
        },
        "outputId": "891504de-458b-440d-e406-3c84506144a8"
      },
      "outputs": [
        {
          "output_type": "stream",
          "name": "stdout",
          "text": [
            "220\n",
            "-5\n",
            "0\n",
            "7\n"
          ]
        }
      ],
      "source": [
        "# find the maximum of two numbers\n",
        "# write a function called find_max that takes two numbers and returns the larger one\n",
        "\n",
        "# use def keyword to define the function\n",
        "# the function should take two parameters\n",
        "# use an if statement for comparison\n",
        "def find_max(i, j):\n",
        "    if i > j:\n",
        "        return i\n",
        "    else:\n",
        "        return j\n",
        "# Call the function and print the result\n",
        "print(find_max(156, 220))\n",
        "print(find_max(-10, -5))\n",
        "print(find_max(0, 0))\n",
        "print(find_max(7, 7))\n",
        "#return the larger number"
      ]
    },
    {
      "cell_type": "code",
      "source": [
        "def find_max(i, j):\n",
        "    if i > j:\n",
        "        return i\n",
        "    elif i < j:\n",
        "        return j use\n",
        "    else:\n",
        "        return i, j\n",
        "\n",
        "# Call the function and print the result\n",
        "print(find_max(0, 0))\n",
        "print(find_max(7, 7))\n",
        "print(find_max(5, 9))"
      ],
      "metadata": {
        "id": "mV20ewD1u5Zx",
        "colab": {
          "base_uri": "https://localhost:8080/"
        },
        "outputId": "127683c4-813b-4c71-f79a-2bdccfacbee6"
      },
      "execution_count": null,
      "outputs": [
        {
          "output_type": "stream",
          "name": "stdout",
          "text": [
            "(0, 0)\n",
            "(7, 7)\n",
            "9\n"
          ]
        }
      ]
    },
    {
      "cell_type": "code",
      "source": [
        "def find_max(i, j):\n",
        "    if i > j:\n",
        "        return i, \"is maximum\"\n",
        "    elif i < j:\n",
        "        return j, \"is maximum\"\n",
        "    else:\n",
        "        return i, j, \"numbers are equal\"\n",
        "\n",
        "# Call the function and print the result\n",
        "print(find_max(156, 220))\n",
        "print(find_max(0, 0))\n",
        "print(find_max(-5, -10))"
      ],
      "metadata": {
        "colab": {
          "base_uri": "https://localhost:8080/"
        },
        "id": "D6_KPPHNw64h",
        "outputId": "0fb8abcc-f88e-4991-8fea-1da0bd3f35dd"
      },
      "execution_count": null,
      "outputs": [
        {
          "output_type": "stream",
          "name": "stdout",
          "text": [
            "(220, 'is maximum')\n",
            "(0, 0, 'numbers are equal')\n",
            "(-5, 'is maximum')\n"
          ]
        }
      ]
    },
    {
      "cell_type": "code",
      "source": [
        "\n",
        "def max_number(num1=2, num2=5):\n",
        "    if num1 > num2:\n",
        "        print(num1, \"is Max Number\")\n",
        "    elif num1 == num2:\n",
        "        print(num1, \"is equal to\", num2)\n",
        "    else:\n",
        "        print(num2, \"is Max Number\")\n",
        "\n",
        "max_number(7, 7)\n",
        "max_number()"
      ],
      "metadata": {
        "id": "B0B0m-pjHt1K",
        "outputId": "d1a8c9a5-94c1-4419-f84b-da64bb07b884",
        "colab": {
          "base_uri": "https://localhost:8080/"
        }
      },
      "execution_count": null,
      "outputs": [
        {
          "output_type": "stream",
          "name": "stdout",
          "text": [
            "7 is equal to 7\n",
            "5 is Max Number\n"
          ]
        }
      ]
    }
  ]
}