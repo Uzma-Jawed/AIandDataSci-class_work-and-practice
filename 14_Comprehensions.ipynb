{
  "nbformat": 4,
  "nbformat_minor": 0,
  "metadata": {
    "colab": {
      "provenance": []
    },
    "kernelspec": {
      "name": "python3",
      "display_name": "Python 3"
    },
    "language_info": {
      "name": "python"
    }
  },
  "cells": [
    {
      "cell_type": "markdown",
      "source": [
        "@Uzma_Jawed"
      ],
      "metadata": {
        "id": "qOUiP3jLuBap"
      }
    },
    {
      "cell_type": "markdown",
      "source": [
        "###Reversing \"hello world\" using Python comprehension\n",
        "A concise way to reverse the letters in \"hello world\" using Python comprehension:"
      ],
      "metadata": {
        "id": "pbe0oABeuKok"
      }
    },
    {
      "cell_type": "code",
      "source": [
        "original = \"hello world\"\n",
        "reversed_str = original[::-1]\n",
        "print(reversed_str)"
      ],
      "metadata": {
        "colab": {
          "base_uri": "https://localhost:8080/"
        },
        "id": "4oYAllHEuXbr",
        "outputId": "6cada364-779a-4256-e04f-6ae9166c84dd"
      },
      "execution_count": null,
      "outputs": [
        {
          "output_type": "stream",
          "name": "stdout",
          "text": [
            "dlrow olleh\n"
          ]
        }
      ]
    },
    {
      "cell_type": "markdown",
      "source": [
        "If you specifically want to use a list comprehension:"
      ],
      "metadata": {
        "id": "xKisluZNueeu"
      }
    },
    {
      "cell_type": "code",
      "source": [
        "original = \"hello world\"\n",
        "reversed_str = ''.join([original[i] for i in range(len(original)-1, -1, -1)])\n",
        "print(reversed_str)"
      ],
      "metadata": {
        "colab": {
          "base_uri": "https://localhost:8080/"
        },
        "id": "Rjif3wmyuheX",
        "outputId": "6ddb71cc-9536-4f94-98e5-827aecd7f455"
      },
      "execution_count": null,
      "outputs": [
        {
          "output_type": "stream",
          "name": "stdout",
          "text": [
            "dlrow olleh\n"
          ]
        }
      ]
    },
    {
      "cell_type": "markdown",
      "source": [
        "A concise overview of Python comprehensions with examples:\n",
        "\n",
        "1. List Comprehension\n",
        "Creates a new list by applying an expression to each item in an iterable."
      ],
      "metadata": {
        "id": "Noiv7JUrurIC"
      }
    },
    {
      "cell_type": "code",
      "source": [
        "# Squares of numbers 0-9\n",
        "squares = [x**2 for x in range(10)]"
      ],
      "metadata": {
        "id": "lRt9L7YHvAMr"
      },
      "execution_count": null,
      "outputs": []
    },
    {
      "cell_type": "code",
      "source": [
        "squares"
      ],
      "metadata": {
        "colab": {
          "base_uri": "https://localhost:8080/"
        },
        "id": "yOtYLcOHvFPE",
        "outputId": "8fb05df5-57fc-4c5c-8fe5-c2878014f647"
      },
      "execution_count": null,
      "outputs": [
        {
          "output_type": "execute_result",
          "data": {
            "text/plain": [
              "[0, 1, 4, 9, 16, 25, 36, 49, 64, 81]"
            ]
          },
          "metadata": {},
          "execution_count": 4
        }
      ]
    },
    {
      "cell_type": "markdown",
      "source": [
        "2. Dictionary Comprehension\n",
        "Creates a new dictionary with key-value pairs."
      ],
      "metadata": {
        "id": "TkF7gGxSvLwh"
      }
    },
    {
      "cell_type": "code",
      "source": [
        "# Number to square mapping\n",
        "square_dict = {x: x**2 for x in range(5)}"
      ],
      "metadata": {
        "id": "sNyGUNHOvQvw"
      },
      "execution_count": null,
      "outputs": []
    },
    {
      "cell_type": "code",
      "source": [
        "square_dict"
      ],
      "metadata": {
        "colab": {
          "base_uri": "https://localhost:8080/"
        },
        "id": "lvFshInuvWqU",
        "outputId": "a1bdd6fc-909c-49fe-e1da-ad39838d6605"
      },
      "execution_count": null,
      "outputs": [
        {
          "output_type": "execute_result",
          "data": {
            "text/plain": [
              "{0: 0, 1: 1, 2: 4, 3: 9, 4: 16}"
            ]
          },
          "metadata": {},
          "execution_count": 6
        }
      ]
    },
    {
      "cell_type": "markdown",
      "source": [
        "3. Generator Expression (often called \"tuple comprehension\")\n",
        "Creates an iterator (not a tuple) - memory efficient for large data."
      ],
      "metadata": {
        "id": "3e57Z8pZvozh"
      }
    },
    {
      "cell_type": "code",
      "source": [
        "# Generator for squares\n",
        "squares_gen = (x**2 for x in range(10))"
      ],
      "metadata": {
        "id": "0z9Fe8b4vrVt"
      },
      "execution_count": null,
      "outputs": []
    },
    {
      "cell_type": "code",
      "source": [
        "squares_gen"
      ],
      "metadata": {
        "colab": {
          "base_uri": "https://localhost:8080/"
        },
        "id": "tc45nVN8vuoE",
        "outputId": "3f619ce2-6783-4772-d4a5-a99435c39040"
      },
      "execution_count": null,
      "outputs": [
        {
          "output_type": "execute_result",
          "data": {
            "text/plain": [
              "<generator object <genexpr> at 0x7c39b49157d0>"
            ]
          },
          "metadata": {},
          "execution_count": 8
        }
      ]
    },
    {
      "cell_type": "markdown",
      "source": [
        "4. Set Comprehension\n",
        "Creates a new set (unique elements only)."
      ],
      "metadata": {
        "id": "Rt2vSziiv1sn"
      }
    },
    {
      "cell_type": "code",
      "source": [
        "# Unique squares modulo 5\n",
        "unique_squares = {x**2 % 5 for x in range(10)}"
      ],
      "metadata": {
        "id": "-JwlpJJNv414"
      },
      "execution_count": null,
      "outputs": []
    },
    {
      "cell_type": "code",
      "source": [
        "unique_squares"
      ],
      "metadata": {
        "colab": {
          "base_uri": "https://localhost:8080/"
        },
        "id": "A9sdTKSQv7ao",
        "outputId": "df4de07c-f452-40f7-db2e-2c48074c79c1"
      },
      "execution_count": null,
      "outputs": [
        {
          "output_type": "execute_result",
          "data": {
            "text/plain": [
              "{0, 1, 4}"
            ]
          },
          "metadata": {},
          "execution_count": 10
        }
      ]
    },
    {
      "cell_type": "markdown",
      "source": [
        "Important Notes:\n",
        "String \"comprehension\" isn't a separate type - use join() with a generator:"
      ],
      "metadata": {
        "id": "TeBm9iSXwD4I"
      }
    },
    {
      "cell_type": "code",
      "source": [
        "reversed_str = ''.join(c for c in 'hello'[::-1])"
      ],
      "metadata": {
        "id": "0xmh49RAwIpK"
      },
      "execution_count": null,
      "outputs": []
    },
    {
      "cell_type": "code",
      "source": [
        "reversed_str"
      ],
      "metadata": {
        "colab": {
          "base_uri": "https://localhost:8080/",
          "height": 35
        },
        "id": "dZykqKPzwNGC",
        "outputId": "b22cf285-e260-46e3-b4af-8fbf1c37c59e"
      },
      "execution_count": null,
      "outputs": [
        {
          "output_type": "execute_result",
          "data": {
            "text/plain": [
              "'olleh'"
            ],
            "application/vnd.google.colaboratory.intrinsic+json": {
              "type": "string"
            }
          },
          "metadata": {},
          "execution_count": 4
        }
      ]
    },
    {
      "cell_type": "markdown",
      "source": [
        "No tuple comprehension - parentheses create generators\n",
        "\n",
        "All comprehensions can include if conditions:"
      ],
      "metadata": {
        "id": "sgY07IpqwSf8"
      }
    },
    {
      "cell_type": "code",
      "source": [
        "evens = [x for x in range(10) if x % 2 == 0]"
      ],
      "metadata": {
        "id": "Zuw8t4wjwVEF"
      },
      "execution_count": null,
      "outputs": []
    },
    {
      "cell_type": "code",
      "source": [
        "evens"
      ],
      "metadata": {
        "colab": {
          "base_uri": "https://localhost:8080/"
        },
        "id": "zPSTDX7cwWp8",
        "outputId": "ea3e57ad-904f-46a4-fa93-629c3352fa6d"
      },
      "execution_count": null,
      "outputs": [
        {
          "output_type": "execute_result",
          "data": {
            "text/plain": [
              "[0, 2, 4, 6, 8]"
            ]
          },
          "metadata": {},
          "execution_count": 17
        }
      ]
    },
    {
      "cell_type": "markdown",
      "source": [
        "Python Comprehensions Cheat Sheet\n",
        "\n",
        "1️⃣ List Comprehension\n",
        "→ Creates a list by transforming/filtering an iterable."
      ],
      "metadata": {
        "id": "M2u317fOw6e5"
      }
    },
    {
      "cell_type": "code",
      "source": [
        "nums = [1, 2, 3, 4]\n",
        "squared = [x**2 for x in nums]\n",
        "evens = [x for x in nums if x % 2 == 0]"
      ],
      "metadata": {
        "id": "BCjmezLow-Aq"
      },
      "execution_count": null,
      "outputs": []
    },
    {
      "cell_type": "code",
      "source": [
        "squared"
      ],
      "metadata": {
        "colab": {
          "base_uri": "https://localhost:8080/"
        },
        "id": "a7YZvJwOxC2r",
        "outputId": "4c4aebac-99b4-48ef-c502-6109acf9ac3e"
      },
      "execution_count": null,
      "outputs": [
        {
          "output_type": "execute_result",
          "data": {
            "text/plain": [
              "[1, 4, 9, 16]"
            ]
          },
          "metadata": {},
          "execution_count": 20
        }
      ]
    },
    {
      "cell_type": "code",
      "source": [
        "evens"
      ],
      "metadata": {
        "colab": {
          "base_uri": "https://localhost:8080/"
        },
        "id": "NaQyoEPexFT1",
        "outputId": "ced54fb8-d432-484a-cb29-a211f2c419b5"
      },
      "execution_count": null,
      "outputs": [
        {
          "output_type": "execute_result",
          "data": {
            "text/plain": [
              "[2, 4]"
            ]
          },
          "metadata": {},
          "execution_count": 21
        }
      ]
    },
    {
      "cell_type": "markdown",
      "source": [
        "2️⃣ Dictionary Comprehension\n",
        "→ Builds a dict with {key: value} pairs."
      ],
      "metadata": {
        "id": "9SNr7lPmxKZO"
      }
    },
    {
      "cell_type": "code",
      "source": [
        "names = [\"Umar\", \"Ali\"]\n",
        "name_lengths = {i: len(i) for i in names}"
      ],
      "metadata": {
        "id": "OoBJC7vyxTZb"
      },
      "execution_count": null,
      "outputs": []
    },
    {
      "cell_type": "code",
      "source": [
        "name_lengths"
      ],
      "metadata": {
        "colab": {
          "base_uri": "https://localhost:8080/"
        },
        "id": "-JHyusXQxb4q",
        "outputId": "ee276dab-ba04-44f8-f579-81220e061086"
      },
      "execution_count": null,
      "outputs": [
        {
          "output_type": "execute_result",
          "data": {
            "text/plain": [
              "{'Umar': 4, 'Ali': 3}"
            ]
          },
          "metadata": {},
          "execution_count": 8
        }
      ]
    },
    {
      "cell_type": "markdown",
      "source": [
        "3️⃣ Set Comprehension\n",
        "→ Creates a set (unique elements only)."
      ],
      "metadata": {
        "id": "lpEwJt21xfzY"
      }
    },
    {
      "cell_type": "code",
      "source": [
        "nums = [1, 2, 2, 3, 3, 3]\n",
        "unique_squares = {x**2 for x in nums}"
      ],
      "metadata": {
        "id": "rKf7-gqjxjqU"
      },
      "execution_count": null,
      "outputs": []
    },
    {
      "cell_type": "code",
      "source": [
        "unique_squares"
      ],
      "metadata": {
        "colab": {
          "base_uri": "https://localhost:8080/"
        },
        "id": "1b8ByOy4xm1G",
        "outputId": "11f85ea5-0c7c-4f3e-8840-665bdad982c0"
      },
      "execution_count": null,
      "outputs": [
        {
          "output_type": "execute_result",
          "data": {
            "text/plain": [
              "{1, 4, 9}"
            ]
          },
          "metadata": {},
          "execution_count": 26
        }
      ]
    },
    {
      "cell_type": "markdown",
      "source": [
        "4️⃣ Generator Expression (Lazy Evaluation)\n",
        "→ Returns an iterator (memory-efficient for big data)."
      ],
      "metadata": {
        "id": "oySHmKBdxtqf"
      }
    },
    {
      "cell_type": "code",
      "source": [
        "squares_gen = (x**2 for x in range(10))\n",
        "print(list(squares_gen))"
      ],
      "metadata": {
        "colab": {
          "base_uri": "https://localhost:8080/"
        },
        "id": "mnT4V0fwxwp9",
        "outputId": "f373cc91-73fa-4526-d69c-ffc7fb51fd00"
      },
      "execution_count": null,
      "outputs": [
        {
          "output_type": "stream",
          "name": "stdout",
          "text": [
            "[0, 1, 4, 9, 16, 25, 36, 49, 64, 81]\n"
          ]
        }
      ]
    },
    {
      "cell_type": "markdown",
      "source": [
        "5️⃣ \"String Comprehension\" (Not a real thing, but you can fake it!)\n",
        "→ Use join() + generator to process strings."
      ],
      "metadata": {
        "id": "brpLRh7Px6kt"
      }
    },
    {
      "cell_type": "code",
      "source": [
        "text = \"hello\"\n",
        "reversed_text = ''.join(c for c in reversed(text))\n",
        "uppercase_letters = [c.upper() for c in text]"
      ],
      "metadata": {
        "id": "IV1ERr4px9yn"
      },
      "execution_count": null,
      "outputs": []
    },
    {
      "cell_type": "code",
      "source": [
        "reversed_text"
      ],
      "metadata": {
        "colab": {
          "base_uri": "https://localhost:8080/",
          "height": 35
        },
        "id": "pTWQN_X9yCpJ",
        "outputId": "e366b7c1-b43c-41fb-fff9-d0a0c1fc2535"
      },
      "execution_count": null,
      "outputs": [
        {
          "output_type": "execute_result",
          "data": {
            "text/plain": [
              "'olleh'"
            ],
            "application/vnd.google.colaboratory.intrinsic+json": {
              "type": "string"
            }
          },
          "metadata": {},
          "execution_count": 11
        }
      ]
    },
    {
      "cell_type": "code",
      "source": [
        "uppercase_letters"
      ],
      "metadata": {
        "colab": {
          "base_uri": "https://localhost:8080/"
        },
        "id": "u7wOdUItyIjl",
        "outputId": "18473081-1528-456a-f2a9-55f0e841e079"
      },
      "execution_count": null,
      "outputs": [
        {
          "output_type": "execute_result",
          "data": {
            "text/plain": [
              "['H', 'E', 'L', 'L', 'O']"
            ]
          },
          "metadata": {},
          "execution_count": 12
        }
      ]
    },
    {
      "cell_type": "markdown",
      "source": [
        "⚡ Bonus: Nested Comprehension"
      ],
      "metadata": {
        "id": "Zm32OmFayN9Q"
      }
    },
    {
      "cell_type": "code",
      "source": [
        "matrix = [[1, 2], [3, 4]]\n",
        "flattened = [i for row in matrix for i in row]"
      ],
      "metadata": {
        "id": "Dnmro78iySxA"
      },
      "execution_count": null,
      "outputs": []
    },
    {
      "cell_type": "code",
      "source": [
        "flattened"
      ],
      "metadata": {
        "colab": {
          "base_uri": "https://localhost:8080/"
        },
        "id": "x7WM_FP7yW7F",
        "outputId": "9fe6f00a-47b3-49d7-f4b5-88fa9743843d"
      },
      "execution_count": null,
      "outputs": [
        {
          "output_type": "execute_result",
          "data": {
            "text/plain": [
              "[1, 2, 3, 4]"
            ]
          },
          "metadata": {},
          "execution_count": 14
        }
      ]
    },
    {
      "cell_type": "markdown",
      "source": [
        "List Comprehension"
      ],
      "metadata": {
        "id": "Gd__5UhJ1Cf5"
      }
    },
    {
      "cell_type": "code",
      "source": [
        "name = input(\"Enter a name:\")"
      ],
      "metadata": {
        "colab": {
          "base_uri": "https://localhost:8080/"
        },
        "id": "se7vr3ZN1FMh",
        "outputId": "bcdc83a8-5b75-4f0f-ca81-78749f447500"
      },
      "execution_count": null,
      "outputs": [
        {
          "name": "stdout",
          "output_type": "stream",
          "text": [
            "Enter a name:Uzma\n"
          ]
        }
      ]
    },
    {
      "cell_type": "code",
      "source": [
        "name = []\n",
        "for i in range(10):\n",
        "  name.append(i)"
      ],
      "metadata": {
        "id": "fqedgywe1Pb5"
      },
      "execution_count": null,
      "outputs": []
    },
    {
      "cell_type": "code",
      "source": [
        "name"
      ],
      "metadata": {
        "colab": {
          "base_uri": "https://localhost:8080/"
        },
        "id": "zcUxayfx1_7-",
        "outputId": "ec77e41e-97e6-4a5e-d935-60e7a42b14ee"
      },
      "execution_count": null,
      "outputs": [
        {
          "output_type": "execute_result",
          "data": {
            "text/plain": [
              "[0, 1, 2, 3, 4, 5, 6, 7, 8, 9]"
            ]
          },
          "metadata": {},
          "execution_count": 40
        }
      ]
    },
    {
      "cell_type": "code",
      "source": [
        "name = [i for i in range(0,10)]"
      ],
      "metadata": {
        "id": "0jObXFcS1oEK"
      },
      "execution_count": null,
      "outputs": []
    },
    {
      "cell_type": "code",
      "source": [
        "name"
      ],
      "metadata": {
        "colab": {
          "base_uri": "https://localhost:8080/"
        },
        "id": "3JU8T6rS18IS",
        "outputId": "6c1dd04c-d9bc-4801-f9b8-1b2b0fa064d0"
      },
      "execution_count": null,
      "outputs": [
        {
          "output_type": "execute_result",
          "data": {
            "text/plain": [
              "[0, 1, 2, 3, 4, 5, 6, 7, 8, 9]"
            ]
          },
          "metadata": {},
          "execution_count": 39
        }
      ]
    },
    {
      "cell_type": "code",
      "source": [
        "square_list = []\n",
        "for i in range(0,10):\n",
        "  if i % 2 == 0:\n",
        "    square_list.append(i**2)"
      ],
      "metadata": {
        "id": "Cl6SQ2lz2Hl_"
      },
      "execution_count": null,
      "outputs": []
    },
    {
      "cell_type": "code",
      "source": [
        "square_list"
      ],
      "metadata": {
        "colab": {
          "base_uri": "https://localhost:8080/"
        },
        "id": "4zXJ9WQT2iQ_",
        "outputId": "66b04507-91e2-48a7-bd0a-045caad11a3e"
      },
      "execution_count": null,
      "outputs": [
        {
          "output_type": "execute_result",
          "data": {
            "text/plain": [
              "[0, 4, 16, 36, 64]"
            ]
          },
          "metadata": {},
          "execution_count": 42
        }
      ]
    },
    {
      "cell_type": "code",
      "source": [
        "sar_list = [i**2 for i in range(0,10) if i % 2 == 0]"
      ],
      "metadata": {
        "id": "WYIZMOSu2mD-"
      },
      "execution_count": null,
      "outputs": []
    },
    {
      "cell_type": "code",
      "source": [
        "sar_list"
      ],
      "metadata": {
        "colab": {
          "base_uri": "https://localhost:8080/"
        },
        "id": "2SKTGXXu204g",
        "outputId": "34113347-8bb2-4193-df69-4e5f6ae45388"
      },
      "execution_count": null,
      "outputs": [
        {
          "output_type": "execute_result",
          "data": {
            "text/plain": [
              "[0, 4, 16, 36, 64]"
            ]
          },
          "metadata": {},
          "execution_count": 44
        }
      ]
    },
    {
      "cell_type": "markdown",
      "source": [
        "Dictionary Comprehension"
      ],
      "metadata": {
        "id": "cIqO1MTr27Ye"
      }
    },
    {
      "cell_type": "code",
      "source": [
        "data = {\n",
        "    \"name\" : \"Uzma\",\n",
        "    \"city\" : \"Karachi\"\n",
        "}"
      ],
      "metadata": {
        "id": "QsRHkNi43DLL"
      },
      "execution_count": null,
      "outputs": []
    },
    {
      "cell_type": "code",
      "source": [
        "data.keys()"
      ],
      "metadata": {
        "colab": {
          "base_uri": "https://localhost:8080/"
        },
        "id": "tez22a2B3ZIF",
        "outputId": "2560fc6d-aeb0-480e-f7d1-5a5e0117a821"
      },
      "execution_count": null,
      "outputs": [
        {
          "output_type": "execute_result",
          "data": {
            "text/plain": [
              "dict_keys(['name', 'city'])"
            ]
          },
          "metadata": {},
          "execution_count": 48
        }
      ]
    },
    {
      "cell_type": "code",
      "source": [
        "data.values()"
      ],
      "metadata": {
        "colab": {
          "base_uri": "https://localhost:8080/"
        },
        "id": "UmLwiEwN3d31",
        "outputId": "612df89c-76e9-4f1d-d205-397166976d18"
      },
      "execution_count": null,
      "outputs": [
        {
          "output_type": "execute_result",
          "data": {
            "text/plain": [
              "dict_values(['Uzma', 'Karachi'])"
            ]
          },
          "metadata": {},
          "execution_count": 49
        }
      ]
    },
    {
      "cell_type": "code",
      "source": [
        "for k,v in data.items():\n",
        "  print(k,v.lower())"
      ],
      "metadata": {
        "colab": {
          "base_uri": "https://localhost:8080/"
        },
        "id": "p43kO_qr3q3h",
        "outputId": "244b212c-97bc-4bc9-d628-eb7c71833680"
      },
      "execution_count": null,
      "outputs": [
        {
          "output_type": "stream",
          "name": "stdout",
          "text": [
            "name uzma\n",
            "city karachi\n"
          ]
        }
      ]
    },
    {
      "cell_type": "code",
      "source": [
        "for i in range(0,10):\n",
        "  print(i , i**2)"
      ],
      "metadata": {
        "colab": {
          "base_uri": "https://localhost:8080/"
        },
        "id": "pzjYhq3S33t6",
        "outputId": "916f5e2f-ab23-4880-a04d-f0bb20a290cc"
      },
      "execution_count": null,
      "outputs": [
        {
          "output_type": "stream",
          "name": "stdout",
          "text": [
            "0 0\n",
            "1 1\n",
            "2 4\n",
            "3 9\n",
            "4 16\n",
            "5 25\n",
            "6 36\n",
            "7 49\n",
            "8 64\n",
            "9 81\n"
          ]
        }
      ]
    },
    {
      "cell_type": "code",
      "source": [
        "square_dict = {i : i**2 for i in range(0,10)}"
      ],
      "metadata": {
        "id": "N_gfk9F14IZp"
      },
      "execution_count": null,
      "outputs": []
    },
    {
      "cell_type": "code",
      "source": [
        "square_dict"
      ],
      "metadata": {
        "colab": {
          "base_uri": "https://localhost:8080/"
        },
        "id": "1aPw358X4eGn",
        "outputId": "08d0de31-2985-4148-9ac1-a7c88c7b6bed"
      },
      "execution_count": null,
      "outputs": [
        {
          "output_type": "execute_result",
          "data": {
            "text/plain": [
              "{0: 0, 1: 1, 2: 4, 3: 9, 4: 16, 5: 25, 6: 36, 7: 49, 8: 64, 9: 81}"
            ]
          },
          "metadata": {},
          "execution_count": 54
        }
      ]
    },
    {
      "cell_type": "code",
      "source": [
        "square_dict = {i : i**2 for i in range(0,10) if i % 2 == 0}"
      ],
      "metadata": {
        "id": "nbsAKigz4sCR"
      },
      "execution_count": null,
      "outputs": []
    },
    {
      "cell_type": "code",
      "source": [
        "square_dict"
      ],
      "metadata": {
        "colab": {
          "base_uri": "https://localhost:8080/"
        },
        "id": "4h3LG_CX4yvO",
        "outputId": "72b37ff9-c0ad-474a-951c-b7567ba519f8"
      },
      "execution_count": null,
      "outputs": [
        {
          "output_type": "execute_result",
          "data": {
            "text/plain": [
              "{0: 0, 2: 4, 4: 16, 6: 36, 8: 64}"
            ]
          },
          "metadata": {},
          "execution_count": 56
        }
      ]
    },
    {
      "source": [
        "# task reversed given data\n",
        "data = {\n",
        "    \"a\" : 1,\n",
        "    \"b\" : 2,\n",
        "    \"c\" : 3\n",
        "    }\n",
        "reversed = {\n",
        "    1 : \"a\",\n",
        "    2 : \"b\",\n",
        "    3 : \"c\"\n",
        "}"
      ],
      "cell_type": "code",
      "metadata": {
        "id": "z12zF93B5YLh"
      },
      "execution_count": null,
      "outputs": []
    },
    {
      "cell_type": "code",
      "source": [
        "data =  {\"a\" : 1, \"b\" : 2, \"c\" : 3}\n",
        "reversed = {v:k for k,v in data.items()}\n",
        "print(reversed)"
      ],
      "metadata": {
        "colab": {
          "base_uri": "https://localhost:8080/"
        },
        "id": "dRHTipjG5kck",
        "outputId": "e3b3ef2c-f11d-48ae-85a8-6abf72b23b5c"
      },
      "execution_count": null,
      "outputs": [
        {
          "output_type": "stream",
          "name": "stdout",
          "text": [
            "{1: 'a', 2: 'b', 3: 'c'}\n"
          ]
        }
      ]
    },
    {
      "cell_type": "code",
      "source": [
        "sar_list = [i**2 for i in range(0,10)if i % 2 == 0]\n",
        "sar_list"
      ],
      "metadata": {
        "colab": {
          "base_uri": "https://localhost:8080/"
        },
        "id": "85qxY1d56iTJ",
        "outputId": "d1e78d0b-8236-4fd2-d431-0e2c0347c7fb"
      },
      "execution_count": null,
      "outputs": [
        {
          "output_type": "execute_result",
          "data": {
            "text/plain": [
              "[0, 4, 16, 36, 64]"
            ]
          },
          "metadata": {},
          "execution_count": 62
        }
      ]
    },
    {
      "cell_type": "code",
      "source": [
        "# create data in this form\n",
        "# [(0,0), (1,1), (2,4), (3,9)]\n",
        "\n",
        "square_tuple = [ (i, i**2) for i in range(0,10)]\n",
        "square_tuple"
      ],
      "metadata": {
        "colab": {
          "base_uri": "https://localhost:8080/"
        },
        "id": "KhhZPMfA7XZP",
        "outputId": "36085e83-7af4-4a0b-ece0-f4be0f6f2af9"
      },
      "execution_count": null,
      "outputs": [
        {
          "output_type": "execute_result",
          "data": {
            "text/plain": [
              "[(0, 0),\n",
              " (1, 1),\n",
              " (2, 4),\n",
              " (3, 9),\n",
              " (4, 16),\n",
              " (5, 25),\n",
              " (6, 36),\n",
              " (7, 49),\n",
              " (8, 64),\n",
              " (9, 81)]"
            ]
          },
          "metadata": {},
          "execution_count": 64
        }
      ]
    },
    {
      "cell_type": "code",
      "source": [
        "words = [\"Python\", \"is\", \"awesome\"]\n",
        "words_length = {i: len(i) for i in words}"
      ],
      "metadata": {
        "id": "uTdZB2RQ8Md5"
      },
      "execution_count": null,
      "outputs": []
    },
    {
      "cell_type": "code",
      "source": [
        "words_length"
      ],
      "metadata": {
        "id": "VOgobreZ8sS7",
        "outputId": "5227f0f9-8831-4f3d-bad6-c13052c6e982",
        "colab": {
          "base_uri": "https://localhost:8080/"
        }
      },
      "execution_count": null,
      "outputs": [
        {
          "output_type": "execute_result",
          "data": {
            "text/plain": [
              "{'Python': 6, 'is': 2, 'awesome': 7}"
            ]
          },
          "metadata": {},
          "execution_count": 66
        }
      ]
    }
  ]
}
