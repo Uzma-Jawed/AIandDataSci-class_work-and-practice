{
  "nbformat": 4,
  "nbformat_minor": 0,
  "metadata": {
    "colab": {
      "provenance": []
    },
    "kernelspec": {
      "name": "python3",
      "display_name": "Python 3"
    },
    "language_info": {
      "name": "python"
    }
  },
  "cells": [
    {
      "cell_type": "markdown",
      "source": [
        "@Uzma Jawed"
      ],
      "metadata": {
        "id": "OC8YkG8xUKFV"
      }
    },
    {
      "cell_type": "code",
      "execution_count": null,
      "metadata": {
        "colab": {
          "base_uri": "https://localhost:8080/"
        },
        "id": "hSvSeWhjsLdY",
        "outputId": "cd775ab7-810b-4e0c-d2ca-5c07ed664735"
      },
      "outputs": [
        {
          "output_type": "execute_result",
          "data": {
            "text/plain": [
              "range(0, 100)"
            ]
          },
          "metadata": {},
          "execution_count": 2
        }
      ],
      "source": [
        "range(0, 100)"
      ]
    },
    {
      "cell_type": "code",
      "source": [
        "1 in range(1, 101)"
      ],
      "metadata": {
        "colab": {
          "base_uri": "https://localhost:8080/"
        },
        "id": "UP-bF5DDsm3t",
        "outputId": "085438b5-fea3-4c53-c57e-85b576281af5"
      },
      "execution_count": null,
      "outputs": [
        {
          "output_type": "execute_result",
          "data": {
            "text/plain": [
              "True"
            ]
          },
          "metadata": {},
          "execution_count": 8
        }
      ]
    },
    {
      "cell_type": "code",
      "source": [
        "\"1\" in range(1, 101)"
      ],
      "metadata": {
        "id": "e95iPhmys4yV"
      },
      "execution_count": null,
      "outputs": []
    },
    {
      "cell_type": "code",
      "source": [
        "for value in range(10):\n",
        "  print(2 * value)"
      ],
      "metadata": {
        "colab": {
          "base_uri": "https://localhost:8080/"
        },
        "id": "bFqJkWvvvlaT",
        "outputId": "e35e8f9c-f871-4fe3-ffa9-c90668cdda20"
      },
      "execution_count": null,
      "outputs": [
        {
          "output_type": "stream",
          "name": "stdout",
          "text": [
            "0\n",
            "2\n",
            "4\n",
            "6\n",
            "8\n",
            "10\n",
            "12\n",
            "14\n",
            "16\n",
            "18\n"
          ]
        }
      ]
    },
    {
      "cell_type": "code",
      "source": [
        "no = int(input(\"Enter a value:\"))\n",
        "for value in range(1, 11):\n",
        "  print(no * value)"
      ],
      "metadata": {
        "colab": {
          "base_uri": "https://localhost:8080/"
        },
        "id": "YAlUGo1exk2j",
        "outputId": "e8fc1a8e-210b-4926-de23-915c622a2461"
      },
      "execution_count": null,
      "outputs": [
        {
          "output_type": "stream",
          "name": "stdout",
          "text": [
            "Enter a value:5\n",
            "5\n",
            "10\n",
            "15\n",
            "20\n",
            "25\n",
            "30\n",
            "35\n",
            "40\n",
            "45\n",
            "50\n"
          ]
        }
      ]
    },
    {
      "cell_type": "code",
      "source": [
        "table = (int(input(\"Enter a number for which you want table:\")))\n",
        "for value in range(1, 11):\n",
        " print(table, \"*\", value, \"=\", table*value)"
      ],
      "metadata": {
        "colab": {
          "base_uri": "https://localhost:8080/"
        },
        "id": "y4v2VAgPzDk8",
        "outputId": "63b0caf2-4e8f-4e36-b58a-311d21c971bc"
      },
      "execution_count": null,
      "outputs": [
        {
          "output_type": "stream",
          "name": "stdout",
          "text": [
            "Enter a number for which you want table:5\n",
            "5 * 1 = 5\n",
            "5 * 2 = 10\n",
            "5 * 3 = 15\n",
            "5 * 4 = 20\n",
            "5 * 5 = 25\n",
            "5 * 6 = 30\n",
            "5 * 7 = 35\n",
            "5 * 8 = 40\n",
            "5 * 9 = 45\n",
            "5 * 10 = 50\n"
          ]
        }
      ]
    },
    {
      "cell_type": "code",
      "source": [
        "for no in range(1, 101):\n",
        "  if no % 2 == 0:\n",
        "    print(no)"
      ],
      "metadata": {
        "colab": {
          "base_uri": "https://localhost:8080/"
        },
        "id": "X-C6VLZk19x5",
        "outputId": "a1e09099-f798-4f07-8bc5-a629bfa4fc72"
      },
      "execution_count": null,
      "outputs": [
        {
          "output_type": "stream",
          "name": "stdout",
          "text": [
            "2\n",
            "4\n",
            "6\n",
            "8\n",
            "10\n",
            "12\n",
            "14\n",
            "16\n",
            "18\n",
            "20\n",
            "22\n",
            "24\n",
            "26\n",
            "28\n",
            "30\n",
            "32\n",
            "34\n",
            "36\n",
            "38\n",
            "40\n",
            "42\n",
            "44\n",
            "46\n",
            "48\n",
            "50\n",
            "52\n",
            "54\n",
            "56\n",
            "58\n",
            "60\n",
            "62\n",
            "64\n",
            "66\n",
            "68\n",
            "70\n",
            "72\n",
            "74\n",
            "76\n",
            "78\n",
            "80\n",
            "82\n",
            "84\n",
            "86\n",
            "88\n",
            "90\n",
            "92\n",
            "94\n",
            "96\n",
            "98\n",
            "100\n"
          ]
        }
      ]
    },
    {
      "cell_type": "code",
      "source": [
        "for i in range(1, 101):\n",
        "  if i % 2 != 0:\n",
        "   print(\"odd\", i)\n",
        "print(i)"
      ],
      "metadata": {
        "colab": {
          "base_uri": "https://localhost:8080/"
        },
        "id": "jkykYzc667hA",
        "outputId": "30493d16-99d3-47ee-8ecb-d072fe5c492a"
      },
      "execution_count": null,
      "outputs": [
        {
          "output_type": "stream",
          "name": "stdout",
          "text": [
            "odd 1\n",
            "odd 3\n",
            "odd 5\n",
            "odd 7\n",
            "odd 9\n",
            "odd 11\n",
            "odd 13\n",
            "odd 15\n",
            "odd 17\n",
            "odd 19\n",
            "odd 21\n",
            "odd 23\n",
            "odd 25\n",
            "odd 27\n",
            "odd 29\n",
            "odd 31\n",
            "odd 33\n",
            "odd 35\n",
            "odd 37\n",
            "odd 39\n",
            "odd 41\n",
            "odd 43\n",
            "odd 45\n",
            "odd 47\n",
            "odd 49\n",
            "odd 51\n",
            "odd 53\n",
            "odd 55\n",
            "odd 57\n",
            "odd 59\n",
            "odd 61\n",
            "odd 63\n",
            "odd 65\n",
            "odd 67\n",
            "odd 69\n",
            "odd 71\n",
            "odd 73\n",
            "odd 75\n",
            "odd 77\n",
            "odd 79\n",
            "odd 81\n",
            "odd 83\n",
            "odd 85\n",
            "odd 87\n",
            "odd 89\n",
            "odd 91\n",
            "odd 93\n",
            "odd 95\n",
            "odd 97\n",
            "odd 99\n",
            "100\n"
          ]
        }
      ]
    },
    {
      "cell_type": "code",
      "source": [
        "name = \"unza\"\n",
        "print(name)\n",
        "age = 25\n",
        "print(age)\n",
        "for i in range(1, 5):\n",
        "  print(i)"
      ],
      "metadata": {
        "colab": {
          "base_uri": "https://localhost:8080/"
        },
        "id": "UDM9nfir74lo",
        "outputId": "7bff77e3-c592-40fd-ef86-f53721a47e18"
      },
      "execution_count": null,
      "outputs": [
        {
          "output_type": "stream",
          "name": "stdout",
          "text": [
            "unza\n",
            "25\n",
            "1\n",
            "2\n",
            "3\n",
            "4\n"
          ]
        }
      ]
    },
    {
      "cell_type": "markdown",
      "source": [
        "\n",
        "### Control flow statements\n",
        "\n",
        "* pass\n",
        "*break\n",
        "*continue"
      ],
      "metadata": {
        "id": "svqxym5J-zJI"
      }
    },
    {
      "cell_type": "code",
      "source": [
        "# Loop through numbers from 1 to 9 (10 is excluded)\n",
        "for i in range(1, 10):\n",
        "    pass  # 'pass' does nothing (a placeholder for future code)\n",
        "    print(i)  # Print the current value of 'i' in each iteration"
      ],
      "metadata": {
        "colab": {
          "base_uri": "https://localhost:8080/"
        },
        "id": "YalwCots_MKH",
        "outputId": "a31bf703-6f07-494e-a2b1-a0c95d713a64"
      },
      "execution_count": null,
      "outputs": [
        {
          "output_type": "stream",
          "name": "stdout",
          "text": [
            "1\n",
            "2\n",
            "3\n",
            "4\n",
            "5\n",
            "6\n",
            "7\n",
            "8\n",
            "9\n"
          ]
        }
      ]
    },
    {
      "cell_type": "code",
      "source": [
        "# Loop through numbers 1 to 4 (since range(1,5) stops at 4)for i in range(1, 5):\n",
        "for i in range(1, 5):\n",
        "    print(i)  # Print the current value of 'i'\n",
        "    if i == 4:  # Check if 'i' equals 4\n",
        "        break   # Exit the loop if condition is met"
      ],
      "metadata": {
        "colab": {
          "base_uri": "https://localhost:8080/"
        },
        "id": "HFOyWpeZQ7Hl",
        "outputId": "48baf64c-a39d-4e05-e830-94226ddb74f9"
      },
      "execution_count": null,
      "outputs": [
        {
          "output_type": "stream",
          "name": "stdout",
          "text": [
            "1\n",
            "2\n",
            "3\n",
            "4\n"
          ]
        }
      ]
    },
    {
      "cell_type": "code",
      "source": [
        "for i in range(1, 5):\n",
        " print(i)\n",
        " if i == 5:\n",
        "  break"
      ],
      "metadata": {
        "colab": {
          "base_uri": "https://localhost:8080/"
        },
        "id": "pQx6qJNXBLDP",
        "outputId": "c4504305-964b-4dc3-9226-566f4aa137e5"
      },
      "execution_count": null,
      "outputs": [
        {
          "output_type": "stream",
          "name": "stdout",
          "text": [
            "1\n",
            "2\n",
            "3\n",
            "4\n"
          ]
        }
      ]
    },
    {
      "cell_type": "code",
      "source": [
        "# Loop through numbers 0 to 4\n",
        "for i in range(5):\n",
        "    if i == 2:\n",
        "        continue  # Skip the rest of the loop when i is 2 (so print(i) won't run for i=2)\n",
        "    print(i)  # Print the current value of 'i'"
      ],
      "metadata": {
        "colab": {
          "base_uri": "https://localhost:8080/"
        },
        "id": "fSkdlMyRRyB0",
        "outputId": "7bfb4f24-d763-4ac1-c377-d688ad95fe9c"
      },
      "execution_count": null,
      "outputs": [
        {
          "output_type": "stream",
          "name": "stdout",
          "text": [
            "0\n",
            "1\n",
            "3\n",
            "4\n"
          ]
        }
      ]
    },
    {
      "cell_type": "code",
      "source": [
        "i =2\n",
        "i = i+1\n",
        "\n",
        "i*1\n",
        "print(i)"
      ],
      "metadata": {
        "colab": {
          "base_uri": "https://localhost:8080/"
        },
        "id": "BA3n0Xh9IYTE",
        "outputId": "f9b91b6c-5177-44d7-9314-f28b3c33d271"
      },
      "execution_count": null,
      "outputs": [
        {
          "output_type": "stream",
          "name": "stdout",
          "text": [
            "3\n"
          ]
        }
      ]
    },
    {
      "cell_type": "code",
      "source": [
        "i = 2\n",
        "flag = True\n",
        "while flag:\n",
        "  if i == 5:\n",
        "    flag = False\n",
        "  print(i)\n",
        "  i+=1"
      ],
      "metadata": {
        "colab": {
          "base_uri": "https://localhost:8080/"
        },
        "id": "weYEc5l_Jxob",
        "outputId": "ce223479-8c20-4994-d33c-b343e450b1cc"
      },
      "execution_count": null,
      "outputs": [
        {
          "output_type": "stream",
          "name": "stdout",
          "text": [
            "2\n",
            "3\n",
            "4\n",
            "5\n"
          ]
        }
      ]
    },
    {
      "cell_type": "code",
      "source": [
        "i = 2\n",
        "flag = True\n",
        "while flag:\n",
        "  print(\"initial i\", i)\n",
        "  print(\"Before if condition\", flag)\n",
        "  if i == 5:\n",
        "    flag = False\n",
        "    print(\"After if condition\", flag)\n",
        "  i+=1\n",
        "  print(\"incremented i\", i)"
      ],
      "metadata": {
        "colab": {
          "base_uri": "https://localhost:8080/"
        },
        "id": "xBuEA2DkLUZr",
        "outputId": "33473d91-6a51-4b07-b90a-db7d4ff8839b"
      },
      "execution_count": null,
      "outputs": [
        {
          "output_type": "stream",
          "name": "stdout",
          "text": [
            "initial i 2\n",
            "Before if condition True\n",
            "incremented i 3\n",
            "initial i 3\n",
            "Before if condition True\n",
            "incremented i 4\n",
            "initial i 4\n",
            "Before if condition True\n",
            "incremented i 5\n",
            "initial i 5\n",
            "Before if condition True\n",
            "After if condition False\n",
            "incremented i 6\n"
          ]
        }
      ]
    }
  ]
}