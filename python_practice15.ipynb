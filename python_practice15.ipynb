{
  "nbformat": 4,
  "nbformat_minor": 0,
  "metadata": {
    "colab": {
      "provenance": []
    },
    "kernelspec": {
      "name": "python3",
      "display_name": "Python 3"
    },
    "language_info": {
      "name": "python"
    }
  },
  "cells": [
    {
      "cell_type": "code",
      "source": [
        "# Define empty dictionary\n",
        "empty_dict = {}\n",
        "\n",
        "# Define employee 1 with nested data structure\n",
        "employee_1 = {\n",
        "    \"employee_id\": 1,\n",
        "    \"employee_name\": \"uzma\",\n",
        "    \"employee_skills\": [\"python\", \"java\", \"c++\", \"html\", \"BI\"],\n",
        "    \"employee_salary\": 2000000,\n",
        "    \"designation\": \"engineer\",\n",
        "    \"department\": \"software engineering\",\n",
        "    \"experience\": [\n",
        "        {\n",
        "            \"company-id\": 1,\n",
        "            \"designation\": \"manager\",\n",
        "            \"salary\": 5000000,\n",
        "            \"skills\": [\"python\", \"java\",]\n",
        "        },\n",
        "        {\n",
        "            \"company-id\": 2,\n",
        "            \"designation\": \"engineer\",\n",
        "            \"salary\": 2000000,\n",
        "            \"skills\": [\"python\", \"c++\"]\n",
        "        }\n",
        "    ]\n",
        "}\n",
        "\n",
        "# Define employee 2 with nested data structure\n",
        "employee_2 = {\n",
        "    \"employee_id\": 2,\n",
        "    \"employee_name\": \"sara\",\n",
        "    \"employee_skills\": [\"python\", \"java\", \"c++\", \"html\"],\n",
        "    \"employee_salary\": 2000000,\n",
        "    \"designation\": \"engineer\",\n",
        "    \"department\": \"software engineering\",\n",
        "    \"experience\": [\n",
        "        {\n",
        "            \"company-id\": 1,\n",
        "            \"designation\": \"manager\",\n",
        "            \"salary\": 5000000,\n",
        "            \"skills\": [\"python\", \"javascript\"]\n",
        "        },\n",
        "        {\n",
        "            \"company-id\": 2,\n",
        "            \"designation\": \"engineer\",\n",
        "            \"salary\": 2000000,\n",
        "            \"skills\": [\"java\", \"c++\"]\n",
        "        }\n",
        "    ]\n",
        "}\n",
        "\n",
        "# Create a list of employee objects\n",
        "employee_list = [employee_1, employee_2]\n",
        "\n",
        "# Print skills of employee 1\n",
        "print(employee_1['employee_skills'])\n",
        "\n",
        "# Get employee skills of all employees\n",
        "for employee in employee_list:\n",
        "    print(employee['employee_skills'])\n",
        "\n",
        "# Match and update employee skills with all company skills they've worked with\n",
        "for employee in employee_list:\n",
        "    # Get all unique skills from all experiences\n",
        "    all_skills = set(employee['employee_skills'])  # Start with current skills\n",
        "\n",
        "    for exp in employee['experience']:\n",
        "        all_skills.update(exp['skills'])  # Add skills from each experience\n",
        "\n",
        "    # Update employee's skills with the complete set\n",
        "    employee['employee_skills'] = list(all_skills)\n",
        "    print(f\"Updated skills for {employee['employee_name']}: {employee['employee_skills']}\")"
      ],
      "metadata": {
        "colab": {
          "base_uri": "https://localhost:8080/"
        },
        "id": "pC_axumqfPX2",
        "outputId": "5fe68ef4-4b41-4611-e82b-577cd8057ac9"
      },
      "execution_count": null,
      "outputs": [
        {
          "output_type": "stream",
          "name": "stdout",
          "text": [
            "['python', 'java', 'c++', 'html', 'BI']\n",
            "['python', 'java', 'c++', 'html', 'BI']\n",
            "['python', 'java', 'c++', 'html']\n",
            "Updated skills for uzma: ['python', 'c++', 'html', 'java', 'BI']\n",
            "Updated skills for sara: ['python', 'c++', 'html', 'java', 'javascript']\n"
          ]
        }
      ]
    },
    {
      "cell_type": "code",
      "source": [
        "employee_1"
      ],
      "metadata": {
        "colab": {
          "base_uri": "https://localhost:8080/"
        },
        "id": "44YYFVLLT0JA",
        "outputId": "253ff3fc-ba95-44b4-a2c4-1eb515f9682e"
      },
      "execution_count": null,
      "outputs": [
        {
          "output_type": "execute_result",
          "data": {
            "text/plain": [
              "{'employe_id': 1,\n",
              " 'employee_name': 'uzma',\n",
              " 'employee_skills': ['python', 'java', 'c++'],\n",
              " 'employee_salary': 2000000,\n",
              " 'designation': 'engineer',\n",
              " 'department': 'software engineering',\n",
              " 'experience': [{'company-id': 1,\n",
              "   'designation': 'manager',\n",
              "   'salary': 5000000,\n",
              "   'skills': ['python', 'java', 'c++']},\n",
              "  {'company-id': 2,\n",
              "   'designation': 'engineer',\n",
              "   'salary': 2000000,\n",
              "   'skills': ['python', 'java', 'c++']}]}"
            ]
          },
          "metadata": {},
          "execution_count": 5
        }
      ]
    },
    {
      "source": [
        "empty_dict = {}\n",
        "employee_2 = {\"employe_id\" : 2,\n",
        "            \"employee_name\" : \"urwa\",\n",
        "            \"employee_skills\" : [\"python\", \"java\", \"c++\"],\n",
        "            \"employee_salary\" : 2000000,\n",
        "            \"designation\" : \"engineer\",\n",
        "            \"department\" : \"software engineering\",\n",
        "            \"experience\" : [\n",
        "                {\n",
        "                    \"company-id\" : 1,\n",
        "                    \"designation\" : \"manager\",\n",
        "                    \"salary\" : 5000000,\n",
        "                    \"skills\" : [\"python\", \"java\", \"c++\"]\n",
        "                },\n",
        "                {\n",
        "                    \"company-id\" : 2,\n",
        "                    \"designation\" : \"engineer\",\n",
        "                    \"salary\" : 2000000,\n",
        "                    \"skills\" : [\"python\", \"java\", \"c++\"]\n",
        "                }\n",
        "            ]\n",
        "}"
      ],
      "cell_type": "code",
      "metadata": {
        "id": "11sHHPFYTrqP"
      },
      "execution_count": null,
      "outputs": []
    },
    {
      "cell_type": "code",
      "source": [
        "employee_2"
      ],
      "metadata": {
        "colab": {
          "base_uri": "https://localhost:8080/"
        },
        "id": "Bc6Z4dP3DBm0",
        "outputId": "2950f961-c909-4cbd-9428-e2ac328bf03e"
      },
      "execution_count": null,
      "outputs": [
        {
          "output_type": "execute_result",
          "data": {
            "text/plain": [
              "{'employe_id': 2,\n",
              " 'employee_name': 'urwa',\n",
              " 'employee_skills': ['python', 'java', 'c++'],\n",
              " 'employee_salary': 2000000,\n",
              " 'designation': 'engineer',\n",
              " 'department': 'software engineering',\n",
              " 'experience': [{'company-id': 1,\n",
              "   'designation': 'manager',\n",
              "   'salary': 5000000,\n",
              "   'skills': ['python', 'java', 'c++']},\n",
              "  {'company-id': 2,\n",
              "   'designation': 'engineer',\n",
              "   'salary': 2000000,\n",
              "   'skills': ['python', 'java', 'c++']}]}"
            ]
          },
          "metadata": {},
          "execution_count": 7
        }
      ]
    },
    {
      "cell_type": "code",
      "source": [
        "employee_list = [employee_1, employee_2]"
      ],
      "metadata": {
        "id": "sNiGPa78Erdq"
      },
      "execution_count": null,
      "outputs": []
    },
    {
      "source": [
        "employee_list[0][\"employee_skills\"]"
      ],
      "cell_type": "code",
      "metadata": {
        "colab": {
          "base_uri": "https://localhost:8080/"
        },
        "id": "8_bWl8RLUsYB",
        "outputId": "a84461cd-5f6e-4197-c310-9f5a20454f6b"
      },
      "execution_count": null,
      "outputs": [
        {
          "output_type": "execute_result",
          "data": {
            "text/plain": [
              "['python', 'java', 'c++']"
            ]
          },
          "metadata": {},
          "execution_count": 12
        }
      ]
    },
    {
      "cell_type": "code",
      "source": [
        "employee_list[1][\"employee_skills\"]"
      ],
      "metadata": {
        "colab": {
          "base_uri": "https://localhost:8080/"
        },
        "id": "hfX_rSCqVOH2",
        "outputId": "f8054de0-bce0-48a0-cf72-cbfc6f53b0b1"
      },
      "execution_count": null,
      "outputs": [
        {
          "output_type": "execute_result",
          "data": {
            "text/plain": [
              "['python', 'java', 'c++']"
            ]
          },
          "metadata": {},
          "execution_count": 13
        }
      ]
    },
    {
      "cell_type": "code",
      "source": [
        "employee_list[0][\"experience\"][0][\"skills\"]"
      ],
      "metadata": {
        "colab": {
          "base_uri": "https://localhost:8080/"
        },
        "id": "Zva1zUGpVTiT",
        "outputId": "4e04e827-7395-45f2-e8de-d41700fc8e17"
      },
      "execution_count": null,
      "outputs": [
        {
          "output_type": "execute_result",
          "data": {
            "text/plain": [
              "['python', 'java', 'c++']"
            ]
          },
          "metadata": {},
          "execution_count": 14
        }
      ]
    },
    {
      "cell_type": "code",
      "source": [
        "employee_list[1][\"experience\"][0][\"skills\"]"
      ],
      "metadata": {
        "colab": {
          "base_uri": "https://localhost:8080/"
        },
        "id": "_oUwdVvjVd66",
        "outputId": "2e9211dc-ad8e-4d11-d7ca-0025d270b3ad"
      },
      "execution_count": null,
      "outputs": [
        {
          "output_type": "execute_result",
          "data": {
            "text/plain": [
              "['python', 'java', 'c++']"
            ]
          },
          "metadata": {},
          "execution_count": 15
        }
      ]
    },
    {
      "cell_type": "code",
      "source": [
        "employee_all_skills = employee_list[0][\"experience\"][0][\"skills\"]+employee_list[0][\"experience\"][1][\"skills\"]\n",
        "print(employee_all_skills)\n",
        "if employee_list[0][\"employee_skills\"] != employee_all_skills:\n",
        "  for i in employee_all_skills:\n",
        "    if i not in employee_list[0][\"employee_skills\"]:\n",
        "      employee_list[0][\"employee_skills\"].append(i)\n",
        "      print(employee_list[0][\"employee_skills\"])"
      ],
      "metadata": {
        "colab": {
          "base_uri": "https://localhost:8080/"
        },
        "id": "jrYM5EZoWdDI",
        "outputId": "a43489a0-d97d-44d4-9b72-006786b9cb95"
      },
      "execution_count": null,
      "outputs": [
        {
          "output_type": "stream",
          "name": "stdout",
          "text": [
            "['python', 'java', 'c++', 'python', 'java', 'c++']\n"
          ]
        }
      ]
    },
    {
      "cell_type": "code",
      "source": [
        "print(employee_list[0]['experience'][0]['skills'])\n",
        "print(employee_list[0]['experience'][1]['skills'])\n",
        "employee_list[0]['experience'][1]['skills'].append('c')\n",
        "print(employee_list[0]['experience'][1]['skills'])"
      ],
      "metadata": {
        "colab": {
          "base_uri": "https://localhost:8080/"
        },
        "id": "_g-CKA_JXfFz",
        "outputId": "ff9e1770-b22a-4165-81f4-cfba346f8fc7"
      },
      "execution_count": null,
      "outputs": [
        {
          "output_type": "stream",
          "name": "stdout",
          "text": [
            "['python', 'java', 'c++']\n",
            "['python', 'java', 'c++']\n",
            "['python', 'java', 'c++', 'c']\n"
          ]
        }
      ]
    },
    {
      "cell_type": "code",
      "source": [
        "for i in range(0, 2):\n",
        "  print(employee_list[i]['employee_skills'])"
      ],
      "metadata": {
        "colab": {
          "base_uri": "https://localhost:8080/"
        },
        "id": "7F0FIbLOYHnr",
        "outputId": "5b7727da-36a5-4242-8a34-37c01a1d3597"
      },
      "execution_count": null,
      "outputs": [
        {
          "output_type": "stream",
          "name": "stdout",
          "text": [
            "['python', 'java', 'c++']\n",
            "['python', 'java', 'c++']\n"
          ]
        }
      ]
    },
    {
      "cell_type": "code",
      "source": [
        "print(employee_list,['employee_skills'])"
      ],
      "metadata": {
        "colab": {
          "base_uri": "https://localhost:8080/"
        },
        "id": "4Mxft6-LYVxc",
        "outputId": "3c8c656e-3aea-440f-860f-db09c9b72bf8"
      },
      "execution_count": null,
      "outputs": [
        {
          "output_type": "stream",
          "name": "stdout",
          "text": [
            "[{'employe_id': 1, 'employee_name': 'uzma', 'employee_skills': ['python', 'java', 'c++'], 'employee_salary': 2000000, 'designation': 'engineer', 'department': 'software engineering', 'experience': [{'company-id': 1, 'designation': 'manager', 'salary': 5000000, 'skills': ['python', 'java', 'c++']}, {'company-id': 2, 'designation': 'engineer', 'salary': 2000000, 'skills': ['python', 'java', 'c++', 'c']}]}, {'employe_id': 2, 'employee_name': 'urwa', 'employee_skills': ['python', 'java', 'c++'], 'employee_salary': 2000000, 'designation': 'engineer', 'department': 'software engineering', 'experience': [{'company-id': 1, 'designation': 'manager', 'salary': 5000000, 'skills': ['python', 'java', 'c++']}, {'company-id': 2, 'designation': 'engineer', 'salary': 2000000, 'skills': ['python', 'java', 'c++']}]}] ['employee_skills']\n"
          ]
        }
      ]
    },
    {
      "cell_type": "code",
      "source": [
        "# match the employee skills with company skills\n",
        "# and if the skills are not matched just add the particular skills in the employee skills\n",
        "# note : employee skills is the sum of all skills\n",
        "\n",
        "for value in employee_list:\n",
        "  employee_all_skills = value['experience'][0]['skills']+value['experience'][1]['skills']\n",
        "  print(employee_all_skills)\n",
        "  for employee in employee_all_skills:\n",
        "    if employee not in value['employee_skills']:\n",
        "      value['employee_skills'].append(employee)\n",
        "      print(value['employee_skills'])"
      ],
      "metadata": {
        "colab": {
          "base_uri": "https://localhost:8080/"
        },
        "id": "Bu5vGCzCO87J",
        "outputId": "19168f2b-0d19-4656-8df2-2302068c221d"
      },
      "execution_count": null,
      "outputs": [
        {
          "output_type": "stream",
          "name": "stdout",
          "text": [
            "['python', 'java', 'c++', 'python', 'java', 'c++']\n",
            "['python', 'java', 'c++', 'python', 'java', 'c++']\n"
          ]
        }
      ]
    },
    {
      "cell_type": "code",
      "source": [
        "# match the employee skills with company skills\n",
        "# and if the skills are not matched just add the particular skills in the employee skills\n",
        "# note : employee skills is the sum of all skills\n",
        "\n",
        "# Get the employee's current skills\n",
        "current_skills = set(employee_1[\"employee_skills\"])\n",
        "\n",
        "# Iterate through each experience to collect all skills\n",
        "for exp in employee_1[\"experience\"]:\n",
        "    company_skills = set(exp[\"skills\"])\n",
        "    # Add any new skills from this company to the employee's skills\n",
        "    current_skills.update(company_skills)\n",
        "\n",
        "# Update the employee's skills with the combined set\n",
        "employee_1[\"employee_skills\"] = list(current_skills)\n",
        "\n",
        "print(employee_1[\"employee_skills\"])"
      ],
      "metadata": {
        "colab": {
          "base_uri": "https://localhost:8080/"
        },
        "outputId": "19168f2b-0d19-4656-8df2-2302068c221d",
        "id": "x00x8zHueTlc"
      },
      "execution_count": null,
      "outputs": [
        {
          "output_type": "stream",
          "name": "stdout",
          "text": [
            "['python', 'java', 'c++', 'python', 'java', 'c++']\n",
            "['python', 'java', 'c++', 'python', 'java', 'c++']\n"
          ]
        }
      ]
    }
  ]
}