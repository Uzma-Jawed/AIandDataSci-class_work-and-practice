{
  "nbformat": 4,
  "nbformat_minor": 0,
  "metadata": {
    "colab": {
      "provenance": []
    },
    "kernelspec": {
      "name": "python3",
      "display_name": "Python 3"
    },
    "language_info": {
      "name": "python"
    }
  },
  "cells": [
    {
      "cell_type": "markdown",
      "source": [
        "@Uzma Jawed\n",
        "\n",
        "Lists, Sets, Dictionaries, and Counting operations."
      ],
      "metadata": {
        "id": "xY-WPQ5pBe6Y"
      }
    },
    {
      "cell_type": "markdown",
      "source": [
        "### List Operations\n",
        "Created [0,1,2,...,9,0,1,...,9] and counted occurrences (my_list.count(9))."
      ],
      "metadata": {
        "id": "1NXhP9N0kzsI"
      }
    },
    {
      "cell_type": "code",
      "source": [
        "my_list = []\n",
        "my_list.extend(range(10))\n",
        "for i in range(10):\n",
        "    my_list.append(i)\n",
        "print(my_list)"
      ],
      "metadata": {
        "colab": {
          "base_uri": "https://localhost:8080/"
        },
        "id": "aYYaHN62i6p7",
        "outputId": "6420b132-270c-411f-8407-0898b1c0b184"
      },
      "execution_count": null,
      "outputs": [
        {
          "output_type": "stream",
          "name": "stdout",
          "text": [
            "[0, 1, 2, 3, 4, 5, 6, 7, 8, 9, 0, 1, 2, 3, 4, 5, 6, 7, 8, 9]\n"
          ]
        }
      ]
    },
    {
      "cell_type": "code",
      "source": [
        "my_list.count(9)"
      ],
      "metadata": {
        "colab": {
          "base_uri": "https://localhost:8080/"
        },
        "id": "2QTpTGnqCz0t",
        "outputId": "5792353b-a2e5-4465-aa4a-7647891351f4"
      },
      "execution_count": null,
      "outputs": [
        {
          "output_type": "execute_result",
          "data": {
            "text/plain": [
              "2"
            ]
          },
          "metadata": {},
          "execution_count": 4
        }
      ]
    },
    {
      "cell_type": "code",
      "source": [
        "for i in range(5):\n",
        "  # print(f\"{i} {my_list.count(i)}\")\n",
        "  print((i,my_list.count(i)))"
      ],
      "metadata": {
        "colab": {
          "base_uri": "https://localhost:8080/"
        },
        "id": "l51W2o8JbWVf",
        "outputId": "580e68f2-d462-4661-aed4-7cd57074e873"
      },
      "execution_count": null,
      "outputs": [
        {
          "output_type": "stream",
          "name": "stdout",
          "text": [
            "(0, 2)\n",
            "(1, 2)\n",
            "(2, 2)\n",
            "(3, 2)\n",
            "(4, 2)\n"
          ]
        }
      ]
    },
    {
      "cell_type": "markdown",
      "source": [
        "### Removing Duplicates."
      ],
      "metadata": {
        "id": "KHRIFN0llpLy"
      }
    },
    {
      "cell_type": "code",
      "source": [
        "for j in range(len(my_list)):\n",
        "  if my_list.count(j)>1:\n",
        "     my_list.remove(j)\n",
        "print(my_list)"
      ],
      "metadata": {
        "colab": {
          "base_uri": "https://localhost:8080/"
        },
        "id": "rypqy1_kDB64",
        "outputId": "a3a0526e-3dc0-4c5c-b17c-c46a00386dba"
      },
      "execution_count": null,
      "outputs": [
        {
          "output_type": "stream",
          "name": "stdout",
          "text": [
            "[0, 1, 2, 3, 4, 5, 6, 7, 8, 9]\n"
          ]
        }
      ]
    },
    {
      "cell_type": "markdown",
      "source": [
        "### Set Operations\n",
        "\n",
        "Converted a list to set & added a new element."
      ],
      "metadata": {
        "id": "kLbV-Cv8li0d"
      }
    },
    {
      "cell_type": "code",
      "source": [
        "my_set = set(my_list)"
      ],
      "metadata": {
        "id": "YM5o3Ewwa3JD"
      },
      "execution_count": null,
      "outputs": []
    },
    {
      "cell_type": "code",
      "source": [
        "my_set.add(90)"
      ],
      "metadata": {
        "id": "2InQq816bK_a"
      },
      "execution_count": null,
      "outputs": []
    },
    {
      "cell_type": "code",
      "source": [
        "my_set"
      ],
      "metadata": {
        "colab": {
          "base_uri": "https://localhost:8080/"
        },
        "id": "t_iwCGgtbQI1",
        "outputId": "b7943c81-ffd7-4cae-aa59-c044bc70a53b"
      },
      "execution_count": null,
      "outputs": [
        {
          "output_type": "execute_result",
          "data": {
            "text/plain": [
              "{0, 1, 2, 3, 4, 5, 6, 7, 8, 9, 90}"
            ]
          },
          "metadata": {},
          "execution_count": 18
        }
      ]
    },
    {
      "cell_type": "markdown",
      "source": [
        "### Empty List Counting\n",
        "\n",
        "Printed (i, 0) for i in range(5) since colors was empty."
      ],
      "metadata": {
        "id": "jZ7OdxRZmoT7"
      }
    },
    {
      "cell_type": "code",
      "source": [
        "colors = []"
      ],
      "metadata": {
        "id": "axYHU0dQdvpo"
      },
      "execution_count": null,
      "outputs": []
    },
    {
      "cell_type": "code",
      "source": [
        "list_tuple = []\n",
        "for i in range(5):\n",
        "  print((i, colors.count(i)))\n",
        "  list_tuple.append((i, colors.count(i)))\n",
        "print(list_tuple)"
      ],
      "metadata": {
        "colab": {
          "base_uri": "https://localhost:8080/"
        },
        "id": "bIuQKvZJcVlY",
        "outputId": "c473da2e-e1a8-47a7-876a-e4439137463a"
      },
      "execution_count": null,
      "outputs": [
        {
          "output_type": "stream",
          "name": "stdout",
          "text": [
            "(0, 0)\n",
            "(1, 0)\n",
            "(2, 0)\n",
            "(3, 0)\n",
            "(4, 0)\n",
            "[(0, 0), (1, 0), (2, 0), (3, 0), (4, 0)]\n"
          ]
        }
      ]
    },
    {
      "cell_type": "markdown",
      "source": [
        "### Dictionary/JSON Practice\n",
        "\n",
        "Stored dictionaries in lists."
      ],
      "metadata": {
        "id": "UoHhKfcfmyzz"
      }
    },
    {
      "cell_type": "code",
      "source": [
        "# dictionary/ JSON\n",
        "info = {\"name\":\"Sara\", \"Age\":20, \"Education\":\"FSc\"}\n",
        "lists = []\n",
        "lists.append(info)\n",
        "info"
      ],
      "metadata": {
        "colab": {
          "base_uri": "https://localhost:8080/"
        },
        "id": "F_kWLfGEhq2R",
        "outputId": "332869ce-5aa9-42ec-cb44-872284099370"
      },
      "execution_count": null,
      "outputs": [
        {
          "output_type": "execute_result",
          "data": {
            "text/plain": [
              "{'name': 'Sara', 'Age': 20, 'Education': 'FSc'}"
            ]
          },
          "metadata": {},
          "execution_count": 33
        }
      ]
    },
    {
      "cell_type": "code",
      "source": [
        "info_2 = {\"name\":\"Aqsa\", \"Age\":26, \"Education\":\"BSc\"}\n",
        "lists_2 =[]\n",
        "lists_2.append(lists_2)\n",
        "info_2\n",
        "info_3 = [info ,info_2]\n",
        "print(info_3)"
      ],
      "metadata": {
        "colab": {
          "base_uri": "https://localhost:8080/"
        },
        "id": "zlltSdkqf_cT",
        "outputId": "8cc50753-b428-47c8-9f50-65e387920502"
      },
      "execution_count": null,
      "outputs": [
        {
          "output_type": "stream",
          "name": "stdout",
          "text": [
            "[{'name': 'Sara', 'Age': 20, 'Education': 'FSc'}, {'name': 'Aqsa', 'Age': 26, 'Education': 'BSc'}]\n"
          ]
        }
      ]
    },
    {
      "cell_type": "markdown",
      "source": [
        "### **Relatable practices**\n",
        "\n",
        "\n",
        "*   List Exercises\n",
        "\n"
      ],
      "metadata": {
        "id": "sBgEGoy2qSuD"
      }
    },
    {
      "cell_type": "markdown",
      "source": [
        "1. Removes duplicates"
      ],
      "metadata": {
        "id": "YdMYrXOUqnok"
      }
    },
    {
      "cell_type": "code",
      "source": [
        "num_list = [3, 5, 2, 3, 8, 5, 9, 2, 0, 1, 4, 6]\n",
        "num_list1 = []\n",
        "for num in num_list:\n",
        "    if num not in num_list1:\n",
        "        num_list1.append(num)\n",
        "print(num_list1)"
      ],
      "metadata": {
        "colab": {
          "base_uri": "https://localhost:8080/"
        },
        "id": "jx64H4S0q8eU",
        "outputId": "7dc0a260-2ff5-4990-d932-48725c805560"
      },
      "execution_count": null,
      "outputs": [
        {
          "output_type": "stream",
          "name": "stdout",
          "text": [
            "[3, 5, 2, 8, 9, 0, 1, 4, 6]\n"
          ]
        }
      ]
    },
    {
      "cell_type": "markdown",
      "source": [
        "2. Find Common Elements"
      ],
      "metadata": {
        "id": "QcwAN09ur6FQ"
      }
    },
    {
      "cell_type": "code",
      "source": [
        "list1 = [1, 2, 3, 4]\n",
        "list2 = [3, 4, 5, 6]\n",
        "for num in list1:\n",
        "    if num in list2:\n",
        "        print(num)"
      ],
      "metadata": {
        "colab": {
          "base_uri": "https://localhost:8080/"
        },
        "id": "RPb5Cqw4r_s_",
        "outputId": "92831bd4-3e99-4610-8b5a-fac06eebefa9"
      },
      "execution_count": null,
      "outputs": [
        {
          "output_type": "stream",
          "name": "stdout",
          "text": [
            "3\n",
            "4\n"
          ]
        }
      ]
    },
    {
      "cell_type": "markdown",
      "source": [
        "\n",
        "\n",
        "*   Set Exercises\n"
      ],
      "metadata": {
        "id": "YTlCW_kbstOC"
      }
    },
    {
      "cell_type": "markdown",
      "source": [
        "3. Add user input to a set"
      ],
      "metadata": {
        "id": "0u3uVsews1Hf"
      }
    },
    {
      "cell_type": "code",
      "source": [
        "fruits = {\"apple\", \"banana\"}\n",
        "Fruit = input(\"Enter a fruit to add: \")\n",
        "fruits.add(Fruit)\n",
        "print(fruits)"
      ],
      "metadata": {
        "colab": {
          "base_uri": "https://localhost:8080/"
        },
        "id": "eTYsMnPHtDPR",
        "outputId": "4492e8ce-d049-420c-bc8f-ec34a5b0b6de"
      },
      "execution_count": null,
      "outputs": [
        {
          "output_type": "stream",
          "name": "stdout",
          "text": [
            "Enter a fruit to add: Melon\n",
            "{'apple', 'banana', 'Melon'}\n"
          ]
        }
      ]
    },
    {
      "cell_type": "markdown",
      "source": [
        "4. Find unique items in a list"
      ],
      "metadata": {
        "id": "8gIkXiIIuSIH"
      }
    },
    {
      "cell_type": "code",
      "source": [
        "breakfast = {\"cheese\", \"bread\", \"milk\", \"eggs\"}\n",
        "lunch = {\"bread\", \"chicken\", \"eggs\", \"rice\", \"salid\"}\n",
        "\n",
        "unique_to_breakfast = breakfast - lunch\n",
        "unique_to_lunch = lunch - breakfast\n",
        "\n",
        "print(\"Unique to breakfast:\", unique_to_breakfast)\n",
        "print(\"Unique to lunch:\", unique_to_lunch)\n",
        "\n",
        "print(\"Items in both lists:\", breakfast & lunch)"
      ],
      "metadata": {
        "colab": {
          "base_uri": "https://localhost:8080/"
        },
        "id": "o8tSft3_uWyv",
        "outputId": "14058a93-005e-461d-df59-8213683a9ffb"
      },
      "execution_count": null,
      "outputs": [
        {
          "output_type": "stream",
          "name": "stdout",
          "text": [
            "Unique to breakfast: {'cheese', 'milk'}\n",
            "Unique to lunch: {'chicken', 'rice', 'salid'}\n",
            "Items in both lists: {'eggs', 'bread'}\n"
          ]
        }
      ]
    },
    {
      "cell_type": "markdown",
      "source": [
        "\n",
        "*   Dictionary Exercises\n"
      ],
      "metadata": {
        "id": "UPh-05Qqw7Dl"
      }
    },
    {
      "cell_type": "markdown",
      "source": [
        "5. Merge 2 dictionaries"
      ],
      "metadata": {
        "id": "DdKnjcEuxJxq"
      }
    },
    {
      "cell_type": "code",
      "source": [
        "dict1 = {\"name\": \"Ana\", \"age\": 25}\n",
        "dict2 = {\"city\": \"Karachi\", \"age\": 26}  # \"age\" will update!\n",
        "merged = dict1.copy()  # Avoid modifying dict1\n",
        "merged.update(dict2)   # Updates with dict2's keys\n",
        "print(merged)"
      ],
      "metadata": {
        "colab": {
          "base_uri": "https://localhost:8080/"
        },
        "id": "oXw9ZUTuxTu8",
        "outputId": "5765ed89-574c-4994-bc0f-44edf9718484"
      },
      "execution_count": null,
      "outputs": [
        {
          "output_type": "stream",
          "name": "stdout",
          "text": [
            "{'name': 'Ana', 'age': 26, 'city': 'Karachi'}\n"
          ]
        }
      ]
    },
    {
      "cell_type": "markdown",
      "source": [
        "6. Counting fruits"
      ],
      "metadata": {
        "id": "Sty12PEjyS6t"
      }
    },
    {
      "cell_type": "code",
      "source": [
        "fruits = [\"pineapple\", \"cherry\", \"pineapple\", \"mango\", \"cherry\", \"pineapple\"]\n",
        "fruit_counts = {}\n",
        "# Count each fruit\n",
        "for fruit in fruits:\n",
        "    if fruit in fruit_counts:\n",
        "        fruit_counts[fruit] += 1\n",
        "    else:\n",
        "        fruit_counts[fruit] = 1\n",
        "\n",
        "print(\"Fruit counts:\", fruit_counts)"
      ],
      "metadata": {
        "colab": {
          "base_uri": "https://localhost:8080/"
        },
        "id": "nhGIXUtC11Bv",
        "outputId": "b134faab-72e4-46d3-aacd-d2052bfad535"
      },
      "execution_count": null,
      "outputs": [
        {
          "output_type": "stream",
          "name": "stdout",
          "text": [
            "Fruit counts: {'pineapple': 3, 'cherry': 2, 'mango': 1}\n"
          ]
        }
      ]
    },
    {
      "cell_type": "markdown",
      "source": [
        "7. Counting Letters"
      ],
      "metadata": {
        "id": "BxXNWmZq2tdU"
      }
    },
    {
      "cell_type": "code",
      "source": [
        "word = \"hello\"\n",
        "letter_counts = {}\n",
        "\n",
        "for letter in word:\n",
        "    if letter in letter_counts:\n",
        "        letter_counts[letter] += 1\n",
        "    else:\n",
        "        letter_counts[letter] = 1\n",
        "\n",
        "print(\"Letter counts:\", letter_counts)"
      ],
      "metadata": {
        "colab": {
          "base_uri": "https://localhost:8080/"
        },
        "id": "J7M04o7J2nP_",
        "outputId": "413d370b-7810-4c2a-c0d4-01eb963e9c73"
      },
      "execution_count": null,
      "outputs": [
        {
          "output_type": "stream",
          "name": "stdout",
          "text": [
            "Letter counts: {'h': 1, 'e': 1, 'l': 2, 'o': 1}\n"
          ]
        }
      ]
    },
    {
      "cell_type": "markdown",
      "source": [
        "* Loop Exercises"
      ],
      "metadata": {
        "id": "XTERyS_j3OJ6"
      }
    },
    {
      "cell_type": "markdown",
      "source": [
        "8. Filter Evens"
      ],
      "metadata": {
        "id": "Jf0nX1jd3Tv7"
      }
    },
    {
      "cell_type": "code",
      "source": [
        "numbers = [11, 20, 33, 40, 55]\n",
        "evens = []\n",
        "for num in numbers:\n",
        "    if num % 2 == 0:\n",
        "        evens.append(num)\n",
        "print(\"Even numbers:\", evens)"
      ],
      "metadata": {
        "colab": {
          "base_uri": "https://localhost:8080/"
        },
        "id": "e4T-LlAz4hdN",
        "outputId": "f7918c81-66e6-4861-d684-5fff23265c5f"
      },
      "execution_count": null,
      "outputs": [
        {
          "output_type": "stream",
          "name": "stdout",
          "text": [
            "Even numbers: [20, 40]\n"
          ]
        }
      ]
    },
    {
      "cell_type": "markdown",
      "source": [
        "9. Emoji counter"
      ],
      "metadata": {
        "id": "iWN32gYY55gP"
      }
    },
    {
      "cell_type": "code",
      "source": [
        "sparkles = int(input(\"How many Sparkles? \"))\n",
        "for i in range(1, sparkles+1):\n",
        "    print(\"✨\" * i)"
      ],
      "metadata": {
        "id": "XPyfO0Eu573r",
        "colab": {
          "base_uri": "https://localhost:8080/"
        },
        "outputId": "d3ada109-5fc2-4e2c-94d4-72f842681e9f"
      },
      "execution_count": null,
      "outputs": [
        {
          "output_type": "stream",
          "name": "stdout",
          "text": [
            "How many Sparkles? 5\n",
            "✨\n",
            "✨✨\n",
            "✨✨✨\n",
            "✨✨✨✨\n",
            "✨✨✨✨✨\n"
          ]
        }
      ]
    },
    {
      "cell_type": "markdown",
      "source": [
        "10. Making pattern"
      ],
      "metadata": {
        "id": "Pv_wz3Wl7dM1"
      }
    },
    {
      "cell_type": "code",
      "source": [
        "for i in range(2):\n",
        "    if i == 0:\n",
        "        print(\" \" * 3 + \"🦋\")\n",
        "    else:\n",
        "        print(\"🦋\" + \" \" * 4 + \"🦋\")"
      ],
      "metadata": {
        "colab": {
          "base_uri": "https://localhost:8080/"
        },
        "id": "b4IZu2wi7OA4",
        "outputId": "5cc398c4-fd3f-4b55-d173-4c724e78fa03"
      },
      "execution_count": null,
      "outputs": [
        {
          "output_type": "stream",
          "name": "stdout",
          "text": [
            "   🦋\n",
            "🦋    🦋\n"
          ]
        }
      ]
    }
  ]
}
