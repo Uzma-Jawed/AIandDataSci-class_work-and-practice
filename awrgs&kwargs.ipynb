{
  "nbformat": 4,
  "nbformat_minor": 0,
  "metadata": {
    "colab": {
      "provenance": []
    },
    "kernelspec": {
      "name": "python3",
      "display_name": "Python 3"
    },
    "language_info": {
      "name": "python"
    }
  },
  "cells": [
    {
      "cell_type": "markdown",
      "source": [
        "@Uzma_Jawed"
      ],
      "metadata": {
        "id": "_GfnEhaLCdCS"
      }
    },
    {
      "cell_type": "markdown",
      "source": [
        "**🔥 *args & kwargs - Quick Guide\n",
        "Purpose: Handle variable numbers of arguments in functions.\n",
        "\n",
        "*1️⃣ args (Arbitrary Arguments)\n",
        "→ Collects extra positional args into a tuple.\n",
        "→ Use when you don’t know how many arguments will be passed."
      ],
      "metadata": {
        "id": "mZtMtNY9CfVc"
      }
    },
    {
      "cell_type": "code",
      "source": [
        "def sum_all(*args):\n",
        "    return sum(args)\n",
        "\n",
        "print(sum_all(1, 2, 3))\n",
        "print(sum_all(5, 10, 15, 20))"
      ],
      "metadata": {
        "colab": {
          "base_uri": "https://localhost:8080/"
        },
        "id": "lBjnEFeKCvKk",
        "outputId": "08431042-1e92-41b8-88df-05b9d5843232"
      },
      "execution_count": null,
      "outputs": [
        {
          "output_type": "stream",
          "name": "stdout",
          "text": [
            "6\n",
            "50\n"
          ]
        }
      ]
    },
    {
      "cell_type": "markdown",
      "source": [
        "📌 Key Points:\n",
        "✔ Accepts any number of positional args.\n",
        "✔ Stores them in a tuple (args).\n",
        "✔ Convention: Use *args (name can vary, but * is required)."
      ],
      "metadata": {
        "id": "r_SrbFVrC4wd"
      }
    },
    {
      "cell_type": "markdown",
      "source": [
        "**2️⃣ kwargs (Arbitrary Keyword Arguments)\n",
        "→ Collects extra keyword args into a dictionary.\n",
        "→ Useful for handling named parameters dynamically."
      ],
      "metadata": {
        "id": "GOFHbt1mC9yl"
      }
    },
    {
      "cell_type": "code",
      "source": [
        "def print_details(**kwargs):\n",
        "    for key, value in kwargs.items():\n",
        "        print(f\"{key}: {value}\")\n",
        "\n",
        "print_details(name=\"Uzma\", city=\"NY\", course=\"AI & Data Science\")"
      ],
      "metadata": {
        "colab": {
          "base_uri": "https://localhost:8080/"
        },
        "id": "uq3z5J0SDCiL",
        "outputId": "02d05d93-8ae0-455e-e0af-42c06360e2b1"
      },
      "execution_count": null,
      "outputs": [
        {
          "output_type": "stream",
          "name": "stdout",
          "text": [
            "name: Uzma\n",
            "city: NY\n",
            "course: AI & Data Science\n"
          ]
        }
      ]
    },
    {
      "cell_type": "markdown",
      "source": [
        "📌 Key Points:\n",
        "✔ Accepts any number of keyword args.\n",
        "✔ Stores them in a dict (kwargs).\n",
        "✔ Convention: Use **kwargs (but ** is mandatory)."
      ],
      "metadata": {
        "id": "Poqyl-AtDLyC"
      }
    },
    {
      "cell_type": "markdown",
      "source": [
        "**3️⃣ Combined Usage (*args + kwargs)\n",
        "→ Use both when a function needs flexibble inputs."
      ],
      "metadata": {
        "id": "IAWb3jQJDgSU"
      }
    },
    {
      "cell_type": "code",
      "source": [
        "def func(*args, **kwargs):\n",
        "    print(\"Positional args:\", args)\n",
        "    print(\"Keyword args:\", kwargs)\n",
        "\n",
        "func(1, 2, 3, name=\"Uzma\", city=\"Karachi\")"
      ],
      "metadata": {
        "colab": {
          "base_uri": "https://localhost:8080/"
        },
        "id": "mFu6SPkmDnMK",
        "outputId": "2030d5ed-50dd-4f6d-97d8-500c2ce1b21e"
      },
      "execution_count": null,
      "outputs": [
        {
          "output_type": "stream",
          "name": "stdout",
          "text": [
            "Positional args: (1, 2, 3)\n",
            "Keyword args: {'name': 'Uzma', 'city': 'Karachi'}\n"
          ]
        }
      ]
    },
    {
      "cell_type": "markdown",
      "source": [
        "⚡ When to Use?\n",
        "✔ Building wrapper functions (e.g., decorators).\n",
        "✔ Writing flexible APIs (e.g., Django, Flask).\n",
        "✔ Handling unknown arguments in advance."
      ],
      "metadata": {
        "id": "y7WHxFeND4w2"
      }
    },
    {
      "cell_type": "markdown",
      "source": [
        "💡 Pro Tip:\n",
        "Order matters! Always define parameters as:"
      ],
      "metadata": {
        "id": "oKGQ-VLsD7eB"
      }
    },
    {
      "cell_type": "code",
      "source": [
        "def func(arg1, arg2, *args, **kwargs):\n",
        "  pass"
      ],
      "metadata": {
        "id": "56HQx5WFEA76"
      },
      "execution_count": null,
      "outputs": []
    }
  ]
}