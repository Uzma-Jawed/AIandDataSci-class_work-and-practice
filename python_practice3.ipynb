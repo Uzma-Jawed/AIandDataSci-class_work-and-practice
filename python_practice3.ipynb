{
  "nbformat": 4,
  "nbformat_minor": 0,
  "metadata": {
    "colab": {
      "provenance": []
    },
    "kernelspec": {
      "name": "python3",
      "display_name": "Python 3"
    },
    "language_info": {
      "name": "python"
    }
  },
  "cells": [
    {
      "cell_type": "markdown",
      "source": [
        "# Python Lists\n",
        "* Created by @Uzma Jawed\n",
        "* Linkedin: https://www.linkedin.com/in/uzma-jawed-21684728b/"
      ],
      "metadata": {
        "id": "QvbgshQArY5O"
      }
    },
    {
      "cell_type": "markdown",
      "source": [
        "# **List**\n",
        "\n",
        "## A list is a collection of ordered elements that allows duplicate values and support modifications."
      ],
      "metadata": {
        "id": "ASm44SKiq4xO"
      }
    },
    {
      "cell_type": "markdown",
      "source": [
        "# Definition\n",
        "\n",
        "1. A list is created using square brackets[] or the list()constructor.\n",
        "2. It is ordered, meaning elements retain the order in which they're inserted.\n",
        "3. It is mutable: you can add, remove and modify elements after creation.\n",
        "\n"
      ],
      "metadata": {
        "id": "p4GitnR2w2hU"
      }
    },
    {
      "cell_type": "markdown",
      "source": [
        "## Creating a list"
      ],
      "metadata": {
        "id": "OdDCMgo6vxsQ"
      }
    },
    {
      "cell_type": "code",
      "source": [
        "# Creating list in different ways\n",
        "\n",
        "empty_list = []\n",
        "\n",
        "numbers = [10, 20, 30, 40]\n",
        "mixed_list = [\"Hello\", 3.14, True]\n",
        "\n",
        "print(\"Empty list:\", empty_list)\n",
        "print(\"Numbers list:\", numbers)\n",
        "print(\"Mixed list:\", mixed_list)\n",
        "\n",
        "# Accessing elements by index\n",
        "\n",
        "first_num = numbers[0] # 10\n",
        "last_num = numbers[-1] # 40\n",
        "last_num1 = numbers[3]\n",
        "\n",
        "print(\"first number:\", first_num)\n",
        "print(\"last number:\", last_num)\n",
        "print(\"Last number:\", last_num)"
      ],
      "metadata": {
        "colab": {
          "base_uri": "https://localhost:8080/"
        },
        "id": "PT-Lkk5Vxo04",
        "outputId": "ec06b1ca-3821-43d2-bd68-4a12b0dd609d"
      },
      "execution_count": null,
      "outputs": [
        {
          "output_type": "stream",
          "name": "stdout",
          "text": [
            "Empty list: []\n",
            "Numbers list: [10, 20, 30, 40]\n",
            "Mixed list: ['Hello', 3.14, True]\n",
            "first number: 10\n",
            "last number: 40\n",
            "Last number: 40\n"
          ]
        }
      ]
    },
    {
      "cell_type": "markdown",
      "source": [
        "# Adding , Removing and Modifying Elements"
      ],
      "metadata": {
        "id": "HfAXv_7kyhkp"
      }
    },
    {
      "cell_type": "markdown",
      "source": [
        "## Appending and Inserting Elements:\n",
        "\n",
        "*   Append adds elements in the end.\n",
        "*   Insert adds elements at a specific index.\n",
        "# Removing Elements\n",
        "\n",
        "* pop() removes the last element.\n",
        "\n",
        "\n",
        "\n"
      ],
      "metadata": {
        "id": "-CwtRHCRz6jK"
      }
    },
    {
      "cell_type": "code",
      "source": [
        "# Adding elements\n",
        "print(numbers)\n",
        "numbers.append(50) # appending elements\n",
        "print(numbers) # Add 50 at the end\n",
        "numbers.insert(2, 15) # inserting elments\n",
        "print(numbers) # insert 15 at index 2\n",
        "\n",
        "# Removing elements\n",
        "removed_item = numbers.pop()\n",
        "print(numbers)  # Removes and returns the last item(50)\n",
        "numbers.remove(20)\n",
        "print(numbers) # Removes the first occurrence of 20\n",
        "\n",
        "# Modifying an element\n",
        "numbers[1] = 25 # Change the element at index 1 to 25\n",
        "\n",
        "print(\"Modified numbers list:\", numbers)\n",
        "print(\"Removed item:\", removed_item)"
      ],
      "metadata": {
        "colab": {
          "base_uri": "https://localhost:8080/"
        },
        "id": "Wh0rrvMPyryv",
        "outputId": "e6704aea-da57-4cdc-f7d1-401521c92fc5"
      },
      "execution_count": null,
      "outputs": [
        {
          "output_type": "stream",
          "name": "stdout",
          "text": [
            "[10, 20, 30, 40]\n",
            "[10, 20, 30, 40, 50]\n",
            "[10, 20, 15, 30, 40, 50]\n",
            "[10, 20, 15, 30, 40]\n",
            "[10, 15, 30, 40]\n",
            "Modified numbers list: [10, 25, 30, 40]\n",
            "Removed item: 50\n"
          ]
        }
      ]
    },
    {
      "cell_type": "markdown",
      "source": [
        "## Check if an item exist in the list\n",
        "It is done by using **in** keyword."
      ],
      "metadata": {
        "id": "J3d32xV9XMnC"
      }
    },
    {
      "cell_type": "code",
      "source": [
        "cities = [\"Karachi\", \"Lahore\", \"Islamabad\", \"Multan\", \"Quetta\"]\n",
        "if \"Karachi\" in cities:\n",
        "    print(\"Karachi is in the list\")\n",
        "else:\n",
        "    print(\"Karachi is not in the list\")"
      ],
      "metadata": {
        "colab": {
          "base_uri": "https://localhost:8080/"
        },
        "id": "LVrg3aM8X_Cq",
        "outputId": "a2fee16e-4c22-419b-802d-c130be2c7de8"
      },
      "execution_count": null,
      "outputs": [
        {
          "output_type": "stream",
          "name": "stdout",
          "text": [
            "Karachi is in the list\n"
          ]
        }
      ]
    },
    {
      "cell_type": "markdown",
      "source": [
        "## Printing elements within a particular range"
      ],
      "metadata": {
        "id": "QPSUg0UjY42C"
      }
    },
    {
      "cell_type": "code",
      "source": [
        "colors = [\"red\", \"green\", \"blue\", \"yellow\", \"orange\", \"purple\"]\n",
        "print(colors[1:4]) # positive indexes\n",
        "print(colors[-4:-1]) # negative indexes"
      ],
      "metadata": {
        "colab": {
          "base_uri": "https://localhost:8080/"
        },
        "id": "QuVGHYTTZGRS",
        "outputId": "e01a2b81-09b0-48c5-f816-7c165fea6572"
      },
      "execution_count": null,
      "outputs": [
        {
          "output_type": "stream",
          "name": "stdout",
          "text": [
            "['green', 'blue', 'yellow']\n",
            "['blue', 'yellow', 'orange']\n"
          ]
        }
      ]
    },
    {
      "cell_type": "markdown",
      "source": [
        "## Printing all elements to the given index till the end"
      ],
      "metadata": {
        "id": "qoWgsjBjZ0VV"
      }
    },
    {
      "cell_type": "code",
      "source": [
        "countries = [\"USA\", \"Canada\", \"UK\", \"Australia\", \"Germany\", \"Japan\"]\n",
        "print(countries[2:]) # positive indexes\n",
        "print(countries[-3:]) # negative indexes"
      ],
      "metadata": {
        "colab": {
          "base_uri": "https://localhost:8080/"
        },
        "id": "YbGGfJqDZ6MR",
        "outputId": "e5aa4feb-bccf-4ea1-9839-f44a9178d6e0"
      },
      "execution_count": null,
      "outputs": [
        {
          "output_type": "stream",
          "name": "stdout",
          "text": [
            "['UK', 'Australia', 'Germany', 'Japan']\n",
            "['Australia', 'Germany', 'Japan']\n"
          ]
        }
      ]
    },
    {
      "cell_type": "code",
      "source": [
        "# Creating a list\n",
        "\n",
        "fruits = [\"apple\", \"banana\", \"cherry\", \"date\", \"elderberry\"]\n",
        "print(fruits)"
      ],
      "metadata": {
        "colab": {
          "base_uri": "https://localhost:8080/"
        },
        "id": "Mp02DcGc646e",
        "outputId": "5e87de0f-ae9b-4243-b3d0-1d46cbfada58"
      },
      "execution_count": null,
      "outputs": [
        {
          "output_type": "stream",
          "name": "stdout",
          "text": [
            "['apple', 'banana', 'cherry', 'date', 'elderberry']\n"
          ]
        }
      ]
    },
    {
      "cell_type": "code",
      "source": [
        "# Access elements (indexing/slicing)\n",
        "print(fruits[0])\n",
        "print(fruits[2])\n",
        "print(fruits[1:4])"
      ],
      "metadata": {
        "colab": {
          "base_uri": "https://localhost:8080/"
        },
        "id": "tmLTjZdU7KZb",
        "outputId": "2c34b79f-c8bf-4ed3-c067-6d39b54364a8"
      },
      "execution_count": null,
      "outputs": [
        {
          "output_type": "stream",
          "name": "stdout",
          "text": [
            "apple\n",
            "cherry\n",
            "['banana', 'cherry', 'date']\n"
          ]
        }
      ]
    },
    {
      "cell_type": "markdown",
      "source": [
        "# List Methods"
      ],
      "metadata": {
        "id": "FE6m3xMR7oAT"
      }
    },
    {
      "cell_type": "code",
      "source": [
        "# Add, Remove items\n",
        "fruits.append(\"fig\") # Adds\n",
        "print(fruits)\n",
        "\n",
        "fruits.insert(2, \"grape\") # Inserts\n",
        "print(fruits)\n",
        "\n",
        "fruits.remove(\"date\") # Removes\n",
        "print(fruits)\n",
        "\n",
        "# Sort and Reverse\n",
        "numbers = [3, 1, 4, 5, 9, 2, 6, 8, 7, 0]\n",
        "numbers.sort() # Sorts\n",
        "print(numbers)\n",
        "\n",
        "numbers.reverse() # Reverses\n",
        "print(numbers)"
      ],
      "metadata": {
        "colab": {
          "base_uri": "https://localhost:8080/"
        },
        "id": "wE7MMCGG7sif",
        "outputId": "b1f76afd-8e9d-4e9e-bd64-c7fdb8cef28b"
      },
      "execution_count": null,
      "outputs": [
        {
          "output_type": "stream",
          "name": "stdout",
          "text": [
            "['apple', 'banana', 'cherry', 'date', 'elderberry', 'fig']\n",
            "['apple', 'banana', 'grape', 'cherry', 'date', 'elderberry', 'fig']\n",
            "['apple', 'banana', 'grape', 'cherry', 'elderberry', 'fig']\n",
            "[0, 1, 2, 3, 4, 5, 6, 7, 8, 9]\n",
            "[9, 8, 7, 6, 5, 4, 3, 2, 1, 0]\n"
          ]
        }
      ]
    },
    {
      "cell_type": "code",
      "source": [
        "# index\n",
        "colours = [\"red\", \"green\", \"blue\", \"yellow\", \"orange\", \"purple\"]\n",
        "index = colours.index(\"blue\")\n",
        "print(index)"
      ],
      "metadata": {
        "colab": {
          "base_uri": "https://localhost:8080/"
        },
        "id": "Zdh3V6UTdxMP",
        "outputId": "7d734d5c-6c06-4236-c2a5-005dacedd87c"
      },
      "execution_count": null,
      "outputs": [
        {
          "output_type": "stream",
          "name": "stdout",
          "text": [
            "2\n"
          ]
        }
      ]
    },
    {
      "cell_type": "code",
      "source": [
        "# Count (returns count of number of items with given value)\n",
        "numbers = [1, 2, 2, 3, 4, 2, 5, 6, 2, 7, 8, 2, 9]\n",
        "count = numbers.count(2)\n",
        "print(count)"
      ],
      "metadata": {
        "colab": {
          "base_uri": "https://localhost:8080/"
        },
        "id": "i27B-b-NeV5x",
        "outputId": "6d40ba9e-9d1d-4b2b-ffe7-60cbc3f1e3ec"
      },
      "execution_count": null,
      "outputs": [
        {
          "output_type": "stream",
          "name": "stdout",
          "text": [
            "5\n"
          ]
        }
      ]
    },
    {
      "cell_type": "code",
      "source": [
        "# Copy (returns copy of list)\n",
        "original_list = [1, 2, 3, 4, 5]\n",
        "copied_list = original_list.copy()\n",
        "print(copied_list)"
      ],
      "metadata": {
        "colab": {
          "base_uri": "https://localhost:8080/"
        },
        "id": "5jLPfGrwe4R_",
        "outputId": "ecfe7d73-4b84-4daa-aefa-bc949f79d471"
      },
      "execution_count": null,
      "outputs": [
        {
          "output_type": "stream",
          "name": "stdout",
          "text": [
            "[1, 2, 3, 4, 5]\n"
          ]
        }
      ]
    },
    {
      "cell_type": "markdown",
      "source": [
        "## Concatenating 2 lists"
      ],
      "metadata": {
        "id": "PJrAcTqLfZY8"
      }
    },
    {
      "cell_type": "code",
      "source": [
        "cities = [\"Karachi\", \"Lahore\", \"Islamabad\", \"Multan\", \"Quetta\"]\n",
        "cities2 = [\"Hyderabad\", \"Peshawar\", \"Faisalabad\"]\n",
        "combined_list = cities + cities2\n",
        "print(combined_list)"
      ],
      "metadata": {
        "colab": {
          "base_uri": "https://localhost:8080/"
        },
        "id": "OHStDqo4flBv",
        "outputId": "a3bbaf7e-98e6-4462-af5d-5fb29d1a2605"
      },
      "execution_count": null,
      "outputs": [
        {
          "output_type": "stream",
          "name": "stdout",
          "text": [
            "['Karachi', 'Lahore', 'Islamabad', 'Multan', 'Quetta', 'Hyderabad', 'Peshawar', 'Faisalabad']\n"
          ]
        }
      ]
    },
    {
      "cell_type": "markdown",
      "source": [
        "# Sum\n",
        "### (Calculate total of numbers)"
      ],
      "metadata": {
        "id": "S0jTShYlgQ_9"
      }
    },
    {
      "cell_type": "code",
      "source": [
        "numbers = [10, 20, 30, 40]\n",
        "total = sum(numbers)\n",
        "print(total)"
      ],
      "metadata": {
        "colab": {
          "base_uri": "https://localhost:8080/"
        },
        "id": "wmEYtwacggxB",
        "outputId": "8edddc9c-7a9c-4913-f47c-779a6aae6697"
      },
      "execution_count": null,
      "outputs": [
        {
          "output_type": "stream",
          "name": "stdout",
          "text": [
            "100\n"
          ]
        }
      ]
    },
    {
      "cell_type": "markdown",
      "source": [
        "# len()\n",
        "### Count elements in list"
      ],
      "metadata": {
        "id": "NOEVw2UJgu_U"
      }
    },
    {
      "cell_type": "code",
      "source": [
        "fruits = [\"apple\", \"banana\", \"cherry\"]\n",
        "length = len(fruits)\n",
        "print(length)"
      ],
      "metadata": {
        "colab": {
          "base_uri": "https://localhost:8080/"
        },
        "id": "N1UhOK57g1ai",
        "outputId": "271c97a6-6041-4a9b-98d6-55edef1bf483"
      },
      "execution_count": null,
      "outputs": [
        {
          "output_type": "stream",
          "name": "stdout",
          "text": [
            "3\n"
          ]
        }
      ]
    },
    {
      "cell_type": "markdown",
      "source": [
        "# min()\n",
        "### count smallest value"
      ],
      "metadata": {
        "id": "5NodJeDfg-nz"
      }
    },
    {
      "cell_type": "code",
      "source": [
        "prices = [99, 149, 79, 199]\n",
        "cheapest = min(prices)\n",
        "print(cheapest)"
      ],
      "metadata": {
        "colab": {
          "base_uri": "https://localhost:8080/"
        },
        "id": "pSjQn8oBhFiR",
        "outputId": "35bda055-6cda-4856-c1d6-1c4375aca2ed"
      },
      "execution_count": null,
      "outputs": [
        {
          "output_type": "stream",
          "name": "stdout",
          "text": [
            "79\n"
          ]
        }
      ]
    },
    {
      "cell_type": "markdown",
      "source": [
        "# List Comprehensions\n",
        "Lists comprehensions are used for creating new lists for other iterables like lists, tuples, dictionaries, sets and even in arrays and strings."
      ],
      "metadata": {
        "id": "PjYjHxrWa7gU"
      }
    },
    {
      "cell_type": "code",
      "source": [
        "list1 = [i * i for i in range(1, 6)]\n",
        "print(list1)"
      ],
      "metadata": {
        "colab": {
          "base_uri": "https://localhost:8080/"
        },
        "id": "FjVlNaf8brKR",
        "outputId": "3ddc5b7c-28cd-4626-f3e5-e25d2b7037eb"
      },
      "execution_count": null,
      "outputs": [
        {
          "output_type": "stream",
          "name": "stdout",
          "text": [
            "[1, 4, 9, 16, 25]\n"
          ]
        }
      ]
    },
    {
      "cell_type": "code",
      "source": [
        "list2 = [i * i for i in range(1, 11) if i % 2 == 0]\n",
        "print(list2)"
      ],
      "metadata": {
        "colab": {
          "base_uri": "https://localhost:8080/"
        },
        "id": "UGg7IYugcAnp",
        "outputId": "c13b25c2-c6cc-44e1-cbc4-81398629f6c1"
      },
      "execution_count": null,
      "outputs": [
        {
          "output_type": "stream",
          "name": "stdout",
          "text": [
            "[4, 16, 36, 64, 100]\n"
          ]
        }
      ]
    },
    {
      "cell_type": "markdown",
      "source": [
        "# List Comprehensions(Advanced)"
      ],
      "metadata": {
        "id": "Mphq72GJ9EiS"
      }
    },
    {
      "cell_type": "code",
      "source": [
        "# Create a list of squares\n",
        "squares = [x**2 for x in range(5)]\n",
        "print(squares)"
      ],
      "metadata": {
        "colab": {
          "base_uri": "https://localhost:8080/"
        },
        "id": "XkWif1OS9Nwt",
        "outputId": "dfb88513-d2dd-4929-efc5-3b910ec084cb"
      },
      "execution_count": null,
      "outputs": [
        {
          "output_type": "stream",
          "name": "stdout",
          "text": [
            "[0, 1, 4, 9, 16]\n"
          ]
        }
      ]
    },
    {
      "cell_type": "code",
      "source": [
        "# Filter even numbers\n",
        "evens = [x for x in range(10) if x % 2 == 0]\n",
        "print(evens)"
      ],
      "metadata": {
        "colab": {
          "base_uri": "https://localhost:8080/"
        },
        "id": "istZyKdu93sa",
        "outputId": "79a27c97-6c24-436a-c919-7dd51c9c2d30"
      },
      "execution_count": null,
      "outputs": [
        {
          "output_type": "stream",
          "name": "stdout",
          "text": [
            "[0, 2, 4, 6, 8]\n"
          ]
        }
      ]
    },
    {
      "cell_type": "code",
      "source": [
        "# Accepts items which has more than 3 letters\n",
        "names = [\"Sheikh\" , \"Uzma\" , \"Zaid\" , \"Hassan\" , \"Sara\"]\n",
        "new_names = [name for name in names if len(name) > 3]\n",
        "print(new_names)"
      ],
      "metadata": {
        "colab": {
          "base_uri": "https://localhost:8080/"
        },
        "id": "QOZsYNa_cTmF",
        "outputId": "c4adb5a0-3218-40c5-f085-7ede3b341bd0"
      },
      "execution_count": null,
      "outputs": [
        {
          "output_type": "stream",
          "name": "stdout",
          "text": [
            "['Sheikh', 'Uzma', 'Zaid', 'Hassan', 'Sara']\n"
          ]
        }
      ]
    },
    {
      "cell_type": "markdown",
      "source": [
        "\n",
        "## Example: List Shopping Cart"
      ],
      "metadata": {
        "id": "VmQH11Wm-HE5"
      }
    },
    {
      "source": [
        "cart = []\n",
        "items = input(\"Enter items to add to the cart: \")\n",
        "# Split the input string into a list of items\n",
        "items_list = items.split()\n",
        "# Add items to the cart\n",
        "cart.extend(items_list)\n",
        "cart.append(\"bread\")\n",
        "cart.extend([\"Cake\", \"Juice\"])\n",
        "print(\"Your cart:\", cart)"
      ],
      "cell_type": "code",
      "metadata": {
        "colab": {
          "base_uri": "https://localhost:8080/"
        },
        "id": "pVq0vFs1ArSp",
        "outputId": "41fd77a6-128f-4532-f7fb-f508232033cc"
      },
      "execution_count": null,
      "outputs": [
        {
          "output_type": "stream",
          "name": "stdout",
          "text": [
            "Enter items to add to the cart: fruits\n",
            "Your cart: ['fruits', 'bread', 'Cake', 'Juice']\n"
          ]
        }
      ]
    }
  ]
}