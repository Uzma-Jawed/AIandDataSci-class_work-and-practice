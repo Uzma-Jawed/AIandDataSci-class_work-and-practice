{
  "nbformat": 4,
  "nbformat_minor": 0,
  "metadata": {
    "colab": {
      "provenance": []
    },
    "kernelspec": {
      "name": "python3",
      "display_name": "Python 3"
    },
    "language_info": {
      "name": "python"
    }
  },
  "cells": [
    {
      "cell_type": "markdown",
      "source": [
        "@Uzma Jawed"
      ],
      "metadata": {
        "id": "IRF67h5TSymq"
      }
    },
    {
      "cell_type": "markdown",
      "source": [
        "___\n",
        "### Python Sets\n",
        "___\n",
        "1. A `set` is created using curly brackets{} or the `set()` constructor.\n",
        "2. It is `unordered` and does not allow `duplicate elements`.\n",
        "3. It is `mutable`: You can add or remove elements."
      ],
      "metadata": {
        "id": "AUiSE8BrS2k3"
      }
    },
    {
      "cell_type": "code",
      "source": [
        "# Creating Sets\n",
        "numbers_set = {1, 2, 3, 2} # Remove Duplicates Automatically\n",
        "print(numbers_set)"
      ],
      "metadata": {
        "colab": {
          "base_uri": "https://localhost:8080/"
        },
        "id": "m86nCNF2UmvG",
        "outputId": "d090a52b-7e18-433c-cf8c-44a30d7e6ead"
      },
      "execution_count": null,
      "outputs": [
        {
          "output_type": "stream",
          "name": "stdout",
          "text": [
            "{1, 2, 3}\n"
          ]
        }
      ]
    },
    {
      "cell_type": "code",
      "source": [
        "mixed_set = {\"apple\", 42, (1, 2)} # You can store immutable types like Tuples\n",
        "print(mixed_set)"
      ],
      "metadata": {
        "colab": {
          "base_uri": "https://localhost:8080/"
        },
        "id": "qCF0uNawVK8j",
        "outputId": "3e0a23fc-d79b-47ea-e596-d1c7dd1013e8"
      },
      "execution_count": null,
      "outputs": [
        {
          "output_type": "stream",
          "name": "stdout",
          "text": [
            "{42, (1, 2), 'apple'}\n"
          ]
        }
      ]
    },
    {
      "cell_type": "code",
      "source": [
        "# Quick Quiz: Create an empty set. check using type() function that type of your variable is a set.\n",
        "colors = {}\n",
        "print(type(colors))"
      ],
      "metadata": {
        "colab": {
          "base_uri": "https://localhost:8080/"
        },
        "id": "ACfoF8J8UIbN",
        "outputId": "f368464c-38b9-4568-d935-c190435442d8"
      },
      "execution_count": null,
      "outputs": [
        {
          "output_type": "stream",
          "name": "stdout",
          "text": [
            "<class 'dict'>\n"
          ]
        }
      ]
    },
    {
      "cell_type": "markdown",
      "source": [
        "The syntax of `dictionary` and `sets` are same. so when you create a `set` by using curly brackets {} it will show you type() as `dictionary`. To create `empty set` use `set() `constructor."
      ],
      "metadata": {
        "id": "fydT5GI4Vz4d"
      }
    },
    {
      "cell_type": "code",
      "source": [
        "colours = set()\n",
        "print(type(colours))"
      ],
      "metadata": {
        "colab": {
          "base_uri": "https://localhost:8080/"
        },
        "id": "2F1kdEXXWaoS",
        "outputId": "9f8949e7-c2c5-48a4-b32c-4895e944c506"
      },
      "execution_count": null,
      "outputs": [
        {
          "output_type": "stream",
          "name": "stdout",
          "text": [
            "<class 'set'>\n"
          ]
        }
      ]
    },
    {
      "cell_type": "markdown",
      "source": [
        "\n",
        "___\n",
        "### Accessing set items\n",
        "___\n",
        "* using a `for` loop"
      ],
      "metadata": {
        "id": "7uP0l0w4XYGK"
      }
    },
    {
      "cell_type": "code",
      "source": [
        "numbers = {1, 2, 3, 4, 5}\n",
        "for num in numbers:\n",
        "    print(num)"
      ],
      "metadata": {
        "colab": {
          "base_uri": "https://localhost:8080/"
        },
        "id": "hg3G2D2zYIHD",
        "outputId": "0254e795-98d7-46bd-c494-8fef48f920d4"
      },
      "execution_count": null,
      "outputs": [
        {
          "output_type": "stream",
          "name": "stdout",
          "text": [
            "1\n",
            "2\n",
            "3\n",
            "4\n",
            "5\n"
          ]
        }
      ]
    },
    {
      "cell_type": "code",
      "source": [
        "set_a = {1, 2, 3, 4, 5}\n",
        "print(3 in set_a)"
      ],
      "metadata": {
        "colab": {
          "base_uri": "https://localhost:8080/"
        },
        "id": "7wqhY2JkHtd7",
        "outputId": "383928f9-63dd-4e77-8780-1f83716b4506"
      },
      "execution_count": null,
      "outputs": [
        {
          "output_type": "stream",
          "name": "stdout",
          "text": [
            "True\n"
          ]
        }
      ]
    },
    {
      "cell_type": "markdown",
      "source": [
        "\n",
        "___\n",
        "### Adding and Removing Elements\n",
        "___"
      ],
      "metadata": {
        "id": "Mh21mhgOYnS2"
      }
    },
    {
      "cell_type": "code",
      "source": [
        "numbers.add(6)\n",
        "numbers.discard(2) # Removes 2 if it exists, no error if it doesn't\n",
        "numbers.remove(3)  # Removes 3 but raises a keyError if it doesn't exist\n",
        "print(\"Updated set:\", numbers)"
      ],
      "metadata": {
        "colab": {
          "base_uri": "https://localhost:8080/"
        },
        "id": "1HEdpX1UY3aH",
        "outputId": "81e38f24-40f9-41ce-fa7f-3d134d482bc5"
      },
      "execution_count": null,
      "outputs": [
        {
          "output_type": "stream",
          "name": "stdout",
          "text": [
            "Updated set: {1, 4, 5, 6}\n"
          ]
        }
      ]
    },
    {
      "cell_type": "markdown",
      "source": [
        "\n",
        "___\n",
        "### Sets Operations\n",
        "___\n",
        "Sets support mathematical set operations like `union`, `intersection`, `difference`, etc."
      ],
      "metadata": {
        "id": "W5__jwuxZkvG"
      }
    },
    {
      "cell_type": "code",
      "source": [
        "set_a = {1, 2, 3}\n",
        "set_b = {3, 4, 5}\n",
        "\n",
        "# Union: all elements from both sets\n",
        "print(\"Union:\", set_a.union(set_b)) # or set_a | set_b\n",
        "\n",
        "# Update: adds items into existing set from another set\n",
        "set_a.update(set_b)\n",
        "print(\"Updated set_a:\", set_a)\n",
        "\n",
        "# Intersection: returns a new set containing elements common to all sets.\n",
        "print(\"Intersection:\", set_a.intersection(set_b)) # or set_a & set_b\n",
        "\n",
        "# Intersection_update: modifies the set to keep only common elements.\n",
        "set_a.intersection_update(set_b)\n",
        "print(\"Intersection_Updated set_a:\", set_a)\n",
        "\n",
        "# Difference: elements in set_a but not in set_b\n",
        "print(\"Difference:\", set_a.difference(set_b)) # or set_a - set_b\n",
        "\n",
        "# Difference_update: removes elements found in another set.\n",
        "set_a.difference_update(set_b)\n",
        "print(\"Difference_Updated set_a:\", set_a)\n",
        "\n",
        "# Symmetric Difference: elements in either set_a or set_b, but not both\n",
        "print(\"Symmetric Difference:\", set_a.symmetric_difference(set_b)) # or set_a ^ set_b\n",
        "\n",
        "# Symmetric_difference_update: updates the set to keep only elements from either set, but not both\n",
        "set_a.symmetric_difference_update(set_b)\n",
        "print(\"Symmetric_Difference_Updated set_a:\", set_a)"
      ],
      "metadata": {
        "colab": {
          "base_uri": "https://localhost:8080/"
        },
        "id": "OdQVqINpZ8lC",
        "outputId": "70f67d6c-aa11-4df8-f442-7aa0caa722dd"
      },
      "execution_count": null,
      "outputs": [
        {
          "output_type": "stream",
          "name": "stdout",
          "text": [
            "Union: {1, 2, 3, 4, 5}\n",
            "Updated set_a: {1, 2, 3, 4, 5}\n",
            "Intersection: {3, 4, 5}\n",
            "Intersection_Updated set_a: {3, 4, 5}\n",
            "Difference: set()\n",
            "Difference_Updated set_a: set()\n",
            "Symmetric Difference: {3, 4, 5}\n",
            "Symmetric_Difference_Updated set_a: {3, 4, 5}\n"
          ]
        }
      ]
    },
    {
      "cell_type": "markdown",
      "source": [
        "\n",
        "___\n",
        "### Set Methods\n",
        "___\n",
        "There are several `in-built` methods used for the manipulation of `set`."
      ],
      "metadata": {
        "id": "K_mdOo228wgw"
      }
    },
    {
      "cell_type": "code",
      "source": [
        "# Isdisjoint: checks if two sets have no common elements.\n",
        "set_a = {1, 2, 3}\n",
        "set_b = {4, 5, 6}\n",
        "print(\"Is disjoint:\", set_a.isdisjoint(set_b))"
      ],
      "metadata": {
        "id": "9qhFjph0-UYs",
        "colab": {
          "base_uri": "https://localhost:8080/"
        },
        "outputId": "a509ea8d-48d3-416d-fa07-308f785c4388"
      },
      "execution_count": null,
      "outputs": [
        {
          "output_type": "stream",
          "name": "stdout",
          "text": [
            "Is disjoint: True\n"
          ]
        }
      ]
    },
    {
      "cell_type": "code",
      "source": [
        "# Issuperset: checks if a set contains all elements of another set.\n",
        "set_a = {1, 2, 3}\n",
        "set_b = {1, 2, 3, 4, 5}\n",
        "print(\"Is superset:\", set_a.issuperset(set_b))\n",
        "print(\"Is superset:\", set_b.issuperset(set_a))"
      ],
      "metadata": {
        "colab": {
          "base_uri": "https://localhost:8080/"
        },
        "id": "3LsxCUVXBNt3",
        "outputId": "bda00a26-3481-4d1f-f328-ddc8100e1085"
      },
      "execution_count": null,
      "outputs": [
        {
          "output_type": "stream",
          "name": "stdout",
          "text": [
            "Is superset: False\n",
            "Is superset: True\n"
          ]
        }
      ]
    },
    {
      "cell_type": "code",
      "source": [
        "# Issubset: checks if all elements of a set are present in another set.\n",
        "set_a = {1, 2}\n",
        "set_b = {1, 2, 3, 4, 5}\n",
        "print(\"Is subset:\", set_a.issubset(set_b))"
      ],
      "metadata": {
        "colab": {
          "base_uri": "https://localhost:8080/"
        },
        "id": "4Ae-wAklBgui",
        "outputId": "84aaa377-0953-4776-c630-5b87c0749a04"
      },
      "execution_count": null,
      "outputs": [
        {
          "output_type": "stream",
          "name": "stdout",
          "text": [
            "Is subset: True\n"
          ]
        }
      ]
    },
    {
      "cell_type": "code",
      "source": [
        "# del() keyword: delete an entire set\n",
        "set_s = {1, 2, 3}\n",
        "del set_s  # Deletes the set completely"
      ],
      "metadata": {
        "id": "pTC97ejiByvb"
      },
      "execution_count": null,
      "outputs": []
    },
    {
      "cell_type": "code",
      "source": [
        "# pop(): removes and returns an arbitrary element from the set.\n",
        "set_a = {1, 2, 3}\n",
        "popped_element = set_a.pop()\n",
        "print(\"Popped element:\", popped_element)"
      ],
      "metadata": {
        "colab": {
          "base_uri": "https://localhost:8080/"
        },
        "id": "uWPfIMGDCPDb",
        "outputId": "e01ae477-3c99-4e36-eef0-4ac93698cd1e"
      },
      "execution_count": null,
      "outputs": [
        {
          "output_type": "stream",
          "name": "stdout",
          "text": [
            "Popped element: 1\n"
          ]
        }
      ]
    },
    {
      "cell_type": "code",
      "source": [
        "# len(): returns the number of elements in a set.\n",
        "set_a = {1, 2, 3}\n",
        "print(\"Length of set:\", len(set_a))"
      ],
      "metadata": {
        "colab": {
          "base_uri": "https://localhost:8080/"
        },
        "id": "E31ksmv_CpCl",
        "outputId": "c90a0103-8644-4180-df76-8f01d387228a"
      },
      "execution_count": null,
      "outputs": [
        {
          "output_type": "stream",
          "name": "stdout",
          "text": [
            "Length of set: 3\n"
          ]
        }
      ]
    },
    {
      "cell_type": "code",
      "source": [
        "# clear(): removes all elements from set\n",
        "set_a = {1, 2, 3}\n",
        "set_a.clear()\n",
        "print(\"Cleared set:\", set_a)"
      ],
      "metadata": {
        "colab": {
          "base_uri": "https://localhost:8080/"
        },
        "id": "tfH7TnBLCykQ",
        "outputId": "08eb6c49-c822-444a-e27b-49cb5d86ac31"
      },
      "execution_count": null,
      "outputs": [
        {
          "output_type": "stream",
          "name": "stdout",
          "text": [
            "Cleared set: set()\n"
          ]
        }
      ]
    },
    {
      "cell_type": "code",
      "source": [
        "# copy(): returns a shallow copy of the set\n",
        "set_a = {1, 2, 3}\n",
        "set_b = set_a.copy()\n",
        "print(\"Copied set:\", set_b)"
      ],
      "metadata": {
        "colab": {
          "base_uri": "https://localhost:8080/"
        },
        "id": "zqwcfDQ4DHyM",
        "outputId": "e19e0424-1f97-408b-c866-10b1f5b59a30"
      },
      "execution_count": null,
      "outputs": [
        {
          "output_type": "stream",
          "name": "stdout",
          "text": [
            "Copied set: {1, 2, 3}\n"
          ]
        }
      ]
    },
    {
      "cell_type": "markdown",
      "source": [
        "\n",
        "___\n",
        "### Duplicates not allowed\n",
        "___"
      ],
      "metadata": {
        "id": "jMQutn39DSli"
      }
    },
    {
      "cell_type": "code",
      "source": [
        "# True & 1, False & 0, considered the same value\n",
        "s = {True, 1, False, 0}\n",
        "print(s)"
      ],
      "metadata": {
        "colab": {
          "base_uri": "https://localhost:8080/"
        },
        "id": "HQYOiiPXDZwD",
        "outputId": "6e632f3a-b2f5-4a74-dcda-79074313e990"
      },
      "execution_count": null,
      "outputs": [
        {
          "output_type": "stream",
          "name": "stdout",
          "text": [
            "{False, True}\n"
          ]
        }
      ]
    },
    {
      "cell_type": "markdown",
      "source": [
        "\n",
        "___\n",
        "### Best Practice for Sets\n",
        "___\n",
        "\n",
        "1. Use sets when you need to efficiently test for membership (in check) and duplicates.\n",
        "2. Avoid storing immutable items in a set, items must be hashable(mutable).\n",
        "3. Use set operations for cleaner and more efficient code when dealing with membership and overlaps."
      ],
      "metadata": {
        "id": "0JtF6KpAaGaY"
      }
    }
  ]
}
