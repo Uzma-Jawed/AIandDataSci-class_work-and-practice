{
  "nbformat": 4,
  "nbformat_minor": 0,
  "metadata": {
    "colab": {
      "provenance": []
    },
    "kernelspec": {
      "name": "python3",
      "display_name": "Python 3"
    },
    "language_info": {
      "name": "python"
    }
  },
  "cells": [
    {
      "cell_type": "markdown",
      "source": [
        "@uzma_jawed"
      ],
      "metadata": {
        "id": "IIQS28WoO5qV"
      }
    },
    {
      "cell_type": "code",
      "source": [
        "# decorator\n",
        "def new_decorator(func):\n",
        "    def wrap_func():\n",
        "        print(\"Code before executing func\")\n",
        "        func()\n",
        "        print(\"Code after executing func\")\n",
        "    return wrap_func"
      ],
      "metadata": {
        "id": "YBwMF4ntOj2l"
      },
      "execution_count": null,
      "outputs": []
    },
    {
      "cell_type": "code",
      "source": [
        "@new_decorator\n",
        "def hello():\n",
        "    print(\"Hello\")"
      ],
      "metadata": {
        "id": "8mtrXxPcPf8N"
      },
      "execution_count": null,
      "outputs": []
    },
    {
      "cell_type": "code",
      "source": [
        "hello()"
      ],
      "metadata": {
        "colab": {
          "base_uri": "https://localhost:8080/"
        },
        "id": "lLr5qx3ePqtV",
        "outputId": "95b4e377-93b6-47fd-b785-45e7e9cef107"
      },
      "execution_count": null,
      "outputs": [
        {
          "output_type": "stream",
          "name": "stdout",
          "text": [
            "Code before executing func\n",
            "Hello\n",
            "Code after executing func\n"
          ]
        }
      ]
    },
    {
      "cell_type": "code",
      "source": [
        "def maths_decorator(func):\n",
        "    def wrapper(a, b):\n",
        "      print(\"Before Operation\")\n",
        "      result = func(a, b)\n",
        "      print(\"After Operation\")\n",
        "      return result\n",
        "    return wrapper"
      ],
      "metadata": {
        "id": "RDSFFgc-QcMd"
      },
      "execution_count": null,
      "outputs": []
    },
    {
      "cell_type": "code",
      "source": [
        "@maths_decorator\n",
        "def sum(a,b):\n",
        "    return a+b"
      ],
      "metadata": {
        "id": "jSs_Mt4NO9IV"
      },
      "execution_count": null,
      "outputs": []
    },
    {
      "cell_type": "code",
      "source": [
        "sum(6, 7)"
      ],
      "metadata": {
        "colab": {
          "base_uri": "https://localhost:8080/"
        },
        "id": "zDmUniYtUFaX",
        "outputId": "d3727d1e-8a0e-4813-a9c1-4f4706a167e5"
      },
      "execution_count": null,
      "outputs": [
        {
          "output_type": "stream",
          "name": "stdout",
          "text": [
            "Before Operation\n",
            "After Operation\n"
          ]
        },
        {
          "output_type": "execute_result",
          "data": {
            "text/plain": [
              "13"
            ]
          },
          "metadata": {},
          "execution_count": 7
        }
      ]
    },
    {
      "cell_type": "code",
      "source": [
        "@maths_decorator\n",
        "def sub(a, b):\n",
        "    return a-b"
      ],
      "metadata": {
        "id": "sAxbRDL7PRE9"
      },
      "execution_count": null,
      "outputs": []
    },
    {
      "cell_type": "code",
      "source": [
        "sub(6,7)"
      ],
      "metadata": {
        "colab": {
          "base_uri": "https://localhost:8080/"
        },
        "id": "s_yxbsubRGiW",
        "outputId": "4846a8ab-374d-458b-90e0-86cd713d6cae"
      },
      "execution_count": null,
      "outputs": [
        {
          "output_type": "stream",
          "name": "stdout",
          "text": [
            "Before Operation\n",
            "After Operation\n"
          ]
        },
        {
          "output_type": "execute_result",
          "data": {
            "text/plain": [
              "-1"
            ]
          },
          "metadata": {},
          "execution_count": 13
        }
      ]
    },
    {
      "cell_type": "code",
      "source": [
        "sub(4, 5)"
      ],
      "metadata": {
        "colab": {
          "base_uri": "https://localhost:8080/"
        },
        "id": "JJHOToIeQFP1",
        "outputId": "3cf0f00b-5ae9-43f1-ccc9-277291f41daa"
      },
      "execution_count": null,
      "outputs": [
        {
          "output_type": "stream",
          "name": "stdout",
          "text": [
            "Before Operation\n",
            "After Operation\n"
          ]
        },
        {
          "output_type": "execute_result",
          "data": {
            "text/plain": [
              "-1"
            ]
          },
          "metadata": {},
          "execution_count": 10
        }
      ]
    },
    {
      "cell_type": "code",
      "source": [
        "def some_func(*args, **kwargs):\n",
        "  print(args) # this is for positional argument\n",
        "  print(kwargs) # this is keyword argument"
      ],
      "metadata": {
        "id": "E-2IIXoFU_g2"
      },
      "execution_count": null,
      "outputs": []
    },
    {
      "cell_type": "code",
      "source": [
        "some_func(1, 2, 3, 4, \"uzma\", education = \"bs\")"
      ],
      "metadata": {
        "colab": {
          "base_uri": "https://localhost:8080/"
        },
        "id": "q11K5apxVSoG",
        "outputId": "3ade1014-f1ff-42e9-ac52-d1d06b1bb259"
      },
      "execution_count": null,
      "outputs": [
        {
          "output_type": "stream",
          "name": "stdout",
          "text": [
            "(1, 2, 3, 4, 'uzma')\n",
            "{'education': 'bs'}\n"
          ]
        }
      ]
    },
    {
      "cell_type": "code",
      "source": [
        "def my_generator():\n",
        "  \"\"\"Generate a value\"\"\"\n",
        "  yield 11\n",
        "  yield 2\n",
        "  yield 3\n",
        "  yield 4"
      ],
      "metadata": {
        "id": "fWgqm66WWZDv"
      },
      "execution_count": null,
      "outputs": []
    },
    {
      "cell_type": "code",
      "source": [
        "my_generator"
      ],
      "metadata": {
        "id": "psvFTViXZ4P5",
        "outputId": "9740a4c3-f4e8-478c-a9b1-191a31579c4f",
        "colab": {
          "base_uri": "https://localhost:8080/",
          "height": 103
        }
      },
      "execution_count": null,
      "outputs": [
        {
          "output_type": "execute_result",
          "data": {
            "text/plain": [
              "<function __main__.my_generator()>"
            ],
            "text/html": [
              "<div style=\"max-width:800px; border: 1px solid var(--colab-border-color);\"><style>\n",
              "      pre.function-repr-contents {\n",
              "        overflow-x: auto;\n",
              "        padding: 8px 12px;\n",
              "        max-height: 500px;\n",
              "      }\n",
              "\n",
              "      pre.function-repr-contents.function-repr-contents-collapsed {\n",
              "        cursor: pointer;\n",
              "        max-height: 100px;\n",
              "      }\n",
              "    </style>\n",
              "    <pre style=\"white-space: initial; background:\n",
              "         var(--colab-secondary-surface-color); padding: 8px 12px;\n",
              "         border-bottom: 1px solid var(--colab-border-color);\"><b>my_generator</b><br/>def my_generator()</pre><pre class=\"function-repr-contents function-repr-contents-collapsed\" style=\"\"><a class=\"filepath\" style=\"display:none\" href=\"#\">/content/&lt;ipython-input-13-864929056&gt;</a>Generate a value</pre></div>"
            ]
          },
          "metadata": {},
          "execution_count": 14
        }
      ]
    },
    {
      "cell_type": "code",
      "source": [
        "for i in my_generator():\n",
        "  print(i)"
      ],
      "metadata": {
        "colab": {
          "base_uri": "https://localhost:8080/"
        },
        "id": "GbRuSvZRYjCH",
        "outputId": "88e9b86b-a52f-41d3-9fdc-ec8e3be66764"
      },
      "execution_count": null,
      "outputs": [
        {
          "output_type": "stream",
          "name": "stdout",
          "text": [
            "11\n",
            "2\n",
            "3\n",
            "4\n"
          ]
        }
      ]
    },
    {
      "cell_type": "code",
      "source": [
        "def my_generator():\n",
        "  for i in range(1, 5):\n",
        "    yield i"
      ],
      "metadata": {
        "id": "-1Iacw6BXREn"
      },
      "execution_count": null,
      "outputs": []
    },
    {
      "cell_type": "code",
      "source": [
        "my_generator()"
      ],
      "metadata": {
        "colab": {
          "base_uri": "https://localhost:8080/"
        },
        "id": "uwggNTT3YCMP",
        "outputId": "d244f7db-d6e0-4572-f503-3b600ce7083e"
      },
      "execution_count": null,
      "outputs": [
        {
          "output_type": "execute_result",
          "data": {
            "text/plain": [
              "<generator object my_generator at 0x7b8344ebbc60>"
            ]
          },
          "metadata": {},
          "execution_count": 47
        }
      ]
    },
    {
      "cell_type": "code",
      "source": [
        "gen = my_generator()"
      ],
      "metadata": {
        "id": "zCacCzTJZQD5"
      },
      "execution_count": null,
      "outputs": []
    },
    {
      "cell_type": "code",
      "source": [
        "for i in gen:\n",
        "  print(i)"
      ],
      "metadata": {
        "colab": {
          "base_uri": "https://localhost:8080/"
        },
        "id": "8KHZLAASZVrH",
        "outputId": "e6f1da7d-ed1a-4557-f294-e2e9417d5ed8"
      },
      "execution_count": null,
      "outputs": [
        {
          "output_type": "stream",
          "name": "stdout",
          "text": [
            "1\n",
            "2\n",
            "3\n",
            "4\n"
          ]
        }
      ]
    },
    {
      "cell_type": "code",
      "source": [
        "def my_generator():\n",
        "  for i in range(1, 5):\n",
        "    yield i"
      ],
      "metadata": {
        "id": "boDjBqZDZZuf"
      },
      "execution_count": null,
      "outputs": []
    },
    {
      "cell_type": "code",
      "source": [
        "gen = my_generator()"
      ],
      "metadata": {
        "id": "OXXJ5IgLbI7I"
      },
      "execution_count": null,
      "outputs": []
    },
    {
      "cell_type": "code",
      "source": [
        "for i in gen:\n",
        "  print(i)"
      ],
      "metadata": {
        "colab": {
          "base_uri": "https://localhost:8080/"
        },
        "id": "Ml_GG0IlbOvw",
        "outputId": "e8a8ee18-c5d2-44d0-bff9-0dcba0eb73ec"
      },
      "execution_count": null,
      "outputs": [
        {
          "output_type": "stream",
          "name": "stdout",
          "text": [
            "1\n",
            "2\n",
            "3\n",
            "4\n"
          ]
        }
      ]
    },
    {
      "cell_type": "code",
      "source": [
        "student_name =[\"uzma\", \"unza\", \"urwa\", \"iza\", \"irsa\"]"
      ],
      "metadata": {
        "id": "XqWaWPaibW_o"
      },
      "execution_count": null,
      "outputs": []
    },
    {
      "cell_type": "code",
      "source": [
        "def name_list(student_name):\n",
        "  for i in student_name:\n",
        "    return i"
      ],
      "metadata": {
        "id": "VEtHG2nOcBPJ"
      },
      "execution_count": null,
      "outputs": []
    },
    {
      "cell_type": "code",
      "source": [
        "name_list(student_name)"
      ],
      "metadata": {
        "colab": {
          "base_uri": "https://localhost:8080/",
          "height": 35
        },
        "id": "ECDj_dYEcI8I",
        "outputId": "cee4f3f7-618d-4a65-9fad-8b52f080206e"
      },
      "execution_count": null,
      "outputs": [
        {
          "output_type": "execute_result",
          "data": {
            "text/plain": [
              "'uzma'"
            ],
            "application/vnd.google.colaboratory.intrinsic+json": {
              "type": "string"
            }
          },
          "metadata": {},
          "execution_count": 33
        }
      ]
    },
    {
      "cell_type": "code",
      "source": [
        "def name_list():\n",
        "  for i in student_name:\n",
        "    yield i"
      ],
      "metadata": {
        "id": "UlHzOEoCclzC"
      },
      "execution_count": null,
      "outputs": []
    },
    {
      "cell_type": "code",
      "source": [
        "name_list()"
      ],
      "metadata": {
        "colab": {
          "base_uri": "https://localhost:8080/"
        },
        "id": "D8C5fQD6cmFJ",
        "outputId": "8afd0e8f-753d-4ddf-8e34-459a12114c28"
      },
      "execution_count": null,
      "outputs": [
        {
          "output_type": "execute_result",
          "data": {
            "text/plain": [
              "<generator object name_list at 0x799129baebc0>"
            ]
          },
          "metadata": {},
          "execution_count": 36
        }
      ]
    },
    {
      "cell_type": "code",
      "source": [
        "name_list_gen = name_list()"
      ],
      "metadata": {
        "id": "IdJY1C5Ye16C"
      },
      "execution_count": null,
      "outputs": []
    },
    {
      "cell_type": "code",
      "source": [
        "for i in name_list_gen:\n",
        "  print(i)"
      ],
      "metadata": {
        "colab": {
          "base_uri": "https://localhost:8080/"
        },
        "id": "eFBMSAqKe_D6",
        "outputId": "0d37d868-aa5a-45d0-b87a-ab0b6aee8b89"
      },
      "execution_count": null,
      "outputs": [
        {
          "output_type": "stream",
          "name": "stdout",
          "text": [
            "uzma\n",
            "unza\n",
            "urwa\n",
            "iza\n",
            "irsa\n"
          ]
        }
      ]
    },
    {
      "cell_type": "code",
      "source": [
        "name = iter(student_name)"
      ],
      "metadata": {
        "id": "nlfeReIUfX-a"
      },
      "execution_count": null,
      "outputs": []
    },
    {
      "cell_type": "code",
      "source": [
        "print(next(name))"
      ],
      "metadata": {
        "colab": {
          "base_uri": "https://localhost:8080/"
        },
        "id": "jI88ze3xgfcb",
        "outputId": "2392152a-d53b-473d-e98d-f84bbb7aad3c"
      },
      "execution_count": null,
      "outputs": [
        {
          "output_type": "stream",
          "name": "stdout",
          "text": [
            "uzma\n"
          ]
        }
      ]
    },
    {
      "cell_type": "code",
      "source": [
        "print(next(name))"
      ],
      "metadata": {
        "colab": {
          "base_uri": "https://localhost:8080/"
        },
        "id": "7PHX7z35gpMK",
        "outputId": "73be48ea-4e98-4e37-a544-6f08d8a57f51"
      },
      "execution_count": null,
      "outputs": [
        {
          "output_type": "stream",
          "name": "stdout",
          "text": [
            "unza\n"
          ]
        }
      ]
    },
    {
      "cell_type": "code",
      "source": [
        "print(next(name))"
      ],
      "metadata": {
        "colab": {
          "base_uri": "https://localhost:8080/"
        },
        "id": "FwsXzT48guKy",
        "outputId": "e98aa4b0-7334-4ab8-9a87-da8839101a1d"
      },
      "execution_count": null,
      "outputs": [
        {
          "output_type": "stream",
          "name": "stdout",
          "text": [
            "urwa\n"
          ]
        }
      ]
    },
    {
      "cell_type": "code",
      "source": [
        "print(next(name))"
      ],
      "metadata": {
        "colab": {
          "base_uri": "https://localhost:8080/"
        },
        "id": "4qz_uQJ2gvoC",
        "outputId": "39e96aa4-1e7d-422f-92d7-a7a7a1267217"
      },
      "execution_count": null,
      "outputs": [
        {
          "output_type": "stream",
          "name": "stdout",
          "text": [
            "iza\n"
          ]
        }
      ]
    },
    {
      "cell_type": "code",
      "source": [
        "print(next(name))"
      ],
      "metadata": {
        "colab": {
          "base_uri": "https://localhost:8080/"
        },
        "id": "Fp3ovZYBgxAi",
        "outputId": "2772f336-c7dc-495a-9ba7-44f72ae4f738"
      },
      "execution_count": null,
      "outputs": [
        {
          "output_type": "stream",
          "name": "stdout",
          "text": [
            "irsa\n"
          ]
        }
      ]
    },
    {
      "cell_type": "code",
      "source": [
        "try:\n",
        "  #5/0\n",
        "  \"a\" + 3\n",
        "except ZeroDivisionError:\n",
        "  print(\"You are trying to divide by zero\")\n",
        "\n",
        "except Exception as e:\n",
        "  print(e)"
      ],
      "metadata": {
        "colab": {
          "base_uri": "https://localhost:8080/"
        },
        "id": "4Uawr3y1gyr9",
        "outputId": "dabba835-e1ce-459e-b990-d28febfdb705"
      },
      "execution_count": null,
      "outputs": [
        {
          "output_type": "stream",
          "name": "stdout",
          "text": [
            "can only concatenate str (not \"int\") to str\n"
          ]
        }
      ]
    },
    {
      "cell_type": "code",
      "source": [
        "def sum(i, j):\n",
        "    try:\n",
        "     add = i + j\n",
        "     return add\n",
        "    except Exception as e:\n",
        "      return e\n",
        "\n",
        "sum(3, 2)"
      ],
      "metadata": {
        "colab": {
          "base_uri": "https://localhost:8080/"
        },
        "id": "274JUBamjpTk",
        "outputId": "66995165-e90e-40f1-c717-767d53ba40d5"
      },
      "execution_count": null,
      "outputs": [
        {
          "output_type": "execute_result",
          "data": {
            "text/plain": [
              "5"
            ]
          },
          "metadata": {},
          "execution_count": 47
        }
      ]
    },
    {
      "cell_type": "markdown",
      "source": [
        "\n",
        "#Topics discussed\n",
        "\n",
        "Numpy, Pandas, Graphs, categorical Data, Synthetic data generation, Variation Data, Array vs List, decorators, generators, error handling, try:except, iterators, wrapper function, args, kwargs, lazy functions, Git fork.\n",
        "\n",
        "#Topics to learn for next class\n",
        "Calculus, Linear Algebra, matrices, dot product, add, sub of matrix, matrices vectors, transpose of a matrix."
      ],
      "metadata": {
        "id": "KDvQV5wGcKTp"
      }
    }
  ]
}
