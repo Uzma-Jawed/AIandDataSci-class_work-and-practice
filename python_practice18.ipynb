{
  "nbformat": 4,
  "nbformat_minor": 0,
  "metadata": {
    "colab": {
      "provenance": []
    },
    "kernelspec": {
      "name": "python3",
      "display_name": "Python 3"
    },
    "language_info": {
      "name": "python"
    }
  },
  "cells": [
    {
      "cell_type": "markdown",
      "source": [
        "@Uzma_Jawed"
      ],
      "metadata": {
        "id": "coRvS5TFDWNk"
      }
    },
    {
      "cell_type": "markdown",
      "source": [
        "___\n",
        "### OOP in python\n",
        "___\n",
        "To map with real world scenarios, we started using object in code. This is called OOP (Object Oriented Programming).\n",
        "___\n",
        "**Class**\n",
        "___\n",
        "In (OOP), a class is a blueprint for creating objects. It defines attributes (variables) and methods (functions) that describe and control the behavior of the object.\n",
        "___"
      ],
      "metadata": {
        "id": "fWS5HFNEZ7ix"
      }
    },
    {
      "cell_type": "markdown",
      "source": [
        "| 🧠 **Key Concept**     | **Description**                                      |\n",
        "|------------------------|------------------------------------------------------|\n",
        "| `__init__()`           | Constructor method called when an object is created.|\n",
        "| `self`                 | Refers to the current instance of the class.         |\n",
        "| Instance Variables     | Variables unique to each object.                    |\n",
        "| Methods                | Functions defined inside a class.                   |\n",
        "| Object                 | An instance of a class.                             |\n"
      ],
      "metadata": {
        "id": "jynx82bn9-XP"
      }
    },
    {
      "cell_type": "markdown",
      "source": [
        "___\n",
        "In (OOP), there are three main types of methods:\n",
        "___\n",
        "*   Instance Method\n",
        "*   Class Method\n",
        "*   Static Method\n",
        "___"
      ],
      "metadata": {
        "id": "ZJhLUivqARF4"
      }
    },
    {
      "cell_type": "markdown",
      "source": [
        "___\n",
        "🔍 Key Differences Between Python Method Types\n",
        "___\n",
        "\n",
        "| **Method Type**   | **Uses `self`?** | **Uses `cls`?** | **Use Case**                              |\n",
        "|------------------|------------------|------------------|--------------------------------------------|\n",
        "| Instance Method   | ✅ Yes           | ❌ No           | Access instance variables/methods          |\n",
        "| Class Method      | ❌ No            | ✅ Yes          | Access/modify class variables              |\n",
        "| Static Method     | ❌ No            | ❌ No           | Utility functions related to the class     |"
      ],
      "metadata": {
        "id": "iLPW7jFIC1pE"
      }
    },
    {
      "cell_type": "markdown",
      "source": [
        "___\n",
        "1. Instance Method:\n",
        "___\n",
        "\n",
        "*   The most common type.\n",
        "\n",
        "*   Works with instance variables.\n",
        "\n",
        "*   Uses self as the first parameter.\n",
        "___"
      ],
      "metadata": {
        "id": "BBVJAee9Ar0k"
      }
    },
    {
      "cell_type": "code",
      "source": [
        "class Student:\n",
        "    def __init__(self, name, age, education):\n",
        "        self.name = \"Sara\"\n",
        "        self.age = 9\n",
        "        self.education = \"Primary\"\n",
        "\n",
        "    def greeting(self):\n",
        "        return (\"Hello\", self.name)"
      ],
      "metadata": {
        "id": "v_V_GaccGijO"
      },
      "execution_count": null,
      "outputs": []
    },
    {
      "cell_type": "code",
      "source": [
        "student1 = Student(\"Sara\", 9, \"Primary\")"
      ],
      "metadata": {
        "id": "-i7zXu2lHlcA"
      },
      "execution_count": null,
      "outputs": []
    },
    {
      "cell_type": "code",
      "source": [
        "student1.greeting()"
      ],
      "metadata": {
        "colab": {
          "base_uri": "https://localhost:8080/"
        },
        "id": "ztFq6nqwIJpf",
        "outputId": "69a2210d-403d-44e6-924b-bf86596085ab"
      },
      "execution_count": null,
      "outputs": [
        {
          "output_type": "execute_result",
          "data": {
            "text/plain": [
              "('Hello', 'Sara')"
            ]
          },
          "metadata": {},
          "execution_count": 3
        }
      ]
    },
    {
      "cell_type": "code",
      "source": [
        "name1 = input(\"Enter your name: \")"
      ],
      "metadata": {
        "colab": {
          "base_uri": "https://localhost:8080/"
        },
        "id": "mQxOPcDsOG5n",
        "outputId": "984ece46-7712-4ac0-f3d3-f7aa603919d6"
      },
      "execution_count": null,
      "outputs": [
        {
          "name": "stdout",
          "output_type": "stream",
          "text": [
            "Enter your name: Sara\n"
          ]
        }
      ]
    },
    {
      "cell_type": "code",
      "source": [
        "student1 = Student(name1, 9, \"Primary\")"
      ],
      "metadata": {
        "id": "a6wikJh0ZWrv"
      },
      "execution_count": null,
      "outputs": []
    },
    {
      "cell_type": "code",
      "source": [
        "student1.greeting()"
      ],
      "metadata": {
        "colab": {
          "base_uri": "https://localhost:8080/"
        },
        "id": "NCfX2cIgFupy",
        "outputId": "bb1c9a94-c4d4-4f06-ca6b-97882e4e6dff"
      },
      "execution_count": null,
      "outputs": [
        {
          "output_type": "execute_result",
          "data": {
            "text/plain": [
              "('Hello', 'Sara')"
            ]
          },
          "metadata": {},
          "execution_count": 9
        }
      ]
    },
    {
      "cell_type": "markdown",
      "source": [
        "___\n",
        "2. Class Method\n",
        "___\n",
        "*   Works with class variables, not instance variables.\n",
        "\n",
        "*   Uses @classmethod decorator.\n",
        "\n",
        "*   First parameter is cls (refers to the class)."
      ],
      "metadata": {
        "id": "wKkiDiliHsMw"
      }
    },
    {
      "cell_type": "code",
      "source": [
        "# Example: Student Class with Class Method\n",
        "\n",
        "class Student:\n",
        "    school_name = \"Sea View Academy\"  # Class variable\n",
        "\n",
        "    def __init__(self, name):\n",
        "        self.name = name  # Instance variable\n",
        "\n",
        "    @classmethod\n",
        "    def get_school_name(cls):\n",
        "        return (\"The school name is\", cls.school_name)"
      ],
      "metadata": {
        "id": "D161mR03L0IC"
      },
      "execution_count": null,
      "outputs": []
    },
    {
      "cell_type": "code",
      "source": [
        "Student.get_school_name()"
      ],
      "metadata": {
        "colab": {
          "base_uri": "https://localhost:8080/"
        },
        "id": "jjfk2Hydc-R4",
        "outputId": "8154b37f-5828-40f5-8a17-d17ab06ec4aa"
      },
      "execution_count": null,
      "outputs": [
        {
          "output_type": "execute_result",
          "data": {
            "text/plain": [
              "('The school name is', 'Sea View Academy')"
            ]
          },
          "metadata": {},
          "execution_count": 74
        }
      ]
    },
    {
      "cell_type": "markdown",
      "source": [
        "___\n",
        "3. Static Method\n",
        "___\n",
        "*   Doesn’t depend on self or cls.\n",
        "\n",
        "*   A regular utility function inside the class.\n",
        "\n",
        "*   Uses @staticmethod decorator."
      ],
      "metadata": {
        "id": "NRzG0ICxIm0f"
      }
    },
    {
      "cell_type": "code",
      "source": [
        "class MyClass:\n",
        "    @staticmethod\n",
        "    def greet():\n",
        "        print(\"Hello from a static method!\")\n",
        "\n",
        "# Call the static method\n",
        "MyClass.greet()"
      ],
      "metadata": {
        "colab": {
          "base_uri": "https://localhost:8080/"
        },
        "id": "d2aerz5gKGcF",
        "outputId": "db717044-95de-4595-c054-66e79bd157f3"
      },
      "execution_count": null,
      "outputs": [
        {
          "output_type": "stream",
          "name": "stdout",
          "text": [
            "Hello from a static method!\n"
          ]
        }
      ]
    },
    {
      "cell_type": "code",
      "source": [
        "class Math:\n",
        "\n",
        "  @staticmethod\n",
        "  def add (a, b):\n",
        "    return a+b\n",
        "\n",
        "  @staticmethod\n",
        "  def sub (a, b):\n",
        "    return a-b\n",
        "\n",
        "  @staticmethod\n",
        "  def mul (a, b):\n",
        "    return a*b\n",
        "\n",
        "  @staticmethod\n",
        "  def div (a, b):\n",
        "    return a/b"
      ],
      "metadata": {
        "id": "bTDUPfS6RDZR"
      },
      "execution_count": null,
      "outputs": []
    },
    {
      "cell_type": "code",
      "source": [
        "print(Math.add(80, 9))\n",
        "print(Math.sub(80, 9))\n",
        "print(Math.mul(80, 9))\n",
        "print(Math.div(80, 9))"
      ],
      "metadata": {
        "colab": {
          "base_uri": "https://localhost:8080/"
        },
        "id": "EFVHm_EfRBa4",
        "outputId": "db942e04-249f-46d7-e365-d1568aae9dbc"
      },
      "execution_count": null,
      "outputs": [
        {
          "output_type": "stream",
          "name": "stdout",
          "text": [
            "89\n",
            "71\n",
            "720\n",
            "8.88888888888889\n"
          ]
        }
      ]
    },
    {
      "cell_type": "code",
      "source": [
        "class Student:\n",
        "    def __init__(self, name, age, education):\n",
        "        self.name = \"Sara\"\n",
        "        self.age = 9\n",
        "        self.education = \"Primary\"\n",
        "    def greeting(self):\n",
        "        return (\"Hello\", self.name)\n",
        "\n",
        "    @staticmethod\n",
        "    def vacation():\n",
        "        return \"1st june to 31st july\""
      ],
      "metadata": {
        "id": "gP4RUltSTo6V"
      },
      "execution_count": null,
      "outputs": []
    },
    {
      "cell_type": "code",
      "source": [
        "std1 = Student(\"Sara\", 9, \"Primary\")\n",
        "print(Student.vacation())"
      ],
      "metadata": {
        "colab": {
          "base_uri": "https://localhost:8080/"
        },
        "id": "boArneE6UdER",
        "outputId": "b7bc41bd-33b8-4156-a12b-35e26c43e6aa"
      },
      "execution_count": null,
      "outputs": [
        {
          "output_type": "stream",
          "name": "stdout",
          "text": [
            "1st june to 31st july\n"
          ]
        }
      ]
    },
    {
      "cell_type": "code",
      "source": [
        "s1 = Student(\"Urwa\")\n",
        "print(s1.get_school_name())      # Access via instance\n",
        "print(Student.get_school_name()) # Access via class"
      ],
      "metadata": {
        "colab": {
          "base_uri": "https://localhost:8080/"
        },
        "id": "AMHyjeGyMHlh",
        "outputId": "0e584060-8f2c-4a5b-a43d-8316163a7faa"
      },
      "execution_count": null,
      "outputs": [
        {
          "output_type": "stream",
          "name": "stdout",
          "text": [
            "('The school name is', 'Sea View Academy')\n",
            "('The school name is', 'Sea View Academy')\n"
          ]
        }
      ]
    },
    {
      "cell_type": "code",
      "source": [
        "class Human:\n",
        "    def __init__(self, region, language, culture, life_style):\n",
        "        self.region = region\n",
        "        self.language = language\n",
        "        self.culture = culture\n",
        "        self.life_style = life_style\n",
        "\n",
        "    def introduction(abc):\n",
        "        print(\"This human comes from\", abc.region)\n",
        "\n",
        "    def speak(self):\n",
        "        return \"Some language they will speak\"\n",
        "\n",
        "\n",
        "class Asia(Human):\n",
        "    def __init__(self, region, language, culture, life_style_extra):\n",
        "        super().__init__(region, language, culture, life_style_extra)\n",
        "        self.language = language\n",
        "        self.culture = culture\n",
        "        self.life_style = life_style_extra\n",
        "\n",
        "    def life_style_extra(abc):\n",
        "        print(f\"This '{abc.life_style}' lifestyle is in the region '{abc.region}'.\")\n",
        "\n",
        "    def culture_extra(abc):\n",
        "        print(f\"This '{abc.culture}' culture is in the region '{abc.region}'.\")\n",
        "\n",
        "    def speak(abc):\n",
        "        return f\"This region speaks '{abc.language}'.\""
      ],
      "metadata": {
        "id": "e3EZ1zO3VsR8"
      },
      "execution_count": null,
      "outputs": []
    },
    {
      "cell_type": "code",
      "source": [
        "human = Human(\"Pakistan\", \"Urdu\", \"Pakistani\", \"Eastern\")"
      ],
      "metadata": {
        "id": "-OroPJT8Ki3I"
      },
      "execution_count": null,
      "outputs": []
    },
    {
      "cell_type": "code",
      "source": [
        "human.speak()"
      ],
      "metadata": {
        "colab": {
          "base_uri": "https://localhost:8080/",
          "height": 267
        },
        "id": "hb02yzH1Kv0s",
        "outputId": "4780c7f9-23fa-4dcf-cd55-66e594160040"
      },
      "execution_count": null,
      "outputs": [
        {
          "output_type": "error",
          "ename": "NameError",
          "evalue": "name 'human' is not defined",
          "traceback": [
            "\u001b[0;31m---------------------------------------------------------------------------\u001b[0m",
            "\u001b[0;31mNameError\u001b[0m                                 Traceback (most recent call last)",
            "\u001b[0;32m<ipython-input-1-dd787df4cc69>\u001b[0m in \u001b[0;36m<cell line: 0>\u001b[0;34m()\u001b[0m\n\u001b[0;32m----> 1\u001b[0;31m \u001b[0mhuman\u001b[0m\u001b[0;34m.\u001b[0m\u001b[0mspeak\u001b[0m\u001b[0;34m(\u001b[0m\u001b[0;34m)\u001b[0m\u001b[0;34m\u001b[0m\u001b[0;34m\u001b[0m\u001b[0m\n\u001b[0m",
            "\u001b[0;31mNameError\u001b[0m: name 'human' is not defined"
          ]
        }
      ]
    },
    {
      "cell_type": "code",
      "source": [
        "asia = Asia(\"Asia\", \"Urdu\", \"Pakistani\", \"Eastern\")"
      ],
      "metadata": {
        "id": "wDuqj24iIp1B"
      },
      "execution_count": null,
      "outputs": []
    },
    {
      "cell_type": "code",
      "source": [
        "asia.life_style"
      ],
      "metadata": {
        "colab": {
          "base_uri": "https://localhost:8080/",
          "height": 35
        },
        "id": "n5k9hm-SJel1",
        "outputId": "08e3fd4b-9376-4d96-8895-f066b4a0c6e0"
      },
      "execution_count": null,
      "outputs": [
        {
          "output_type": "execute_result",
          "data": {
            "text/plain": [
              "'Eastern'"
            ],
            "application/vnd.google.colaboratory.intrinsic+json": {
              "type": "string"
            }
          },
          "metadata": {},
          "execution_count": 9
        }
      ]
    },
    {
      "cell_type": "code",
      "source": [
        "asia.life_style_extra()"
      ],
      "metadata": {
        "colab": {
          "base_uri": "https://localhost:8080/"
        },
        "id": "p3cGWYQeJk9J",
        "outputId": "488e832d-6d87-442d-aa11-2765cdd1ee60"
      },
      "execution_count": null,
      "outputs": [
        {
          "output_type": "stream",
          "name": "stdout",
          "text": [
            "This 'Eastern' lifestyle is in the region 'Asia'.\n"
          ]
        }
      ]
    },
    {
      "cell_type": "code",
      "source": [
        "asia.speak()"
      ],
      "metadata": {
        "colab": {
          "base_uri": "https://localhost:8080/",
          "height": 35
        },
        "id": "IOmz-mTYL5i9",
        "outputId": "7f4dfe38-d03a-4fc3-cbf2-07120dd6381c"
      },
      "execution_count": null,
      "outputs": [
        {
          "output_type": "execute_result",
          "data": {
            "text/plain": [
              "\"This region speaks 'Urdu'.\""
            ],
            "application/vnd.google.colaboratory.intrinsic+json": {
              "type": "string"
            }
          },
          "metadata": {},
          "execution_count": 10
        }
      ]
    },
    {
      "cell_type": "code",
      "source": [
        "asia.introduction()"
      ],
      "metadata": {
        "colab": {
          "base_uri": "https://localhost:8080/"
        },
        "id": "8C3XCIVgPr-U",
        "outputId": "a6fd1de4-c804-486e-866f-5f2135644393"
      },
      "execution_count": null,
      "outputs": [
        {
          "output_type": "stream",
          "name": "stdout",
          "text": [
            "This human comes from Asia\n"
          ]
        }
      ]
    },
    {
      "cell_type": "markdown",
      "source": [
        "___\n",
        "@ Decorator in Python\n",
        "___\n",
        "A decorator is a function that modifies the behavior of another function or method without changing its code directly. It is often used for code reuse, logging, access control, and more."
      ],
      "metadata": {
        "id": "DekcyD6zW606"
      }
    },
    {
      "cell_type": "markdown",
      "source": [
        "### 🔹 Built-in Decorators in Python OOP\n",
        "\n",
        "| Decorator      | Used For                                 |\n",
        "|----------------|-------------------------------------------|\n",
        "| `@staticmethod`| Defines a static method                   |\n",
        "| `@classmethod` | Defines a class method                    |\n",
        "| `@property`    | Makes a method behave like an attribute   |\n"
      ],
      "metadata": {
        "id": "z2EcnFaDXOiw"
      }
    },
    {
      "cell_type": "markdown",
      "source": [
        "___\n",
        "### 🎯 **Dependent and Independent Variables**\n",
        "___\n",
        "These terms are most common in **math**, **science**, **statistics**, and **machine learning**.\n",
        "\n",
        "---\n",
        "\n",
        "### ✅ Independent Variable (Input / Cause)\n",
        "\n",
        "* The variable **you change or control**.\n",
        "* It’s the **input** that affects the outcome.\n",
        "\n",
        "🧪 Example: In an experiment to test how sunlight affects plant growth,\n",
        "**Independent Variable** = amount of sunlight\n",
        "\n",
        "---\n",
        "\n",
        "### ✅ Dependent Variable (Output / Effect)\n",
        "\n",
        "* The variable that **depends on** the independent variable.\n",
        "* It’s the **output** you measure.\n",
        "\n",
        "🧪 Example: In the same plant experiment,\n",
        "**Dependent Variable** = plant height or growth\n",
        "\n",
        "---\n",
        "\n",
        "### 📊 Example in Machine Learning:\n",
        "___\n",
        "\n",
        "Suppose you're building a model to predict house prices:\n",
        "\n",
        "| Feature (Independent Variable) | Target (Dependent Variable) |\n",
        "| ------------------------------ | --------------------------- |\n",
        "| Size of the house              | Price of the house          |\n",
        "| Location                       | Price of the house          |\n",
        "| Number of rooms                | Price of the house          |\n",
        "\n",
        "---\n",
        "\n",
        "### 🎓 Simple Way to Remember:\n",
        "\n",
        "> **Independent** = “I decide”\n",
        "> **Dependent** = “Depends on what I decide”\n",
        "\n",
        "---"
      ],
      "metadata": {
        "id": "-y5jQ0ylX-S5"
      }
    },
    {
      "cell_type": "markdown",
      "source": [
        "### ❓ Why Use a `@staticmethod` in Python?\n",
        "\n",
        "A **static method** is used when a function **belongs logically to a class**, but it **does not need to access class (`cls`) or instance (`self`) data**.\n",
        "\n",
        "---\n",
        "\n",
        "### ✅ Key Reasons to Use `@staticmethod`:\n",
        "\n",
        "1. **Utility Functions**: When you want to group related helper functions inside a class (instead of keeping them outside).\n",
        "\n",
        "2. **No Access to Class or Instance Needed**: If the method doesn't use `self` or `cls`, use `@staticmethod` to show that clearly.\n",
        "\n",
        "3. **Organized Code**: Keeps code **clean and structured** by placing utility methods where they belong, inside the relevant class.\n",
        "\n",
        "---"
      ],
      "metadata": {
        "id": "JWnT10UnYTO5"
      }
    },
    {
      "cell_type": "code",
      "source": [
        "###  Example:\n",
        "class Calculator:\n",
        "    @staticmethod\n",
        "    def add(a, b):\n",
        "        return a + b\n",
        "\n",
        "    @staticmethod\n",
        "    def multiply(a, b):\n",
        "        return a * b"
      ],
      "metadata": {
        "id": "X3TpJS0bYhY6"
      },
      "execution_count": null,
      "outputs": []
    },
    {
      "cell_type": "markdown",
      "source": [
        "🔍 Without @staticmethod:\n",
        "If you define such methods without @staticmethod, Python will expect a self argument — causing errors if it's not provided.\n",
        "\n",
        "Think of It Like:\n",
        "“This function is related to the class’s purpose,\n",
        "but it doesn’t need to know anything about the object or class itself.”"
      ],
      "metadata": {
        "id": "xY5khFRkYw3O"
      }
    },
    {
      "cell_type": "markdown",
      "source": [
        "___\n",
        "4 pillars of Object-Oriented Programming (OOP)\n",
        "___"
      ],
      "metadata": {
        "id": "aJbm-bibZHFR"
      }
    },
    {
      "cell_type": "markdown",
      "source": [
        "🔹 1. Inheritance\n",
        "___\n",
        "Definition: One class (child) inherits properties and methods from another class (parent)."
      ],
      "metadata": {
        "id": "fgPPFTdpZS5a"
      }
    },
    {
      "cell_type": "code",
      "source": [
        "class Animal:\n",
        "    def speak(self):\n",
        "        return \"I make a sound\"\n",
        "\n",
        "class Dog(Animal):  # Inherits from Animal\n",
        "    def bark(self):\n",
        "        return \"Woof!\"\n",
        "\n",
        "d = Dog()\n",
        "print(d.speak())  # From Animal\n",
        "print(d.bark())   # From Dog"
      ],
      "metadata": {
        "colab": {
          "base_uri": "https://localhost:8080/"
        },
        "id": "MTTEzGWwZYWC",
        "outputId": "3297961d-8d4e-43de-9b28-bc0e658f7e86"
      },
      "execution_count": null,
      "outputs": [
        {
          "output_type": "stream",
          "name": "stdout",
          "text": [
            "I make a sound\n",
            "Woof!\n"
          ]
        }
      ]
    },
    {
      "cell_type": "markdown",
      "source": [
        "___\n",
        "🔹 2. Polymorphism\n",
        "___\n",
        "Definition: Same method name behaves differently in different classes."
      ],
      "metadata": {
        "id": "tOnkRKkoZeLp"
      }
    },
    {
      "cell_type": "code",
      "source": [
        "class Cat:\n",
        "    def sound(self):\n",
        "        return \"Meow\"\n",
        "\n",
        "class Cow:\n",
        "    def sound(self):\n",
        "        return \"Moo\"\n",
        "\n",
        "def animal_sound(animal):\n",
        "    print(animal.sound())\n",
        "\n",
        "animal_sound(Cat())\n",
        "animal_sound(Cow())"
      ],
      "metadata": {
        "colab": {
          "base_uri": "https://localhost:8080/"
        },
        "id": "E76IgdxhZghJ",
        "outputId": "3e84a727-7acc-42d3-f67a-da83025d9305"
      },
      "execution_count": null,
      "outputs": [
        {
          "output_type": "stream",
          "name": "stdout",
          "text": [
            "Meow\n",
            "Moo\n"
          ]
        }
      ]
    },
    {
      "cell_type": "markdown",
      "source": [
        "___\n",
        "🔹 3. Abstraction\n",
        "___\n",
        "Definition: Hiding internal details and showing only the necessary features.\n",
        "\n",
        "In Python, we use the abc module to create abstract classes:"
      ],
      "metadata": {
        "id": "7KsAR_ddZl8i"
      }
    },
    {
      "cell_type": "code",
      "source": [
        "from abc import ABC, abstractmethod\n",
        "\n",
        "class Shape(ABC):\n",
        "    @abstractmethod\n",
        "    def area(self):\n",
        "        pass\n",
        "\n",
        "class Circle(Shape):\n",
        "    def area(self):\n",
        "        return \"Area = π × r²\""
      ],
      "metadata": {
        "id": "SyWNgpB_ZoDN"
      },
      "execution_count": null,
      "outputs": []
    },
    {
      "cell_type": "markdown",
      "source": [
        "___\n",
        "🔹 4. Encapsulation\n",
        "___\n",
        "Definition:\n",
        "Protecting data by wrapping it inside a class and controlling access."
      ],
      "metadata": {
        "id": "EbOKRr5WZvBg"
      }
    },
    {
      "cell_type": "code",
      "source": [
        "class Person:\n",
        "    def __init__(self, name):\n",
        "        self.__name = name  # private variable\n",
        "\n",
        "    def get_name(self):\n",
        "        return self.__name\n",
        "\n",
        "p = Person(\"Uzma\")\n",
        "print(p.get_name())     # Accessed via method\n",
        "# print(p.__name)       ❌ Error: private"
      ],
      "metadata": {
        "colab": {
          "base_uri": "https://localhost:8080/"
        },
        "id": "SjIiPnvlZynv",
        "outputId": "7710664b-e689-407f-fa06-4101e24120b5"
      },
      "execution_count": null,
      "outputs": [
        {
          "output_type": "stream",
          "name": "stdout",
          "text": [
            "Uzma\n"
          ]
        }
      ]
    },
    {
      "cell_type": "markdown",
      "source": [
        "___\n",
        "🎓 Simple Way to Remember:\n",
        "___\n",
        "🔐 Encapsulation = Protect the data\n",
        "\n",
        "🎭 Abstraction = Hide the complexity\n",
        "___\n"
      ],
      "metadata": {
        "id": "zrue2QdiaLEt"
      }
    },
    {
      "cell_type": "markdown",
      "source": [
        "Define Public Attributes & Private Attributes?"
      ],
      "metadata": {
        "id": "pQgilLsRel8R"
      }
    },
    {
      "cell_type": "markdown",
      "source": [
        "| 🔍 Feature         | **Public Attribute**           | **Private Attribute**                  |\n",
        "| ------------------ | ------------------------------ | -------------------------------------- |\n",
        "| **Access**         | Accessible from **anywhere**   | Accessible **only inside the class**   |\n",
        "| **Syntax**         | `self.name = \"Uzma\"`           | `self.__name = \"Uzma\"`                 |\n",
        "| **Outside Access** | `object.name`                  | ❌ `object.__name` <br> ✅ via a method  |\n",
        "| **Purpose**        | General use, openly accessible | To **protect data** from direct access |\n",
        "| **Example**        | `self.age = 25`                | `self.__password = \"1234\"`             |\n",
        "| **Getter/Setter?** | Not required                   | Often used to **get/set value** safely |\n"
      ],
      "metadata": {
        "id": "mJvQ6fhAav_n"
      }
    },
    {
      "cell_type": "code",
      "source": [
        "class Person:\n",
        "    def __init__(self):\n",
        "        self.name = \"Unza\"        # public\n",
        "        self.__age = 22           # private\n",
        "\n",
        "    def get_age(self):            # getter\n",
        "        return self.__age\n",
        "\n",
        "p = Person()\n",
        "print(p.name)         # ✅ Public - Works\n",
        "# print(p.__age)      ❌ Private - Error\n",
        "print(p.get_age())    # ✅ Access through method"
      ],
      "metadata": {
        "colab": {
          "base_uri": "https://localhost:8080/"
        },
        "id": "gTetpLO6a2AD",
        "outputId": "865c9b8a-27ea-4d71-d250-e31f81f486c0"
      },
      "execution_count": null,
      "outputs": [
        {
          "output_type": "stream",
          "name": "stdout",
          "text": [
            "Unza\n",
            "22\n"
          ]
        }
      ]
    }
  ]
}