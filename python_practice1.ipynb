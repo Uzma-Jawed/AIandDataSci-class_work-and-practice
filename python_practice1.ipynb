{
  "nbformat": 4,
  "nbformat_minor": 0,
  "metadata": {
    "colab": {
      "provenance": []
    },
    "kernelspec": {
      "name": "python3",
      "display_name": "Python 3"
    },
    "language_info": {
      "name": "python"
    }
  },
  "cells": [
    {
      "cell_type": "markdown",
      "source": [
        "### Created by @Uzma Jawed"
      ],
      "metadata": {
        "id": "O2yn-0KQiA8H"
      }
    },
    {
      "cell_type": "code",
      "source": [
        "num=int(input(\"enter the number\"))\n",
        "for i in range(1,num+1):\n",
        "  for j in range(1,11):\n",
        "    print(i,\"x\",j,\"=\",i*j)"
      ],
      "metadata": {
        "colab": {
          "base_uri": "https://localhost:8080/"
        },
        "id": "qiV5B6tdHbBH",
        "outputId": "fc8e5545-727f-4fd1-f701-a08b59444b3c"
      },
      "execution_count": null,
      "outputs": [
        {
          "output_type": "stream",
          "name": "stdout",
          "text": [
            "enter the number6\n",
            "1 x 1 = 1\n",
            "1 x 2 = 2\n",
            "1 x 3 = 3\n",
            "1 x 4 = 4\n",
            "1 x 5 = 5\n",
            "1 x 6 = 6\n",
            "1 x 7 = 7\n",
            "1 x 8 = 8\n",
            "1 x 9 = 9\n",
            "1 x 10 = 10\n",
            "2 x 1 = 2\n",
            "2 x 2 = 4\n",
            "2 x 3 = 6\n",
            "2 x 4 = 8\n",
            "2 x 5 = 10\n",
            "2 x 6 = 12\n",
            "2 x 7 = 14\n",
            "2 x 8 = 16\n",
            "2 x 9 = 18\n",
            "2 x 10 = 20\n",
            "3 x 1 = 3\n",
            "3 x 2 = 6\n",
            "3 x 3 = 9\n",
            "3 x 4 = 12\n",
            "3 x 5 = 15\n",
            "3 x 6 = 18\n",
            "3 x 7 = 21\n",
            "3 x 8 = 24\n",
            "3 x 9 = 27\n",
            "3 x 10 = 30\n",
            "4 x 1 = 4\n",
            "4 x 2 = 8\n",
            "4 x 3 = 12\n",
            "4 x 4 = 16\n",
            "4 x 5 = 20\n",
            "4 x 6 = 24\n",
            "4 x 7 = 28\n",
            "4 x 8 = 32\n",
            "4 x 9 = 36\n",
            "4 x 10 = 40\n",
            "5 x 1 = 5\n",
            "5 x 2 = 10\n",
            "5 x 3 = 15\n",
            "5 x 4 = 20\n",
            "5 x 5 = 25\n",
            "5 x 6 = 30\n",
            "5 x 7 = 35\n",
            "5 x 8 = 40\n",
            "5 x 9 = 45\n",
            "5 x 10 = 50\n",
            "6 x 1 = 6\n",
            "6 x 2 = 12\n",
            "6 x 3 = 18\n",
            "6 x 4 = 24\n",
            "6 x 5 = 30\n",
            "6 x 6 = 36\n",
            "6 x 7 = 42\n",
            "6 x 8 = 48\n",
            "6 x 9 = 54\n",
            "6 x 10 = 60\n"
          ]
        }
      ]
    },
    {
      "cell_type": "code",
      "source": [
        "num=int(input(\"enter the number\"))\n",
        "for i in range(1,num):\n",
        "  print(i)"
      ],
      "metadata": {
        "colab": {
          "base_uri": "https://localhost:8080/"
        },
        "id": "z5ubMIbxH1RE",
        "outputId": "87707e95-fbaa-497f-adc8-3a0f3f0901bc"
      },
      "execution_count": null,
      "outputs": [
        {
          "output_type": "stream",
          "name": "stdout",
          "text": [
            "enter the number8\n",
            "1\n",
            "2\n",
            "3\n",
            "4\n",
            "5\n",
            "6\n",
            "7\n"
          ]
        }
      ]
    },
    {
      "cell_type": "code",
      "source": [
        "name_list = [\"Sara\", \"Urwa\", \"Asra\", \"Hani\"]"
      ],
      "metadata": {
        "id": "JiBGyOFF7CeP"
      },
      "execution_count": null,
      "outputs": []
    },
    {
      "cell_type": "code",
      "source": [
        "type(name_list)"
      ],
      "metadata": {
        "colab": {
          "base_uri": "https://localhost:8080/"
        },
        "id": "wuWB9KPgICci",
        "outputId": "bfd4ca57-00d5-4d47-9c4c-fb09b0995bb8"
      },
      "execution_count": null,
      "outputs": [
        {
          "output_type": "execute_result",
          "data": {
            "text/plain": [
              "list"
            ]
          },
          "metadata": {},
          "execution_count": 2
        }
      ]
    },
    {
      "cell_type": "code",
      "source": [
        "print(name_list)"
      ],
      "metadata": {
        "colab": {
          "base_uri": "https://localhost:8080/"
        },
        "id": "eWcFc05W7Eri",
        "outputId": "7048e2e2-b2c2-4aba-b5ac-5ac9dde1c758"
      },
      "execution_count": null,
      "outputs": [
        {
          "output_type": "stream",
          "name": "stdout",
          "text": [
            "['Sara', 'Urwa', 'Asra', 'Hani']\n"
          ]
        }
      ]
    },
    {
      "cell_type": "code",
      "source": [
        "print(list(range(1, 11)))"
      ],
      "metadata": {
        "colab": {
          "base_uri": "https://localhost:8080/"
        },
        "id": "ztEsJMP-cP30",
        "outputId": "6d3a6f9d-d53b-4a93-ddf0-688c3230f4d5"
      },
      "execution_count": null,
      "outputs": [
        {
          "output_type": "stream",
          "name": "stdout",
          "text": [
            "[1, 2, 3, 4, 5, 6, 7, 8, 9, 10]\n"
          ]
        }
      ]
    },
    {
      "cell_type": "code",
      "source": [
        "num = range(1, 11)\n",
        "num_list = list(num)\n",
        "print(num_list)"
      ],
      "metadata": {
        "colab": {
          "base_uri": "https://localhost:8080/"
        },
        "id": "AqgvpklPjBE5",
        "outputId": "c2299c9f-2fb6-431b-f221-95398b0b0760"
      },
      "execution_count": null,
      "outputs": [
        {
          "output_type": "stream",
          "name": "stdout",
          "text": [
            "[1, 2, 3, 4, 5, 6, 7, 8, 9, 10]\n"
          ]
        }
      ]
    },
    {
      "cell_type": "code",
      "source": [
        "age = []"
      ],
      "metadata": {
        "id": "awvDYwVj9lw9"
      },
      "execution_count": null,
      "outputs": []
    },
    {
      "cell_type": "code",
      "source": [
        "age.append(12)"
      ],
      "metadata": {
        "id": "S_CG0LCb9ydh"
      },
      "execution_count": null,
      "outputs": []
    },
    {
      "cell_type": "code",
      "source": [
        "(age)"
      ],
      "metadata": {
        "colab": {
          "base_uri": "https://localhost:8080/"
        },
        "id": "TZNfZCKG91mW",
        "outputId": "712fcfad-fa61-434f-e80f-161cc2053ada"
      },
      "execution_count": null,
      "outputs": [
        {
          "output_type": "execute_result",
          "data": {
            "text/plain": [
              "[12]"
            ]
          },
          "metadata": {},
          "execution_count": 21
        }
      ]
    },
    {
      "cell_type": "code",
      "source": [
        "age.append(24)"
      ],
      "metadata": {
        "id": "KzJe-mHJ972e"
      },
      "execution_count": null,
      "outputs": []
    },
    {
      "cell_type": "code",
      "source": [
        "print(age)"
      ],
      "metadata": {
        "colab": {
          "base_uri": "https://localhost:8080/"
        },
        "id": "AvF4CLYA9-0n",
        "outputId": "29554c3e-33e6-41f8-d6db-e2454417728a"
      },
      "execution_count": null,
      "outputs": [
        {
          "output_type": "stream",
          "name": "stdout",
          "text": [
            "[12, 24]\n"
          ]
        }
      ]
    },
    {
      "cell_type": "code",
      "source": [
        "number_list=[1,2,3,4,4,5]\n",
        "number_list.remove(4)\n",
        "print(number_list)"
      ],
      "metadata": {
        "colab": {
          "base_uri": "https://localhost:8080/"
        },
        "id": "SuatZQTnIkcd",
        "outputId": "de3640cf-20d1-4511-fde6-bf2f8dee75b5"
      },
      "execution_count": null,
      "outputs": [
        {
          "output_type": "stream",
          "name": "stdout",
          "text": [
            "[1, 2, 3, 4, 5]\n"
          ]
        }
      ]
    },
    {
      "cell_type": "code",
      "source": [
        "veg_list = []\n",
        "veg = input(\"Enter a vegetable:\")\n",
        "veg_list.append(veg)\n",
        "veg_list.append(\"kiwi\")\n",
        "veg_list.append(\"chilli\")\n",
        "print(veg_list)"
      ],
      "metadata": {
        "colab": {
          "base_uri": "https://localhost:8080/"
        },
        "id": "aN5zNRgO-Iu7",
        "outputId": "4393dbb8-7f90-4795-dae0-5b7b33de5979"
      },
      "execution_count": null,
      "outputs": [
        {
          "output_type": "stream",
          "name": "stdout",
          "text": [
            "Enter a vegetable:Carrot\n",
            "['Carrot', 'kiwi', 'chilli']\n"
          ]
        }
      ]
    },
    {
      "source": [
        "animal_list = []\n",
        "animal_list = [\"Zebra\"]\n",
        "animal = input(\"Enter an animal: \")  # Get animal input from the user\n",
        "animal_list.append(animal)  # Add the animal to the list\n",
        "print(animal_list)  # Print the updated list of animals"
      ],
      "cell_type": "code",
      "metadata": {
        "colab": {
          "base_uri": "https://localhost:8080/"
        },
        "id": "qmv5qna2Ax6I",
        "outputId": "74b432e1-c7f6-4431-c297-8738bd29ca15"
      },
      "execution_count": null,
      "outputs": [
        {
          "output_type": "stream",
          "name": "stdout",
          "text": [
            "Enter an animal: Lion\n",
            "['Zebra', 'Lion']\n"
          ]
        }
      ]
    },
    {
      "cell_type": "code",
      "source": [
        "# add two more animals\n",
        "animal_list.extend([\"Tiger\" , \"Bear\"])\n",
        "print(animal_list)"
      ],
      "metadata": {
        "id": "fLwugiHyD5tl",
        "colab": {
          "base_uri": "https://localhost:8080/"
        },
        "outputId": "cf0ca5c6-605a-4624-9f04-a0e797ba8cb2"
      },
      "execution_count": null,
      "outputs": [
        {
          "output_type": "stream",
          "name": "stdout",
          "text": [
            "['Zebra', 'Lion', 'Tiger', 'Bear']\n"
          ]
        }
      ]
    },
    {
      "cell_type": "code",
      "source": [
        "# now add 3 more names in the list\n",
        "\n",
        "animal_list.extend([\"Cow\" , \"Lamb\" , \"Goat\"])"
      ],
      "metadata": {
        "id": "FhXuYxOuExPy"
      },
      "execution_count": null,
      "outputs": []
    },
    {
      "cell_type": "code",
      "source": [
        "animal_list"
      ],
      "metadata": {
        "colab": {
          "base_uri": "https://localhost:8080/"
        },
        "id": "0C2w9J6JFBHq",
        "outputId": "3a346a29-79c1-4b73-e78c-2315172b545e"
      },
      "execution_count": null,
      "outputs": [
        {
          "output_type": "execute_result",
          "data": {
            "text/plain": [
              "['Zebra', 'Lion', 'Tiger', 'Bear', 'Cow', 'Lamb', 'Goat']"
            ]
          },
          "metadata": {},
          "execution_count": 9
        }
      ]
    },
    {
      "cell_type": "code",
      "source": [
        "# adding one more name by index in the list\n",
        "\n",
        "animal_list[3] = \"Giraffe\""
      ],
      "metadata": {
        "id": "lVyfSEf0FQPy"
      },
      "execution_count": null,
      "outputs": []
    },
    {
      "cell_type": "code",
      "source": [
        "animal_list"
      ],
      "metadata": {
        "colab": {
          "base_uri": "https://localhost:8080/"
        },
        "id": "A2v9dfdfFa89",
        "outputId": "7f010764-915a-473a-ed9e-18b07129f8e9"
      },
      "execution_count": null,
      "outputs": [
        {
          "output_type": "execute_result",
          "data": {
            "text/plain": [
              "['Zebra', 'Lion', 'Tiger', 'Giraffe', 'Cow', 'Lamb', 'Goat']"
            ]
          },
          "metadata": {},
          "execution_count": 11
        }
      ]
    },
    {
      "cell_type": "code",
      "source": [
        "del animal_list[3]"
      ],
      "metadata": {
        "id": "lPXxTuPSFiLB"
      },
      "execution_count": null,
      "outputs": []
    },
    {
      "cell_type": "code",
      "source": [
        "animal_list"
      ],
      "metadata": {
        "colab": {
          "base_uri": "https://localhost:8080/"
        },
        "id": "VIm-bYH2FmTC",
        "outputId": "79f130eb-a58c-4b1c-d474-43ebaf8f37ab"
      },
      "execution_count": null,
      "outputs": [
        {
          "output_type": "execute_result",
          "data": {
            "text/plain": [
              "['Zebra', 'Lion', 'Tiger', 'Cow', 'Lamb', 'Goat']"
            ]
          },
          "metadata": {},
          "execution_count": 13
        }
      ]
    },
    {
      "cell_type": "code",
      "source": [
        "animal_list.remove(\"Lion\")"
      ],
      "metadata": {
        "id": "gVqWgngaFs5c"
      },
      "execution_count": null,
      "outputs": []
    },
    {
      "cell_type": "code",
      "source": [
        "animal_list"
      ],
      "metadata": {
        "colab": {
          "base_uri": "https://localhost:8080/"
        },
        "id": "EiyfxpOVFy0l",
        "outputId": "263c66aa-ca84-4996-cea2-bc8e6a783474"
      },
      "execution_count": null,
      "outputs": [
        {
          "output_type": "execute_result",
          "data": {
            "text/plain": [
              "['Zebra', 'Tiger', 'Cow', 'Lamb', 'Goat']"
            ]
          },
          "metadata": {},
          "execution_count": 15
        }
      ]
    },
    {
      "cell_type": "code",
      "source": [
        "student_data = []"
      ],
      "metadata": {
        "id": "321GXJ9bJLVE"
      },
      "execution_count": null,
      "outputs": []
    },
    {
      "cell_type": "code",
      "source": [
        "list1=[\"Hani\",\"Zaini\"]\n",
        "list2=[\"ana\",\"sana\"]\n",
        "list3=[\"ayesha\",\"anabia\"]\n",
        "student_data.append(list1)\n",
        "student_data.append(list2)\n",
        "student_data.append(list3)\n",
        "print(student_data)"
      ],
      "metadata": {
        "colab": {
          "base_uri": "https://localhost:8080/"
        },
        "id": "Ug8Xegs2JOo2",
        "outputId": "4b009775-7a2d-4ebe-9b64-799559b3c8ca"
      },
      "execution_count": null,
      "outputs": [
        {
          "output_type": "stream",
          "name": "stdout",
          "text": [
            "[['Hani', 'Zaini'], ['ana', 'sana'], ['ayesha', 'anabia']]\n"
          ]
        }
      ]
    },
    {
      "cell_type": "code",
      "source": [
        "# Create individual lists\n",
        "\n",
        "list1 = [\"Aina\", 14]\n",
        "list2 = [\"Iza\", 29]\n",
        "list3 = [\"Riya\", 30]\n",
        "\n",
        "# Combine all lists into one list\n",
        "lists = [list1, list2, list3]\n",
        "\n",
        "# result\n",
        "print(lists)"
      ],
      "metadata": {
        "colab": {
          "base_uri": "https://localhost:8080/"
        },
        "id": "tMjAxCF9IVF_",
        "outputId": "c35d36d4-7284-48b2-9111-461155d203e0"
      },
      "execution_count": null,
      "outputs": [
        {
          "output_type": "stream",
          "name": "stdout",
          "text": [
            "[['Aina', 14], ['Iza', 29], ['Riya', 30]]\n"
          ]
        }
      ]
    },
    {
      "cell_type": "code",
      "source": [
        "candidates_list = []"
      ],
      "metadata": {
        "id": "rJL4gzJ3K2VM"
      },
      "execution_count": null,
      "outputs": []
    },
    {
      "cell_type": "code",
      "source": [
        "# First candidate\n",
        "\n",
        "particular_student = []\n",
        "particular_student.extend([\n",
        "    input(\"Enter first name: \"),\n",
        "    int(input(\"Enter first age: \")),\n",
        "    input(\"Enter first education: \")\n",
        "])\n",
        "candidates_list.append(particular_student)"
      ],
      "metadata": {
        "colab": {
          "base_uri": "https://localhost:8080/"
        },
        "id": "-U9Mnqs7PcBc",
        "outputId": "7543000e-1821-4111-8a3e-56b04a6e0e2a"
      },
      "execution_count": null,
      "outputs": [
        {
          "name": "stdout",
          "output_type": "stream",
          "text": [
            "Enter first name: Elsa\n",
            "Enter first age: 15\n",
            "Enter first education: SSc\n"
          ]
        }
      ]
    },
    {
      "cell_type": "code",
      "source": [
        "# Second candidate\n",
        "\n",
        "particular_student = []\n",
        "particular_student.extend([\n",
        "    input(\"Enter second name: \"),\n",
        "    int(input(\"Enter second age: \")),\n",
        "    input(\"Enter second education: \")\n",
        "])\n",
        "candidates_list.append(particular_student)"
      ],
      "metadata": {
        "colab": {
          "base_uri": "https://localhost:8080/"
        },
        "id": "yYxwGcE-P5nM",
        "outputId": "af2401a3-7439-45e6-d069-f24dd2f1024f"
      },
      "execution_count": null,
      "outputs": [
        {
          "name": "stdout",
          "output_type": "stream",
          "text": [
            "Enter second name: Muntaha\n",
            "Enter second age: 25\n",
            "Enter second education: BSc\n"
          ]
        }
      ]
    },
    {
      "cell_type": "code",
      "source": [
        "# Third candidate\n",
        "particular_student = []\n",
        "particular_student.extend([\n",
        "    input(\"Enter third name: \"),\n",
        "    int(input(\"Enter third age: \")),\n",
        "    input(\"Enter third education: \")\n",
        "])\n",
        "candidates_list.append(particular_student)"
      ],
      "metadata": {
        "colab": {
          "base_uri": "https://localhost:8080/"
        },
        "id": "fHj47VilQSmz",
        "outputId": "018c8c88-2897-45b1-a29c-4e4908d18bf9"
      },
      "execution_count": null,
      "outputs": [
        {
          "name": "stdout",
          "output_type": "stream",
          "text": [
            "Enter third name: Amna\n",
            "Enter third age: 30\n",
            "Enter third education: MBBS\n"
          ]
        }
      ]
    },
    {
      "cell_type": "code",
      "source": [
        "print(candidates_list)"
      ],
      "metadata": {
        "colab": {
          "base_uri": "https://localhost:8080/"
        },
        "id": "gdtaUCJFQmTr",
        "outputId": "5fedaf02-2050-468a-e3a3-5b89a7b1f49e"
      },
      "execution_count": null,
      "outputs": [
        {
          "output_type": "stream",
          "name": "stdout",
          "text": [
            "[['Elsa', 15, 'SSc'], ['Muntaha', 25, 'BSc'], ['Amna', 30, 'MBBS']]\n"
          ]
        }
      ]
    },
    {
      "cell_type": "code",
      "source": [
        "particular_list=[]\n",
        "name=input(\"enter the name:\")\n",
        "age=input(\"enter the age:\")\n",
        "education=input(\"enter the education:\")\n",
        "particular_list.extend([name,age,education])\n",
        "print(particular_list)"
      ],
      "metadata": {
        "colab": {
          "base_uri": "https://localhost:8080/"
        },
        "id": "1v4hSUb3J1ib",
        "outputId": "3b62a69f-0a76-4c4f-d63a-1f07d45402ce"
      },
      "execution_count": null,
      "outputs": [
        {
          "output_type": "stream",
          "name": "stdout",
          "text": [
            "enter the name:Maryam\n",
            "enter the age:25\n",
            "enter the education:B.com\n",
            "['Maryam', '25', 'B.com']\n"
          ]
        }
      ]
    },
    {
      "cell_type": "code",
      "source": [
        "candidate_list=[]\n",
        "for i in range(1,4):\n",
        "  particular_list=[]\n",
        "  name=input(\"Enter your name:\")\n",
        "  age=input(\"Enter your age:\")\n",
        "  education=input(\"Enter your education:\")\n",
        "  particular_list.extend([name,age,education])\n",
        "  candidate_list.append(particular_list)\n",
        "  print(candidate_list)"
      ],
      "metadata": {
        "colab": {
          "base_uri": "https://localhost:8080/"
        },
        "id": "U5AYbxQrKP1c",
        "outputId": "4ba0fa92-f6c4-4319-be0f-b339611f7a67"
      },
      "execution_count": null,
      "outputs": [
        {
          "output_type": "stream",
          "name": "stdout",
          "text": [
            "Enter your name:Unza\n",
            "Enter your age:35\n",
            "Enter your education:MSc\n",
            "[['Unza', '35', 'MSc']]\n",
            "Enter your name:Aniza\n",
            "Enter your age:20\n",
            "Enter your education:FSc\n",
            "[['Unza', '35', 'MSc'], ['Aniza', '20', 'FSc']]\n",
            "Enter your name:Unzila\n",
            "Enter your age:21\n",
            "Enter your education:BBA\n",
            "[['Unza', '35', 'MSc'], ['Aniza', '20', 'FSc'], ['Unzila', '21', 'BBA']]\n"
          ]
        }
      ]
    },
    {
      "source": [
        "fruit_list = []  # Initialize an empty list\n",
        "fruit = input(\"Enter a fruit: \")  # Get fruit input from the user\n",
        "fruit_list.append(fruit)  # Add the fruit to the list\n",
        "fruit_list.append(\"Cherry\")  # Add the second fruit to the list\n",
        "fruit_list.extend([\"Mango\", \"Kiwi\"])  # Add multiple fruits to the list\n",
        "print(fruit_list)  # Print the updated list of fruits"
      ],
      "cell_type": "code",
      "metadata": {
        "colab": {
          "base_uri": "https://localhost:8080/"
        },
        "id": "9cmkvRcbKKF0",
        "outputId": "6c46f927-a04c-4645-b0e7-7714642adacc"
      },
      "execution_count": null,
      "outputs": [
        {
          "output_type": "stream",
          "name": "stdout",
          "text": [
            "Enter a fruit: Peach\n",
            "['Peach', 'Cherry', 'Mango', 'Kiwi']\n"
          ]
        }
      ]
    },
    {
      "cell_type": "code",
      "source": [
        "fruit_list.pop(-1) # Removes an element at a specified index and returns it."
      ],
      "metadata": {
        "id": "dsK7HWxkjU-9",
        "colab": {
          "base_uri": "https://localhost:8080/",
          "height": 35
        },
        "outputId": "a9963c68-2348-4c23-b32d-4f94b101573e"
      },
      "execution_count": null,
      "outputs": [
        {
          "output_type": "execute_result",
          "data": {
            "text/plain": [
              "'Kiwi'"
            ],
            "application/vnd.google.colaboratory.intrinsic+json": {
              "type": "string"
            }
          },
          "metadata": {},
          "execution_count": 4
        }
      ]
    }
  ]
}