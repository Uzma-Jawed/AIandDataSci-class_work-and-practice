{
  "nbformat": 4,
  "nbformat_minor": 0,
  "metadata": {
    "colab": {
      "provenance": []
    },
    "kernelspec": {
      "name": "python3",
      "display_name": "Python 3"
    },
    "language_info": {
      "name": "python"
    }
  },
  "cells": [
    {
      "cell_type": "markdown",
      "source": [
        "@Uzma Jawed"
      ],
      "metadata": {
        "id": "B9WoA2V5ICjC"
      }
    },
    {
      "cell_type": "markdown",
      "source": [
        "\n",
        "___\n",
        "### Tuples in Python\n",
        "___\n",
        "1. A tuple is using parenthesis() or the tuple()constructor.\n",
        "2. it is ordered similar to a list.\n",
        "3. It is immutable. you can not add, remove or change elementts once defined."
      ],
      "metadata": {
        "id": "G_JOEG_oIkhs"
      }
    },
    {
      "cell_type": "code",
      "source": [
        "# Creating Tuples\n",
        "empty_tuple = ()\n",
        "single_element_tuple = (42,)\n",
        "numbers_tuple = (10, 20, 30)\n",
        "mixed_tuple = (\"Unza\", 25, True)\n",
        "\n",
        "print(\"Empty tuple:\", empty_tuple)\n",
        "print(\"Single element tuple:\", single_element_tuple)\n",
        "print(\"Numbers tuple:\", numbers_tuple)\n",
        "print(\"Mixed tuple:\", mixed_tuple)"
      ],
      "metadata": {
        "colab": {
          "base_uri": "https://localhost:8080/"
        },
        "id": "dxGlUNqZJoau",
        "outputId": "821cf9d4-e884-4062-b038-ce86a025fdeb"
      },
      "execution_count": null,
      "outputs": [
        {
          "output_type": "stream",
          "name": "stdout",
          "text": [
            "Empty tuple: ()\n",
            "Single element tuple: (42,)\n",
            "Numbers tuple: (10, 20, 30)\n",
            "Mixed tuple: ('Unza', 25, True)\n"
          ]
        }
      ]
    },
    {
      "cell_type": "markdown",
      "source": [
        "___\n",
        "### Tuple Methods\n",
        "___"
      ],
      "metadata": {
        "id": "wzwSkdLLdLKy"
      }
    },
    {
      "cell_type": "code",
      "source": [
        "# 1. count()\n",
        "fruits = ('apple', 'banana', 'cherry', 'apple', 'banana', 'apple')\n",
        "# Count how many times 'apple' appears\n",
        "apple_count = fruits.count('apple')\n",
        "print(apple_count)"
      ],
      "metadata": {
        "colab": {
          "base_uri": "https://localhost:8080/"
        },
        "id": "6q-x8oync5Fq",
        "outputId": "53d06ba7-505f-4338-a5a2-3963be659c1c"
      },
      "execution_count": null,
      "outputs": [
        {
          "output_type": "stream",
          "name": "stdout",
          "text": [
            "3\n"
          ]
        }
      ]
    },
    {
      "cell_type": "code",
      "source": [
        "# 2. index()\n",
        "colors = ('red', 'green', 'blue', 'yellow', 'green')\n",
        "# Find index of 'blue'\n",
        "blue_index = colors.index('blue')\n",
        "print(blue_index)"
      ],
      "metadata": {
        "colab": {
          "base_uri": "https://localhost:8080/"
        },
        "id": "ySmw08CHddbs",
        "outputId": "d077151a-f6cb-4a9d-ec7f-b22abe3fd8f2"
      },
      "execution_count": null,
      "outputs": [
        {
          "output_type": "stream",
          "name": "stdout",
          "text": [
            "2\n"
          ]
        }
      ]
    },
    {
      "cell_type": "code",
      "source": [
        "# Find index of first 'green' occurrence\n",
        "green_index = colors.index('green')\n",
        "print(green_index)"
      ],
      "metadata": {
        "id": "BSr7ge0oeGC0",
        "colab": {
          "base_uri": "https://localhost:8080/"
        },
        "outputId": "247c01d6-7d9b-4c69-844e-3cafbc20bab0"
      },
      "execution_count": null,
      "outputs": [
        {
          "output_type": "stream",
          "name": "stdout",
          "text": [
            "1\n"
          ]
        }
      ]
    },
    {
      "cell_type": "code",
      "source": [
        "# You can specify start and end position\n",
        "numbers = (1, 2, 3, 4, 5, 2, 3, 2)\n",
        "# Find index of 2 after position 3\n",
        "index1 = numbers.index(2, 3)\n",
        "print(index1)"
      ],
      "metadata": {
        "colab": {
          "base_uri": "https://localhost:8080/"
        },
        "id": "D_qI6WMreZGN",
        "outputId": "f9823e8f-7323-4f67-fa2e-55cbf5d7b210"
      },
      "execution_count": null,
      "outputs": [
        {
          "output_type": "stream",
          "name": "stdout",
          "text": [
            "5\n"
          ]
        }
      ]
    },
    {
      "cell_type": "code",
      "source": [
        "# Find index of 3 between positions 4 and 7\n",
        "index2 = numbers.index(3, 4, 7)\n",
        "print(index2)"
      ],
      "metadata": {
        "colab": {
          "base_uri": "https://localhost:8080/"
        },
        "id": "kGwGGOkkewne",
        "outputId": "af82f1bf-b080-4002-9470-abda38e160fc"
      },
      "execution_count": null,
      "outputs": [
        {
          "output_type": "stream",
          "name": "stdout",
          "text": [
            "6\n"
          ]
        }
      ]
    },
    {
      "cell_type": "code",
      "source": [
        "# slicing works similarly to lists\n",
        "sub_tuple = numbers_tuple[1:] # (20, 30)\n",
        "print(\"Sliced sub-tuple:\", sub_tuple)"
      ],
      "metadata": {
        "colab": {
          "base_uri": "https://localhost:8080/"
        },
        "id": "M7N0oG9CKBpr",
        "outputId": "25a1cfd0-350e-4d64-878c-7dc9752d4af3"
      },
      "execution_count": null,
      "outputs": [
        {
          "output_type": "stream",
          "name": "stdout",
          "text": [
            "Sliced sub-tuple: (20, 30)\n"
          ]
        }
      ]
    },
    {
      "cell_type": "markdown",
      "source": [
        "___\n",
        "### The tuple() Constructor\n",
        "___\n",
        "Using the tuple() method to make a tuple:"
      ],
      "metadata": {
        "id": "GeN-2kKwN6IY"
      }
    },
    {
      "cell_type": "code",
      "source": [
        "colour_tup = tuple((\"pink\", \"red\", \"purple\")) # note the double round-brackets\n",
        "print(colour_tup)"
      ],
      "metadata": {
        "colab": {
          "base_uri": "https://localhost:8080/"
        },
        "id": "_13X7_9VODpN",
        "outputId": "b16f1697-10bf-4e54-9b79-bbdd28d96e95"
      },
      "execution_count": null,
      "outputs": [
        {
          "output_type": "stream",
          "name": "stdout",
          "text": [
            "('pink', 'red', 'purple')\n"
          ]
        }
      ]
    },
    {
      "cell_type": "markdown",
      "source": [
        "___\n",
        "### Immutability\n",
        "___"
      ],
      "metadata": {
        "id": "DIOG7l5MKJMX"
      }
    },
    {
      "cell_type": "code",
      "source": [
        "# Trying to modify a tuple will raise an error\n",
        "try:\n",
        "    numbers_tuple[1] = 99 # this is not allowed\n",
        "except TypeError as e:\n",
        "    print(\"Error:\", e)"
      ],
      "metadata": {
        "colab": {
          "base_uri": "https://localhost:8080/"
        },
        "id": "wsWzTkO3KoNS",
        "outputId": "e9a6a69c-2e46-4ee6-e99e-c9bc1aef63e2"
      },
      "execution_count": null,
      "outputs": [
        {
          "output_type": "stream",
          "name": "stdout",
          "text": [
            "Error: 'tuple' object does not support item assignment\n"
          ]
        }
      ]
    },
    {
      "cell_type": "markdown",
      "source": [
        "___\n",
        "### Change Tuple Values\n",
        "___"
      ],
      "metadata": {
        "id": "nRw-64CfflRd"
      }
    },
    {
      "cell_type": "markdown",
      "source": [
        "Tuples are unchangeable, or immutable. But You can convert the tuple into a list, change the list, and convert the list back into a tuple."
      ],
      "metadata": {
        "id": "uTmtNJlbfHRP"
      }
    },
    {
      "cell_type": "code",
      "source": [
        "colour_tup = (\"red\", \"green\", \"blue\", \"red\")\n",
        "colours = list(colour_tup)\n",
        "colours[3] = \"pink\"\n",
        "colour_tup = tuple(colours)\n",
        "print(colour_tup)"
      ],
      "metadata": {
        "colab": {
          "base_uri": "https://localhost:8080/"
        },
        "id": "xAO72MKJf3SR",
        "outputId": "3807a69d-8acb-412a-bbf6-c795bd5937ce"
      },
      "execution_count": null,
      "outputs": [
        {
          "output_type": "stream",
          "name": "stdout",
          "text": [
            "('red', 'green', 'blue', 'pink')\n"
          ]
        }
      ]
    },
    {
      "cell_type": "markdown",
      "source": [
        "•You can use append() method similarly, convert tuple into list, append items then convert back list into tuple."
      ],
      "metadata": {
        "id": "wyUJ7lEGgt0P"
      }
    },
    {
      "cell_type": "markdown",
      "source": [
        "___\n",
        "### Tuple Unpack\n",
        "___"
      ],
      "metadata": {
        "id": "nJ2Llcryhphh"
      }
    },
    {
      "cell_type": "code",
      "source": [
        "# Unpacking a tuple into seperate variables\n",
        "person_tuple = (\"Riya\", 24, \"Engineer\")\n",
        "name, age, job = person_tuple\n",
        "# Unpack in order\n",
        "print(\"Name:\", name)\n",
        "print(\"Age:\", age)\n",
        "print(\"Job:\", job)"
      ],
      "metadata": {
        "colab": {
          "base_uri": "https://localhost:8080/"
        },
        "id": "052qzDnMKyev",
        "outputId": "100f00c9-3721-4e68-c860-dfa667b2f5a2"
      },
      "execution_count": null,
      "outputs": [
        {
          "output_type": "stream",
          "name": "stdout",
          "text": [
            "Name: Riya\n",
            "Age: 24\n",
            "Job: Engineer\n"
          ]
        }
      ]
    },
    {
      "cell_type": "markdown",
      "source": [
        "___\n",
        "### Allow Duplicates\n",
        "___\n",
        "Since tuples are indexed, they can have items with the same value:"
      ],
      "metadata": {
        "id": "ykc088iLLgw4"
      }
    },
    {
      "cell_type": "code",
      "source": [
        "colours_tup = (\"Red\", \"Green\", \"Blue\", \"Red\")\n",
        "print(colours_tup)"
      ],
      "metadata": {
        "colab": {
          "base_uri": "https://localhost:8080/"
        },
        "id": "n-KWY0KYLmGA",
        "outputId": "e590a4bb-1c3e-4ea6-e930-fb3f4346dd7e"
      },
      "execution_count": null,
      "outputs": [
        {
          "output_type": "stream",
          "name": "stdout",
          "text": [
            "('Red', 'Green', 'Blue', 'Red')\n"
          ]
        }
      ]
    },
    {
      "cell_type": "markdown",
      "source": [
        "___\n",
        "### Tuple Length\n",
        "___"
      ],
      "metadata": {
        "id": "dvGtuOG1L4sR"
      }
    },
    {
      "cell_type": "code",
      "source": [
        "colours_tup = (\"Red\", \"Green\", \"Blue\", \"Red\")\n",
        "print(len(colours_tup))"
      ],
      "metadata": {
        "colab": {
          "base_uri": "https://localhost:8080/"
        },
        "outputId": "b9ebc551-2619-4d70-bfad-78ba8bbf721c",
        "id": "vmPc7KZAMILH"
      },
      "execution_count": null,
      "outputs": [
        {
          "output_type": "stream",
          "name": "stdout",
          "text": [
            "4\n"
          ]
        }
      ]
    },
    {
      "cell_type": "markdown",
      "source": [
        "___\n",
        "### One item Tuple\n",
        "___\n",
        "To create a tuple with only one item, you have to add a comma after the item, otherwise Python will not recognize it as a tuple."
      ],
      "metadata": {
        "id": "uJAhlYp4MZ5l"
      }
    },
    {
      "cell_type": "code",
      "source": [
        "colour_tup = (\"Red\",) # remember Comma\n",
        "print(type(colour_tup))\n",
        "colour_tup = (\"Red\")  # not a Tuple\n",
        "print(type(colour_tup))"
      ],
      "metadata": {
        "colab": {
          "base_uri": "https://localhost:8080/"
        },
        "id": "HMwRul8AMv0R",
        "outputId": "46724b72-9d5f-4fa4-860a-132a8d1abc07"
      },
      "execution_count": null,
      "outputs": [
        {
          "output_type": "stream",
          "name": "stdout",
          "text": [
            "<class 'tuple'>\n",
            "<class 'str'>\n"
          ]
        }
      ]
    },
    {
      "cell_type": "markdown",
      "source": [
        "___\n",
        "### Data type of Tuple\n",
        "___"
      ],
      "metadata": {
        "id": "wQPmH2wANgtz"
      }
    },
    {
      "cell_type": "code",
      "source": [
        "colour_tup = (\"Red\", \"Green\", \"Blue\")\n",
        "print(type(colour_tup))"
      ],
      "metadata": {
        "colab": {
          "base_uri": "https://localhost:8080/"
        },
        "id": "GHSdwDwMNmDP",
        "outputId": "2a67c9bb-2b80-456a-c0df-c087580d61a1"
      },
      "execution_count": null,
      "outputs": [
        {
          "output_type": "stream",
          "name": "stdout",
          "text": [
            "<class 'tuple'>\n"
          ]
        }
      ]
    },
    {
      "cell_type": "markdown",
      "source": [
        "___\n",
        "### Loop Tuple\n",
        "___"
      ],
      "metadata": {
        "id": "3MNgXjuxPWQh"
      }
    },
    {
      "cell_type": "code",
      "source": [
        "# Iterate through the items and print the values:\n",
        "colour_tup = (\"Red\", \"Green\", \"Blue\")\n",
        "for i in colour_tup:\n",
        "    print(i)"
      ],
      "metadata": {
        "colab": {
          "base_uri": "https://localhost:8080/"
        },
        "id": "Vz8D24-APd3V",
        "outputId": "2cce07de-23b9-46b6-a659-3d086bc7538e"
      },
      "execution_count": null,
      "outputs": [
        {
          "output_type": "stream",
          "name": "stdout",
          "text": [
            "Red\n",
            "Green\n",
            "Blue\n"
          ]
        }
      ]
    },
    {
      "cell_type": "markdown",
      "source": [
        "\n",
        "___\n",
        "Loop through indexing\n",
        "___"
      ],
      "metadata": {
        "id": "WE1fLorCQ-3U"
      }
    },
    {
      "cell_type": "code",
      "source": [
        "color_tup = (\"Red\", \"Green\", \"Blue\")\n",
        "for i in range(len(color_tup)):\n",
        "    print(color_tup[i])"
      ],
      "metadata": {
        "colab": {
          "base_uri": "https://localhost:8080/"
        },
        "id": "FSoA2EgfRGz4",
        "outputId": "1985153f-8216-4542-b90c-ce5bc98a2b67"
      },
      "execution_count": null,
      "outputs": [
        {
          "output_type": "stream",
          "name": "stdout",
          "text": [
            "Red\n",
            "Green\n",
            "Blue\n"
          ]
        }
      ]
    },
    {
      "cell_type": "markdown",
      "source": [
        "___\n",
        "### Tuple Concatenation\n",
        "___"
      ],
      "metadata": {
        "id": "37iUBx2pQAqD"
      }
    },
    {
      "cell_type": "code",
      "source": [
        "fruits1 = (\"apple\", \"banana\", \"cherry\")\n",
        "fruits2 = (\"orange\", \"kiwi\", \"melon\")\n",
        "fruits3 = fruits1 + fruits2\n",
        "print(fruits3)"
      ],
      "metadata": {
        "colab": {
          "base_uri": "https://localhost:8080/"
        },
        "id": "zTC-18WiQMa_",
        "outputId": "ebd0d2dd-f113-4f1a-c54a-2d06503cac02"
      },
      "execution_count": null,
      "outputs": [
        {
          "output_type": "stream",
          "name": "stdout",
          "text": [
            "('apple', 'banana', 'cherry', 'orange', 'kiwi', 'melon')\n"
          ]
        }
      ]
    },
    {
      "cell_type": "markdown",
      "source": [
        "___\n",
        "### Multiply Tuples\n",
        "___"
      ],
      "metadata": {
        "id": "UljBF0yfQfVn"
      }
    },
    {
      "cell_type": "code",
      "source": [
        "fruits = (\"apple\", \"banana\", \"cherry\")\n",
        "f_tuple = fruits * 3\n",
        "print(f_tuple)"
      ],
      "metadata": {
        "colab": {
          "base_uri": "https://localhost:8080/"
        },
        "id": "cMKIP6VjQnzW",
        "outputId": "cbb35858-c3fb-4b8e-f4e3-18b40365db84"
      },
      "execution_count": null,
      "outputs": [
        {
          "output_type": "stream",
          "name": "stdout",
          "text": [
            "('apple', 'banana', 'cherry', 'apple', 'banana', 'cherry', 'apple', 'banana', 'cherry')\n"
          ]
        }
      ]
    },
    {
      "cell_type": "markdown",
      "source": [
        "### Best Practice for Tuples\n",
        "1. Use tuples for fixed collections of items that don't change, like coordinates or constant data.\n",
        "2. Lewrage tuple unpacking to write cleaner code when returning multiple values from a function.\n",
        "3. Don't modify: if you need to frequently alter the collection consider a list."
      ],
      "metadata": {
        "id": "g_a20gpiLHnl"
      }
    }
  ]
}
