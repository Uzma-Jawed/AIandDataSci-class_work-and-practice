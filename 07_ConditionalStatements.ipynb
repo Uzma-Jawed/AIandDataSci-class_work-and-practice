{
  "nbformat": 4,
  "nbformat_minor": 0,
  "metadata": {
    "colab": {
      "provenance": []
    },
    "kernelspec": {
      "name": "python3",
      "display_name": "Python 3"
    },
    "language_info": {
      "name": "python"
    }
  },
  "cells": [
    {
      "cell_type": "markdown",
      "source": [
        "@Uzma Jawed"
      ],
      "metadata": {
        "id": "jfNtdQxJc0CB"
      }
    },
    {
      "cell_type": "markdown",
      "source": [
        "### Conditional Statements in Python\n",
        "Why do we need Conditions in programming?\n",
        "In real-life, we make decisions all the time based on certain conditions.\n",
        "\n",
        "* if it rains, we take an umbrella\n",
        "* if we are hungry, we eat food\n",
        "* if the battery is low, we charge the phone.\n",
        "\n",
        "Computers also need to make decisions when running a program\n",
        "This is where Conditional statements help."
      ],
      "metadata": {
        "id": "Zhk5myL8c44I"
      }
    },
    {
      "cell_type": "markdown",
      "source": [
        "### Basic Conditional Statements\n",
        "\n",
        "Python provides three main conditional statements:\n",
        "\n",
        "* if\n",
        "* elif\n",
        "* else"
      ],
      "metadata": {
        "id": "4xplrYbXgxMb"
      }
    },
    {
      "cell_type": "markdown",
      "source": [
        "### Important note: How if, elif, else Evaluates Conditions\n",
        "\n",
        "Python's if,elif,else structure works by evaluating conditions one by one in sequence. Each condition must ultimately resolve to either True or False.\n",
        "* if a condition is True. Python execute that block and skips the rest.\n",
        "* if all conditions are False, the else block executes(if present).\n",
        "* only one condition is executed in an if-elif-else chain."
      ],
      "metadata": {
        "id": "Go9v7Gtvd-tR"
      }
    },
    {
      "cell_type": "code",
      "source": [
        "# Traffic Light Example: Stopping or Going based on light color\n",
        "\n",
        "# Define the condition\n",
        "traffic_light = \"RED\"\n",
        "\n",
        "# check the condition\n",
        "if traffic_light == \"Green\":\n",
        "    print(\"You Can Go!\") # if the light is green cars can go\n",
        "else:\n",
        "    print(\"You Must Stop!\") # if the light is red or any other color, cars must stop"
      ],
      "metadata": {
        "colab": {
          "base_uri": "https://localhost:8080/"
        },
        "id": "THYfSDmjeNYA",
        "outputId": "f87473e2-d5dc-4bb5-da51-c32f179df431"
      },
      "execution_count": null,
      "outputs": [
        {
          "output_type": "stream",
          "name": "stdout",
          "text": [
            "You Must Stop!\n"
          ]
        }
      ]
    },
    {
      "cell_type": "code",
      "source": [
        "# Traffic Light Example: Handling Different Light Signals\n",
        "\n",
        "traffic_light = \"Yellow\"\n",
        "\n",
        "# Check the condition\n",
        "if traffic_light == \"Green\":\n",
        "    print(\"You Can Go!\") # if the light is green, cars can go\n",
        "elif traffic_light == \"Red\":\n",
        "    print(\"You Must Stop!\") # if the light is red, cars must stop\n",
        "else:\n",
        "    print(\"Slow down and PREPARE TO STOP!\") # If the light is yellow, cars should slow down"
      ],
      "metadata": {
        "colab": {
          "base_uri": "https://localhost:8080/"
        },
        "id": "mHSj-TYSeVbL",
        "outputId": "9a828043-f290-47ac-ecf8-5526fbfa1fd0"
      },
      "execution_count": null,
      "outputs": [
        {
          "output_type": "stream",
          "name": "stdout",
          "text": [
            "Slow down and PREPARE TO STOP!\n"
          ]
        }
      ]
    },
    {
      "cell_type": "markdown",
      "source": [
        "### Using Logical Operators with if Statements\n",
        "\n",
        "Logical operators allow us to combine multiple conditions:\n",
        "* and - Returns True if both conditions are true.\n",
        "* or - Returns True if at least one condition is true.\n",
        "* not - Reverses the condition."
      ],
      "metadata": {
        "id": "sz31fP6pebs8"
      }
    },
    {
      "cell_type": "code",
      "source": [
        "# Using AND Operator\n",
        "\n",
        "pedestrian_signal = \"walk\"\n",
        "is_flashing = False\n",
        "if pedestrian_signal == \"walk\" and not is_flashing:\n",
        "  print(\"Pedestrian can cross safely\")\n",
        "else:\n",
        "  print(\"Pedestrian should wait\")"
      ],
      "metadata": {
        "colab": {
          "base_uri": "https://localhost:8080/"
        },
        "id": "fCib8lKihczX",
        "outputId": "0803c168-9543-4a47-80b1-55880dfe8ba7"
      },
      "execution_count": null,
      "outputs": [
        {
          "output_type": "stream",
          "name": "stdout",
          "text": [
            "Pedestrian can cross safely\n"
          ]
        }
      ]
    },
    {
      "cell_type": "code",
      "source": [
        "# Traffic Light Example using OR: Allowing Emergency Vehicles to Pass\n",
        "\n",
        "# Define the traffic light color\n",
        "traffic_light = \"Red\"\n",
        "\n",
        "# Define the vehicle type\n",
        "vehicle_type = \"Ambulance\"\n",
        "\n",
        "# Check if the light is green Or if it's an emergency vehicle\n",
        "if traffic_light == \"Green\" or vehicle_type == \"Ambulance\":\n",
        "    print(\"You Can Go!\") # Emergency vehicles can go even if the light is red\n",
        "else:\n",
        "    print(\"You Must Stop!\") # Regular vehicles must stop if the light is red"
      ],
      "metadata": {
        "colab": {
          "base_uri": "https://localhost:8080/"
        },
        "id": "2LtxgwU_epSc",
        "outputId": "28779529-580d-4f9c-aba9-d36aacd8549f"
      },
      "execution_count": null,
      "outputs": [
        {
          "output_type": "stream",
          "name": "stdout",
          "text": [
            "You Can Go!\n"
          ]
        }
      ]
    },
    {
      "cell_type": "code",
      "source": [
        "# Traffic Light Example using NOT; Ensuring No Unauthorized Crossing\n",
        "\n",
        "#Define the pedestrian signal status\n",
        "pedestrian_signal = \"Don't Walk\"\n",
        "\n",
        "# Check if pedestrians should NOT cross\n",
        "if not pedestrian_signal == \"Walk\":\n",
        "    print(\"Do Not cross!\") # if the signal is not \"walk\", pedestrians must wait\n",
        "else:\n",
        "    print(\"You can CROSS safely!\") # if the signal is \"Walk\", pedestrian can cross"
      ],
      "metadata": {
        "colab": {
          "base_uri": "https://localhost:8080/"
        },
        "id": "_Ri1KPirewcw",
        "outputId": "18efc9c6-0c4f-4497-bfb7-3d86c4c3a5be"
      },
      "execution_count": null,
      "outputs": [
        {
          "output_type": "stream",
          "name": "stdout",
          "text": [
            "Do Not cross!\n"
          ]
        }
      ]
    },
    {
      "cell_type": "markdown",
      "source": [
        "### Nested Conditions\n",
        "\n",
        "Sometimes decisions depend on multiple levels of conditions we can nest if statements inside other if statements."
      ],
      "metadata": {
        "id": "uCOcy0z2e35c"
      }
    },
    {
      "cell_type": "code",
      "source": [
        "# Traffic Light Example; Checking Traffic Rules Compliance\n",
        "\n",
        "# Define the speed of the car (in km/hr)\n",
        "car_speed = 60\n",
        "\n",
        "# Define whether the driver is wearing a seatbelt\n",
        "seatbelt_on = True\n",
        "# Check if the driver is following traffic rules\n",
        "if car_speed <= 60: # speed limit check\n",
        "    if seatbelt_on: # seatbelt check\n",
        "        print(\"You are driving safely!\")\n",
        "    else:\n",
        "        print(\"Warning! Please wear your seatbelt.\")\n",
        "else:\n",
        "    print(\"Slow down! You are exceeding the speed limit!\")"
      ],
      "metadata": {
        "colab": {
          "base_uri": "https://localhost:8080/"
        },
        "id": "7GF3N-VLe--Z",
        "outputId": "fcf101dd-947c-4fec-e039-5f90a57bb944"
      },
      "execution_count": null,
      "outputs": [
        {
          "output_type": "stream",
          "name": "stdout",
          "text": [
            "You are driving safely!\n"
          ]
        }
      ]
    },
    {
      "cell_type": "code",
      "source": [
        "# Traffic light Example: Managing Traffic Flow at an Intersection\n",
        "# Define the traffic light color\n",
        "traffic_light = \"Green\"\n",
        "\n",
        "#  Define whether the road is clear\n",
        "road_clear = True\n",
        "\n",
        "# Checking the traffic conditions\n",
        "if traffic_light == \"Green\":\n",
        "    # Nested Conditions: checking if the road is clear\n",
        "    if road_clear:\n",
        "        print(\"You Can Go! The road is clear.\")\n",
        "    else:\n",
        "        print(\"Wait! The road is not clear, even though the light is green.\")\n",
        "elif traffic_light == \"Yellow\":\n",
        "    print(\"Slow down and PREPARE TO STOP!\")\n",
        "else:\n",
        "    print(\"You Must Stop!\")"
      ],
      "metadata": {
        "colab": {
          "base_uri": "https://localhost:8080/"
        },
        "id": "H22xrJzffFgo",
        "outputId": "6ec86df2-9871-4df6-c0f6-0f6113c813a5"
      },
      "execution_count": null,
      "outputs": [
        {
          "output_type": "stream",
          "name": "stdout",
          "text": [
            "You Can Go! The road is clear.\n"
          ]
        }
      ]
    },
    {
      "cell_type": "markdown",
      "source": [
        "### Case Sensitivity in Conditions\n",
        "\n",
        "Python is case-sensitive, so conditions must match the exact case of the string."
      ],
      "metadata": {
        "id": "RP55qusMiHRi"
      }
    },
    {
      "cell_type": "code",
      "source": [
        "traffic_light = \"Red\"\n",
        "if traffic_light == \"red\":\n",
        "  print(\"You must stop\")\n",
        "else:\n",
        "  print(\"Slow down and prepare to stop\")"
      ],
      "metadata": {
        "colab": {
          "base_uri": "https://localhost:8080/"
        },
        "id": "-yLeuu-iiKkJ",
        "outputId": "746c8961-4f76-43b2-c173-8350736712b2"
      },
      "execution_count": null,
      "outputs": [
        {
          "output_type": "stream",
          "name": "stdout",
          "text": [
            "Slow down and prepare to stop\n"
          ]
        }
      ]
    },
    {
      "cell_type": "code",
      "source": [
        "# beginner level exercise for conditional statement\n",
        "\n",
        "traffic_light = input(\"Enter traffic light color: \")\n",
        "\n",
        "if traffic_light == \"Green\":\n",
        "    print(\"You can go!\")\n",
        "elif traffic_light == \"Yellow\":\n",
        "    print(\"Slow down and prepare to stop!\")\n",
        "else:\n",
        "    print(\"Stop!\")"
      ],
      "metadata": {
        "colab": {
          "base_uri": "https://localhost:8080/"
        },
        "id": "4EPcugDnfYNd",
        "outputId": "9e0c75be-7a41-4189-bb7c-ec92bb94c65e"
      },
      "execution_count": null,
      "outputs": [
        {
          "output_type": "stream",
          "name": "stdout",
          "text": [
            "Enter traffic light color: red\n",
            "Stop!\n"
          ]
        }
      ]
    },
    {
      "cell_type": "code",
      "source": [
        "# exam pass / fail check\n",
        "\n",
        "score = int(input(\"Enter your exam score (0-100): \"))\n",
        "\n",
        "if 90 <= score <= 100:\n",
        "    print(\"Grade A+\")\n",
        "elif 80 <= score < 90:\n",
        "    print(\"Grade A\")\n",
        "elif 70 <= score < 80:\n",
        "    print(\"Grade B\")\n",
        "elif 60 <= score < 70:\n",
        "    print(\"Grade C\")\n",
        "else:\n",
        "    print(\"Grade D\")"
      ],
      "metadata": {
        "colab": {
          "base_uri": "https://localhost:8080/"
        },
        "id": "DJ03RYCMfnOq",
        "outputId": "33597891-4cd1-491c-ee48-6a711381fd6d"
      },
      "execution_count": null,
      "outputs": [
        {
          "output_type": "stream",
          "name": "stdout",
          "text": [
            "Enter your exam score (0-100): 90\n",
            "Grade A+\n"
          ]
        }
      ]
    },
    {
      "cell_type": "code",
      "source": [
        "# ATM cash withdrawal system\n",
        "\n",
        "balance = 10000  # Example account balance\n",
        "amount = int(input(\"Enter withdrawal amount: \"))\n",
        "\n",
        "if amount <= 0:\n",
        "    print(\"Invalid amount\")\n",
        "elif amount > balance:\n",
        "    print(\"Insufficient balance\")\n",
        "elif amount % 500 != 0:\n",
        "    print(\"Please enter amount in multiples of 500\")\n",
        "else:\n",
        "    balance -= amount\n",
        "    print(f\"Withdrawal successful! Remaining balance: {balance}\")"
      ],
      "metadata": {
        "colab": {
          "base_uri": "https://localhost:8080/"
        },
        "id": "EVhwkWiRf00o",
        "outputId": "9dc254e1-582c-4d4c-8056-ab7cf211be9c"
      },
      "execution_count": null,
      "outputs": [
        {
          "output_type": "stream",
          "name": "stdout",
          "text": [
            "Enter withdrawal amount: 5000\n",
            "Withdrawal successful! Remaining balance: 5000\n"
          ]
        }
      ]
    },
    {
      "cell_type": "markdown",
      "source": [
        "### Best Practices for Using Conditional Statements\n",
        "\n",
        "* Use indentation correctly (4 spaces or a tab).\n",
        "* Keep conditions simple and readable.\n",
        "* Use logical operators to combine multiple conditions.\n",
        "* Handle case sensitivity when comparing strings."
      ],
      "metadata": {
        "id": "RDgrF4xNicfW"
      }
    }
  ]
}
