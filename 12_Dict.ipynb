{
  "nbformat": 4,
  "nbformat_minor": 0,
  "metadata": {
    "colab": {
      "provenance": []
    },
    "kernelspec": {
      "name": "python3",
      "display_name": "Python 3"
    },
    "language_info": {
      "name": "python"
    }
  },
  "cells": [
    {
      "cell_type": "markdown",
      "source": [
        "Dictionary"
      ],
      "metadata": {
        "id": "ri38A-HD7H0p"
      }
    },
    {
      "cell_type": "code",
      "execution_count": 23,
      "metadata": {
        "id": "8IgrA64g7Gzg"
      },
      "outputs": [],
      "source": [
        "person = {\n",
        "    \"class\" : \"ai\",\n",
        "    \"home\" : \"karachi\",\n",
        "    \" device\" : \"13\"\n",
        "}"
      ]
    },
    {
      "cell_type": "code",
      "source": [
        "print(person)"
      ],
      "metadata": {
        "colab": {
          "base_uri": "https://localhost:8080/"
        },
        "id": "_ihyFlQr76n6",
        "outputId": "215cf696-1b26-45b4-f6f0-963ece5eef73"
      },
      "execution_count": 24,
      "outputs": [
        {
          "output_type": "stream",
          "name": "stdout",
          "text": [
            "{'class': 'ai', 'home': 'karachi', ' device': '13'}\n"
          ]
        }
      ]
    },
    {
      "cell_type": "code",
      "source": [
        "print(person[\"class\"])"
      ],
      "metadata": {
        "colab": {
          "base_uri": "https://localhost:8080/"
        },
        "id": "fVRQ4e0M8aq1",
        "outputId": "93d5705d-ac24-437d-bb28-2005c7115d5c"
      },
      "execution_count": 25,
      "outputs": [
        {
          "output_type": "stream",
          "name": "stdout",
          "text": [
            "ai\n"
          ]
        }
      ]
    },
    {
      "cell_type": "code",
      "source": [
        "person[\"class\"] = \"data science\""
      ],
      "metadata": {
        "id": "izyXQTBT8iE8"
      },
      "execution_count": 26,
      "outputs": []
    },
    {
      "cell_type": "code",
      "source": [
        "person[\"city\"] = \"islamabad\""
      ],
      "metadata": {
        "id": "7gthBw5p9pYW"
      },
      "execution_count": 27,
      "outputs": []
    },
    {
      "cell_type": "code",
      "source": [
        "person.update({\"home\" : \"gulshan\"})"
      ],
      "metadata": {
        "id": "By_fiSbp94Dg"
      },
      "execution_count": 28,
      "outputs": []
    },
    {
      "cell_type": "code",
      "source": [
        "print(person.update({\"home\" : \"wah\"}))"
      ],
      "metadata": {
        "colab": {
          "base_uri": "https://localhost:8080/"
        },
        "id": "9rWLl1PMIccD",
        "outputId": "24cf3eb2-8a37-453a-c985-6f0d833fc97d"
      },
      "execution_count": 29,
      "outputs": [
        {
          "output_type": "stream",
          "name": "stdout",
          "text": [
            "None\n"
          ]
        }
      ]
    },
    {
      "cell_type": "code",
      "source": [
        "print(person)"
      ],
      "metadata": {
        "id": "qafH0Kw2Jtyx",
        "outputId": "f00adbb6-5aa7-462b-c370-dbea850b4ff2",
        "colab": {
          "base_uri": "https://localhost:8080/"
        }
      },
      "execution_count": 30,
      "outputs": [
        {
          "output_type": "stream",
          "name": "stdout",
          "text": [
            "{'class': 'data science', 'home': 'wah', ' device': '13', 'city': 'islamabad'}\n"
          ]
        }
      ]
    },
    {
      "cell_type": "code",
      "source": [
        "print(person)"
      ],
      "metadata": {
        "id": "9INri1XJ-BbR",
        "outputId": "6fe391c7-3b3d-4612-ad22-e2c5ba5993a8",
        "colab": {
          "base_uri": "https://localhost:8080/"
        }
      },
      "execution_count": 31,
      "outputs": [
        {
          "output_type": "stream",
          "name": "stdout",
          "text": [
            "{'class': 'data science', 'home': 'wah', ' device': '13', 'city': 'islamabad'}\n"
          ]
        }
      ]
    },
    {
      "cell_type": "code",
      "source": [
        "print(person.get(\"class\", 0))"
      ],
      "metadata": {
        "colab": {
          "base_uri": "https://localhost:8080/"
        },
        "id": "JFxmXqq7FXBA",
        "outputId": "608bf3f4-9bb7-4252-bed3-c341a625d4a3"
      },
      "execution_count": 32,
      "outputs": [
        {
          "output_type": "stream",
          "name": "stdout",
          "text": [
            "data science\n"
          ]
        }
      ]
    },
    {
      "cell_type": "code",
      "source": [
        "print(person.get(\"age\", 0))"
      ],
      "metadata": {
        "colab": {
          "base_uri": "https://localhost:8080/"
        },
        "id": "6h55m8tzGY_A",
        "outputId": "b7d04991-b635-4c01-89b0-7838b6064f23"
      },
      "execution_count": 33,
      "outputs": [
        {
          "output_type": "stream",
          "name": "stdout",
          "text": [
            "0\n"
          ]
        }
      ]
    },
    {
      "cell_type": "code",
      "source": [
        "print(person.get(\"age\"))"
      ],
      "metadata": {
        "colab": {
          "base_uri": "https://localhost:8080/"
        },
        "id": "rAoMWX5vG_qb",
        "outputId": "b7151c84-1126-4b77-e471-f5e76df37da0"
      },
      "execution_count": 34,
      "outputs": [
        {
          "output_type": "stream",
          "name": "stdout",
          "text": [
            "None\n"
          ]
        }
      ]
    },
    {
      "cell_type": "code",
      "source": [
        "print(person[\"age\"])"
      ],
      "metadata": {
        "colab": {
          "base_uri": "https://localhost:8080/",
          "height": 141
        },
        "id": "4dbbo50dGfeF",
        "outputId": "eb59928d-17a0-4eff-f29f-9637ac977a92"
      },
      "execution_count": 35,
      "outputs": [
        {
          "output_type": "error",
          "ename": "KeyError",
          "evalue": "'age'",
          "traceback": [
            "\u001b[0;31m---------------------------------------------------------------------------\u001b[0m",
            "\u001b[0;31mKeyError\u001b[0m                                  Traceback (most recent call last)",
            "\u001b[0;32m<ipython-input-35-4031658732>\u001b[0m in \u001b[0;36m<cell line: 0>\u001b[0;34m()\u001b[0m\n\u001b[0;32m----> 1\u001b[0;31m \u001b[0mprint\u001b[0m\u001b[0;34m(\u001b[0m\u001b[0mperson\u001b[0m\u001b[0;34m[\u001b[0m\u001b[0;34m\"age\"\u001b[0m\u001b[0;34m]\u001b[0m\u001b[0;34m)\u001b[0m\u001b[0;34m\u001b[0m\u001b[0;34m\u001b[0m\u001b[0m\n\u001b[0m",
            "\u001b[0;31mKeyError\u001b[0m: 'age'"
          ]
        }
      ]
    },
    {
      "cell_type": "code",
      "source": [
        "print(\"Keys:\", person.keys())\n",
        "print(\"values:\", person.values())\n",
        "print(\"items:\", person.items())"
      ],
      "metadata": {
        "colab": {
          "base_uri": "https://localhost:8080/"
        },
        "id": "NcE52QdP_I3k",
        "outputId": "3be82424-e30b-45c3-9470-9244da32d602"
      },
      "execution_count": 36,
      "outputs": [
        {
          "output_type": "stream",
          "name": "stdout",
          "text": [
            "Keys: dict_keys(['class', 'home', ' device', 'city'])\n",
            "values: dict_values(['data science', 'wah', '13', 'islamabad'])\n",
            "items: dict_items([('class', 'data science'), ('home', 'wah'), (' device', '13'), ('city', 'islamabad')])\n"
          ]
        }
      ]
    },
    {
      "cell_type": "code",
      "source": [
        "print(\"class\" in person.keys())"
      ],
      "metadata": {
        "colab": {
          "base_uri": "https://localhost:8080/"
        },
        "id": "ip4bAOOaAVCZ",
        "outputId": "c6fe9c85-8518-40c9-9877-7c11c9e90fdc"
      },
      "execution_count": 37,
      "outputs": [
        {
          "output_type": "stream",
          "name": "stdout",
          "text": [
            "True\n"
          ]
        }
      ]
    },
    {
      "cell_type": "code",
      "source": [
        "print(person.items())"
      ],
      "metadata": {
        "colab": {
          "base_uri": "https://localhost:8080/"
        },
        "id": "dcYAV862BrBN",
        "outputId": "ad4e7f54-9c36-4f43-af03-0e05597bd3f3"
      },
      "execution_count": 38,
      "outputs": [
        {
          "output_type": "stream",
          "name": "stdout",
          "text": [
            "dict_items([('class', 'data science'), ('home', 'wah'), (' device', '13'), ('city', 'islamabad')])\n"
          ]
        }
      ]
    },
    {
      "cell_type": "code",
      "source": [
        "for key, value in person.items():\n",
        "    print(\"key\", key)\n",
        "    print(\"value\", value)"
      ],
      "metadata": {
        "colab": {
          "base_uri": "https://localhost:8080/"
        },
        "id": "KzFDoFXoBxto",
        "outputId": "8888e167-f6b7-4c80-87cf-e6fd42f0b6c2"
      },
      "execution_count": 39,
      "outputs": [
        {
          "output_type": "stream",
          "name": "stdout",
          "text": [
            "key class\n",
            "value data science\n",
            "key home\n",
            "value wah\n",
            "key  device\n",
            "value 13\n",
            "key city\n",
            "value islamabad\n"
          ]
        }
      ]
    },
    {
      "cell_type": "code",
      "source": [
        "copied = person.copy()\n",
        "print(copied)"
      ],
      "metadata": {
        "colab": {
          "base_uri": "https://localhost:8080/"
        },
        "id": "riK90jf1MlXS",
        "outputId": "9d92092f-454c-4ad1-bdea-784ba79171ba"
      },
      "execution_count": 40,
      "outputs": [
        {
          "output_type": "stream",
          "name": "stdout",
          "text": [
            "{'class': 'data science', 'home': 'wah', ' device': '13', 'city': 'islamabad'}\n"
          ]
        }
      ]
    },
    {
      "cell_type": "code",
      "source": [
        "print(copied)"
      ],
      "metadata": {
        "colab": {
          "base_uri": "https://localhost:8080/"
        },
        "id": "_n1k04z1NU6s",
        "outputId": "3458f44b-ba41-47ac-d992-0b15325645c0"
      },
      "execution_count": 41,
      "outputs": [
        {
          "output_type": "stream",
          "name": "stdout",
          "text": [
            "{'class': 'data science', 'home': 'wah', ' device': '13', 'city': 'islamabad'}\n"
          ]
        }
      ]
    },
    {
      "cell_type": "code",
      "source": [
        "print(person)"
      ],
      "metadata": {
        "colab": {
          "base_uri": "https://localhost:8080/"
        },
        "id": "pYTTnz9LND3_",
        "outputId": "f8ce2cc5-4529-4130-8b85-6cb464b27d9d"
      },
      "execution_count": 43,
      "outputs": [
        {
          "output_type": "stream",
          "name": "stdout",
          "text": [
            "{'class': 'data science', 'home': 'wah', ' device': '13', 'city': 'islamabad'}\n"
          ]
        }
      ]
    },
    {
      "cell_type": "code",
      "source": [
        "person.clear()"
      ],
      "metadata": {
        "id": "kpfdXMYhNAAj"
      },
      "execution_count": 44,
      "outputs": []
    },
    {
      "cell_type": "code",
      "source": [
        "print(person)"
      ],
      "metadata": {
        "colab": {
          "base_uri": "https://localhost:8080/"
        },
        "outputId": "f637c8de-2c13-4768-9f42-363f62f7bd3f",
        "id": "bsC0nCvbenFa"
      },
      "execution_count": 45,
      "outputs": [
        {
          "output_type": "stream",
          "name": "stdout",
          "text": [
            "{}\n"
          ]
        }
      ]
    }
  ]
}
