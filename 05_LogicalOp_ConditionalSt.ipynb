{
  "nbformat": 4,
  "nbformat_minor": 0,
  "metadata": {
    "colab": {
      "provenance": []
    },
    "kernelspec": {
      "name": "python3",
      "display_name": "Python 3"
    },
    "language_info": {
      "name": "python"
    }
  },
  "cells": [
    {
      "cell_type": "markdown",
      "source": [
        "@Uzma Jawed"
      ],
      "metadata": {
        "id": "Kz0wANEgePhS"
      }
    },
    {
      "cell_type": "code",
      "execution_count": null,
      "metadata": {
        "colab": {
          "base_uri": "https://localhost:8080/"
        },
        "id": "JnrYOBfzsm6i",
        "outputId": "d25f4c83-7920-4c08-eaf6-67ef5d00e8e5"
      },
      "outputs": [
        {
          "output_type": "execute_result",
          "data": {
            "text/plain": [
              "True"
            ]
          },
          "metadata": {},
          "execution_count": 1
        }
      ],
      "source": [
        "\"a\" in \"Aqsa\""
      ]
    },
    {
      "cell_type": "code",
      "source": [
        "\"a\" in \"Aqs\""
      ],
      "metadata": {
        "colab": {
          "base_uri": "https://localhost:8080/"
        },
        "id": "BIK5nnz8tVnl",
        "outputId": "22791d15-04df-4e8d-bc27-ad0b7a834175"
      },
      "execution_count": null,
      "outputs": [
        {
          "output_type": "execute_result",
          "data": {
            "text/plain": [
              "False"
            ]
          },
          "metadata": {},
          "execution_count": 2
        }
      ]
    },
    {
      "cell_type": "code",
      "source": [
        "name = \"Aqs\""
      ],
      "metadata": {
        "id": "MExIKvNbtp80"
      },
      "execution_count": null,
      "outputs": []
    },
    {
      "cell_type": "code",
      "source": [
        "\"a\" in name"
      ],
      "metadata": {
        "colab": {
          "base_uri": "https://localhost:8080/"
        },
        "id": "JIT7v4PAt4Es",
        "outputId": "3b13ec97-92cb-453d-8ed1-1e79bbcb4eb5"
      },
      "execution_count": null,
      "outputs": [
        {
          "output_type": "execute_result",
          "data": {
            "text/plain": [
              "False"
            ]
          },
          "metadata": {},
          "execution_count": 4
        }
      ]
    },
    {
      "cell_type": "code",
      "source": [
        "name = input(\"Enter your name\")"
      ],
      "metadata": {
        "colab": {
          "base_uri": "https://localhost:8080/"
        },
        "id": "iOdvmZG9uXp8",
        "outputId": "a9108598-bd61-4216-9889-be7505470927"
      },
      "execution_count": null,
      "outputs": [
        {
          "name": "stdout",
          "output_type": "stream",
          "text": [
            "Enter your name\"Uzma\"\n"
          ]
        }
      ]
    },
    {
      "cell_type": "code",
      "source": [
        "gender = \"Female male\""
      ],
      "metadata": {
        "id": "i0J2cx4buz0c"
      },
      "execution_count": null,
      "outputs": []
    },
    {
      "cell_type": "code",
      "source": [
        "gender.upper()"
      ],
      "metadata": {
        "colab": {
          "base_uri": "https://localhost:8080/",
          "height": 35
        },
        "id": "jtqivdXYvAj8",
        "outputId": "061c2f80-ebd0-4456-a8f3-5978ce3ca2c5"
      },
      "execution_count": null,
      "outputs": [
        {
          "output_type": "execute_result",
          "data": {
            "text/plain": [
              "'FEMALE MALE'"
            ],
            "application/vnd.google.colaboratory.intrinsic+json": {
              "type": "string"
            }
          },
          "metadata": {},
          "execution_count": 12
        }
      ]
    },
    {
      "cell_type": "code",
      "source": [
        "gender.lower()"
      ],
      "metadata": {
        "colab": {
          "base_uri": "https://localhost:8080/",
          "height": 35
        },
        "id": "LPadoX2WvIrc",
        "outputId": "f32d781f-8b63-4be5-f6bd-17c920b98680"
      },
      "execution_count": null,
      "outputs": [
        {
          "output_type": "execute_result",
          "data": {
            "text/plain": [
              "'female male'"
            ],
            "application/vnd.google.colaboratory.intrinsic+json": {
              "type": "string"
            }
          },
          "metadata": {},
          "execution_count": 13
        }
      ]
    },
    {
      "cell_type": "code",
      "source": [
        "gender.capitalize()"
      ],
      "metadata": {
        "colab": {
          "base_uri": "https://localhost:8080/",
          "height": 35
        },
        "id": "RyV8iGDPvM9c",
        "outputId": "fcafbbb9-6318-49c7-c8ff-7e925d15b2ab"
      },
      "execution_count": null,
      "outputs": [
        {
          "output_type": "execute_result",
          "data": {
            "text/plain": [
              "'Female male'"
            ],
            "application/vnd.google.colaboratory.intrinsic+json": {
              "type": "string"
            }
          },
          "metadata": {},
          "execution_count": 14
        }
      ]
    },
    {
      "cell_type": "code",
      "source": [
        "\"f\" in gender"
      ],
      "metadata": {
        "colab": {
          "base_uri": "https://localhost:8080/"
        },
        "id": "qcQ5-39YvcRc",
        "outputId": "f448a3dc-41af-4259-a523-96a08b5e803d"
      },
      "execution_count": null,
      "outputs": [
        {
          "output_type": "execute_result",
          "data": {
            "text/plain": [
              "False"
            ]
          },
          "metadata": {},
          "execution_count": 15
        }
      ]
    },
    {
      "cell_type": "code",
      "source": [
        "\"f\" in gender.lower()"
      ],
      "metadata": {
        "colab": {
          "base_uri": "https://localhost:8080/"
        },
        "id": "ORwJl5IrwBWU",
        "outputId": "8b04aa85-be6d-459a-f3de-f6de5d4014fa"
      },
      "execution_count": null,
      "outputs": [
        {
          "output_type": "execute_result",
          "data": {
            "text/plain": [
              "True"
            ]
          },
          "metadata": {},
          "execution_count": 18
        }
      ]
    },
    {
      "cell_type": "code",
      "source": [
        "\"a\" in gender.title()"
      ],
      "metadata": {
        "colab": {
          "base_uri": "https://localhost:8080/"
        },
        "id": "sUb43fW-xdGU",
        "outputId": "304b0913-d970-4d40-b6a6-1967515a15ef"
      },
      "execution_count": null,
      "outputs": [
        {
          "output_type": "execute_result",
          "data": {
            "text/plain": [
              "True"
            ]
          },
          "metadata": {},
          "execution_count": 20
        }
      ]
    },
    {
      "cell_type": "code",
      "source": [
        "name = \"Uzma\""
      ],
      "metadata": {
        "id": "A7BDoDkByBvc"
      },
      "execution_count": null,
      "outputs": []
    },
    {
      "cell_type": "code",
      "source": [
        "\"u\" in name"
      ],
      "metadata": {
        "colab": {
          "base_uri": "https://localhost:8080/"
        },
        "id": "oYd6dphxyMLV",
        "outputId": "16b3524c-596f-4969-b067-4d07175db41b"
      },
      "execution_count": null,
      "outputs": [
        {
          "output_type": "execute_result",
          "data": {
            "text/plain": [
              "False"
            ]
          },
          "metadata": {},
          "execution_count": 22
        }
      ]
    },
    {
      "cell_type": "code",
      "source": [
        "\"u\" in name.lower()"
      ],
      "metadata": {
        "colab": {
          "base_uri": "https://localhost:8080/"
        },
        "id": "VgNiNy_AzDes",
        "outputId": "6aa86c59-2d39-4126-f2b3-c3ccfd53066d"
      },
      "execution_count": null,
      "outputs": [
        {
          "output_type": "execute_result",
          "data": {
            "text/plain": [
              "True"
            ]
          },
          "metadata": {},
          "execution_count": 23
        }
      ]
    },
    {
      "cell_type": "code",
      "source": [
        "\"fe\" in gender.title()"
      ],
      "metadata": {
        "colab": {
          "base_uri": "https://localhost:8080/"
        },
        "id": "zBVFayzWzf5t",
        "outputId": "4b1a9d45-0970-4cc6-c12e-4fc7b8ad4e7f"
      },
      "execution_count": null,
      "outputs": [
        {
          "output_type": "execute_result",
          "data": {
            "text/plain": [
              "False"
            ]
          },
          "metadata": {},
          "execution_count": 24
        }
      ]
    },
    {
      "cell_type": "code",
      "source": [
        "food = \"fris\""
      ],
      "metadata": {
        "id": "uoMpgsA3z528"
      },
      "execution_count": null,
      "outputs": []
    },
    {
      "cell_type": "code",
      "source": [
        "\"ies\" in food"
      ],
      "metadata": {
        "colab": {
          "base_uri": "https://localhost:8080/"
        },
        "id": "K6YERHt20Ev8",
        "outputId": "682639af-bb47-4eec-95bb-a06074727288"
      },
      "execution_count": null,
      "outputs": [
        {
          "output_type": "execute_result",
          "data": {
            "text/plain": [
              "False"
            ]
          },
          "metadata": {},
          "execution_count": 28
        }
      ]
    },
    {
      "cell_type": "code",
      "source": [
        "2 != 4"
      ],
      "metadata": {
        "colab": {
          "base_uri": "https://localhost:8080/"
        },
        "id": "hWMjgSqr02wF",
        "outputId": "9ec06016-94eb-4d43-8f80-d6e15052c4d9"
      },
      "execution_count": null,
      "outputs": [
        {
          "output_type": "execute_result",
          "data": {
            "text/plain": [
              "True"
            ]
          },
          "metadata": {},
          "execution_count": 29
        }
      ]
    },
    {
      "cell_type": "code",
      "source": [
        "\"Fe\" not in gender.title()"
      ],
      "metadata": {
        "colab": {
          "base_uri": "https://localhost:8080/"
        },
        "id": "FZ-cvhac0-S8",
        "outputId": "812baae5-2565-4651-ad4e-f85a24abf7e6"
      },
      "execution_count": null,
      "outputs": [
        {
          "output_type": "execute_result",
          "data": {
            "text/plain": [
              "False"
            ]
          },
          "metadata": {},
          "execution_count": 32
        }
      ]
    },
    {
      "cell_type": "code",
      "source": [
        "\"Fe\" in gender.title()"
      ],
      "metadata": {
        "colab": {
          "base_uri": "https://localhost:8080/"
        },
        "id": "rRW4ZIm61K8M",
        "outputId": "de7d5511-5a56-4990-fb3e-19f32dc155ac"
      },
      "execution_count": null,
      "outputs": [
        {
          "output_type": "execute_result",
          "data": {
            "text/plain": [
              "True"
            ]
          },
          "metadata": {},
          "execution_count": 33
        }
      ]
    },
    {
      "cell_type": "code",
      "source": [
        "name = \"Abeer\""
      ],
      "metadata": {
        "id": "xHJs2KUv2d6t"
      },
      "execution_count": null,
      "outputs": []
    },
    {
      "cell_type": "code",
      "source": [
        "\"a\" in name.lower()"
      ],
      "metadata": {
        "colab": {
          "base_uri": "https://localhost:8080/"
        },
        "id": "tW1GXeQm2gyM",
        "outputId": "3f719ba8-87bc-42cf-c100-7c4ff31773d9"
      },
      "execution_count": null,
      "outputs": [
        {
          "output_type": "execute_result",
          "data": {
            "text/plain": [
              "True"
            ]
          },
          "metadata": {},
          "execution_count": 46
        }
      ]
    },
    {
      "cell_type": "code",
      "source": [
        "if \"a\" not in name.lower():\n",
        "  print(\"Please add them into the class.\")\n",
        "else:\n",
        "  print(\"Tomorrow is your test.\")"
      ],
      "metadata": {
        "colab": {
          "base_uri": "https://localhost:8080/"
        },
        "id": "Fbzqtrn72nvc",
        "outputId": "c59d37ff-47fb-4ab1-a942-4f657b29c773"
      },
      "execution_count": null,
      "outputs": [
        {
          "output_type": "stream",
          "name": "stdout",
          "text": [
            "Tomorrow is your test.\n"
          ]
        }
      ]
    },
    {
      "cell_type": "code",
      "source": [
        "if 2 > 5:\n",
        "  print(2)\n",
        "else:\n",
        "  print(5)"
      ],
      "metadata": {
        "colab": {
          "base_uri": "https://localhost:8080/"
        },
        "id": "rzvmtGHp3RWO",
        "outputId": "b9f14d41-6c91-4bad-eb7a-3dc28b05d681"
      },
      "execution_count": null,
      "outputs": [
        {
          "output_type": "stream",
          "name": "stdout",
          "text": [
            "5\n"
          ]
        }
      ]
    },
    {
      "cell_type": "code",
      "source": [
        "if 5 < 10:\n",
        "  print(10)\n",
        "else:\n",
        "  print(5)"
      ],
      "metadata": {
        "colab": {
          "base_uri": "https://localhost:8080/"
        },
        "id": "D8gYtaoO3rPE",
        "outputId": "a8ab42c5-9f70-4fff-a72d-8ad78fdb2746"
      },
      "execution_count": null,
      "outputs": [
        {
          "output_type": "stream",
          "name": "stdout",
          "text": [
            "10\n"
          ]
        }
      ]
    },
    {
      "cell_type": "code",
      "source": [
        "# Checking if a number is even or odd\n",
        "number = int(input(\"Enter a number to check even or odd: \"))\n",
        "\n",
        "if number % 2 == 0:\n",
        "    print(f\"is Even.\")\n",
        "else:\n",
        "    print(f\"is Odd.\")"
      ],
      "metadata": {
        "id": "RnS-d4g_4XM9",
        "colab": {
          "base_uri": "https://localhost:8080/"
        },
        "outputId": "19b3d6e0-b1e1-47d4-ede1-6c0a84d9b73e"
      },
      "execution_count": null,
      "outputs": [
        {
          "output_type": "stream",
          "name": "stdout",
          "text": [
            "Enter a number to check even or odd: 0\n",
            "is Even.\n"
          ]
        }
      ]
    },
    {
      "cell_type": "code",
      "source": [
        "\"U\" is \"Uzma\""
      ],
      "metadata": {
        "colab": {
          "base_uri": "https://localhost:8080/"
        },
        "id": "ElbrvGi9-gG9",
        "outputId": "a882f42e-7afe-4baa-c60b-14099e6e2764"
      },
      "execution_count": null,
      "outputs": [
        {
          "output_type": "stream",
          "name": "stderr",
          "text": [
            "<>:1: SyntaxWarning: \"is\" with a literal. Did you mean \"==\"?\n",
            "<>:1: SyntaxWarning: \"is\" with a literal. Did you mean \"==\"?\n",
            "<ipython-input-51-b9422161240e>:1: SyntaxWarning: \"is\" with a literal. Did you mean \"==\"?\n",
            "  \"U\" is \"Uzma\"\n"
          ]
        },
        {
          "output_type": "execute_result",
          "data": {
            "text/plain": [
              "False"
            ]
          },
          "metadata": {},
          "execution_count": 51
        }
      ]
    },
    {
      "cell_type": "code",
      "source": [
        "\"u\" is not \"uzma\""
      ],
      "metadata": {
        "colab": {
          "base_uri": "https://localhost:8080/"
        },
        "id": "dFaC9mEE_XcE",
        "outputId": "2989d9ab-7fa2-4ac2-bc25-bc939c8f7cf3"
      },
      "execution_count": null,
      "outputs": [
        {
          "output_type": "stream",
          "name": "stderr",
          "text": [
            "<>:1: SyntaxWarning: \"is not\" with a literal. Did you mean \"!=\"?\n",
            "<>:1: SyntaxWarning: \"is not\" with a literal. Did you mean \"!=\"?\n",
            "<ipython-input-2-2448e20e71c2>:1: SyntaxWarning: \"is not\" with a literal. Did you mean \"!=\"?\n",
            "  \"u\" is not \"uzma\"\n"
          ]
        },
        {
          "output_type": "execute_result",
          "data": {
            "text/plain": [
              "True"
            ]
          },
          "metadata": {},
          "execution_count": 2
        }
      ]
    },
    {
      "cell_type": "code",
      "source": [
        "\"u\" != \"uzma\""
      ],
      "metadata": {
        "colab": {
          "base_uri": "https://localhost:8080/"
        },
        "id": "zLbfarjE_nAF",
        "outputId": "5af7c88a-cdcd-4e76-d0b6-02a1f37dc1e2"
      },
      "execution_count": null,
      "outputs": [
        {
          "output_type": "execute_result",
          "data": {
            "text/plain": [
              "True"
            ]
          },
          "metadata": {},
          "execution_count": 54
        }
      ]
    },
    {
      "cell_type": "code",
      "source": [
        "\"u\" == \"uzma\""
      ],
      "metadata": {
        "colab": {
          "base_uri": "https://localhost:8080/"
        },
        "id": "CPq9mjP5_tlu",
        "outputId": "67fe6cb0-5698-4e6a-abfe-2d3e0fd1702e"
      },
      "execution_count": null,
      "outputs": [
        {
          "output_type": "execute_result",
          "data": {
            "text/plain": [
              "False"
            ]
          },
          "metadata": {},
          "execution_count": 55
        }
      ]
    },
    {
      "cell_type": "markdown",
      "source": [
        "# Conditional Statements\n",
        "*   if\n",
        "*   elif\n",
        "*   else\n",
        "\n",
        "\n"
      ],
      "metadata": {
        "id": "MIML7gBXACHd"
      }
    },
    {
      "cell_type": "code",
      "source": [
        "if 3>1:\n",
        "  print(3)\n",
        "elif 2>1:\n",
        "  print(2)\n",
        "else:\n",
        "  print(1)"
      ],
      "metadata": {
        "colab": {
          "base_uri": "https://localhost:8080/"
        },
        "id": "BjCNWPC3A40-",
        "outputId": "1ef7d4fd-8f16-4dee-bb65-f962ff3a2fb5"
      },
      "execution_count": null,
      "outputs": [
        {
          "output_type": "stream",
          "name": "stdout",
          "text": [
            "3\n"
          ]
        }
      ]
    },
    {
      "cell_type": "markdown",
      "source": [
        "# Nested Conditions"
      ],
      "metadata": {
        "id": "Hlt1eADtE0aO"
      }
    },
    {
      "cell_type": "code",
      "source": [
        "value = 80\n",
        "age = 26\n",
        "\n",
        "# Grading system\n",
        "if value >= 90:\n",
        "    print(\"A\")\n",
        "elif value >= 80:\n",
        "    print(\"B\")\n",
        "elif value >= 70:\n",
        "    print(\"C\")\n",
        "elif value >= 60:\n",
        "    print(\"D\")\n",
        "else:\n",
        "    print(\"F\")\n",
        "\n",
        "# Scholarship eligibility\n",
        "if age >= 20 and age <= 30:\n",
        "    print(\"You are eligible for scholarship\")\n",
        "else:\n",
        "    print(\"You are not eligible for scholarship.\")"
      ],
      "metadata": {
        "colab": {
          "base_uri": "https://localhost:8080/"
        },
        "id": "C4r4bv4MIzUK",
        "outputId": "195fb1a3-d4c3-450c-c082-3e4cdb56f572"
      },
      "execution_count": null,
      "outputs": [
        {
          "output_type": "stream",
          "name": "stdout",
          "text": [
            "B\n",
            "You are eligible for scholarship\n"
          ]
        }
      ]
    },
    {
      "cell_type": "code",
      "source": [
        "# Traffic light system that asks for a color and prints the correct action.\n",
        "\n",
        "traffic_light = \"Green\"\n",
        "if traffic_light == \"Green\":\n",
        "    print(\"You Can Go!\")\n",
        "elif traffic_light == \"Yellow\":\n",
        "    print(\"slow down and PREPARE TO STOP!\")\n",
        "elif traffic_light == \"Red\":\n",
        "    print(\"You must STOP!\")"
      ],
      "metadata": {
        "colab": {
          "base_uri": "https://localhost:8080/"
        },
        "id": "NWsKaoG0Jrte",
        "outputId": "dfe091e2-ae3b-4d64-eeaa-80604ce7c478"
      },
      "execution_count": null,
      "outputs": [
        {
          "output_type": "stream",
          "name": "stdout",
          "text": [
            "You Can Go!\n"
          ]
        }
      ]
    },
    {
      "cell_type": "code",
      "source": [
        "color = input(\"Enter traffic light color (green, yellow, red): \").lower()\n",
        "\n",
        "if color == \"green\":\n",
        "    print(\"You can go\")\n",
        "elif color == \"yellow\":\n",
        "    print(\"Slow down and prepare to stop\")\n",
        "elif color == \"red\":\n",
        "    print(\"Stop\")\n",
        "else:\n",
        "    print(\"Invalid color\")"
      ],
      "metadata": {
        "colab": {
          "base_uri": "https://localhost:8080/"
        },
        "id": "IdNzs118SDTb",
        "outputId": "056271e8-c87f-4cbf-a889-1baceadd8991"
      },
      "execution_count": null,
      "outputs": [
        {
          "output_type": "stream",
          "name": "stdout",
          "text": [
            "Enter traffic light color (green, yellow, red): Red\n",
            "Stop\n"
          ]
        }
      ]
    },
    {
      "cell_type": "code",
      "source": [
        "age = int(input(\"Enter your age: \"))\n",
        "\n",
        "if age >= 12:\n",
        "    print(\"You are eligible to join the football team.\")\n",
        "else:\n",
        "    print(\"Sorry, you are not eligible to join the team.\")"
      ],
      "metadata": {
        "colab": {
          "base_uri": "https://localhost:8080/"
        },
        "id": "1v81dHOtSbcG",
        "outputId": "038f4b3d-636e-4698-8568-d7ec14f0cde6"
      },
      "execution_count": null,
      "outputs": [
        {
          "output_type": "stream",
          "name": "stdout",
          "text": [
            "Enter your age: 10\n",
            "Sorry, you are not eligible to join the team.\n"
          ]
        }
      ]
    },
    {
      "cell_type": "code",
      "source": [
        "# Catagorizing temperature\n",
        "temp = float(input(\"Enter the temperature in °C: \"))\n",
        "\n",
        "# Check temperature range and print the appropriate message\n",
        "if temp > 30:\n",
        "    print(\"It's hot outside\")\n",
        "elif 15 <= temp <= 30:\n",
        "    print(\"It's pleasant weather\")\n",
        "else:\n",
        "    print(\"It's cold outside\")"
      ],
      "metadata": {
        "colab": {
          "base_uri": "https://localhost:8080/"
        },
        "id": "8lDdQvy9WVBv",
        "outputId": "1f06db19-bd91-42b2-8fae-70e99f77eb40"
      },
      "execution_count": null,
      "outputs": [
        {
          "output_type": "stream",
          "name": "stdout",
          "text": [
            "Enter the temperature in °C: 25\n",
            "It's pleasant weather\n"
          ]
        }
      ]
    },
    {
      "cell_type": "markdown",
      "source": [
        "Scenario: Student Scholarship Eligibility Checker\n",
        "\n",
        "Ask the user to enter their grade level (e.g., \"high school\" or \"college\").\n",
        "\n",
        "If the student is in college, ask for their GPA.\n",
        "\n",
        "If GPA is 3.5 or higher, print: \"You are eligible for a scholarship!\"\n",
        "\n",
        "Else, print: \"You need a higher GPA to qualify.\"\n",
        "\n",
        "If the student is in high school, ask for their class rank (e.g., top 10% or not).\n",
        "\n",
        "If they are in the top 10%, print: \"You qualify for a merit award!\"\n",
        "\n",
        "Else, print: \"Keep working hard!\"\n",
        "\n",
        "If the input is something else, print: \"Invalid grade level.\"\n",
        "\n",
        "\n"
      ],
      "metadata": {
        "id": "DYiCsuneXXNp"
      }
    },
    {
      "cell_type": "code",
      "source": [
        "# Student scholarship eligiblity checker\n",
        "\n",
        "grade_level = input(\"Enter your grade level (high school/college): \").lower()\n",
        "\n",
        "if grade_level == \"college\":\n",
        "    gpa = float(input(\"Enter your GPA: \"))\n",
        "    if gpa >= 3.5:\n",
        "        print(\"You are eligible for a scholarship!\")\n",
        "    else:\n",
        "        print(\"You need a higher GPA to qualify.\")\n",
        "elif grade_level == \"high school\":\n",
        "    rank = input(\"Are you in the top 10% of your class? (yes/no): \").lower()\n",
        "    if rank == \"yes\":\n",
        "        print(\"You qualify for a merit award!\")\n",
        "    else:\n",
        "        print(\"Keep working hard!\")\n",
        "else:\n",
        "    print(\"Invalid grade level.\")"
      ],
      "metadata": {
        "colab": {
          "base_uri": "https://localhost:8080/"
        },
        "id": "bZTTx_gKTVGg",
        "outputId": "06a4b93c-2bed-46d9-a2cf-b8ea47a4263c"
      },
      "execution_count": null,
      "outputs": [
        {
          "output_type": "stream",
          "name": "stdout",
          "text": [
            "Enter your grade level (high school/college): college\n",
            "Enter your GPA: 3.5\n",
            "You are eligible for a scholarship!\n"
          ]
        }
      ]
    },
    {
      "cell_type": "code",
      "source": [
        "# Checking leap year\n",
        "\n",
        "year = int(input(\"Enter a year: \"))\n",
        "\n",
        "if (year % 4 == 0 and year % 100 != 0) or (year % 400 == 0):\n",
        "    print(\"It's a leap year\")\n",
        "else:\n",
        "    print(\"It's not a leap year\")"
      ],
      "metadata": {
        "colab": {
          "base_uri": "https://localhost:8080/"
        },
        "id": "X6JXstyVS-vc",
        "outputId": "6ad67269-66a8-4033-dcc5-e82554227b46"
      },
      "execution_count": null,
      "outputs": [
        {
          "output_type": "stream",
          "name": "stdout",
          "text": [
            "Enter a year: 2024\n",
            "It's a leap year\n"
          ]
        }
      ]
    },
    {
      "cell_type": "code",
      "source": [
        "# check divisibility of 2024 by 4\n",
        "2024 % 4 == 0 # 2024 ÷ 4 = 506 with remainder = 0"
      ],
      "metadata": {
        "colab": {
          "base_uri": "https://localhost:8080/"
        },
        "id": "gdSYQMr8a4dr",
        "outputId": "23ec7e62-fb08-47db-9304-ceec96f67e0d"
      },
      "execution_count": null,
      "outputs": [
        {
          "output_type": "execute_result",
          "data": {
            "text/plain": [
              "True"
            ]
          },
          "metadata": {},
          "execution_count": 13
        }
      ]
    },
    {
      "cell_type": "code",
      "source": [
        "# check 2024 divisibility by 100\n",
        "2024 % 100 == 0  # 2024 ÷ 100 = 20.24 with remainder != 0"
      ],
      "metadata": {
        "colab": {
          "base_uri": "https://localhost:8080/"
        },
        "id": "yX1zlbqBbytX",
        "outputId": "63fe4cfc-00c1-4744-ffb3-f8bfa8b3383c"
      },
      "execution_count": null,
      "outputs": [
        {
          "output_type": "execute_result",
          "data": {
            "text/plain": [
              "False"
            ]
          },
          "metadata": {},
          "execution_count": 17
        }
      ]
    },
    {
      "cell_type": "code",
      "source": [
        "year = int(input(\"Enter a year: \")) # Taking user input for the leap year\n",
        "\n",
        "# Check divisibility rules\n",
        "divisible_by_4 = (year % 4 == 0)    # True if year is divisible by 4\n",
        "divisible_by_100 = (year % 100 != 0) # False if divisible by 100\n",
        "divisible_by_400 = (year % 400 == 0) # True if divisible by 400\n",
        "\n",
        "# Leap year conditions:\n",
        "if (divisible_by_4 and not divisible_by_100) or divisible_by_400:\n",
        "    print(f\"{year} is a leap year! ✅\")\n",
        "else:\n",
        "    print(f\"{year} is NOT a leap year. ❌\")"
      ],
      "metadata": {
        "colab": {
          "base_uri": "https://localhost:8080/"
        },
        "id": "WLTtawNhYslL",
        "outputId": "0563f9c2-e55f-432c-e624-9aabff8cb1cb"
      },
      "execution_count": null,
      "outputs": [
        {
          "output_type": "stream",
          "name": "stdout",
          "text": [
            "Enter a year: 2025\n",
            "2025 is NOT a leap year. ❌\n"
          ]
        }
      ]
    },
    {
      "cell_type": "code",
      "source": [
        "# check divisibility 0f 2025\n",
        "year = 2025\n",
        "if 2025 % 4 == 0 and 2025 % 100 != 0 or 2025 % 400 == 0:\n",
        "  print(\"Leap year\")\n",
        "else:\n",
        "  print(\"Not a leap year\")"
      ],
      "metadata": {
        "colab": {
          "base_uri": "https://localhost:8080/"
        },
        "id": "AZLiVDRmcuBE",
        "outputId": "8c93dcd9-4010-4512-be2a-07814980ee43"
      },
      "execution_count": null,
      "outputs": [
        {
          "output_type": "stream",
          "name": "stdout",
          "text": [
            "Not a leap year\n"
          ]
        }
      ]
    }
  ]
}
