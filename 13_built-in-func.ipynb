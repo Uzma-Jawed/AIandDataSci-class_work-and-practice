{
  "nbformat": 4,
  "nbformat_minor": 0,
  "metadata": {
    "colab": {
      "provenance": []
    },
    "kernelspec": {
      "name": "python3",
      "display_name": "Python 3"
    },
    "language_info": {
      "name": "python"
    }
  },
  "cells": [
    {
      "cell_type": "markdown",
      "source": [
        "Python provides many built-in functions to perform common tasks. Here are a few of them:"
      ],
      "metadata": {
        "id": "aHjY4N8xgIra"
      }
    },
    {
      "cell_type": "markdown",
      "source": [
        "len():\n",
        "\n",
        "Returns the length of an object (string, list, etc.)\n",
        "\n",
        "Example:"
      ],
      "metadata": {
        "id": "hZ6fveFHgPL4"
      }
    },
    {
      "cell_type": "code",
      "execution_count": 4,
      "metadata": {
        "id": "eCtWxxd8bfew",
        "colab": {
          "base_uri": "https://localhost:8080/"
        },
        "outputId": "80e4ee6b-44fd-4880-b3ac-88276e88b1b3"
      },
      "outputs": [
        {
          "output_type": "stream",
          "name": "stdout",
          "text": [
            "4\n"
          ]
        }
      ],
      "source": [
        "text = \"Uzma\"\n",
        "print(len(text))"
      ]
    },
    {
      "cell_type": "markdown",
      "source": [
        "max():\n",
        "\n",
        "Returns the maximum value from a list.\n",
        "\n",
        "Example:"
      ],
      "metadata": {
        "id": "9bEG5vv0gdY9"
      }
    },
    {
      "cell_type": "code",
      "source": [
        "numbers = [1, 2, 3, 4, 5, 6, 7]\n",
        "\n",
        "print(max(numbers))"
      ],
      "metadata": {
        "id": "gwHDXCpjbuHD",
        "colab": {
          "base_uri": "https://localhost:8080/"
        },
        "outputId": "2fc02a18-e690-4ad1-e8a7-5ca940b93cd3"
      },
      "execution_count": 5,
      "outputs": [
        {
          "output_type": "stream",
          "name": "stdout",
          "text": [
            "7\n"
          ]
        }
      ]
    },
    {
      "cell_type": "code",
      "source": [
        "numbers = [1, 2, 3, 4, 5]\n",
        "print(max(numbers))\n",
        "\n",
        "prices = [10, 25, 8, 15, 30]\n",
        "highest_price = max(prices)\n",
        "print(\"The highest price on the menu is:\", highest_price)"
      ],
      "metadata": {
        "id": "bZ7jskrLbx6r",
        "colab": {
          "base_uri": "https://localhost:8080/"
        },
        "outputId": "59ea2cfc-4108-4bec-c537-8b4186abd301"
      },
      "execution_count": 6,
      "outputs": [
        {
          "output_type": "stream",
          "name": "stdout",
          "text": [
            "5\n",
            "The highest price on the menu is: 30\n"
          ]
        }
      ]
    },
    {
      "cell_type": "markdown",
      "source": [
        "sorted():\n",
        "\n",
        "sorts a list in ascending order."
      ],
      "metadata": {
        "id": "dzmC4MRFh2AM"
      }
    },
    {
      "cell_type": "code",
      "source": [
        "ratings = [4.2, 3.5, 5.0, 3.8]\n",
        "sorted_ratings = sorted(ratings)\n",
        "print(\"The restaurant ratings from lowest to highest:\", sorted_ratings)"
      ],
      "metadata": {
        "id": "dq9teasKcBhJ",
        "colab": {
          "base_uri": "https://localhost:8080/"
        },
        "outputId": "092fd895-1230-48df-ed79-719e8f0ddd23"
      },
      "execution_count": 7,
      "outputs": [
        {
          "output_type": "stream",
          "name": "stdout",
          "text": [
            "The restaurant ratings from lowest to highest: [3.5, 3.8, 4.2, 5.0]\n"
          ]
        }
      ]
    },
    {
      "cell_type": "markdown",
      "source": [
        "range():\n",
        "\n",
        "Generates a sequence of numbers.\n",
        "\n",
        "Example:"
      ],
      "metadata": {
        "id": "ba4Wp4yfiZjK"
      }
    },
    {
      "cell_type": "code",
      "source": [
        "# generates a sequence of numbers like (preparing a set of number of meals for a buffet).\n",
        "\n",
        "for i in range(5):\n",
        "    print(\"Dish\", i+1, \"is ready!\")"
      ],
      "metadata": {
        "id": "HEPk-WcBcGSi",
        "colab": {
          "base_uri": "https://localhost:8080/"
        },
        "outputId": "cfc8bd7d-44b1-4126-ef89-3b6bc973995b"
      },
      "execution_count": 8,
      "outputs": [
        {
          "output_type": "stream",
          "name": "stdout",
          "text": [
            "Dish 1 is ready!\n",
            "Dish 2 is ready!\n",
            "Dish 3 is ready!\n",
            "Dish 4 is ready!\n",
            "Dish 5 is ready!\n"
          ]
        }
      ]
    },
    {
      "cell_type": "code",
      "source": [
        "for i in range(5):\n",
        "    print(i)"
      ],
      "metadata": {
        "id": "4qkGtUxucKsS",
        "colab": {
          "base_uri": "https://localhost:8080/"
        },
        "outputId": "32967e02-99bc-4b46-ae39-ebee0061db2e"
      },
      "execution_count": 9,
      "outputs": [
        {
          "output_type": "stream",
          "name": "stdout",
          "text": [
            "0\n",
            "1\n",
            "2\n",
            "3\n",
            "4\n"
          ]
        }
      ]
    },
    {
      "cell_type": "markdown",
      "source": [
        "id():\n",
        "\n",
        "Returns the memory address of an object.\n",
        "\n",
        "Example:"
      ],
      "metadata": {
        "id": "jl05V9avipKr"
      }
    },
    {
      "cell_type": "code",
      "source": [
        "x = 42\n",
        "print(\"The memory address of x is:\", id(x))"
      ],
      "metadata": {
        "id": "5y53VG6scOds",
        "colab": {
          "base_uri": "https://localhost:8080/"
        },
        "outputId": "7cf71d4d-256a-4c75-ebc3-1367a6f715d7"
      },
      "execution_count": 10,
      "outputs": [
        {
          "output_type": "stream",
          "name": "stdout",
          "text": [
            "The memory address of x is: 10759048\n"
          ]
        }
      ]
    },
    {
      "cell_type": "markdown",
      "source": [
        "eval():\n",
        "\n",
        "Evaluates a string as a Python expression.\n",
        "\n",
        "Example:"
      ],
      "metadata": {
        "id": "ny_qXqD-izf-"
      }
    },
    {
      "cell_type": "code",
      "source": [
        "expression = \"5+3*2\"\n",
        "result = eval(expression)\n",
        "print(\"The result of the expresion is:\", result)"
      ],
      "metadata": {
        "id": "HIQMH2iUcSxZ",
        "colab": {
          "base_uri": "https://localhost:8080/"
        },
        "outputId": "18fc1629-80b2-4ba0-9bbd-817c2bfd1483"
      },
      "execution_count": 11,
      "outputs": [
        {
          "output_type": "stream",
          "name": "stdout",
          "text": [
            "The result of the expresion is: 11\n"
          ]
        }
      ]
    },
    {
      "cell_type": "markdown",
      "source": [
        "Function Execution with Input and Output\n",
        "\n",
        "Functions can take input and provide output.\n",
        "\n",
        "Input and Output Example:\n",
        " If you want to display a message and take input from the user, you can use the input() function.\n",
        "\n",
        "Meaningful Messages:\n",
        " It is important to display meaningful messages for better readability and user experience.\n",
        "\n",
        " Example:"
      ],
      "metadata": {
        "id": "512yoqQ1jKr7"
      }
    },
    {
      "cell_type": "code",
      "source": [
        "name = input(\"Enter your name: \")\n",
        "print(\"Hello\", name)"
      ],
      "metadata": {
        "id": "wK3gQ8Drcjbl",
        "colab": {
          "base_uri": "https://localhost:8080/"
        },
        "outputId": "c5acb3d1-493e-4c0e-a4d8-0c3ac87a985b"
      },
      "execution_count": 14,
      "outputs": [
        {
          "output_type": "stream",
          "name": "stdout",
          "text": [
            "Enter your name: Uzma\n",
            "Hello Uzma\n"
          ]
        }
      ]
    },
    {
      "cell_type": "code",
      "source": [
        "name = input(\"Enter your name:\" )\n",
        "print(\"Hello\", name)\n",
        "print(f\"The length of the string is {len(name)}\")"
      ],
      "metadata": {
        "id": "8gnKvgzQcXZ3",
        "colab": {
          "base_uri": "https://localhost:8080/"
        },
        "outputId": "ff8ab46a-38bd-4e6e-c30a-c345c9aef59e"
      },
      "execution_count": 12,
      "outputs": [
        {
          "output_type": "stream",
          "name": "stdout",
          "text": [
            "Enter your name:uzma\n",
            "Hello uzma\n",
            "The length of the string is 4\n"
          ]
        }
      ]
    },
    {
      "cell_type": "markdown",
      "source": [
        "The print() displays output."
      ],
      "metadata": {
        "id": "5OarI8vcj2o4"
      }
    },
    {
      "cell_type": "code",
      "source": [
        "print(\"Welcome to python functions!\")"
      ],
      "metadata": {
        "id": "1M39foRzcew0",
        "colab": {
          "base_uri": "https://localhost:8080/"
        },
        "outputId": "448055d4-9137-40c1-ae63-bbda558bc648"
      },
      "execution_count": 13,
      "outputs": [
        {
          "output_type": "stream",
          "name": "stdout",
          "text": [
            "Welcome to python functions!\n"
          ]
        }
      ]
    },
    {
      "cell_type": "markdown",
      "source": [
        "The type() returns the type of that object."
      ],
      "metadata": {
        "id": "dNZqUzjgkoKZ"
      }
    },
    {
      "cell_type": "code",
      "source": [
        "num = 10\n",
        "print(\"The type of num is:\", type(num))"
      ],
      "metadata": {
        "id": "F4MQP9kucpKH",
        "colab": {
          "base_uri": "https://localhost:8080/"
        },
        "outputId": "59f44e22-a5bf-4cd0-b452-588fdc90bec1"
      },
      "execution_count": 15,
      "outputs": [
        {
          "output_type": "stream",
          "name": "stdout",
          "text": [
            "The type of num is: <class 'int'>\n"
          ]
        }
      ]
    },
    {
      "cell_type": "markdown",
      "source": [
        "sorted() Function:\n",
        "\n",
        "By default, the sorted() function sorts numbers or lists in ascending order.\n",
        "\n",
        "However, you can also sort in descending order by specifying the reverse parameter:"
      ],
      "metadata": {
        "id": "QPTwfODflH7-"
      }
    },
    {
      "cell_type": "code",
      "source": [
        "# Sample list of food prices\n",
        "food_prices = [15, 40,  10, 25, 30]\n",
        "\n",
        "# Sort prices from highest to lowest using\n",
        "sorted_prices = sorted(food_prices, reverse=True)\n",
        "\n",
        "print(\"Food prices from highest to lowest:\", sorted_prices)"
      ],
      "metadata": {
        "id": "_MfYXkrHcsuf",
        "colab": {
          "base_uri": "https://localhost:8080/"
        },
        "outputId": "84b3b0d1-0168-432b-bf96-c24746581049"
      },
      "execution_count": 16,
      "outputs": [
        {
          "output_type": "stream",
          "name": "stdout",
          "text": [
            "Food prices from highest to lowest: [40, 30, 25, 15, 10]\n"
          ]
        }
      ]
    }
  ]
}
