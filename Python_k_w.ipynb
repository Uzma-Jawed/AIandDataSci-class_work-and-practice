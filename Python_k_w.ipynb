{
  "nbformat": 4,
  "nbformat_minor": 0,
  "metadata": {
    "colab": {
      "provenance": []
    },
    "kernelspec": {
      "name": "python3",
      "display_name": "Python 3"
    },
    "language_info": {
      "name": "python"
    }
  },
  "cells": [
    {
      "cell_type": "markdown",
      "source": [
        "**Uzma Jawed**\n",
        "___"
      ],
      "metadata": {
        "id": "OoipvMwj2ViW"
      }
    },
    {
      "cell_type": "markdown",
      "source": [
        "▪️ Keywords: Reserved words with special meanings.\n",
        "\n",
        "▫️You can’t name variables after these!\n",
        "\n",
        "▫️Common Keywords:\n",
        "\n",
        "• if, else, for, while (control flow)\n",
        "\n",
        "• def, return (functions)\n",
        "\n",
        "• True, False, None (logic)\n",
        "\n",
        "▫️Relatable:\n",
        "\n",
        "Like traffic signs: Stop (keyword) means stop—you can’t rename it to \"Pause\".\n",
        "\n",
        "▪️Keywords Structure your code (like grammar rules)."
      ],
      "metadata": {
        "id": "cT6MT8Yp2Jy2"
      }
    },
    {
      "cell_type": "markdown",
      "source": [
        "Fun fact: Python has 35 key words,\n",
        "\n",
        "Try it:"
      ],
      "metadata": {
        "id": "KLDb-_-zwOHT"
      }
    },
    {
      "source": [
        "import keyword;\n",
        "for keyword in keyword.kwlist: #keyword.kwlist contains the list of keywords\n",
        "    print(keyword) # This line should be indented to be part of the loop"
      ],
      "cell_type": "code",
      "metadata": {
        "colab": {
          "base_uri": "https://localhost:8080/"
        },
        "id": "NN2L_DxjxGdH",
        "outputId": "f7c90990-a958-45e4-8dae-162ba4760296"
      },
      "execution_count": null,
      "outputs": [
        {
          "output_type": "stream",
          "name": "stdout",
          "text": [
            "False\n",
            "None\n",
            "True\n",
            "and\n",
            "as\n",
            "assert\n",
            "async\n",
            "await\n",
            "break\n",
            "class\n",
            "continue\n",
            "def\n",
            "del\n",
            "elif\n",
            "else\n",
            "except\n",
            "finally\n",
            "for\n",
            "from\n",
            "global\n",
            "if\n",
            "import\n",
            "in\n",
            "is\n",
            "lambda\n",
            "nonlocal\n",
            "not\n",
            "or\n",
            "pass\n",
            "raise\n",
            "return\n",
            "try\n",
            "while\n",
            "with\n",
            "yield\n"
          ]
        }
      ]
    },
    {
      "cell_type": "markdown",
      "source": [],
      "metadata": {
        "id": "VM8SjKIwyTgQ"
      }
    },
    {
      "cell_type": "code",
      "source": [
        "import keyword;\n",
        "print(keyword.kwlist)"
      ],
      "metadata": {
        "colab": {
          "base_uri": "https://localhost:8080/"
        },
        "id": "ptF6S5TUxuY6",
        "outputId": "a099902f-86b0-4b5b-98dd-76f2c9d21c56"
      },
      "execution_count": null,
      "outputs": [
        {
          "output_type": "stream",
          "name": "stdout",
          "text": [
            "['False', 'None', 'True', 'and', 'as', 'assert', 'async', 'await', 'break', 'class', 'continue', 'def', 'del', 'elif', 'else', 'except', 'finally', 'for', 'from', 'global', 'if', 'import', 'in', 'is', 'lambda', 'nonlocal', 'not', 'or', 'pass', 'raise', 'return', 'try', 'while', 'with', 'yield']\n"
          ]
        }
      ]
    }
  ]
}